{
 "cells": [
  {
   "cell_type": "code",
   "execution_count": 1,
   "id": "023e5ace",
   "metadata": {},
   "outputs": [],
   "source": [
    "import numpy as np\n",
    "import pandas as pd\n",
    "import tensorflow as tf\n",
    "import matplotlib.pyplot as plt\n",
    "from tensorflow import keras\n",
    "from tensorflow.keras.layers import Dense, Input\n",
    "from matplotlib import ticker\n",
    "\n",
    "from IPython.display import display"
   ]
  },
  {
   "cell_type": "code",
   "execution_count": 2,
   "id": "05e07b29",
   "metadata": {},
   "outputs": [],
   "source": [
    "# детерминация случайных величин, отвечающих за выбор первоначальных весов и биасов\n",
    "tf.compat.v1.set_random_seed(290)\n",
    "tf.random.set_seed(290)"
   ]
  },
  {
   "cell_type": "code",
   "execution_count": 3,
   "id": "9eeb34ff",
   "metadata": {},
   "outputs": [],
   "source": [
    "# всякие константы для последующей работы\n",
    "\n",
    "#///////////////////////////////// для взятия данных из файлов\n",
    "\n",
    "row_num = 0\n",
    "path_to_data = 'data\\\\Новые данные\\\\Run1\\\\run1_WM32_data.csv' # путь к файлу, из которого берутся данные для обучения\n",
    "\n",
    "#///////////////////////////////// для компиляции \n",
    "\n",
    "CMP_learning_rate = 0.00005 # шаг сходимости back propogation\n",
    "#CMP_solver = keras.optimizers.Adam(CMP_learning_rate) # оптимизатор\n",
    "CMP_solver = keras.optimizers.SGD(CMP_learning_rate) # оптимизатор\n",
    "CMP_loss_func = 'mean_squared_error'# функция потерь\n",
    "#///////////////////////////////// для колбэков\n",
    "\n",
    "    # для Early_stopping\n",
    "ES_patience = 15 # кол-во эпох без улучшений\n",
    "ES_min_delta = 0.00005 # минимальное улучшение параметра за cur_patience\n",
    "ES_monitor_parametr =  'loss' # отслеживаемый параметр \n",
    "ES_save_best_weights = True # сохранять ли веса нейронки с лучшими результатами\n",
    "    \n",
    "    # для ReduceLROnPlateau\n",
    "RLPOP_monitor_parametr = 'val_loss'  # отслеживаемый параметр \n",
    "RLPOP_factor = 0.1 # множитель для расчета нового шага сходимости (new_learning_rate = old_learning_rate*RLPOP_factor)\n",
    "RLPOP_patience = 15 # кол-во эпох без улучшений\n",
    "RLPOP_verbose = 1 # выводить ли прогресс изменения шага сходимости в его процессее\n",
    "RLPOP_mode = 'auto' # выбирает, уменьшать шаг сходимости при росте величины или при её уменьшении\n",
    "RLPOP_min_delta = 0.0001 # порог изменения отслеживаемого значения\n",
    "RLPOP_cooldown = 0 # количество эпох до возобновления работы после изменения шага сходимости\n",
    "RLPOP_min_lr = 0 # минимальное значение шага сходимости\n",
    "\n",
    "    # для CallbackList\n",
    "CBL_add_history = True # вызывать ли колбэк History (если он не был довавлен вручную)\n",
    "CBL_add_progbar = True # вызывать ли колбэк ProgbarLogger (если он не был довавлен вручную)\n",
    "    \n",
    "#///////////////////////////////// для тренировки\n",
    "\n",
    "FIT_batch_size = 1 #13, 4 # размер bach при обучении/тестировании1\n",
    "FIT_shuffle = True # перемешивать ли данные\n",
    "FIT_verbose = True # выводить ли прогресс обучения в его процессее\n",
    "FIT_epochs = 200 # количество эпох обучения\n",
    "FIT_validation_split = 0.15 # процент валидационных данных, отсекаемых из тестовой выборки"
   ]
  },
  {
   "cell_type": "code",
   "execution_count": 4,
   "id": "62055c23",
   "metadata": {},
   "outputs": [],
   "source": [
    "# извлечь датасет из файла\n",
    "def get_df(path: str):\n",
    "    df = pd.read_excel(path, index_col=0)\n",
    "    return df"
   ]
  },
  {
   "cell_type": "code",
   "execution_count": 5,
   "id": "3d2fa36d",
   "metadata": {},
   "outputs": [],
   "source": [
    "# разбиение данных на тестовые и тренировочные\n",
    "def split(X,Y,factor):\n",
    "    X_train=X[:factor]\n",
    "    Y_train=Y[:factor]\n",
    "    X_test=X[factor:]\n",
    "    Y_test=Y[factor:]\n",
    "    return X_train,Y_train,X_test,Y_test"
   ]
  },
  {
   "cell_type": "code",
   "execution_count": 6,
   "id": "56d0cc7f",
   "metadata": {},
   "outputs": [],
   "source": [
    "# подготовить датафрейм к передачи в модель \n",
    "#(разбивает числа в ячейках так, что сначала идут 32 числа - амплитуд, потом 32 - времен в одном столбце)\n",
    "def prepare_df(df):\n",
    "    new_df = pd.DataFrame()\n",
    "\n",
    "    for col in df.columns:\n",
    "        temp = df[col].str.split(pat=':', expand=True)\n",
    "        new_df[col] = pd.concat([temp[0], temp[1]], axis = 0)\n",
    "        new_df[col] = new_df[col].astype(float)\n",
    "    \n",
    "    new_df['index'] = range(new_df.shape[0])\n",
    "    new_df = new_df.set_index('index')\n",
    "    \n",
    "    return new_df"
   ]
  },
  {
   "cell_type": "code",
   "execution_count": 7,
   "id": "fd7499a1",
   "metadata": {
    "scrolled": true
   },
   "outputs": [
    {
     "data": {
      "text/plain": [
       "\"first_df = get_df(path_to_data)\\n\\n# Удаляем пустые столбцы\\nprint(first_df.shape)\\nfirst_df = first_df.T\\nfor col in first_df.columns:\\n    first_df = first_df.loc[~first_df[col].isin(['--'])]\\nfirst_df = first_df.T\\nprint(first_df.shape)\\n\\n# Что прочли из файла\\nfirst_df.index.name = 'index'\\nfirst_df = first_df.drop('row', axis=1)\\nfirst_df = first_df.drop('position', axis=1)\\n\\ndisplay(first_df)\""
      ]
     },
     "execution_count": 7,
     "metadata": {},
     "output_type": "execute_result"
    }
   ],
   "source": [
    "'''first_df = get_df(path_to_data)\n",
    "\n",
    "# Удаляем пустые столбцы\n",
    "print(first_df.shape)\n",
    "first_df = first_df.T\n",
    "for col in first_df.columns:\n",
    "    first_df = first_df.loc[~first_df[col].isin(['--'])]\n",
    "first_df = first_df.T\n",
    "print(first_df.shape)\n",
    "\n",
    "# Что прочли из файла\n",
    "first_df.index.name = 'index'\n",
    "first_df = first_df.drop('row', axis=1)\n",
    "first_df = first_df.drop('position', axis=1)\n",
    "\n",
    "display(first_df)'''"
   ]
  },
  {
   "cell_type": "code",
   "execution_count": 8,
   "id": "094b32b8",
   "metadata": {},
   "outputs": [
    {
     "data": {
      "text/plain": [
       "\"df = pd.DataFrame()\\n\\nfor row in first_df.index.values:\\n    temp = first_df.iloc[row]\\n    temp = temp.str.split(pat=',', expand=True)\\n    temp = temp.T\\n    temp.index.name = 'index'\\n\\n    new_col = list()\\n    for col in temp.columns:\\n        new_col.append(f'{col}_{row}')\\n\\n    temp.columns = new_col\\n    \\n    while temp.shape[0] < 32:\\n        temp.loc[len(temp.index)] = [f'{0}:{0}' for i in range(temp.shape[1])]\\n        \\n    #display(temp)\\n    \\n    df = pd.concat([df,temp], axis=1)\\n    \\ndisplay(df)\""
      ]
     },
     "execution_count": 8,
     "metadata": {},
     "output_type": "execute_result"
    }
   ],
   "source": [
    "# detector_0_0 = detector + номер детекрора + номер строки из ориг файла\n",
    "'''df = pd.DataFrame()\n",
    "\n",
    "for row in first_df.index.values:\n",
    "    temp = first_df.iloc[row]\n",
    "    temp = temp.str.split(pat=',', expand=True)\n",
    "    temp = temp.T\n",
    "    temp.index.name = 'index'\n",
    "\n",
    "    new_col = list()\n",
    "    for col in temp.columns:\n",
    "        new_col.append(f'{col}_{row}')\n",
    "\n",
    "    temp.columns = new_col\n",
    "    \n",
    "    while temp.shape[0] < 32:\n",
    "        temp.loc[len(temp.index)] = [f'{0}:{0}' for i in range(temp.shape[1])]\n",
    "        \n",
    "    #display(temp)\n",
    "    \n",
    "    df = pd.concat([df,temp], axis=1)\n",
    "    \n",
    "display(df)'''"
   ]
  },
  {
   "cell_type": "code",
   "execution_count": 9,
   "id": "9ad647af",
   "metadata": {},
   "outputs": [
    {
     "data": {
      "text/plain": [
       "'df = prepare_df(df)\\n\\ndisplay(df)'"
      ]
     },
     "execution_count": 9,
     "metadata": {},
     "output_type": "execute_result"
    }
   ],
   "source": [
    "'''df = prepare_df(df)\n",
    "\n",
    "display(df)'''"
   ]
  },
  {
   "cell_type": "code",
   "execution_count": 10,
   "id": "e7968fc2",
   "metadata": {},
   "outputs": [],
   "source": [
    "#df.T.to_excel('data\\\\Новые данные\\\\Свои данные\\\\splited_orig_data.xlsx')"
   ]
  },
  {
   "cell_type": "code",
   "execution_count": 11,
   "id": "b9132bc7",
   "metadata": {},
   "outputs": [],
   "source": [
    "df = get_df('data\\\\Новые данные\\\\Свои данные\\\\splited_orig_data.xlsx')"
   ]
  },
  {
   "cell_type": "code",
   "execution_count": 12,
   "id": "f0532677",
   "metadata": {},
   "outputs": [
    {
     "data": {
      "text/html": [
       "<div>\n",
       "<style scoped>\n",
       "    .dataframe tbody tr th:only-of-type {\n",
       "        vertical-align: middle;\n",
       "    }\n",
       "\n",
       "    .dataframe tbody tr th {\n",
       "        vertical-align: top;\n",
       "    }\n",
       "\n",
       "    .dataframe thead th {\n",
       "        text-align: right;\n",
       "    }\n",
       "</style>\n",
       "<table border=\"1\" class=\"dataframe\">\n",
       "  <thead>\n",
       "    <tr style=\"text-align: right;\">\n",
       "      <th></th>\n",
       "      <th>0</th>\n",
       "      <th>1</th>\n",
       "      <th>2</th>\n",
       "      <th>3</th>\n",
       "      <th>4</th>\n",
       "      <th>5</th>\n",
       "      <th>6</th>\n",
       "      <th>7</th>\n",
       "      <th>8</th>\n",
       "      <th>9</th>\n",
       "      <th>...</th>\n",
       "      <th>54</th>\n",
       "      <th>55</th>\n",
       "      <th>56</th>\n",
       "      <th>57</th>\n",
       "      <th>58</th>\n",
       "      <th>59</th>\n",
       "      <th>60</th>\n",
       "      <th>61</th>\n",
       "      <th>62</th>\n",
       "      <th>63</th>\n",
       "    </tr>\n",
       "  </thead>\n",
       "  <tbody>\n",
       "    <tr>\n",
       "      <th>detector_0_0</th>\n",
       "      <td>25.8</td>\n",
       "      <td>26.1</td>\n",
       "      <td>26.2</td>\n",
       "      <td>26.3</td>\n",
       "      <td>26.5</td>\n",
       "      <td>26.6</td>\n",
       "      <td>27.1</td>\n",
       "      <td>29.1</td>\n",
       "      <td>29.3</td>\n",
       "      <td>29.4</td>\n",
       "      <td>...</td>\n",
       "      <td>-29.394</td>\n",
       "      <td>36.222</td>\n",
       "      <td>-41.183</td>\n",
       "      <td>34.871</td>\n",
       "      <td>-27.713</td>\n",
       "      <td>29.933</td>\n",
       "      <td>-34.871</td>\n",
       "      <td>-26.533</td>\n",
       "      <td>-28.284</td>\n",
       "      <td>0</td>\n",
       "    </tr>\n",
       "    <tr>\n",
       "      <th>detector_1_0</th>\n",
       "      <td>25.6</td>\n",
       "      <td>25.8</td>\n",
       "      <td>25.9</td>\n",
       "      <td>26.1</td>\n",
       "      <td>26.2</td>\n",
       "      <td>26.3</td>\n",
       "      <td>26.6</td>\n",
       "      <td>26.7</td>\n",
       "      <td>26.9</td>\n",
       "      <td>27.0</td>\n",
       "      <td>...</td>\n",
       "      <td>-35.777</td>\n",
       "      <td>-29.394</td>\n",
       "      <td>34.871</td>\n",
       "      <td>-40.792</td>\n",
       "      <td>37.523</td>\n",
       "      <td>29.394</td>\n",
       "      <td>-35.327</td>\n",
       "      <td>30.984</td>\n",
       "      <td>-29.933</td>\n",
       "      <td>0</td>\n",
       "    </tr>\n",
       "    <tr>\n",
       "      <th>detector_2_0</th>\n",
       "      <td>25.3</td>\n",
       "      <td>25.5</td>\n",
       "      <td>25.7</td>\n",
       "      <td>25.8</td>\n",
       "      <td>26.0</td>\n",
       "      <td>26.1</td>\n",
       "      <td>26.2</td>\n",
       "      <td>28.6</td>\n",
       "      <td>28.7</td>\n",
       "      <td>28.8</td>\n",
       "      <td>...</td>\n",
       "      <td>38.367</td>\n",
       "      <td>-45.607</td>\n",
       "      <td>44.181</td>\n",
       "      <td>-35.777</td>\n",
       "      <td>32.496</td>\n",
       "      <td>-40.398</td>\n",
       "      <td>38.781</td>\n",
       "      <td>-34.871</td>\n",
       "      <td>33.466</td>\n",
       "      <td>0</td>\n",
       "    </tr>\n",
       "    <tr>\n",
       "      <th>detector_3_0</th>\n",
       "      <td>25.6</td>\n",
       "      <td>25.8</td>\n",
       "      <td>25.9</td>\n",
       "      <td>26.1</td>\n",
       "      <td>26.2</td>\n",
       "      <td>26.3</td>\n",
       "      <td>26.4</td>\n",
       "      <td>26.5</td>\n",
       "      <td>26.6</td>\n",
       "      <td>26.8</td>\n",
       "      <td>...</td>\n",
       "      <td>16.971</td>\n",
       "      <td>-16.971</td>\n",
       "      <td>19.596</td>\n",
       "      <td>-21.166</td>\n",
       "      <td>19.596</td>\n",
       "      <td>17.889</td>\n",
       "      <td>16.000</td>\n",
       "      <td>14.967</td>\n",
       "      <td>-16.000</td>\n",
       "      <td>0</td>\n",
       "    </tr>\n",
       "    <tr>\n",
       "      <th>detector_4_0</th>\n",
       "      <td>25.9</td>\n",
       "      <td>26.2</td>\n",
       "      <td>26.3</td>\n",
       "      <td>26.5</td>\n",
       "      <td>26.6</td>\n",
       "      <td>26.8</td>\n",
       "      <td>26.9</td>\n",
       "      <td>27.0</td>\n",
       "      <td>28.0</td>\n",
       "      <td>28.1</td>\n",
       "      <td>...</td>\n",
       "      <td>-33.941</td>\n",
       "      <td>32.000</td>\n",
       "      <td>-31.496</td>\n",
       "      <td>34.871</td>\n",
       "      <td>-41.183</td>\n",
       "      <td>39.598</td>\n",
       "      <td>-32.000</td>\n",
       "      <td>-35.327</td>\n",
       "      <td>33.466</td>\n",
       "      <td>0</td>\n",
       "    </tr>\n",
       "    <tr>\n",
       "      <th>...</th>\n",
       "      <td>...</td>\n",
       "      <td>...</td>\n",
       "      <td>...</td>\n",
       "      <td>...</td>\n",
       "      <td>...</td>\n",
       "      <td>...</td>\n",
       "      <td>...</td>\n",
       "      <td>...</td>\n",
       "      <td>...</td>\n",
       "      <td>...</td>\n",
       "      <td>...</td>\n",
       "      <td>...</td>\n",
       "      <td>...</td>\n",
       "      <td>...</td>\n",
       "      <td>...</td>\n",
       "      <td>...</td>\n",
       "      <td>...</td>\n",
       "      <td>...</td>\n",
       "      <td>...</td>\n",
       "      <td>...</td>\n",
       "      <td>...</td>\n",
       "    </tr>\n",
       "    <tr>\n",
       "      <th>detector_395_114</th>\n",
       "      <td>26.1</td>\n",
       "      <td>26.3</td>\n",
       "      <td>26.4</td>\n",
       "      <td>26.5</td>\n",
       "      <td>26.7</td>\n",
       "      <td>26.8</td>\n",
       "      <td>26.9</td>\n",
       "      <td>27.1</td>\n",
       "      <td>27.1</td>\n",
       "      <td>27.3</td>\n",
       "      <td>...</td>\n",
       "      <td>-30.984</td>\n",
       "      <td>34.409</td>\n",
       "      <td>-43.451</td>\n",
       "      <td>42.332</td>\n",
       "      <td>-30.984</td>\n",
       "      <td>-38.781</td>\n",
       "      <td>37.523</td>\n",
       "      <td>-33.941</td>\n",
       "      <td>33.466</td>\n",
       "      <td>0</td>\n",
       "    </tr>\n",
       "    <tr>\n",
       "      <th>detector_396_114</th>\n",
       "      <td>25.5</td>\n",
       "      <td>26.7</td>\n",
       "      <td>26.9</td>\n",
       "      <td>27.0</td>\n",
       "      <td>27.1</td>\n",
       "      <td>27.3</td>\n",
       "      <td>27.4</td>\n",
       "      <td>27.5</td>\n",
       "      <td>27.6</td>\n",
       "      <td>29.8</td>\n",
       "      <td>...</td>\n",
       "      <td>-47.666</td>\n",
       "      <td>46.303</td>\n",
       "      <td>-37.947</td>\n",
       "      <td>36.661</td>\n",
       "      <td>-43.818</td>\n",
       "      <td>42.708</td>\n",
       "      <td>-35.327</td>\n",
       "      <td>-40.398</td>\n",
       "      <td>39.192</td>\n",
       "      <td>0</td>\n",
       "    </tr>\n",
       "    <tr>\n",
       "      <th>detector_397_114</th>\n",
       "      <td>26.4</td>\n",
       "      <td>26.7</td>\n",
       "      <td>26.8</td>\n",
       "      <td>26.9</td>\n",
       "      <td>27.1</td>\n",
       "      <td>27.2</td>\n",
       "      <td>27.3</td>\n",
       "      <td>29.7</td>\n",
       "      <td>29.8</td>\n",
       "      <td>29.9</td>\n",
       "      <td>...</td>\n",
       "      <td>37.947</td>\n",
       "      <td>-44.900</td>\n",
       "      <td>42.332</td>\n",
       "      <td>-33.466</td>\n",
       "      <td>34.871</td>\n",
       "      <td>-40.792</td>\n",
       "      <td>37.947</td>\n",
       "      <td>-36.222</td>\n",
       "      <td>32.985</td>\n",
       "      <td>0</td>\n",
       "    </tr>\n",
       "    <tr>\n",
       "      <th>detector_398_114</th>\n",
       "      <td>26.3</td>\n",
       "      <td>26.4</td>\n",
       "      <td>26.6</td>\n",
       "      <td>26.7</td>\n",
       "      <td>26.9</td>\n",
       "      <td>27.0</td>\n",
       "      <td>27.2</td>\n",
       "      <td>29.6</td>\n",
       "      <td>29.7</td>\n",
       "      <td>29.8</td>\n",
       "      <td>...</td>\n",
       "      <td>43.081</td>\n",
       "      <td>-35.777</td>\n",
       "      <td>34.409</td>\n",
       "      <td>-41.183</td>\n",
       "      <td>39.598</td>\n",
       "      <td>-32.496</td>\n",
       "      <td>31.496</td>\n",
       "      <td>-37.523</td>\n",
       "      <td>36.222</td>\n",
       "      <td>0</td>\n",
       "    </tr>\n",
       "    <tr>\n",
       "      <th>detector_399_114</th>\n",
       "      <td>25.8</td>\n",
       "      <td>26.1</td>\n",
       "      <td>26.2</td>\n",
       "      <td>26.3</td>\n",
       "      <td>26.4</td>\n",
       "      <td>26.5</td>\n",
       "      <td>26.7</td>\n",
       "      <td>26.9</td>\n",
       "      <td>29.1</td>\n",
       "      <td>29.2</td>\n",
       "      <td>...</td>\n",
       "      <td>28.844</td>\n",
       "      <td>35.777</td>\n",
       "      <td>-39.598</td>\n",
       "      <td>37.094</td>\n",
       "      <td>-31.496</td>\n",
       "      <td>28.844</td>\n",
       "      <td>-32.985</td>\n",
       "      <td>31.496</td>\n",
       "      <td>-27.713</td>\n",
       "      <td>0</td>\n",
       "    </tr>\n",
       "  </tbody>\n",
       "</table>\n",
       "<p>45655 rows × 64 columns</p>\n",
       "</div>"
      ],
      "text/plain": [
       "                    0     1     2     3     4     5     6     7     8     9   \\\n",
       "detector_0_0      25.8  26.1  26.2  26.3  26.5  26.6  27.1  29.1  29.3  29.4   \n",
       "detector_1_0      25.6  25.8  25.9  26.1  26.2  26.3  26.6  26.7  26.9  27.0   \n",
       "detector_2_0      25.3  25.5  25.7  25.8  26.0  26.1  26.2  28.6  28.7  28.8   \n",
       "detector_3_0      25.6  25.8  25.9  26.1  26.2  26.3  26.4  26.5  26.6  26.8   \n",
       "detector_4_0      25.9  26.2  26.3  26.5  26.6  26.8  26.9  27.0  28.0  28.1   \n",
       "...                ...   ...   ...   ...   ...   ...   ...   ...   ...   ...   \n",
       "detector_395_114  26.1  26.3  26.4  26.5  26.7  26.8  26.9  27.1  27.1  27.3   \n",
       "detector_396_114  25.5  26.7  26.9  27.0  27.1  27.3  27.4  27.5  27.6  29.8   \n",
       "detector_397_114  26.4  26.7  26.8  26.9  27.1  27.2  27.3  29.7  29.8  29.9   \n",
       "detector_398_114  26.3  26.4  26.6  26.7  26.9  27.0  27.2  29.6  29.7  29.8   \n",
       "detector_399_114  25.8  26.1  26.2  26.3  26.4  26.5  26.7  26.9  29.1  29.2   \n",
       "\n",
       "                  ...      54      55      56      57      58      59      60  \\\n",
       "detector_0_0      ... -29.394  36.222 -41.183  34.871 -27.713  29.933 -34.871   \n",
       "detector_1_0      ... -35.777 -29.394  34.871 -40.792  37.523  29.394 -35.327   \n",
       "detector_2_0      ...  38.367 -45.607  44.181 -35.777  32.496 -40.398  38.781   \n",
       "detector_3_0      ...  16.971 -16.971  19.596 -21.166  19.596  17.889  16.000   \n",
       "detector_4_0      ... -33.941  32.000 -31.496  34.871 -41.183  39.598 -32.000   \n",
       "...               ...     ...     ...     ...     ...     ...     ...     ...   \n",
       "detector_395_114  ... -30.984  34.409 -43.451  42.332 -30.984 -38.781  37.523   \n",
       "detector_396_114  ... -47.666  46.303 -37.947  36.661 -43.818  42.708 -35.327   \n",
       "detector_397_114  ...  37.947 -44.900  42.332 -33.466  34.871 -40.792  37.947   \n",
       "detector_398_114  ...  43.081 -35.777  34.409 -41.183  39.598 -32.496  31.496   \n",
       "detector_399_114  ...  28.844  35.777 -39.598  37.094 -31.496  28.844 -32.985   \n",
       "\n",
       "                      61      62  63  \n",
       "detector_0_0     -26.533 -28.284   0  \n",
       "detector_1_0      30.984 -29.933   0  \n",
       "detector_2_0     -34.871  33.466   0  \n",
       "detector_3_0      14.967 -16.000   0  \n",
       "detector_4_0     -35.327  33.466   0  \n",
       "...                  ...     ...  ..  \n",
       "detector_395_114 -33.941  33.466   0  \n",
       "detector_396_114 -40.398  39.192   0  \n",
       "detector_397_114 -36.222  32.985   0  \n",
       "detector_398_114 -37.523  36.222   0  \n",
       "detector_399_114  31.496 -27.713   0  \n",
       "\n",
       "[45655 rows x 64 columns]"
      ]
     },
     "metadata": {},
     "output_type": "display_data"
    }
   ],
   "source": [
    "display(df)"
   ]
  },
  {
   "cell_type": "code",
   "execution_count": null,
   "id": "78b3b1a1",
   "metadata": {},
   "outputs": [],
   "source": []
  },
  {
   "cell_type": "code",
   "execution_count": 13,
   "id": "c2d5ec05",
   "metadata": {},
   "outputs": [],
   "source": [
    "#display(X)\n",
    "#display(Y)"
   ]
  },
  {
   "cell_type": "code",
   "execution_count": 14,
   "id": "327a763a",
   "metadata": {},
   "outputs": [
    {
     "data": {
      "text/plain": [
       "'X = prepare_df(X)\\nY = prepare_df(Y)'"
      ]
     },
     "execution_count": 14,
     "metadata": {},
     "output_type": "execute_result"
    }
   ],
   "source": [
    "# Чтение данных из файла\n",
    "'''X = prepare_df(X)\n",
    "Y = prepare_df(Y)'''"
   ]
  },
  {
   "cell_type": "code",
   "execution_count": 15,
   "id": "638713b0",
   "metadata": {},
   "outputs": [],
   "source": [
    "#display(Y)\n",
    "#display(X)"
   ]
  },
  {
   "cell_type": "code",
   "execution_count": 16,
   "id": "c87d27f0",
   "metadata": {},
   "outputs": [
    {
     "data": {
      "text/plain": [
       "'X = X.T\\nY = Y.T'"
      ]
     },
     "execution_count": 16,
     "metadata": {},
     "output_type": "execute_result"
    }
   ],
   "source": [
    "'''X = X.T\n",
    "Y = Y.T'''"
   ]
  },
  {
   "cell_type": "code",
   "execution_count": 17,
   "id": "11bb734c",
   "metadata": {
    "scrolled": true
   },
   "outputs": [],
   "source": [
    "#display(Y)\n",
    "#display(X)"
   ]
  },
  {
   "cell_type": "code",
   "execution_count": 18,
   "id": "452c3b7b",
   "metadata": {},
   "outputs": [
    {
     "data": {
      "text/plain": [
       "'print(Y.shape)\\nprint(X.shape)\\nfactor = int(.80 * Y.shape[0])\\nprint(factor)'"
      ]
     },
     "execution_count": 18,
     "metadata": {},
     "output_type": "execute_result"
    }
   ],
   "source": [
    "'''print(Y.shape)\n",
    "print(X.shape)\n",
    "factor = int(.80 * Y.shape[0])\n",
    "print(factor)'''"
   ]
  },
  {
   "cell_type": "code",
   "execution_count": 19,
   "id": "4e2478ef",
   "metadata": {},
   "outputs": [],
   "source": [
    "#factor = int(.80 * Y.shape[0])\n",
    "#X_train, Y_train, X_test, Y_test = split(X, Y, factor)"
   ]
  },
  {
   "cell_type": "code",
   "execution_count": 20,
   "id": "39adc080",
   "metadata": {},
   "outputs": [],
   "source": [
    "#display(X_train)\n",
    "#display(Y_train)"
   ]
  },
  {
   "cell_type": "code",
   "execution_count": 21,
   "id": "2b0481b0",
   "metadata": {},
   "outputs": [],
   "source": [
    "#display(X_test)\n",
    "#display(Y_test)"
   ]
  },
  {
   "cell_type": "code",
   "execution_count": 22,
   "id": "3537ab9e",
   "metadata": {},
   "outputs": [
    {
     "data": {
      "text/plain": [
       "\"model = keras.Sequential()\\n\\nmodel.add(Input(shape=(64, )))\\nmodel.add(Dense(units = 1024, activation='linear'))\\nmodel.add(Dense(units = 2, activation='softmax'))\\n\\nmodel.summary()\\n\\nmodel.compile(loss = CMP_loss_func, optimizer = CMP_solver)\""
      ]
     },
     "execution_count": 22,
     "metadata": {},
     "output_type": "execute_result"
    }
   ],
   "source": [
    "# создание архитектуры нейронки\n",
    "'''model = keras.Sequential()\n",
    "\n",
    "model.add(Input(shape=(64, )))\n",
    "model.add(Dense(units = 1024, activation='linear'))\n",
    "model.add(Dense(units = 2, activation='softmax'))\n",
    "\n",
    "model.summary()\n",
    "\n",
    "model.compile(loss = CMP_loss_func, optimizer = CMP_solver)'''"
   ]
  },
  {
   "cell_type": "code",
   "execution_count": 23,
   "id": "99b46025",
   "metadata": {},
   "outputs": [
    {
     "data": {
      "text/plain": [
       "'callback_list = [] # массив колбэков до подачи в колбек \"callbacklist\"\\n\\ntemp = keras.callbacks.EarlyStopping(\\n            monitor = ES_monitor_parametr, \\n            min_delta = ES_min_delta, \\n            patience = ES_patience,\\n            restore_best_weights = ES_save_best_weights\\n            )\\ncallback_list.append(temp)\\n\\ntemp = keras.callbacks.ReduceLROnPlateau(\\n            monitor = RLPOP_monitor_parametr, \\n            factor = RLPOP_factor, \\n            patience = RLPOP_patience, \\n            verbose = RLPOP_verbose,\\n            mode = RLPOP_mode, \\n            min_delta = RLPOP_min_delta, \\n            cooldown = RLPOP_cooldown, \\n            min_lr = RLPOP_min_lr\\n            )\\ncallback_list.append(temp)\\n\\nFIT_callback_list = keras.callbacks.CallbackList(\\n            callbacks = callback_list, \\n            add_history = CBL_add_history, \\n            add_progbar = CBL_add_progbar, \\n            model = model\\n            )'"
      ]
     },
     "execution_count": 23,
     "metadata": {},
     "output_type": "execute_result"
    }
   ],
   "source": [
    "# Создание и настройка колбэков\n",
    "'''callback_list = [] # массив колбэков до подачи в колбек \"callbacklist\"\n",
    "\n",
    "temp = keras.callbacks.EarlyStopping(\n",
    "            monitor = ES_monitor_parametr, \n",
    "            min_delta = ES_min_delta, \n",
    "            patience = ES_patience,\n",
    "            restore_best_weights = ES_save_best_weights\n",
    "            )\n",
    "callback_list.append(temp)\n",
    "\n",
    "temp = keras.callbacks.ReduceLROnPlateau(\n",
    "            monitor = RLPOP_monitor_parametr, \n",
    "            factor = RLPOP_factor, \n",
    "            patience = RLPOP_patience, \n",
    "            verbose = RLPOP_verbose,\n",
    "            mode = RLPOP_mode, \n",
    "            min_delta = RLPOP_min_delta, \n",
    "            cooldown = RLPOP_cooldown, \n",
    "            min_lr = RLPOP_min_lr\n",
    "            )\n",
    "callback_list.append(temp)\n",
    "\n",
    "FIT_callback_list = keras.callbacks.CallbackList(\n",
    "            callbacks = callback_list, \n",
    "            add_history = CBL_add_history, \n",
    "            add_progbar = CBL_add_progbar, \n",
    "            model = model\n",
    "            )'''"
   ]
  },
  {
   "cell_type": "code",
   "execution_count": 24,
   "id": "26b44883",
   "metadata": {},
   "outputs": [
    {
     "data": {
      "text/plain": [
       "'history = model.fit(X_train, \\n                    Y_train, \\n                    batch_size = FIT_batch_size, \\n                    epochs = FIT_epochs, \\n                    verbose = FIT_verbose, \\n                    validation_split = FIT_validation_split, \\n                    shuffle = FIT_shuffle, \\n                    callbacks = FIT_callback_list)'"
      ]
     },
     "execution_count": 24,
     "metadata": {},
     "output_type": "execute_result"
    }
   ],
   "source": [
    "# тренировка модели\n",
    "'''history = model.fit(X_train, \n",
    "                    Y_train, \n",
    "                    batch_size = FIT_batch_size, \n",
    "                    epochs = FIT_epochs, \n",
    "                    verbose = FIT_verbose, \n",
    "                    validation_split = FIT_validation_split, \n",
    "                    shuffle = FIT_shuffle, \n",
    "                    callbacks = FIT_callback_list)'''"
   ]
  },
  {
   "cell_type": "code",
   "execution_count": 25,
   "id": "9a6c1b04",
   "metadata": {},
   "outputs": [
    {
     "data": {
      "text/plain": [
       "'\\nfig, ax = plt.subplots()\\nfig.set_figwidth(10)\\nfig.set_figheight(6)\\n\\nplt.plot(history.history[\\'loss\\'], label=\\'loss\\',  linewidth=1.5, color=\\'blue\\')\\nplt.plot(history.history[\\'val_loss\\'], linestyle = \\'--\\', label=\\'val_loss\\',  linewidth=3, color=\\'red\\')\\n\\nax.set_title(\\'График ошибки во время обучения\\', fontsize=20)\\nax.set_ylabel(\\'Ошибка\\', fontsize=15)\\nax.set_xlabel(\\'Эпохи\\', fontsize=15)\\n\\n#  Устанавливаем интервал основных делений:\\nax.xaxis.set_major_locator(ticker.MultipleLocator(20))\\nax.yaxis.set_major_locator(ticker.MultipleLocator(5))\\n\\n#  Устанавливаем форматирование чисел основных делений:\\nax.xaxis.set_major_formatter(ticker.FormatStrFormatter(\\'%.d\\'))\\nax.yaxis.set_major_formatter(ticker.FormatStrFormatter(\\'%.d\\'))\\n\\n#  Устанавливаем форматирование делений:\\nax.xaxis.set_tick_params(which = \\'major\\', labelsize = 14)\\nax.yaxis.set_tick_params(which = \\'major\\', labelsize = 14)\\n\\nax.minorticks_on()\\nax.grid(which=\\'major\\', color = \\'k\\', alpha = 0.6)\\nax.grid(which=\\'minor\\', color = \\'gray\\', linestyle = \\':\\')\\n\\nax.legend(fontsize = 15, facecolor = \"white\", loc = \\'upper right\\')\\n\\nplt.show()'"
      ]
     },
     "execution_count": 25,
     "metadata": {},
     "output_type": "execute_result"
    }
   ],
   "source": [
    "# Вывод графика изменения ошибки\n",
    "'''\n",
    "fig, ax = plt.subplots()\n",
    "fig.set_figwidth(10)\n",
    "fig.set_figheight(6)\n",
    "\n",
    "plt.plot(history.history['loss'], label='loss',  linewidth=1.5, color='blue')\n",
    "plt.plot(history.history['val_loss'], linestyle = '--', label='val_loss',  linewidth=3, color='red')\n",
    "\n",
    "ax.set_title('График ошибки во время обучения', fontsize=20)\n",
    "ax.set_ylabel('Ошибка', fontsize=15)\n",
    "ax.set_xlabel('Эпохи', fontsize=15)\n",
    "\n",
    "#  Устанавливаем интервал основных делений:\n",
    "ax.xaxis.set_major_locator(ticker.MultipleLocator(20))\n",
    "ax.yaxis.set_major_locator(ticker.MultipleLocator(5))\n",
    "\n",
    "#  Устанавливаем форматирование чисел основных делений:\n",
    "ax.xaxis.set_major_formatter(ticker.FormatStrFormatter('%.d'))\n",
    "ax.yaxis.set_major_formatter(ticker.FormatStrFormatter('%.d'))\n",
    "\n",
    "#  Устанавливаем форматирование делений:\n",
    "ax.xaxis.set_tick_params(which = 'major', labelsize = 14)\n",
    "ax.yaxis.set_tick_params(which = 'major', labelsize = 14)\n",
    "\n",
    "ax.minorticks_on()\n",
    "ax.grid(which='major', color = 'k', alpha = 0.6)\n",
    "ax.grid(which='minor', color = 'gray', linestyle = ':')\n",
    "\n",
    "ax.legend(fontsize = 15, facecolor = \"white\", loc = 'upper right')\n",
    "\n",
    "plt.show()'''"
   ]
  },
  {
   "cell_type": "code",
   "execution_count": 26,
   "id": "f1e53de1",
   "metadata": {},
   "outputs": [],
   "source": [
    "# тест модели\n",
    "#model.evaluate(X_test, Y_test, batch_size = FIT_batch_size)"
   ]
  },
  {
   "cell_type": "code",
   "execution_count": 27,
   "id": "30e6da5a",
   "metadata": {},
   "outputs": [],
   "source": [
    "#X_test.shape"
   ]
  },
  {
   "cell_type": "code",
   "execution_count": 28,
   "id": "b77977ea",
   "metadata": {},
   "outputs": [],
   "source": [
    "#res = model.predict(X_test.iloc[2:3])"
   ]
  },
  {
   "cell_type": "code",
   "execution_count": 29,
   "id": "d8029954",
   "metadata": {},
   "outputs": [],
   "source": [
    "#model.save(\"NetWork_64_to_64_loss_0,1126\")"
   ]
  },
  {
   "cell_type": "code",
   "execution_count": null,
   "id": "a12ce06d",
   "metadata": {},
   "outputs": [],
   "source": []
  }
 ],
 "metadata": {
  "kernelspec": {
   "display_name": "Python 3 (ipykernel)",
   "language": "python",
   "name": "python3"
  },
  "language_info": {
   "codemirror_mode": {
    "name": "ipython",
    "version": 3
   },
   "file_extension": ".py",
   "mimetype": "text/x-python",
   "name": "python",
   "nbconvert_exporter": "python",
   "pygments_lexer": "ipython3",
   "version": "3.8.12"
  }
 },
 "nbformat": 4,
 "nbformat_minor": 5
}
