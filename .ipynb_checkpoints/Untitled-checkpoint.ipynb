{
 "cells": [
  {
   "cell_type": "code",
   "execution_count": null,
   "id": "44b260eb",
   "metadata": {},
   "outputs": [],
   "source": [
    "#from scipy.signal import savgol_filter\n",
    "#import tensorflow as tf\n",
    "\n",
    "import numpy as np\n",
    "import pandas as pd\n",
    "import matplotlib.pyplot as plt\n",
    "from IPython.display import display\n",
    "from pandas.plotting import autocorrelation_plot\n",
    "\n",
    "#import sys\n",
    "#sys.path.append('custom_modules')\n",
    "\n",
    "#import Data_processing as dp\n",
    "#import Data_visualization as dv"
   ]
  },
  {
   "cell_type": "code",
   "execution_count": null,
   "id": "3aa21f2c",
   "metadata": {},
   "outputs": [],
   "source": [
    "path_to_data = 'data\\Новые данные\\Run1\\run1_WM32_data.csv'"
   ]
  },
  {
   "cell_type": "code",
   "execution_count": null,
   "id": "04852911",
   "metadata": {},
   "outputs": [],
   "source": [
    "def get_df(path: str):\n",
    "    file = pd.read_csv(path)\n",
    "    #file.rename(columns = {'Unnamed: 0' : 'Time Moment'}, inplace = True)\n",
    "    #df = file.drop(labels = [0], axis = 0) # удалить вторую строку оглавления\n",
    "\n",
    "    #columns = list(df.columns[1:])\n",
    "    #for col in columns: #настроить типы данных столбцов\n",
    "        #df[col] = df[col].astype(float)\n",
    "\n",
    "    return df"
   ]
  },
  {
   "cell_type": "code",
   "execution_count": null,
   "id": "4ad2a0c7",
   "metadata": {},
   "outputs": [],
   "source": []
  }
 ],
 "metadata": {
  "kernelspec": {
   "display_name": "Python 3 (ipykernel)",
   "language": "python",
   "name": "python3"
  },
  "language_info": {
   "codemirror_mode": {
    "name": "ipython",
    "version": 3
   },
   "file_extension": ".py",
   "mimetype": "text/x-python",
   "name": "python",
   "nbconvert_exporter": "python",
   "pygments_lexer": "ipython3",
   "version": "3.8.12"
  }
 },
 "nbformat": 4,
 "nbformat_minor": 5
}
