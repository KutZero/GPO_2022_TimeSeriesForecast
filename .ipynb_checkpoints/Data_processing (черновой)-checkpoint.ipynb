{
 "cells": [
  {
   "cell_type": "markdown",
   "id": "1765c37a",
   "metadata": {},
   "source": [
    "# Анализ и обработка данных одного куста"
   ]
  },
  {
   "cell_type": "markdown",
   "id": "d487aa3f",
   "metadata": {},
   "source": [
    "## Импорт библиотек"
   ]
  },
  {
   "cell_type": "code",
   "execution_count": 45,
   "id": "9e8ccd1b",
   "metadata": {},
   "outputs": [],
   "source": [
    "import numpy as np\n",
    "import pandas as pd\n",
    "import matplotlib.pyplot as plt\n",
    "import os\n",
    "\n",
    "from IPython.display import display\n",
    "from pandas.plotting import autocorrelation_plot\n",
    "\n",
    "import test\n",
    "\n",
    "import sys\n",
    "sys.path.append('\\custom_modules')\n",
    "\n",
    "import Data_processing as dp\n",
    "import Data_visualization as dv\n"
   ]
  },
  {
   "cell_type": "markdown",
   "id": "6c3d21b1",
   "metadata": {},
   "source": [
    "## Константы "
   ]
  },
  {
   "cell_type": "code",
   "execution_count": 46,
   "id": "9c14a8de",
   "metadata": {},
   "outputs": [],
   "source": [
    "# путь к файлу Excel\n",
    "#path_to_data = 'Data\\Данные СТМ Восточный Купол (от 29.01.17)\\Куст 201\\Скважина 2011.xlsx'\n",
    "#path_to_data = 'Data\\Данные СТМ Восточный Купол (от 29.01.17)\\Куст 202\\Скважина 2022.xlsx'\n",
    "path_to_data = 'Data\\Данные СТМ Восточный Купол (от 29.01.17)'"
   ]
  },
  {
   "cell_type": "code",
   "execution_count": 47,
   "id": "4cf0ffb4",
   "metadata": {},
   "outputs": [
    {
     "ename": "AttributeError",
     "evalue": "module 'test' has no attribute 'hello'",
     "output_type": "error",
     "traceback": [
      "\u001b[1;31m---------------------------------------------------------------------------\u001b[0m",
      "\u001b[1;31mAttributeError\u001b[0m                            Traceback (most recent call last)",
      "\u001b[1;32m~\\AppData\\Local\\Temp/ipykernel_12752/2503900149.py\u001b[0m in \u001b[0;36m<module>\u001b[1;34m\u001b[0m\n\u001b[1;32m----> 1\u001b[1;33m \u001b[0mtest\u001b[0m\u001b[1;33m.\u001b[0m\u001b[0mhello\u001b[0m\u001b[1;33m(\u001b[0m\u001b[1;33m)\u001b[0m\u001b[1;33m\u001b[0m\u001b[1;33m\u001b[0m\u001b[0m\n\u001b[0m",
      "\u001b[1;31mAttributeError\u001b[0m: module 'test' has no attribute 'hello'"
     ]
    }
   ],
   "source": [
    "test.hello()"
   ]
  },
  {
   "cell_type": "markdown",
   "id": "5891710d",
   "metadata": {},
   "source": [
    "## Описание кастомных модулей"
   ]
  },
  {
   "cell_type": "code",
   "execution_count": 17,
   "id": "a9cd8abe",
   "metadata": {},
   "outputs": [
    {
     "name": "stdout",
     "output_type": "stream",
     "text": [
      "Функции:\n",
      "Чтение датасета из Excel - get_df([path])\n",
      "[path] - строка, путь к файлу\n",
      "\n",
      "Удалить выбросы с помощью IQR - delete_outliers([df], [soft_mode = True])\n",
      "[df] - датасет для обработки\n",
      "[soft_mode = True] - режим, True - мягкое удаление выбросов \n",
      " если False - грубое удаление выбросов \n",
      "Стандартизовать данные - standartize_data(df)\n",
      "[df] - датасет для обработки\n",
      "Нормализовать данные - normalize_data(df)\n",
      "[df] - датасет для обработки\n",
      "Удалить строки с пустыми значениями - delete_NANs(df)\n",
      "[df] - датасет для обработки\n",
      "Удалить строки с нулевыми значениями - delete_zeros(df)\n",
      "[df] - датасет для обработки\n"
     ]
    }
   ],
   "source": [
    "dp.module_description()"
   ]
  },
  {
   "cell_type": "code",
   "execution_count": 18,
   "id": "bbc6ea77",
   "metadata": {},
   "outputs": [
    {
     "name": "stdout",
     "output_type": "stream",
     "text": [
      "Функции:\n",
      "Нарисовать 4 графика данных по времени - draw_4_graphs(df)\n",
      "[df] - датасет для обработки\n",
      "Нарисовать 4 box-plot графика - draw_4_box_plot_graphs(df)\n",
      "[df] - датасет для обработки\n",
      "Нарисовать 4 графика автокорреляции (коррелограммы) - draw_4_autocorrelation_graphs(df)\n",
      "[df] - датасет для обработки\n",
      "Нарисовать 4 графика частоты встречающихся значений - draw_4_frewuencis_graphs(df)\n",
      "[df] - датасет для обработки\n",
      "Нарисовать 6 графиков зависимости данных друг от друга (без повторений) - draw_6_relations_graphs(df)\n",
      "[df] - датасет для обработки\n",
      "Вывести общее описание данных - describe_data(df)\n",
      "[df] - датасет для обработки\n"
     ]
    }
   ],
   "source": [
    "dv.module_description()"
   ]
  },
  {
   "cell_type": "markdown",
   "id": "0e263be4",
   "metadata": {},
   "source": [
    "## Исследование данных до обработки"
   ]
  },
  {
   "cell_type": "code",
   "execution_count": 14,
   "id": "81922b19",
   "metadata": {},
   "outputs": [
    {
     "name": "stdout",
     "output_type": "stream",
     "text": [
      "fff\n",
      "ffff\n"
     ]
    }
   ],
   "source": [
    "print(\"fff\\nffff\")"
   ]
  },
  {
   "cell_type": "markdown",
   "id": "66dfcf2c",
   "metadata": {},
   "source": [
    "## Обработка данных"
   ]
  },
  {
   "cell_type": "markdown",
   "id": "5f64d296",
   "metadata": {},
   "source": [
    "## Исследование данных после обработки"
   ]
  }
 ],
 "metadata": {
  "kernelspec": {
   "display_name": "Python 3 (ipykernel)",
   "language": "python",
   "name": "python3"
  },
  "language_info": {
   "codemirror_mode": {
    "name": "ipython",
    "version": 3
   },
   "file_extension": ".py",
   "mimetype": "text/x-python",
   "name": "python",
   "nbconvert_exporter": "python",
   "pygments_lexer": "ipython3",
   "version": "3.8.12"
  }
 },
 "nbformat": 4,
 "nbformat_minor": 5
}
