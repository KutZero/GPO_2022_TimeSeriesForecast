{
 "cells": [
  {
   "cell_type": "markdown",
   "id": "1765c37a",
   "metadata": {},
   "source": [
    "# Обработка данных для модели"
   ]
  },
  {
   "cell_type": "markdown",
   "id": "d487aa3f",
   "metadata": {},
   "source": [
    "## Импорт библиотек"
   ]
  },
  {
   "cell_type": "code",
   "execution_count": 1,
   "id": "9e8ccd1b",
   "metadata": {},
   "outputs": [],
   "source": [
    "import numpy as np\n",
    "import pandas as pd\n",
    "import matplotlib.pyplot as plt\n",
    "import os\n",
    "\n",
    "from IPython.display import display\n",
    "from pandas.plotting import autocorrelation_plot\n",
    "\n",
    "import sys\n",
    "sys.path.append('custom_modules')\n",
    "\n",
    "import Data_processing as dp\n",
    "import Data_visualization as dv"
   ]
  },
  {
   "cell_type": "markdown",
   "id": "6c3d21b1",
   "metadata": {},
   "source": [
    "## Константы "
   ]
  },
  {
   "cell_type": "code",
   "execution_count": 2,
   "id": "9c14a8de",
   "metadata": {},
   "outputs": [],
   "source": [
    "# путь к файлу Excel\n",
    "#path_to_data = 'Data\\Данные СТМ Восточный Купол (от 29.01.17)\\Куст 201\\Скважина 2011.xlsx'\n",
    "#path_to_data = 'Data\\Данные СТМ Восточный Купол (от 29.01.17)\\Куст 202\\Скважина 2022.xlsx'\n",
    "path_to_data = 'Data\\Данные СТМ Восточный Купол (от 29.01.17)\\Куст 202\\Скважина 2022.xlsx'"
   ]
  },
  {
   "cell_type": "code",
   "execution_count": 3,
   "id": "89da2b52",
   "metadata": {},
   "outputs": [],
   "source": [
    "df = dp.get_df(path_to_data)"
   ]
  },
  {
   "cell_type": "code",
   "execution_count": 4,
   "id": "c6342e9f",
   "metadata": {},
   "outputs": [
    {
     "name": "stderr",
     "output_type": "stream",
     "text": [
      "C:\\Users\\Eugen\\AppData\\Local\\Temp/ipykernel_7108/3797930466.py:5: FutureWarning: The frame.append method is deprecated and will be removed from pandas in a future version. Use pandas.concat instead.\n",
      "  df = df.append(line, ignore_index=True)\n"
     ]
    }
   ],
   "source": [
    "columns = list(df.columns[:])\n",
    "line = {}\n",
    "for col in columns:\n",
    "    line[col] = None\n",
    "df = df.append(line, ignore_index=True)\n",
    "df.to_excel('.\\Data\\Обработанные данные\\Куст 202\\Скважина 2022.xlsx', index=False)"
   ]
  },
  {
   "cell_type": "code",
   "execution_count": null,
   "id": "5f32a046",
   "metadata": {},
   "outputs": [],
   "source": []
  }
 ],
 "metadata": {
  "kernelspec": {
   "display_name": "Python 3 (ipykernel)",
   "language": "python",
   "name": "python3"
  },
  "language_info": {
   "codemirror_mode": {
    "name": "ipython",
    "version": 3
   },
   "file_extension": ".py",
   "mimetype": "text/x-python",
   "name": "python",
   "nbconvert_exporter": "python",
   "pygments_lexer": "ipython3",
   "version": "3.8.12"
  }
 },
 "nbformat": 4,
 "nbformat_minor": 5
}
