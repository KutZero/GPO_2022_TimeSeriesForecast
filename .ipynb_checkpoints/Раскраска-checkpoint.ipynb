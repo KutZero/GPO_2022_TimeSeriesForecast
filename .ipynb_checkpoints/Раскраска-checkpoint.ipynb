{
 "cells": [
  {
   "cell_type": "code",
   "execution_count": 1,
   "id": "9d568f2f",
   "metadata": {},
   "outputs": [
    {
     "name": "stderr",
     "output_type": "stream",
     "text": [
      "C:\\Users\\Eugen\\anaconda3\\envs\\network\\lib\\site-packages\\statsmodels\\compat\\pandas.py:61: FutureWarning: pandas.Int64Index is deprecated and will be removed from pandas in a future version. Use pandas.Index with the appropriate dtype instead.\n",
      "  from pandas import Int64Index as NumericIndex\n"
     ]
    },
    {
     "ename": "ModuleNotFoundError",
     "evalue": "No module named 'pykalman'",
     "output_type": "error",
     "traceback": [
      "\u001b[1;31m---------------------------------------------------------------------------\u001b[0m",
      "\u001b[1;31mModuleNotFoundError\u001b[0m                       Traceback (most recent call last)",
      "\u001b[1;32m~\\AppData\\Local\\Temp/ipykernel_8256/3120465009.py\u001b[0m in \u001b[0;36m<module>\u001b[1;34m\u001b[0m\n\u001b[0;32m      4\u001b[0m \u001b[1;32mimport\u001b[0m \u001b[0mmatplotlib\u001b[0m\u001b[1;33m.\u001b[0m\u001b[0mpyplot\u001b[0m \u001b[1;32mas\u001b[0m \u001b[0mplt\u001b[0m\u001b[1;33m\u001b[0m\u001b[1;33m\u001b[0m\u001b[0m\n\u001b[0;32m      5\u001b[0m \u001b[1;32mimport\u001b[0m \u001b[0mstatsmodels\u001b[0m\u001b[1;33m.\u001b[0m\u001b[0mapi\u001b[0m \u001b[1;32mas\u001b[0m \u001b[0msm\u001b[0m\u001b[1;33m\u001b[0m\u001b[1;33m\u001b[0m\u001b[0m\n\u001b[1;32m----> 6\u001b[1;33m \u001b[1;32mfrom\u001b[0m \u001b[0mpykalman\u001b[0m \u001b[1;32mimport\u001b[0m \u001b[0mKalmanFilter\u001b[0m\u001b[1;33m\u001b[0m\u001b[1;33m\u001b[0m\u001b[0m\n\u001b[0m\u001b[0;32m      7\u001b[0m \u001b[1;32mfrom\u001b[0m \u001b[0marray\u001b[0m \u001b[1;32mimport\u001b[0m \u001b[1;33m*\u001b[0m\u001b[1;33m\u001b[0m\u001b[1;33m\u001b[0m\u001b[0m\n",
      "\u001b[1;31mModuleNotFoundError\u001b[0m: No module named 'pykalman'"
     ]
    }
   ],
   "source": [
    "import pandas as pd\n",
    "import numpy as np\n",
    "from numpy import sqrt\n",
    "import matplotlib.pyplot as plt\n",
    "import statsmodels.api as sm\n",
    "from pykalman import KalmanFilter\n",
    "from array import *"
   ]
  },
  {
   "cell_type": "code",
   "execution_count": null,
   "id": "1b00351c",
   "metadata": {},
   "outputs": [],
   "source": [
    "path_to_data = 'E:/4 семестр/ГПО/РПАС/Данные СТМ Восточный Купол (от 29.01.17)/Куст 201/Скважина 2012.xlsx'"
   ]
  },
  {
   "cell_type": "code",
   "execution_count": null,
   "id": "668b1226",
   "metadata": {},
   "outputs": [],
   "source": [
    "def get_df(path):\n",
    "    df = pd.read_excel(path)\n",
    "    df.rename(columns = {'Unnamed: 0' : 'Time Moment'}, inplace = True)\n",
    "    df = df.drop(labels = [0], axis = 0) # удалить вторую строку оглавления\n",
    "    #df=df.dropna()\n",
    "    return df"
   ]
  },
  {
   "cell_type": "code",
   "execution_count": null,
   "id": "773ae1b2",
   "metadata": {},
   "outputs": [],
   "source": [
    "def draw_4_graphs(df):\n",
    "    plt.figure(figsize=(22, 20))\n",
    "    i = 1\n",
    "    \n",
    "    for col_name, data in df.items():\n",
    "        if i != 1:\n",
    "            plt.subplot(4, 1, i-1)\n",
    "            #plt.plot(df['Time Moment'].values, data.values, '-')\n",
    "            plt.plot(df['Time Moment'] , data, '-')\n",
    "            plt.xlabel('Time Moment')\n",
    "            plt.ylabel(col_name)\n",
    "            #plt.xticks(rotation = 45)\n",
    "            plt.title(col_name)\n",
    "        i+=1\n",
    "\n",
    "    plt.show()"
   ]
  },
  {
   "cell_type": "code",
   "execution_count": null,
   "id": "3087f58a",
   "metadata": {},
   "outputs": [],
   "source": [
    "df=get_df(path_to_data)\n",
    "draw_4_graphs(df)"
   ]
  },
  {
   "cell_type": "code",
   "execution_count": null,
   "id": "02110a84",
   "metadata": {},
   "outputs": [],
   "source": [
    "def set_point(df):\n",
    "    plt.figure(figsize=(30, 5))\n",
    "    columns = list(df.columns[1:])\n",
    "    i=1\n",
    "    a=[]\n",
    "    b=[]\n",
    "    c=[]\n",
    "    x=[]\n",
    "    y=[]\n",
    "    for i in range(df.index[-1]):\n",
    "        if((df[columns[0]].values[i]-df[columns[0]].values[i-1]>(df[columns[0]].values[i-1])*0.1)and\n",
    "           (df[columns[1]].values[i]-df[columns[1]].values[i-1]>(df[columns[1]].values[i-1])*0.1)):\n",
    "            x.append(df[columns[0]].values[i])\n",
    "            a.append(df[columns[1]].values[i])\n",
    "            b.append(df[columns[2]].values[i])\n",
    "            c.append(df[columns[0]].values[i])\n",
    "            y.append(df['Time Moment'].values[i])\n",
    "    plt.plot(df['Time Moment'] , df[columns[0]], '-')\n",
    "    plt.xlabel('Time Moment')\n",
    "    plt.ylabel(columns[0])\n",
    "    plt.title(columns[0])\n",
    "    plt.scatter(y,x, c = 'r')        "
   ]
  },
  {
   "cell_type": "code",
   "execution_count": null,
   "id": "ae798d38",
   "metadata": {},
   "outputs": [],
   "source": [
    "df=get_df(path_to_data)\n",
    "set_point(df)"
   ]
  },
  {
   "cell_type": "code",
   "execution_count": null,
   "id": "2d97d95c",
   "metadata": {},
   "outputs": [],
   "source": [
    "def set_point1(df):\n",
    "    plt.figure(figsize=(30, 5))\n",
    "    columns = list(df.columns[1:])\n",
    "    i=1\n",
    "    x=[]\n",
    "    y=[]\n",
    "    for i in range(df.index[-1]):\n",
    "        if(df[columns[3]].values[i]-df[columns[3]].values[i-1]>=(df[columns[3]].values[i-1])*0.5):\n",
    "            x.append(df[columns[3]].values[i])\n",
    "            y.append(df['Time Moment'].values[i])\n",
    "    plt.plot(df['Time Moment'] , df[columns[3]], '-')\n",
    "    plt.xlabel('Time Moment')\n",
    "    plt.ylabel(columns[3])\n",
    "    plt.title(columns[3])\n",
    "    plt.scatter(y,x, c = 'r')       "
   ]
  },
  {
   "cell_type": "code",
   "execution_count": null,
   "id": "5a5ec375",
   "metadata": {},
   "outputs": [],
   "source": [
    "df=get_df(path_to_data)\n",
    "set_point1(df)"
   ]
  },
  {
   "cell_type": "code",
   "execution_count": null,
   "id": "46d4cc44",
   "metadata": {},
   "outputs": [],
   "source": []
  }
 ],
 "metadata": {
  "kernelspec": {
   "display_name": "Python 3 (ipykernel)",
   "language": "python",
   "name": "python3"
  },
  "language_info": {
   "codemirror_mode": {
    "name": "ipython",
    "version": 3
   },
   "file_extension": ".py",
   "mimetype": "text/x-python",
   "name": "python",
   "nbconvert_exporter": "python",
   "pygments_lexer": "ipython3",
   "version": "3.8.12"
  }
 },
 "nbformat": 4,
 "nbformat_minor": 5
}
