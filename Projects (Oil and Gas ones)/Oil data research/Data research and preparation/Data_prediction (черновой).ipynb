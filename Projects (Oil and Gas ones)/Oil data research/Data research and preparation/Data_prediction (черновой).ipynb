{
 "cells": [
  {
   "cell_type": "markdown",
   "id": "1765c37a",
   "metadata": {},
   "source": [
    "# Обучение модели"
   ]
  },
  {
   "cell_type": "markdown",
   "id": "d487aa3f",
   "metadata": {},
   "source": [
    "## Импорт библиотек"
   ]
  },
  {
   "cell_type": "code",
   "execution_count": 1,
   "id": "9e8ccd1b",
   "metadata": {},
   "outputs": [],
   "source": [
    "import numpy as np\n",
    "import pandas as pd\n",
    "import matplotlib.pyplot as plt\n",
    "import os\n",
    "import tensorflow as tf\n",
    "\n",
    "from IPython.display import display\n",
    "from tensorflow import keras\n",
    "from tensorflow.keras.layers import Dense\n",
    "\n",
    "import sys\n",
    "sys.path.append('custom_modules')\n",
    "\n",
    "import Data_processing as dp\n",
    "import Data_visualization as dv"
   ]
  },
  {
   "cell_type": "markdown",
   "id": "6c3d21b1",
   "metadata": {},
   "source": [
    "## Константы "
   ]
  },
  {
   "cell_type": "code",
   "execution_count": 2,
   "id": "9c14a8de",
   "metadata": {},
   "outputs": [],
   "source": [
    "path_to_data = \"Data\\Обработанные данные\""
   ]
  },
  {
   "cell_type": "code",
   "execution_count": 3,
   "id": "269008b7",
   "metadata": {},
   "outputs": [],
   "source": [
    "# детерминация случайных величин, отвечающих за выбор первоначальных весов и биасов\n",
    "tf.compat.v1.set_random_seed(290)\n",
    "tf.random.set_seed(290)"
   ]
  },
  {
   "cell_type": "code",
   "execution_count": 4,
   "id": "cc22eda4",
   "metadata": {},
   "outputs": [],
   "source": [
    "# всякие константы для последующей работы\n",
    "\n",
    "#///////////////////////////////// для взятия данных из файлов\n",
    "\n",
    "path_to_data = 'ngp.csv' # путь к файлу, из которого берутся данные для обучения\n",
    "target = 'price' # название взятой величины из файла\n",
    "\n",
    "#///////////////////////////////// для создания слоев\n",
    "\n",
    "CRT_hidden_layer_act_fun = 'relu'   # функция активация скрытых слоев и входного\n",
    "CRT_output_layer_act_fun = 'sigmoid' # функция активация выходного слоя\n",
    "\n",
    "CRT_dict = {4: CRT_hidden_layer_act_fun, \n",
    "            400: CRT_hidden_layer_act_fun,\n",
    "            20: CRT_hidden_layer_act_fun,\n",
    "            1: CRT_output_layer_act_fun} # size(layer) plus activation func\n",
    "\n",
    "#///////////////////////////////// для компиляции \n",
    "\n",
    "CMP_learning_rate = 0.00005 # шаг сходимости back propogation\n",
    "CMP_solver = keras.optimizers.Adam(CMP_learning_rate) # оптимизатор\n",
    "CMP_loss_func = 'mean_squared_error'# функция потерь\n",
    "\n",
    "#///////////////////////////////// для колбэков\n",
    "\n",
    "    # для Early_stopping\n",
    "ES_patience = 15 # кол-во эпох без улучшений\n",
    "ES_min_delta = 0.0001 # минимальное улучшение параметра за cur_patience\n",
    "ES_monitor_parametr =  'loss' # отслеживаемый параметр \n",
    "ES_save_best_weights = True # сохранять ли веса нейронки с лучшими результатами\n",
    "    \n",
    "    # для ReduceLROnPlateau\n",
    "RLPOP_monitor_parametr = 'val_loss'  # отслеживаемый параметр \n",
    "RLPOP_factor = 0.1 # множитель для расчета нового шага сходимости (new_learning_rate = old_learning_rate*RLPOP_factor)\n",
    "RLPOP_patience = 10 # кол-во эпох без улучшений\n",
    "RLPOP_verbose = 1 # выводить ли прогресс изменения шага сходимости в его процессее\n",
    "RLPOP_mode = 'auto' # выбирает, уменьшать шаг сходимости при росте величины или при её уменьшении\n",
    "RLPOP_min_delta = 0.0001 # порог изменения отслеживаемого значения\n",
    "RLPOP_cooldown = 0 # количество эпох до возобновления работы после изменения шага сходимости\n",
    "RLPOP_min_lr = 0 # минимальное значение шага сходимости\n",
    "\n",
    "    # для CallbackList\n",
    "CBL_add_history = True # вызывать ли колбэк History (если он не был довавлен вручную)\n",
    "CBL_add_progbar = True # вызывать ли колбэк ProgbarLogger (если он не был довавлен вручную)\n",
    "    \n",
    "#///////////////////////////////// для тренировки\n",
    "\n",
    "FIT_batch_size = 4 #13, 4 # размер bach при обучении/тестировании\n",
    "FIT_shuffle = True # перемешивать ли данные\n",
    "FIT_verbose = True # выводить ли прогресс обучения в его процессее\n",
    "FIT_epochs = 50 # количество эпох обучения\n",
    "FIT_validation_split = 0.2 # процент валидационных данных, отсекаемых из тестовой выборки"
   ]
  },
  {
   "cell_type": "code",
   "execution_count": 5,
   "id": "2676e0af",
   "metadata": {},
   "outputs": [],
   "source": [
    "# создание архитектуры нейронки\n",
    "model = keras.Sequential()\n",
    "\n",
    "for x in CRT_dict.items():\n",
    "    model.add(Dense(x[0], activation = x[1]))\n",
    "    \n",
    "model.compile(loss = CMP_loss_func, optimizer = CMP_solver)"
   ]
  },
  {
   "cell_type": "code",
   "execution_count": 6,
   "id": "51fef018",
   "metadata": {},
   "outputs": [],
   "source": [
    "# Создание и настройка колбэков\n",
    "callback_list = [] # массив колбэков до подачи в колбек \"callbacklist\"\n",
    "\n",
    "temp = keras.callbacks.EarlyStopping(\n",
    "            monitor = ES_monitor_parametr, \n",
    "            min_delta = ES_min_delta, \n",
    "            patience = ES_patience,\n",
    "            restore_best_weights = ES_save_best_weights\n",
    "            )\n",
    "callback_list.append(temp)\n",
    "\n",
    "temp = keras.callbacks.ReduceLROnPlateau(\n",
    "            monitor = RLPOP_monitor_parametr, \n",
    "            factor = RLPOP_factor, \n",
    "            patience = RLPOP_patience, \n",
    "            verbose = RLPOP_verbose,\n",
    "            mode = RLPOP_mode, \n",
    "            min_delta = RLPOP_min_delta, \n",
    "            cooldown = RLPOP_cooldown, \n",
    "            min_lr = RLPOP_min_lr\n",
    "            )\n",
    "callback_list.append(temp)\n",
    "\n",
    "FIT_callback_list = keras.callbacks.CallbackList(\n",
    "            callbacks = callback_list, \n",
    "            add_history = CBL_add_history, \n",
    "            add_progbar = CBL_add_progbar, \n",
    "            model = model\n",
    "            )"
   ]
  },
  {
   "cell_type": "code",
   "execution_count": 7,
   "id": "30685a60",
   "metadata": {},
   "outputs": [],
   "source": [
    "def prepare_df(df: pd.DataFrame):\n",
    "    X = pd.DataFrame({}, columns=df.columns)\n",
    "    Y = pd.DataFrame({}, columns=df.columns)\n",
    "\n",
    "    for row_index,row in df.iterrows():\n",
    "        if (row_index % 5 == 0):\n",
    "            Y = pd.concat([Y, pd.DataFrame(row).T], axis=0)\n",
    "        else:\n",
    "            X = pd.concat([X, pd.DataFrame(row).T], axis=0)"
   ]
  },
  {
   "cell_type": "code",
   "execution_count": 21,
   "id": "ade67015",
   "metadata": {},
   "outputs": [
    {
     "name": "stdout",
     "output_type": "stream",
     "text": [
      "{'col1': 1, 'col2': 11, 'col3': 21, 'col4': 21}\n",
      "{'col1': 1, 'col2': 11, 'col3': 21, 'col4': 21}\n"
     ]
    }
   ],
   "source": [
    "d = {'col1': range(10),\n",
    "     'col2': range(10,20),\n",
    "     'col3': range(20,30),\n",
    "     'col4': range(20,30)}\n",
    "\n",
    "df = pd.DataFrame(data = d)\n",
    "\n",
    "#display(df)\n",
    "\n",
    "X = pd.DataFrame({}, columns=df.columns)\n",
    "Y = pd.DataFrame({}, columns=df.columns)\n",
    "temp = pd.DataFrame({}, columns=df.columns)\n",
    "\n",
    "for row_index,row in df.iterrows():\n",
    "    if (row_index % 5 == 0):\n",
    "        \n",
    "        new_row = list(zip(df.columns, df.iloc[row_index+1:row_index+5])) #{col: cell for col in df.columns for cell in [1,2,3,4]}\n",
    "    \n",
    "        new_row = {col: cell for col, cell in new_row}\n",
    "        \n",
    "        print(new_row)\n",
    "        \n",
    "        #row_index+=5\n",
    "        #X = X.append(new_row, ignore_index=True)\n",
    "        Y = pd.concat([Y, pd.DataFrame(row).T], axis=0)\n",
    "    else:\n",
    "        temp = pd.concat([temp, pd.DataFrame(row).T], axis=0)"
   ]
  },
  {
   "cell_type": "code",
   "execution_count": 9,
   "id": "47eafa38",
   "metadata": {},
   "outputs": [
    {
     "name": "stdout",
     "output_type": "stream",
     "text": [
      "temp <class 'pandas.core.frame.DataFrame'> (8, 4)\n",
      "Y <class 'pandas.core.frame.DataFrame'> (2, 4)\n"
     ]
    },
    {
     "data": {
      "text/html": [
       "<div>\n",
       "<style scoped>\n",
       "    .dataframe tbody tr th:only-of-type {\n",
       "        vertical-align: middle;\n",
       "    }\n",
       "\n",
       "    .dataframe tbody tr th {\n",
       "        vertical-align: top;\n",
       "    }\n",
       "\n",
       "    .dataframe thead th {\n",
       "        text-align: right;\n",
       "    }\n",
       "</style>\n",
       "<table border=\"1\" class=\"dataframe\">\n",
       "  <thead>\n",
       "    <tr style=\"text-align: right;\">\n",
       "      <th></th>\n",
       "      <th>col1</th>\n",
       "      <th>col2</th>\n",
       "      <th>col3</th>\n",
       "      <th>col4</th>\n",
       "    </tr>\n",
       "  </thead>\n",
       "  <tbody>\n",
       "    <tr>\n",
       "      <th>1</th>\n",
       "      <td>1</td>\n",
       "      <td>11</td>\n",
       "      <td>21</td>\n",
       "      <td>21</td>\n",
       "    </tr>\n",
       "    <tr>\n",
       "      <th>2</th>\n",
       "      <td>2</td>\n",
       "      <td>12</td>\n",
       "      <td>22</td>\n",
       "      <td>22</td>\n",
       "    </tr>\n",
       "    <tr>\n",
       "      <th>3</th>\n",
       "      <td>3</td>\n",
       "      <td>13</td>\n",
       "      <td>23</td>\n",
       "      <td>23</td>\n",
       "    </tr>\n",
       "    <tr>\n",
       "      <th>4</th>\n",
       "      <td>4</td>\n",
       "      <td>14</td>\n",
       "      <td>24</td>\n",
       "      <td>24</td>\n",
       "    </tr>\n",
       "    <tr>\n",
       "      <th>6</th>\n",
       "      <td>6</td>\n",
       "      <td>16</td>\n",
       "      <td>26</td>\n",
       "      <td>26</td>\n",
       "    </tr>\n",
       "    <tr>\n",
       "      <th>7</th>\n",
       "      <td>7</td>\n",
       "      <td>17</td>\n",
       "      <td>27</td>\n",
       "      <td>27</td>\n",
       "    </tr>\n",
       "    <tr>\n",
       "      <th>8</th>\n",
       "      <td>8</td>\n",
       "      <td>18</td>\n",
       "      <td>28</td>\n",
       "      <td>28</td>\n",
       "    </tr>\n",
       "    <tr>\n",
       "      <th>9</th>\n",
       "      <td>9</td>\n",
       "      <td>19</td>\n",
       "      <td>29</td>\n",
       "      <td>29</td>\n",
       "    </tr>\n",
       "  </tbody>\n",
       "</table>\n",
       "</div>"
      ],
      "text/plain": [
       "  col1 col2 col3 col4\n",
       "1    1   11   21   21\n",
       "2    2   12   22   22\n",
       "3    3   13   23   23\n",
       "4    4   14   24   24\n",
       "6    6   16   26   26\n",
       "7    7   17   27   27\n",
       "8    8   18   28   28\n",
       "9    9   19   29   29"
      ]
     },
     "metadata": {},
     "output_type": "display_data"
    },
    {
     "data": {
      "text/html": [
       "<div>\n",
       "<style scoped>\n",
       "    .dataframe tbody tr th:only-of-type {\n",
       "        vertical-align: middle;\n",
       "    }\n",
       "\n",
       "    .dataframe tbody tr th {\n",
       "        vertical-align: top;\n",
       "    }\n",
       "\n",
       "    .dataframe thead th {\n",
       "        text-align: right;\n",
       "    }\n",
       "</style>\n",
       "<table border=\"1\" class=\"dataframe\">\n",
       "  <thead>\n",
       "    <tr style=\"text-align: right;\">\n",
       "      <th></th>\n",
       "      <th>col1</th>\n",
       "      <th>col2</th>\n",
       "      <th>col3</th>\n",
       "      <th>col4</th>\n",
       "    </tr>\n",
       "  </thead>\n",
       "  <tbody>\n",
       "    <tr>\n",
       "      <th>0</th>\n",
       "      <td>0</td>\n",
       "      <td>10</td>\n",
       "      <td>20</td>\n",
       "      <td>20</td>\n",
       "    </tr>\n",
       "    <tr>\n",
       "      <th>5</th>\n",
       "      <td>5</td>\n",
       "      <td>15</td>\n",
       "      <td>25</td>\n",
       "      <td>25</td>\n",
       "    </tr>\n",
       "  </tbody>\n",
       "</table>\n",
       "</div>"
      ],
      "text/plain": [
       "  col1 col2 col3 col4\n",
       "0    0   10   20   20\n",
       "5    5   15   25   25"
      ]
     },
     "metadata": {},
     "output_type": "display_data"
    }
   ],
   "source": [
    "#print(\"X\", type(X), X.shape)\n",
    "print(\"temp\", type(temp), temp.shape)\n",
    "print(\"Y\", type(Y), Y.shape)\n",
    "#display(X)\n",
    "display(temp)\n",
    "display(Y)"
   ]
  },
  {
   "cell_type": "code",
   "execution_count": 10,
   "id": "dc196ee0",
   "metadata": {},
   "outputs": [
    {
     "data": {
      "text/plain": [
       "'prepared_df = prepare_df(cols,names)'"
      ]
     },
     "execution_count": 10,
     "metadata": {},
     "output_type": "execute_result"
    }
   ],
   "source": [
    "# подготовка данных\n",
    "\n",
    "# извлечь датасет из файла\n",
    "#first_df = dp.get_df(path_to_data)\n",
    "\n",
    "# создать тестовый/тренировочный датасет\n",
    "'''prepared_df = prepare_df(cols,names)'''\n",
    "\n",
    "# создать тестовые/тренировочные данные из тестового датасета\n",
    "#prepared_data = prep_data_4_1_time(cols, names, prepared_df)\n",
    "\n",
    "#X_train,Y_train,X_test,Y_test = prepared_data"
   ]
  },
  {
   "cell_type": "code",
   "execution_count": 11,
   "id": "c9221a8d",
   "metadata": {},
   "outputs": [
    {
     "data": {
      "text/plain": [
       "'history = model.fit(X_train, \\n                    Y_train, \\n                    batch_size = FIT_batch_size, \\n                    epochs = FIT_epochs, \\n                    verbose = FIT_verbose, \\n                    validation_split = FIT_validation_split, \\n                    shuffle = FIT_shuffle, \\n                    callbacks = FIT_callback_list)'"
      ]
     },
     "execution_count": 11,
     "metadata": {},
     "output_type": "execute_result"
    }
   ],
   "source": [
    "# тренировка модели\n",
    "'''history = model.fit(X_train, \n",
    "                    Y_train, \n",
    "                    batch_size = FIT_batch_size, \n",
    "                    epochs = FIT_epochs, \n",
    "                    verbose = FIT_verbose, \n",
    "                    validation_split = FIT_validation_split, \n",
    "                    shuffle = FIT_shuffle, \n",
    "                    callbacks = FIT_callback_list)'''"
   ]
  },
  {
   "cell_type": "code",
   "execution_count": 12,
   "id": "3c53ffdd",
   "metadata": {},
   "outputs": [
    {
     "data": {
      "text/plain": [
       "\"plt.plot(history.history['loss'])\\nplt.plot(history.history['val_loss'], linestyle = '--')\\nplt.title('model loss')\\nplt.ylabel('loss')\\nplt.xlabel('epoch')\\nplt.legend(['train', 'val'], loc = 'upper left')\\nplt.show()\""
      ]
     },
     "execution_count": 12,
     "metadata": {},
     "output_type": "execute_result"
    }
   ],
   "source": [
    "# Вывод графика изменения ошибки\n",
    "'''plt.plot(history.history['loss'])\n",
    "plt.plot(history.history['val_loss'], linestyle = '--')\n",
    "plt.title('model loss')\n",
    "plt.ylabel('loss')\n",
    "plt.xlabel('epoch')\n",
    "plt.legend(['train', 'val'], loc = 'upper left')\n",
    "plt.show()'''"
   ]
  },
  {
   "cell_type": "code",
   "execution_count": 13,
   "id": "e49c6c6b",
   "metadata": {},
   "outputs": [
    {
     "data": {
      "text/plain": [
       "'model.evaluate(X_test, Y_test, batch_size = FIT_batch_size)'"
      ]
     },
     "execution_count": 13,
     "metadata": {},
     "output_type": "execute_result"
    }
   ],
   "source": [
    "# тест модели\n",
    "\n",
    "'''model.evaluate(X_test, Y_test, batch_size = FIT_batch_size)'''"
   ]
  },
  {
   "cell_type": "code",
   "execution_count": 14,
   "id": "45606b2b",
   "metadata": {},
   "outputs": [
    {
     "data": {
      "text/plain": [
       "'model.save(\"NetWork_4_to_4\")'"
      ]
     },
     "execution_count": 14,
     "metadata": {},
     "output_type": "execute_result"
    }
   ],
   "source": [
    "'''model.save(\"NetWork_4_to_4\")'''"
   ]
  },
  {
   "cell_type": "code",
   "execution_count": null,
   "id": "8f37c1bb",
   "metadata": {},
   "outputs": [],
   "source": []
  },
  {
   "cell_type": "code",
   "execution_count": 15,
   "id": "6074ef69",
   "metadata": {},
   "outputs": [
    {
     "data": {
      "text/plain": [
       "'print(\"/////////////////////\")\\nprint(\"Difference between prepared data and original ones\\n\\n\")\\nfor address, dirs, files in os.walk(new_path_to_data):\\n    if(dirs == []):\\n        temp_old_path = \"\\\\\".join([old_path_to_data, address.split(sep=\"\\\\\")[-1]])\\n        \\n        print(\"Current dirs:\")\\n        print(\"Old_Addres: \", temp_old_path)\\n        print(\"New_Addres: \", address)\\n        #print(\"Dirs: \", dirs)\\n        #print(\"Files: \", files)\\n        \\n        for file in files:\\n            print(\"\\n\\t\\tDifference between:\")\\n            print(\"\\t\",\"\\\\\".join([temp_old_path, file]))\\n            print(\"\\t\",\"\\\\\".join([address, file]))\\n            #orig_df = dp.get_df(\"\\\\\".join([temp_old_path, file]))\\n            #prepared_df = dp.get_df(\"\\\\\".join([address, file]))\\n            #dv.draw_4_graphs_with_overlay_for_2_df(orig_df, prepared_df)\\n            \\n        print(\"/////////////////////\")'"
      ]
     },
     "execution_count": 15,
     "metadata": {},
     "output_type": "execute_result"
    }
   ],
   "source": [
    "#посмотреть сравнение оригинальных и обработанных данных\n",
    "\n",
    "'''print(\"/////////////////////\")\n",
    "print(\"Difference between prepared data and original ones\\n\\n\")\n",
    "for address, dirs, files in os.walk(new_path_to_data):\n",
    "    if(dirs == []):\n",
    "        temp_old_path = \"\\\\\".join([old_path_to_data, address.split(sep=\"\\\\\")[-1]])\n",
    "        \n",
    "        print(\"Current dirs:\")\n",
    "        print(\"Old_Addres: \", temp_old_path)\n",
    "        print(\"New_Addres: \", address)\n",
    "        #print(\"Dirs: \", dirs)\n",
    "        #print(\"Files: \", files)\n",
    "        \n",
    "        for file in files:\n",
    "            print(\"\\n\\t\\tDifference between:\")\n",
    "            print(\"\\t\",\"\\\\\".join([temp_old_path, file]))\n",
    "            print(\"\\t\",\"\\\\\".join([address, file]))\n",
    "            #orig_df = dp.get_df(\"\\\\\".join([temp_old_path, file]))\n",
    "            #prepared_df = dp.get_df(\"\\\\\".join([address, file]))\n",
    "            #dv.draw_4_graphs_with_overlay_for_2_df(orig_df, prepared_df)\n",
    "            \n",
    "        print(\"/////////////////////\")'''"
   ]
  }
 ],
 "metadata": {
  "kernelspec": {
   "display_name": "Python 3 (ipykernel)",
   "language": "python",
   "name": "python3"
  },
  "language_info": {
   "codemirror_mode": {
    "name": "ipython",
    "version": 3
   },
   "file_extension": ".py",
   "mimetype": "text/x-python",
   "name": "python",
   "nbconvert_exporter": "python",
   "pygments_lexer": "ipython3",
   "version": "3.8.12"
  }
 },
 "nbformat": 4,
 "nbformat_minor": 5
}
