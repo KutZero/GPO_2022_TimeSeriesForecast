{
 "cells": [
  {
   "cell_type": "markdown",
   "metadata": {},
   "source": [
    "# Рисование карты дефектов с помощью модели ver_10"
   ]
  },
  {
   "cell_type": "code",
   "execution_count": 1,
   "metadata": {
    "ExecuteTime": {
     "end_time": "2023-05-10T04:24:45.284912Z",
     "start_time": "2023-05-10T04:24:40.890576Z"
    },
    "cell_style": "center",
    "id": "p6xN-IEhhbla"
   },
   "outputs": [],
   "source": [
    "# Подключенине библиотек\n",
    "import numpy as np\n",
    "import pandas as pd\n",
    "import matplotlib.pyplot as plt\n",
    "import tensorflow as tf\n",
    "\n",
    "import sys\n",
    "sys.path.append('custom_modules')\n",
    "\n",
    "import Data_processing as dp\n",
    "\n",
    "from matplotlib import ticker\n",
    "from IPython.display import display\n",
    "from tensorflow import keras"
   ]
  },
  {
   "cell_type": "markdown",
   "metadata": {
    "id": "wLCfK5LxQbD9"
   },
   "source": [
    "### Константы для путей к файлам"
   ]
  },
  {
   "cell_type": "code",
   "execution_count": 2,
   "metadata": {
    "ExecuteTime": {
     "end_time": "2023-05-10T04:24:45.300644Z",
     "start_time": "2023-05-10T04:24:45.285912Z"
    },
    "id": "bZHiwO4ShhEF"
   },
   "outputs": [],
   "source": [
    "# Пути к обработанным данным\n",
    "# Путь к X части выборки с массивами в каждой ячейке\n",
    "# Run1 - данные обучающей выборки\n",
    "# Run2 - данные тестовой выборки\n",
    "path_to_array_like_X_data = 'data/Prepared data/Run2/X_data_array_like.xlsx'\n",
    "# Путь к Y части выборки\n",
    "path_to_Y_data = 'data/Prepared data/Run2/Y_data(binary_classification).xlsx'\n"
   ]
  },
  {
   "cell_type": "markdown",
   "metadata": {
    "id": "0dxaXom0QbEB"
   },
   "source": [
    "### Константы для обработки данных"
   ]
  },
  {
   "cell_type": "code",
   "execution_count": 3,
   "metadata": {
    "ExecuteTime": {
     "end_time": "2023-05-10T04:24:45.316648Z",
     "start_time": "2023-05-10T04:24:45.301645Z"
    },
    "id": "J-6_JuU5QbEC"
   },
   "outputs": [],
   "source": [
    "# Размер кропа\n",
    "PREP_image_size = 64\n",
    "# Шаг кропа\n",
    "PREP_crop_step = 5"
   ]
  },
  {
   "cell_type": "code",
   "execution_count": 4,
   "metadata": {
    "ExecuteTime": {
     "end_time": "2023-05-10T04:24:45.332662Z",
     "start_time": "2023-05-10T04:24:45.317649Z"
    },
    "cell_style": "center",
    "id": "oicZsiTGQbEE"
   },
   "outputs": [],
   "source": [
    "# Детерминация случайных величин, отвечающих за выбор первоначальных весов и биасов\n",
    "tf.compat.v1.set_random_seed(290)\n",
    "tf.random.set_seed(290)"
   ]
  },
  {
   "cell_type": "markdown",
   "metadata": {
    "id": "M3IDwA8GQbEP"
   },
   "source": [
    "# Загрузка данных"
   ]
  },
  {
   "cell_type": "code",
   "execution_count": 5,
   "metadata": {
    "ExecuteTime": {
     "end_time": "2023-05-10T04:24:48.430853Z",
     "start_time": "2023-05-10T04:24:45.333662Z"
    },
    "id": "opRWBSZpQbEP"
   },
   "outputs": [],
   "source": [
    "# загрузка данных из файлов\n",
    "X_dict = dict()\n",
    "Y_dict = dict()\n",
    "\n",
    "X_dict['df'] =  dp.get_array_like_X_df(path_to_array_like_X_data)\n",
    "Y_dict['df'] =  dp.get_Y_df(path_to_Y_data)\n",
    "\n",
    "# По желанию сдвиг по оси у\n",
    "#shift = 100\n",
    "\n",
    "#X_dict['df'] = pd.concat([X_dict['df'].iloc[:,shift:],X_dict['df'].iloc[:,:shift]],axis=1,ignore_index=True)\n",
    "#Y_dict['df'] = pd.concat([Y_dict['df'].iloc[:,shift:],Y_dict['df'].iloc[:,:shift]],axis=1,ignore_index=True)"
   ]
  },
  {
   "cell_type": "code",
   "execution_count": 6,
   "metadata": {
    "ExecuteTime": {
     "end_time": "2023-05-10T04:24:48.446857Z",
     "start_time": "2023-05-10T04:24:48.431854Z"
    }
   },
   "outputs": [],
   "source": [
    "# Для последующей обработки сохраним\n",
    "# начальные размеры считанных\n",
    "# датафреймов\n",
    "ORIG_df_cols = Y_dict['df'].shape[1]\n",
    "ORIG_df_rows = Y_dict['df'].shape[0]"
   ]
  },
  {
   "cell_type": "code",
   "execution_count": 7,
   "metadata": {
    "ExecuteTime": {
     "end_time": "2023-05-10T04:24:48.903583Z",
     "start_time": "2023-05-10T04:24:48.447857Z"
    }
   },
   "outputs": [
    {
     "ename": "NameError",
     "evalue": "name 'ticker' is not defined",
     "output_type": "error",
     "traceback": [
      "\u001b[1;31m---------------------------------------------------------------------------\u001b[0m",
      "\u001b[1;31mNameError\u001b[0m                                 Traceback (most recent call last)",
      "Input \u001b[1;32mIn [7]\u001b[0m, in \u001b[0;36m<cell line: 16>\u001b[1;34m()\u001b[0m\n\u001b[0;32m     13\u001b[0m axes\u001b[38;5;241m.\u001b[39mset_title(\u001b[38;5;124mf\u001b[39m\u001b[38;5;124m'\u001b[39m\u001b[38;5;124mКарта дефектов\u001b[39m\u001b[38;5;124m'\u001b[39m, fontsize\u001b[38;5;241m=\u001b[39m\u001b[38;5;241m15\u001b[39m) \n\u001b[0;32m     15\u001b[0m \u001b[38;5;66;03m#  Устанавливаем интервал основных делений: \u001b[39;00m\n\u001b[1;32m---> 16\u001b[0m axes\u001b[38;5;241m.\u001b[39mxaxis\u001b[38;5;241m.\u001b[39mset_major_locator(\u001b[43mticker\u001b[49m\u001b[38;5;241m.\u001b[39mMultipleLocator(\u001b[38;5;241m20\u001b[39m)) \n\u001b[0;32m     17\u001b[0m axes\u001b[38;5;241m.\u001b[39myaxis\u001b[38;5;241m.\u001b[39mset_major_locator(ticker\u001b[38;5;241m.\u001b[39mMultipleLocator(\u001b[38;5;241m15\u001b[39m)) \n\u001b[0;32m     19\u001b[0m \u001b[38;5;66;03m#  Устанавливаем форматирование чисел основных делений: \u001b[39;00m\n",
      "\u001b[1;31mNameError\u001b[0m: name 'ticker' is not defined"
     ]
    },
    {
     "data": {
      "image/png": "[encoded data removed]",
      "text/plain": [
       "<Figure size 1296x432 with 1 Axes>"
      ]
     },
     "metadata": {
      "needs_background": "light"
     },
     "output_type": "display_data"
    }
   ],
   "source": [
    "# Построить карту дефектов для считанного файла\n",
    "# до всяких обработок\n",
    "fig, axes = plt.subplots()\n",
    "\n",
    "fig.set_figwidth(18)\n",
    "fig.set_figheight(6)\n",
    "\n",
    "axes.pcolormesh(Y_dict['df'])\n",
    "axes.invert_yaxis()\n",
    "\n",
    "axes.set_xlabel('Номер датчика', fontsize=15) \n",
    "axes.set_ylabel('Номер измерения', fontsize=15) \n",
    "axes.set_title(f'Карта дефектов', fontsize=15) \n",
    "\n",
    "#  Устанавливаем интервал основных делений: \n",
    "axes.xaxis.set_major_locator(ticker.MultipleLocator(20)) \n",
    "axes.yaxis.set_major_locator(ticker.MultipleLocator(15)) \n",
    " \n",
    "#  Устанавливаем форматирование чисел основных делений: \n",
    "axes.xaxis.set_major_formatter(ticker.FormatStrFormatter('%.d')) \n",
    "axes.yaxis.set_major_formatter(ticker.FormatStrFormatter('%.d')) \n",
    " \n",
    "#  Устанавливаем форматирование делений: \n",
    "axes.xaxis.set_tick_params(which = 'major', labelsize = 15, labelrotation = 45) \n",
    "axes.yaxis.set_tick_params(which = 'major', labelsize = 15) \n",
    "\n",
    "plt.show()"
   ]
  },
  {
   "cell_type": "markdown",
   "metadata": {},
   "source": [
    "# Обработка данных"
   ]
  },
  {
   "cell_type": "code",
   "execution_count": null,
   "metadata": {
    "ExecuteTime": {
     "end_time": "2023-05-10T04:24:48.904584Z",
     "start_time": "2023-05-10T04:24:48.904584Z"
    },
    "colab": {
     "base_uri": "https://localhost:8080/"
    },
    "id": "JpYrdVggQbER",
    "outputId": "3a3019d2-f190-46c8-a928-f5b9089ffc64"
   },
   "outputs": [],
   "source": [
    "# Добавление строк в датафреймы\n",
    "# Справа к каждому датафрейму дописывается по 64\n",
    "# элемента, чтобы сымитировать сканирование \n",
    "# трубы по всей окружности фильтром размера 64 на 64\n",
    "# а еще дописывается некоторое количество строк и столбцов\n",
    "# меньшее чем шаг кропа. Чтобы датафрейм можно было поделить\n",
    "# на целое кол-во кропов\n",
    "print('||||||||||| X df preprocessing |||||||||||')\n",
    "print('Original df size: ', X_dict['df'] .shape)\n",
    "X_dict['df'] = pd.concat([X_dict['df'],X_dict['df'].iloc[:,:PREP_image_size]],axis=1,ignore_index=True)\n",
    "X_dict['df'] = pd.concat([X_dict['df'],X_dict['df'].iloc[:PREP_image_size,:]],axis=0,ignore_index=True)\n",
    "ADDED_df_rows = X_dict['df'].shape[0]\n",
    "ADDED_df_cols = X_dict['df'].shape[1]\n",
    "print('Result df size: ', X_dict['df'].shape)\n",
    "X_dict['df'] = dp.reshape_df_for_future_crops(X_dict['df'], \n",
    "                                                        PREP_image_size, \n",
    "                                                        PREP_crop_step)\n",
    "ADDED_df_rows = X_dict['df'].shape[0] - ADDED_df_rows\n",
    "ADDED_df_cols = X_dict['df'].shape[1] - ADDED_df_cols\n",
    "\n",
    "\n",
    "print('||||||||||| Y df preprocessing |||||||||||')\n",
    "print('Original df size: ', Y_dict['df'].shape)\n",
    "Y_dict['df'] = pd.concat([Y_dict['df'],Y_dict['df'].iloc[:,:PREP_image_size]],axis=1,ignore_index=True)\n",
    "Y_dict['df'] = pd.concat([Y_dict['df'],Y_dict['df'].iloc[:PREP_image_size,:]],axis=0,ignore_index=True)\n",
    "print('Original df size: ', Y_dict['df'].shape)\n",
    "Y_dict['df'] = dp.reshape_df_for_future_crops(Y_dict['df'], \n",
    "                                                        PREP_image_size, \n",
    "                                                        PREP_crop_step)\n",
    "\n",
    "print('\\n')"
   ]
  },
  {
   "cell_type": "markdown",
   "metadata": {},
   "source": [
    "### Константы для обработки данных"
   ]
  },
  {
   "cell_type": "code",
   "execution_count": null,
   "metadata": {
    "ExecuteTime": {
     "end_time": "2023-05-10T04:24:48.905584Z",
     "start_time": "2023-05-10T04:24:48.905584Z"
    }
   },
   "outputs": [],
   "source": [
    "# Запишем размеры датафреймов после обработки\n",
    "PREP_df_cols = Y_dict['df'].shape[1]\n",
    "PREP_df_rows = Y_dict['df'].shape[0]"
   ]
  },
  {
   "cell_type": "code",
   "execution_count": null,
   "metadata": {
    "ExecuteTime": {
     "end_time": "2023-05-10T04:24:48.905584Z",
     "start_time": "2023-05-10T04:24:48.905584Z"
    }
   },
   "outputs": [],
   "source": [
    "# Выведем карту дефектов после первичного расширения\n",
    "fig, axes = plt.subplots()\n",
    "\n",
    "fig.set_figwidth(18)\n",
    "fig.set_figheight(6)\n",
    "\n",
    "axes.pcolormesh(Y_dict['df'])\n",
    "axes.invert_yaxis()\n",
    "axes.set_xlabel('Номер датчика', fontsize=15) \n",
    "axes.set_ylabel('Номер измерения', fontsize=15) \n",
    "axes.set_title(f'Карта дефектов', fontsize=15) \n",
    "\n",
    "#  Устанавливаем интервал основных делений: \n",
    "axes.xaxis.set_major_locator(ticker.MultipleLocator(20)) \n",
    "axes.yaxis.set_major_locator(ticker.MultipleLocator(15)) \n",
    " \n",
    "#  Устанавливаем форматирование чисел основных делений: \n",
    "axes.xaxis.set_major_formatter(ticker.FormatStrFormatter('%.d')) \n",
    "axes.yaxis.set_major_formatter(ticker.FormatStrFormatter('%.d')) \n",
    " \n",
    "#  Устанавливаем форматирование делений: \n",
    "axes.xaxis.set_tick_params(which = 'major', labelsize = 15, labelrotation = 45) \n",
    "axes.yaxis.set_tick_params(which = 'major', labelsize = 15) \n",
    "\n",
    "plt.show()"
   ]
  },
  {
   "cell_type": "code",
   "execution_count": null,
   "metadata": {
    "ExecuteTime": {
     "end_time": "2023-05-10T04:24:48.906584Z",
     "start_time": "2023-05-10T04:24:48.906584Z"
    },
    "colab": {
     "base_uri": "https://localhost:8080/"
    },
    "id": "fJMMLFK0QbES",
    "outputId": "564394aa-ab18-4de9-d21c-7482739bfe19"
   },
   "outputs": [],
   "source": [
    "# Запишем в словарь numpy array нарезанные из считанных датафреймов\n",
    "\n",
    "print('||||||||||| X df preprocessing |||||||||||')\n",
    "x_time_temp, \\\n",
    "x_amp_temp = dp.reshape_X_df_to_image_like_numpy(X_dict['df'], \n",
    "                                                    PREP_image_size, \n",
    "                                                    PREP_crop_step)\n",
    "X_dict['X_time_all'] = x_time_temp.astype('float32')\n",
    "X_dict['X_amp_all'] = x_amp_temp.astype('float32')\n",
    "\n",
    "X_dict.pop('df',0)\n",
    "\n",
    "print('||||||||||| Y df preprocessing |||||||||||')\n",
    "y_temp = dp.reshape_Y_df_to_image_like_numpy(Y_dict['df'], \n",
    "                                             PREP_image_size, \n",
    "                                             PREP_crop_step)\n",
    "Y_dict['Y_mask_all'] = y_temp.astype('int8')\n",
    "\n",
    "Y_dict.pop('df',0)\n",
    "\n",
    "print('\\n')\n",
    "    \n",
    "    "
   ]
  },
  {
   "cell_type": "code",
   "execution_count": null,
   "metadata": {
    "ExecuteTime": {
     "end_time": "2023-05-10T04:24:48.907584Z",
     "start_time": "2023-05-10T04:24:48.907584Z"
    }
   },
   "outputs": [],
   "source": [
    "print('|||||||||||||| X dataset ||||||||||||||||')\n",
    "for key in X_dict.keys():\n",
    "    print(f\"{key}.shape: \", X_dict[key].shape)\n",
    "\n",
    "print('\\n|||||||||||||| Y dataset ||||||||||||||||')\n",
    "for key in Y_dict.keys():\n",
    "    print(f\"{key}.shape: \", Y_dict[key].shape)"
   ]
  },
  {
   "cell_type": "markdown",
   "metadata": {},
   "source": [
    "# CNN с 2 входами по времени и амплитуде"
   ]
  },
  {
   "cell_type": "code",
   "execution_count": null,
   "metadata": {
    "ExecuteTime": {
     "end_time": "2023-05-10T04:24:48.907584Z",
     "start_time": "2023-05-10T04:24:48.907584Z"
    }
   },
   "outputs": [],
   "source": [
    "# Загрузка модели\n",
    "model = keras.models.load_model('Networks//CNN//NetWork_(64x32+64x32)_to(1)_(test_0dot0366)_ver_10.h5')"
   ]
  },
  {
   "cell_type": "code",
   "execution_count": null,
   "metadata": {
    "ExecuteTime": {
     "end_time": "2023-05-10T04:24:48.908584Z",
     "start_time": "2023-05-10T04:24:48.908584Z"
    }
   },
   "outputs": [],
   "source": [
    "# Предсказание модели\n",
    "res = model.predict([X_dict['X_time_all'],X_dict['X_amp_all']])\n",
    "print(res.shape)"
   ]
  },
  {
   "cell_type": "code",
   "execution_count": null,
   "metadata": {
    "ExecuteTime": {
     "end_time": "2023-05-10T04:24:48.909585Z",
     "start_time": "2023-05-10T04:24:48.909585Z"
    }
   },
   "outputs": [],
   "source": [
    "# Преобразовать массив результатов работы модели размера (batch,1)\n",
    "# в матрицу размера PREP_df_rows * PREP_df_cols (карту дефектов, построенную моделью)\n",
    "# Размер выходной матрицы - PREP_df_rows * PREP_df_cols\n",
    "# Так как начальное расширение датафрейма на PREP_image_size по 2 осям\n",
    "# тут учитывается грубо, то размер выходной матрицы будет также\n",
    "# PREP_df_rows * PREP_df_cols, а ячейки по конрутру будут размыты \n",
    "# и не точны, так как по ним фильтр прошел меньше раз чем по ячейкам \n",
    "# посреди матрицы\n",
    "\n",
    "def reshape_2D_Y_numpy_to_2D(arr, rows_count, cols_count, crop_size, step = -1):\n",
    "\n",
    "    print('||||||||||||||||||')\n",
    "    print('Y arr reshaping to 2D')\n",
    "    print('Original arr size: ', arr.shape)\n",
    "    print('Crop windows height/width: ', crop_size)\n",
    "    print('Crop windows step across rows and cols: ', step)\n",
    "\n",
    "    if step == -1:\n",
    "        step = crop_size\n",
    "    \n",
    "    new_arr = np.zeros((rows_count, cols_count))\n",
    "    \n",
    "    arr = arr[:,0]\n",
    "    myit = iter(arr)    \n",
    "    \n",
    "    for j in range(0,  cols_count - crop_size + 1, step):\n",
    "        for i in range(0, rows_count - crop_size + 1, step):\n",
    "            temp_add = next(myit)\n",
    "            temp_orig = new_arr[i:i+crop_size,j:j+crop_size]\n",
    "            \n",
    "            if temp_add > 0.5:\n",
    "                temp_orig = temp_orig + 0.1\n",
    "            if temp_add <= 0.5:\n",
    "                temp_orig = temp_orig - 0.1\n",
    "                \n",
    "            '''ones_filter = temp_orig > 1\n",
    "            zeros_filter = temp_orig < 0\n",
    "            \n",
    "            temp_orig[ones_filter] = 1\n",
    "            temp_orig[zeros_filter] = 0'''\n",
    "            \n",
    "            new_arr[i:i+crop_size,j:j+crop_size] = temp_orig       \n",
    "            \n",
    "    print('New numpy shape: ', new_arr.shape)\n",
    "    print('||||||||||||||||||\\n')\n",
    "\n",
    "    return new_arr"
   ]
  },
  {
   "cell_type": "code",
   "execution_count": null,
   "metadata": {
    "ExecuteTime": {
     "end_time": "2023-05-10T04:24:48.910585Z",
     "start_time": "2023-05-10T04:24:48.910585Z"
    }
   },
   "outputs": [],
   "source": [
    "# Преобразовать массив результатов работы модели размера (batch,1)\n",
    "# в матрицу размера ORIG_df_rows * ORIG_df_cols (карту дефектов, построенную моделью)\n",
    "# Размер выходной матрицы - ORIG_df_rows * ORIG_df_cols\n",
    "# Так как начальное расширение датафрейма на PREP_image_size по 2 осям\n",
    "# тут учитывается хорошо, то размер выходной матрицы будет также\n",
    "# ORIG_df_rows * ORIG_df_cols, а ячейки по конрутру не будут так размыты \n",
    "# и не точны, так как по ним фильтр прошел меньше раз чем по ячейкам \n",
    "# посреди матрицы\n",
    "\n",
    "def reshape_2D_Y_numpy_to_2D_2(arr):\n",
    "\n",
    "    print('||||||||||||||||||')\n",
    "    print('Y arr reshaping to 2D')\n",
    "    print('Crops arr size: ', arr.shape)\n",
    "    print('Crop windows height/width: ', PREP_image_size)\n",
    "    print('Crop windows step across rows and cols: ', PREP_crop_step)\n",
    "    print(f'Orig map size: ({ORIG_df_rows},{ORIG_df_cols})')\n",
    "    print(f'Added dims: ({ADDED_df_rows},{ADDED_df_cols})')\n",
    "    print(f'Expanded map size: ({PREP_df_rows},{PREP_df_cols})')\n",
    "    print()\n",
    "    \n",
    "    #ADDED_df_rows\n",
    "    #ADDED_df_cols\n",
    "    \n",
    "    #ORIG_df_rows\n",
    "    #ORIG_df_cols\n",
    "    \n",
    "    #PREP_df_rows\n",
    "    #PREP_df_cols\n",
    "    \n",
    "    #PREP_image_size\n",
    "    #PREP_crop_step\n",
    "\n",
    "    new_arr = np.zeros((ORIG_df_rows, ORIG_df_cols))\n",
    "    \n",
    "    arr = arr[:,0]\n",
    "    myit = iter(arr)    \n",
    "    \n",
    "    for j in range(0,  PREP_df_cols - PREP_image_size + 1, PREP_crop_step):\n",
    "        for i in range(0, PREP_df_rows - PREP_image_size + 1, PREP_crop_step):\n",
    "            temp_add_num = next(myit)\n",
    "            if temp_add_num > 0.5:\n",
    "                add_num = 0.1\n",
    "            if temp_add_num <= 0.5:\n",
    "                add_num = - 0.1\n",
    "\n",
    "            if i <= ORIG_df_rows - PREP_image_size:\n",
    "                if j <= ORIG_df_cols - PREP_image_size:\n",
    "                    temp_orig = new_arr[i:i+PREP_image_size,j:j+PREP_image_size] + add_num\n",
    "                    new_arr[i:i+PREP_image_size,j:j+PREP_image_size] = temp_orig  \n",
    "                elif j <= ORIG_df_cols:\n",
    "                    right_orig = new_arr[i:i+PREP_image_size,j:] + add_num\n",
    "                    left_orig = new_arr[i:i+PREP_image_size,:PREP_image_size - right_orig.shape[1]] + add_num\n",
    "                    new_arr[i:i+PREP_image_size,j:] = right_orig\n",
    "                    new_arr[i:i+PREP_image_size,:PREP_image_size - right_orig.shape[1]] = left_orig\n",
    "\n",
    "            elif i <= ORIG_df_rows:\n",
    "                if j <= ORIG_df_cols - PREP_image_size:\n",
    "                    low_orig = new_arr[i:,j:j+PREP_image_size] + add_num\n",
    "                    high_orig = new_arr[:PREP_image_size - low_orig.shape[0],j:j+PREP_image_size] + add_num\n",
    "                    new_arr[i:,j:j+PREP_image_size] = low_orig \n",
    "                    new_arr[:PREP_image_size - low_orig.shape[0],j:j+PREP_image_size] = high_orig \n",
    "                elif j <= ORIG_df_cols:\n",
    "                    right_low = new_arr[i:,j:] + add_num\n",
    "                    right_high = new_arr[:PREP_image_size - low_orig.shape[0],j:] + add_num\n",
    "                    \n",
    "                    left_low = new_arr[i:,:PREP_image_size - right_high.shape[1]] + add_num\n",
    "                    left_high = new_arr[:PREP_image_size - low_orig.shape[0],:PREP_image_size - right_high.shape[1]] + add_num\n",
    "                    \n",
    "                    new_arr[i:,j:] = right_low\n",
    "                    new_arr[:PREP_image_size - low_orig.shape[0],j:] = right_high\n",
    "                    new_arr[i:,:PREP_image_size - right_high.shape[1]] = left_low\n",
    "                    new_arr[:PREP_image_size - low_orig.shape[0],:PREP_image_size - right_high.shape[1]] = left_high\n",
    "                    \n",
    "\n",
    "        #new_arr[i:i+crop_size,j:j+crop_size] = temp_orig       \n",
    "            \n",
    "    print('New numpy shape: ', new_arr.shape)\n",
    "    print('||||||||||||||||||\\n')\n",
    "\n",
    "    return new_arr"
   ]
  },
  {
   "cell_type": "code",
   "execution_count": null,
   "metadata": {
    "ExecuteTime": {
     "end_time": "2023-05-10T04:24:48.910585Z",
     "start_time": "2023-05-10T04:24:48.910585Z"
    }
   },
   "outputs": [],
   "source": [
    "# Посчитаем карту дефектов на основании предсказаний модели 2 методами\n",
    "map_1 = reshape_2D_Y_numpy_to_2D(res, PREP_df_rows, PREP_df_cols, PREP_image_size, PREP_crop_step)\n",
    "map_2 = reshape_2D_Y_numpy_to_2D_2(res)"
   ]
  },
  {
   "cell_type": "markdown",
   "metadata": {},
   "source": [
    "# Построение карт дефектов моделью"
   ]
  },
  {
   "cell_type": "markdown",
   "metadata": {},
   "source": [
    "## Грубое построение карты"
   ]
  },
  {
   "cell_type": "code",
   "execution_count": null,
   "metadata": {
    "ExecuteTime": {
     "end_time": "2023-05-10T04:24:48.911585Z",
     "start_time": "2023-05-10T04:24:48.911585Z"
    }
   },
   "outputs": [],
   "source": [
    "fig, axes = plt.subplots()\n",
    "\n",
    "fig.set_figwidth(18)\n",
    "fig.set_figheight(6)\n",
    "\n",
    "axes.pcolormesh(map_1)\n",
    "axes.invert_yaxis()\n",
    "axes.set_xlabel('Номер датчика', fontsize=10) \n",
    "axes.set_ylabel('Номер измерения', fontsize=10) \n",
    "axes.set_title(f'Карта дефектов', fontsize=10) \n",
    "\n",
    "#  Устанавливаем интервал основных делений: \n",
    "axes.xaxis.set_major_locator(ticker.MultipleLocator(20)) \n",
    "axes.yaxis.set_major_locator(ticker.MultipleLocator(15)) \n",
    " \n",
    "#  Устанавливаем форматирование чисел основных делений: \n",
    "axes.xaxis.set_major_formatter(ticker.FormatStrFormatter('%.d')) \n",
    "axes.yaxis.set_major_formatter(ticker.FormatStrFormatter('%.d')) \n",
    " \n",
    "#  Устанавливаем форматирование делений: \n",
    "axes.xaxis.set_tick_params(which = 'major', labelsize = 15, labelrotation = 45) \n",
    "axes.yaxis.set_tick_params(which = 'major', labelsize = 15) \n",
    "\n",
    "plt.subplots_adjust(left=0.1, bottom=0.1, right=0.9, top=0.9, wspace=0.1, hspace=0.2)\n",
    "plt.show()"
   ]
  },
  {
   "cell_type": "markdown",
   "metadata": {},
   "source": [
    "## Умное построение карты"
   ]
  },
  {
   "cell_type": "code",
   "execution_count": null,
   "metadata": {
    "ExecuteTime": {
     "end_time": "2023-05-10T04:24:48.912586Z",
     "start_time": "2023-05-10T04:24:48.912586Z"
    }
   },
   "outputs": [],
   "source": [
    "fig, axes = plt.subplots()\n",
    "\n",
    "fig.set_figwidth(18)\n",
    "fig.set_figheight(6)\n",
    "\n",
    "axes.pcolormesh(map_2)\n",
    "axes.invert_yaxis()\n",
    "axes.set_xlabel('Номер датчика', fontsize=10) \n",
    "axes.set_ylabel('Номер измерения', fontsize=10) \n",
    "axes.set_title(f'Карта дефектов', fontsize=10) \n",
    "\n",
    "#  Устанавливаем интервал основных делений: \n",
    "axes.xaxis.set_major_locator(ticker.MultipleLocator(20)) \n",
    "axes.yaxis.set_major_locator(ticker.MultipleLocator(15)) \n",
    " \n",
    "#  Устанавливаем форматирование чисел основных делений: \n",
    "axes.xaxis.set_major_formatter(ticker.FormatStrFormatter('%.d')) \n",
    "axes.yaxis.set_major_formatter(ticker.FormatStrFormatter('%.d')) \n",
    " \n",
    "#  Устанавливаем форматирование делений: \n",
    "axes.xaxis.set_tick_params(which = 'major', labelsize = 15, labelrotation = 45) \n",
    "axes.yaxis.set_tick_params(which = 'major', labelsize = 15) \n",
    "\n",
    "plt.subplots_adjust(left=0.1, bottom=0.1, right=0.9, top=0.9, wspace=0.1, hspace=0.2)\n",
    "plt.show()"
   ]
  },
  {
   "cell_type": "code",
   "execution_count": null,
   "metadata": {},
   "outputs": [],
   "source": []
  }
 ],
 "metadata": {
  "colab": {
   "provenance": []
  },
  "kernelspec": {
   "display_name": "Python 3 (ipykernel)",
   "language": "python",
   "name": "python3"
  },
  "language_info": {
   "codemirror_mode": {
    "name": "ipython",
    "version": 3
   },
   "file_extension": ".py",
   "mimetype": "text/x-python",
   "name": "python",
   "nbconvert_exporter": "python",
   "pygments_lexer": "ipython3",
   "version": "3.10.0"
  }
 },
 "nbformat": 4,
 "nbformat_minor": 1
}
