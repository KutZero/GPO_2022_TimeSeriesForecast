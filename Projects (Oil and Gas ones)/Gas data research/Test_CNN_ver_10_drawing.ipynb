{
 "cells": [
  {
   "cell_type": "markdown",
   "metadata": {},
   "source": [
    "# Рисование карты дефектов с помощью модели ver_10"
   ]
  },
  {
   "cell_type": "code",
   "execution_count": 1,
   "metadata": {
    "ExecuteTime": {
     "end_time": "2023-05-09T15:18:27.004917Z",
     "start_time": "2023-05-09T15:18:24.144588Z"
    },
    "cell_style": "center",
    "id": "p6xN-IEhhbla"
   },
   "outputs": [],
   "source": [
    "# Подключенине библиотек\n",
    "import numpy as np\n",
    "import pandas as pd\n",
    "import matplotlib.pyplot as plt\n",
    "import tensorflow as tf\n",
    "\n",
    "import sys\n",
    "sys.path.append('custom_modules')\n",
    "\n",
    "import Data_processing as dp\n",
    "\n",
    "from IPython.display import display\n",
    "from tensorflow import keras"
   ]
  },
  {
   "cell_type": "markdown",
   "metadata": {
    "id": "wLCfK5LxQbD9"
   },
   "source": [
    "### Константы для путей к файлам"
   ]
  },
  {
   "cell_type": "code",
   "execution_count": 2,
   "metadata": {
    "ExecuteTime": {
     "end_time": "2023-05-09T15:18:27.020994Z",
     "start_time": "2023-05-09T15:18:27.005917Z"
    },
    "id": "bZHiwO4ShhEF"
   },
   "outputs": [],
   "source": [
    "# Пути к обработанным данным\n",
    "# Путь к X части выборки с массивами в каждой ячейке\n",
    "# Run1 - данные обучающей выборки\n",
    "# Run2 - данные тестовой выборки\n",
    "path_to_array_like_X_data = 'data/Prepared data/Run2/X_data_array_like.xlsx'\n",
    "# Путь к Y части выборки\n",
    "path_to_Y_data = 'data/Prepared data/Run2/Y_data(binary_classification).xlsx'\n"
   ]
  },
  {
   "cell_type": "markdown",
   "metadata": {
    "id": "0dxaXom0QbEB"
   },
   "source": [
    "### Константы для обработки данных"
   ]
  },
  {
   "cell_type": "code",
   "execution_count": 3,
   "metadata": {
    "ExecuteTime": {
     "end_time": "2023-05-09T15:18:27.036196Z",
     "start_time": "2023-05-09T15:18:27.021994Z"
    },
    "id": "J-6_JuU5QbEC"
   },
   "outputs": [],
   "source": [
    "# Размер кропа\n",
    "PREP_image_size = 64\n",
    "# Шаг кропа\n",
    "PREP_crop_step = 5"
   ]
  },
  {
   "cell_type": "code",
   "execution_count": 4,
   "metadata": {
    "ExecuteTime": {
     "end_time": "2023-05-09T15:18:27.052013Z",
     "start_time": "2023-05-09T15:18:27.037196Z"
    },
    "cell_style": "center",
    "id": "oicZsiTGQbEE"
   },
   "outputs": [],
   "source": [
    "# Детерминация случайных величин, отвечающих за выбор первоначальных весов и биасов\n",
    "tf.compat.v1.set_random_seed(290)\n",
    "tf.random.set_seed(290)"
   ]
  },
  {
   "cell_type": "markdown",
   "metadata": {
    "id": "M3IDwA8GQbEP"
   },
   "source": [
    "# Загрузка данных"
   ]
  },
  {
   "cell_type": "code",
   "execution_count": 5,
   "metadata": {
    "ExecuteTime": {
     "end_time": "2023-05-09T15:18:30.108457Z",
     "start_time": "2023-05-09T15:18:27.053013Z"
    },
    "id": "opRWBSZpQbEP"
   },
   "outputs": [],
   "source": [
    "# загрузка данных из файлов\n",
    "X_dict = dict()\n",
    "Y_dict = dict()\n",
    "\n",
    "X_dict['df'] =  dp.get_array_like_X_df(path_to_array_like_X_data)\n",
    "Y_dict['df'] =  dp.get_Y_df(path_to_Y_data)\n",
    "\n",
    "# По желанию сдвиг по оси у\n",
    "#shift = 100\n",
    "\n",
    "#X_dict['df'] = pd.concat([X_dict['df'].iloc[:,shift:],X_dict['df'].iloc[:,:shift]],axis=1,ignore_index=True)\n",
    "#Y_dict['df'] = pd.concat([Y_dict['df'].iloc[:,shift:],Y_dict['df'].iloc[:,:shift]],axis=1,ignore_index=True)"
   ]
  },
  {
   "cell_type": "code",
   "execution_count": 6,
   "metadata": {
    "ExecuteTime": {
     "end_time": "2023-05-09T15:18:30.124467Z",
     "start_time": "2023-05-09T15:18:30.109457Z"
    }
   },
   "outputs": [],
   "source": [
    "# Для последующей обработки сохраним\n",
    "# начальные размеры считанных\n",
    "# датафреймов\n",
    "ORIG_df_cols = Y_dict['df'].shape[1]\n",
    "ORIG_df_rows = Y_dict['df'].shape[0]"
   ]
  },
  {
   "cell_type": "code",
   "execution_count": 7,
   "metadata": {
    "ExecuteTime": {
     "end_time": "2023-05-09T15:18:30.250644Z",
     "start_time": "2023-05-09T15:18:30.125467Z"
    }
   },
   "outputs": [
    {
     "data": {
      "image/png": "[encoded data removed]",
      "text/plain": [
       "<Figure size 1296x432 with 1 Axes>"
      ]
     },
     "metadata": {
      "needs_background": "light"
     },
     "output_type": "display_data"
    }
   ],
   "source": [
    "# Построить карту дефектов для считанного файла\n",
    "# до всяких обработок\n",
    "fig, axes = plt.subplots()\n",
    "\n",
    "fig.set_figwidth(18)\n",
    "fig.set_figheight(6)\n",
    "\n",
    "axes.pcolormesh(Y_dict['df'])\n",
    "axes.invert_yaxis()\n",
    "\n",
    "axes.set_xlabel('Номер датчика', fontsize=15) \n",
    "axes.set_ylabel('Номер измерения', fontsize=15) \n",
    "axes.set_title(f'Карта дефектов', fontsize=15) \n",
    "     \n",
    "plt.show()"
   ]
  },
  {
   "cell_type": "markdown",
   "metadata": {},
   "source": [
    "# Обработка данных"
   ]
  },
  {
   "cell_type": "code",
   "execution_count": 8,
   "metadata": {
    "ExecuteTime": {
     "end_time": "2023-05-09T15:18:30.265979Z",
     "start_time": "2023-05-09T15:18:30.251645Z"
    },
    "colab": {
     "base_uri": "https://localhost:8080/"
    },
    "id": "JpYrdVggQbER",
    "outputId": "3a3019d2-f190-46c8-a928-f5b9089ffc64"
   },
   "outputs": [
    {
     "name": "stdout",
     "output_type": "stream",
     "text": [
      "||||||||||| X df preprocessing |||||||||||\n",
      "Original df size:  (119, 400)\n",
      "Result df size:  (183, 464)\n",
      "||||||||||||||||||\n",
      "Df reshaping for exact splitting with crop_size\n",
      "Original df size:  (183, 464)\n",
      "Crop windows height/width:  64\n",
      "Crop windows step across rows and cols:  5\n",
      "New df shape:  (184, 464)\n",
      "||||||||||||||||||\n",
      "\n",
      "||||||||||| Y df preprocessing |||||||||||\n",
      "Original df size:  (119, 400)\n",
      "Original df size:  (183, 464)\n",
      "||||||||||||||||||\n",
      "Df reshaping for exact splitting with crop_size\n",
      "Original df size:  (183, 464)\n",
      "Crop windows height/width:  64\n",
      "Crop windows step across rows and cols:  5\n",
      "New df shape:  (184, 464)\n",
      "||||||||||||||||||\n",
      "\n",
      "\n",
      "\n"
     ]
    }
   ],
   "source": [
    "# Добавление строк в датафреймы\n",
    "# Справа к каждому датафрейму дописывается по 64\n",
    "# элемента, чтобы сымитировать сканирование \n",
    "# трубы по всей окружности фильтром размера 64 на 64\n",
    "# а еще дописывается некоторое количество строк и столбцов\n",
    "# меньшее чем шаг кропа. Чтобы датафрейм можно было поделить\n",
    "# на целое кол-во кропов\n",
    "print('||||||||||| X df preprocessing |||||||||||')\n",
    "print('Original df size: ', X_dict['df'] .shape)\n",
    "X_dict['df'] = pd.concat([X_dict['df'],X_dict['df'].iloc[:,:PREP_image_size]],axis=1,ignore_index=True)\n",
    "X_dict['df'] = pd.concat([X_dict['df'],X_dict['df'].iloc[:PREP_image_size,:]],axis=0,ignore_index=True)\n",
    "ADDED_df_rows = X_dict['df'].shape[0]\n",
    "ADDED_df_cols = X_dict['df'].shape[1]\n",
    "print('Result df size: ', X_dict['df'].shape)\n",
    "X_dict['df'] = dp.reshape_df_for_future_crops(X_dict['df'], \n",
    "                                                        PREP_image_size, \n",
    "                                                        PREP_crop_step)\n",
    "ADDED_df_rows = X_dict['df'].shape[0] - ADDED_df_rows\n",
    "ADDED_df_cols = X_dict['df'].shape[1] - ADDED_df_cols\n",
    "\n",
    "\n",
    "print('||||||||||| Y df preprocessing |||||||||||')\n",
    "print('Original df size: ', Y_dict['df'].shape)\n",
    "Y_dict['df'] = pd.concat([Y_dict['df'],Y_dict['df'].iloc[:,:PREP_image_size]],axis=1,ignore_index=True)\n",
    "Y_dict['df'] = pd.concat([Y_dict['df'],Y_dict['df'].iloc[:PREP_image_size,:]],axis=0,ignore_index=True)\n",
    "print('Original df size: ', Y_dict['df'].shape)\n",
    "Y_dict['df'] = dp.reshape_df_for_future_crops(Y_dict['df'], \n",
    "                                                        PREP_image_size, \n",
    "                                                        PREP_crop_step)\n",
    "\n",
    "print('\\n')"
   ]
  },
  {
   "cell_type": "markdown",
   "metadata": {},
   "source": [
    "### Константы для обработки данных"
   ]
  },
  {
   "cell_type": "code",
   "execution_count": 9,
   "metadata": {
    "ExecuteTime": {
     "end_time": "2023-05-09T15:18:30.281626Z",
     "start_time": "2023-05-09T15:18:30.266981Z"
    }
   },
   "outputs": [],
   "source": [
    "# Запишем размеры датафреймов после обработки\n",
    "PREP_df_cols = Y_dict['df'].shape[1]\n",
    "PREP_df_rows = Y_dict['df'].shape[0]"
   ]
  },
  {
   "cell_type": "code",
   "execution_count": 10,
   "metadata": {
    "ExecuteTime": {
     "end_time": "2023-05-09T15:18:30.392655Z",
     "start_time": "2023-05-09T15:18:30.282627Z"
    }
   },
   "outputs": [
    {
     "data": {
      "image/png": "[encoded data removed]",
      "text/plain": [
       "<Figure size 1296x432 with 1 Axes>"
      ]
     },
     "metadata": {
      "needs_background": "light"
     },
     "output_type": "display_data"
    }
   ],
   "source": [
    "# Выведем карту дефектов после первичного расширения\n",
    "fig, axes = plt.subplots()\n",
    "\n",
    "fig.set_figwidth(18)\n",
    "fig.set_figheight(6)\n",
    "\n",
    "axes.pcolormesh(Y_dict['df'])\n",
    "axes.invert_yaxis()\n",
    "axes.set_xlabel('Номер датчика', fontsize=15) \n",
    "axes.set_ylabel('Номер измерения', fontsize=15) \n",
    "axes.set_title(f'Карта дефектов', fontsize=15) \n",
    "     \n",
    "plt.show()"
   ]
  },
  {
   "cell_type": "code",
   "execution_count": 11,
   "metadata": {
    "ExecuteTime": {
     "end_time": "2023-05-09T15:18:38.902493Z",
     "start_time": "2023-05-09T15:18:30.393655Z"
    },
    "colab": {
     "base_uri": "https://localhost:8080/"
    },
    "id": "fJMMLFK0QbES",
    "outputId": "564394aa-ab18-4de9-d21c-7482739bfe19"
   },
   "outputs": [
    {
     "name": "stdout",
     "output_type": "stream",
     "text": [
      "||||||||||| X df preprocessing |||||||||||\n",
      "||||||||||||||||||\n",
      "X df reshaping to 4D\n",
      "Original df size:  (184, 464)\n",
      "Crop windows height/width:  64\n",
      "Crop windows step across rows and cols:  5\n",
      "New X_time shape:  (2025, 64, 64, 32)\n",
      "New X_amp shape:  (2025, 64, 64, 32)\n",
      "||||||||||||||||||\n",
      "\n",
      "||||||||||| Y df preprocessing |||||||||||\n",
      "||||||||||||||||||\n",
      "Y df reshaping to 3D\n",
      "Original df size:  (184, 464)\n",
      "Crop windows height/width:  64\n",
      "Crop windows step across rows and cols:  5\n",
      "New numpy shape:  (2025, 64, 64, 1)\n",
      "||||||||||||||||||\n",
      "\n",
      "\n",
      "\n"
     ]
    }
   ],
   "source": [
    "# Запишем в словарь numpy array нарезанные из считанных датафреймов\n",
    "\n",
    "print('||||||||||| X df preprocessing |||||||||||')\n",
    "x_time_temp, \\\n",
    "x_amp_temp = dp.reshape_X_df_to_image_like_numpy(X_dict['df'], \n",
    "                                                    PREP_image_size, \n",
    "                                                    PREP_crop_step)\n",
    "X_dict['X_time_all'] = x_time_temp.astype('float32')\n",
    "X_dict['X_amp_all'] = x_amp_temp.astype('float32')\n",
    "\n",
    "X_dict.pop('df',0)\n",
    "\n",
    "print('||||||||||| Y df preprocessing |||||||||||')\n",
    "y_temp = dp.reshape_Y_df_to_image_like_numpy(Y_dict['df'], \n",
    "                                             PREP_image_size, \n",
    "                                             PREP_crop_step)\n",
    "Y_dict['Y_mask_all'] = y_temp.astype('int8')\n",
    "\n",
    "Y_dict.pop('df',0)\n",
    "\n",
    "print('\\n')\n",
    "    \n",
    "    "
   ]
  },
  {
   "cell_type": "code",
   "execution_count": 12,
   "metadata": {
    "ExecuteTime": {
     "end_time": "2023-05-09T15:18:38.917925Z",
     "start_time": "2023-05-09T15:18:38.903494Z"
    }
   },
   "outputs": [
    {
     "name": "stdout",
     "output_type": "stream",
     "text": [
      "|||||||||||||| X dataset ||||||||||||||||\n",
      "X_time_all.shape:  (2025, 64, 64, 32)\n",
      "X_amp_all.shape:  (2025, 64, 64, 32)\n",
      "\n",
      "|||||||||||||| Y dataset ||||||||||||||||\n",
      "Y_mask_all.shape:  (2025, 64, 64, 1)\n"
     ]
    }
   ],
   "source": [
    "print('|||||||||||||| X dataset ||||||||||||||||')\n",
    "for key in X_dict.keys():\n",
    "    print(f\"{key}.shape: \", X_dict[key].shape)\n",
    "\n",
    "print('\\n|||||||||||||| Y dataset ||||||||||||||||')\n",
    "for key in Y_dict.keys():\n",
    "    print(f\"{key}.shape: \", Y_dict[key].shape)"
   ]
  },
  {
   "cell_type": "markdown",
   "metadata": {},
   "source": [
    "# CNN с 2 входами по времени и амплитуде"
   ]
  },
  {
   "cell_type": "code",
   "execution_count": 13,
   "metadata": {
    "ExecuteTime": {
     "end_time": "2023-05-09T15:18:39.780613Z",
     "start_time": "2023-05-09T15:18:38.918925Z"
    }
   },
   "outputs": [],
   "source": [
    "# Загрузка модели\n",
    "model = keras.models.load_model('Networks//CNN//NetWork_(64x32+64x32)_to(1)_(test_0dot0366)_ver_10.h5')"
   ]
  },
  {
   "cell_type": "code",
   "execution_count": 14,
   "metadata": {
    "ExecuteTime": {
     "end_time": "2023-05-09T15:19:15.570952Z",
     "start_time": "2023-05-09T15:18:39.781613Z"
    }
   },
   "outputs": [
    {
     "name": "stdout",
     "output_type": "stream",
     "text": [
      "64/64 [==============================] - 36s 552ms/step\n",
      "(2025, 1)\n"
     ]
    }
   ],
   "source": [
    "# Предсказание модели\n",
    "res = model.predict([X_dict['X_time_all'],X_dict['X_amp_all']])\n",
    "print(res.shape)"
   ]
  },
  {
   "cell_type": "code",
   "execution_count": 15,
   "metadata": {
    "ExecuteTime": {
     "end_time": "2023-05-09T15:19:15.586955Z",
     "start_time": "2023-05-09T15:19:15.571952Z"
    }
   },
   "outputs": [],
   "source": [
    "# Преобразовать массив результатов работы модели размера (batch,1)\n",
    "# в матрицу размера PREP_df_rows * PREP_df_cols (карту дефектов, построенную моделью)\n",
    "# Размер выходной матрицы - PREP_df_rows * PREP_df_cols\n",
    "# Так как начальное расширение датафрейма на PREP_image_size по 2 осям\n",
    "# тут учитывается грубо, то размер выходной матрицы будет также\n",
    "# PREP_df_rows * PREP_df_cols, а ячейки по конрутру будут размыты \n",
    "# и не точны, так как по ним фильтр прошел меньше раз чем по ячейкам \n",
    "# посреди матрицы\n",
    "\n",
    "def reshape_2D_Y_numpy_to_2D(arr, rows_count, cols_count, crop_size, step = -1):\n",
    "\n",
    "    print('||||||||||||||||||')\n",
    "    print('Y arr reshaping to 2D')\n",
    "    print('Original arr size: ', arr.shape)\n",
    "    print('Crop windows height/width: ', crop_size)\n",
    "    print('Crop windows step across rows and cols: ', step)\n",
    "\n",
    "    if step == -1:\n",
    "        step = crop_size\n",
    "    \n",
    "    new_arr = np.zeros((rows_count, cols_count))\n",
    "    \n",
    "    arr = arr[:,0]\n",
    "    myit = iter(arr)    \n",
    "    \n",
    "    for j in range(0,  cols_count - crop_size + 1, step):\n",
    "        for i in range(0, rows_count - crop_size + 1, step):\n",
    "            temp_add = next(myit)\n",
    "            temp_orig = new_arr[i:i+crop_size,j:j+crop_size]\n",
    "            \n",
    "            if temp_add > 0.5:\n",
    "                temp_orig = temp_orig + 0.1\n",
    "            if temp_add <= 0.5:\n",
    "                temp_orig = temp_orig - 0.1\n",
    "                \n",
    "            '''ones_filter = temp_orig > 1\n",
    "            zeros_filter = temp_orig < 0\n",
    "            \n",
    "            temp_orig[ones_filter] = 1\n",
    "            temp_orig[zeros_filter] = 0'''\n",
    "            \n",
    "            new_arr[i:i+crop_size,j:j+crop_size] = temp_orig       \n",
    "            \n",
    "    print('New numpy shape: ', new_arr.shape)\n",
    "    print('||||||||||||||||||\\n')\n",
    "\n",
    "    return new_arr"
   ]
  },
  {
   "cell_type": "code",
   "execution_count": 16,
   "metadata": {
    "ExecuteTime": {
     "end_time": "2023-05-09T15:19:15.634966Z",
     "start_time": "2023-05-09T15:19:15.587956Z"
    }
   },
   "outputs": [],
   "source": [
    "# Преобразовать массив результатов работы модели размера (batch,1)\n",
    "# в матрицу размера ORIG_df_rows * ORIG_df_cols (карту дефектов, построенную моделью)\n",
    "# Размер выходной матрицы - ORIG_df_rows * ORIG_df_cols\n",
    "# Так как начальное расширение датафрейма на PREP_image_size по 2 осям\n",
    "# тут учитывается хорошо, то размер выходной матрицы будет также\n",
    "# ORIG_df_rows * ORIG_df_cols, а ячейки по конрутру не будут так размыты \n",
    "# и не точны, так как по ним фильтр прошел меньше раз чем по ячейкам \n",
    "# посреди матрицы\n",
    "\n",
    "def reshape_2D_Y_numpy_to_2D_2(arr):\n",
    "\n",
    "    print('||||||||||||||||||')\n",
    "    print('Y arr reshaping to 2D')\n",
    "    print('Crops arr size: ', arr.shape)\n",
    "    print('Crop windows height/width: ', PREP_image_size)\n",
    "    print('Crop windows step across rows and cols: ', PREP_crop_step)\n",
    "    print(f'Orig map size: ({ORIG_df_rows},{ORIG_df_cols})')\n",
    "    print(f'Added dims: ({ADDED_df_rows},{ADDED_df_cols})')\n",
    "    print(f'Expanded map size: ({PREP_df_rows},{PREP_df_cols})')\n",
    "    print()\n",
    "    \n",
    "    #ADDED_df_rows\n",
    "    #ADDED_df_cols\n",
    "    \n",
    "    #ORIG_df_rows\n",
    "    #ORIG_df_cols\n",
    "    \n",
    "    #PREP_df_rows\n",
    "    #PREP_df_cols\n",
    "    \n",
    "    #PREP_image_size\n",
    "    #PREP_crop_step\n",
    "\n",
    "    new_arr = np.zeros((ORIG_df_rows, ORIG_df_cols))\n",
    "    \n",
    "    arr = arr[:,0]\n",
    "    myit = iter(arr)    \n",
    "    \n",
    "    for j in range(0,  PREP_df_cols - PREP_image_size + 1, PREP_crop_step):\n",
    "        for i in range(0, PREP_df_rows - PREP_image_size + 1, PREP_crop_step):\n",
    "            temp_add_num = next(myit)\n",
    "            if temp_add_num > 0.5:\n",
    "                add_num = 0.1\n",
    "            if temp_add_num <= 0.5:\n",
    "                add_num = - 0.1\n",
    "\n",
    "            if i <= ORIG_df_rows - PREP_image_size:\n",
    "                if j <= ORIG_df_cols - PREP_image_size:\n",
    "                    temp_orig = new_arr[i:i+PREP_image_size,j:j+PREP_image_size] + add_num\n",
    "                    new_arr[i:i+PREP_image_size,j:j+PREP_image_size] = temp_orig  \n",
    "                elif j <= ORIG_df_cols:\n",
    "                    right_orig = new_arr[i:i+PREP_image_size,j:] + add_num\n",
    "                    left_orig = new_arr[i:i+PREP_image_size,:PREP_image_size - right_orig.shape[1]] + add_num\n",
    "                    new_arr[i:i+PREP_image_size,j:] = right_orig\n",
    "                    new_arr[i:i+PREP_image_size,:PREP_image_size - right_orig.shape[1]] = left_orig\n",
    "\n",
    "            elif i <= ORIG_df_rows:\n",
    "                if j <= ORIG_df_cols - PREP_image_size:\n",
    "                    low_orig = new_arr[i:,j:j+PREP_image_size] + add_num\n",
    "                    high_orig = new_arr[:PREP_image_size - low_orig.shape[0],j:j+PREP_image_size] + add_num\n",
    "                    new_arr[i:,j:j+PREP_image_size] = low_orig \n",
    "                    new_arr[:PREP_image_size - low_orig.shape[0],j:j+PREP_image_size] = high_orig \n",
    "                elif j <= ORIG_df_cols:\n",
    "                    right_low = new_arr[i:,j:] + add_num\n",
    "                    right_high = new_arr[:PREP_image_size - low_orig.shape[0],j:] + add_num\n",
    "                    \n",
    "                    left_low = new_arr[i:,:PREP_image_size - right_high.shape[1]] + add_num\n",
    "                    left_high = new_arr[:PREP_image_size - low_orig.shape[0],:PREP_image_size - right_high.shape[1]] + add_num\n",
    "                    \n",
    "                    new_arr[i:,j:] = right_low\n",
    "                    new_arr[:PREP_image_size - low_orig.shape[0],j:] = right_high\n",
    "                    new_arr[i:,:PREP_image_size - right_high.shape[1]] = left_low\n",
    "                    new_arr[:PREP_image_size - low_orig.shape[0],:PREP_image_size - right_high.shape[1]] = left_high\n",
    "                    \n",
    "\n",
    "        #new_arr[i:i+crop_size,j:j+crop_size] = temp_orig       \n",
    "            \n",
    "    print('New numpy shape: ', new_arr.shape)\n",
    "    print('||||||||||||||||||\\n')\n",
    "\n",
    "    return new_arr"
   ]
  },
  {
   "cell_type": "code",
   "execution_count": 17,
   "metadata": {
    "ExecuteTime": {
     "end_time": "2023-05-09T15:19:15.713984Z",
     "start_time": "2023-05-09T15:19:15.635967Z"
    }
   },
   "outputs": [
    {
     "name": "stdout",
     "output_type": "stream",
     "text": [
      "||||||||||||||||||\n",
      "Y arr reshaping to 2D\n",
      "Original arr size:  (2025, 1)\n",
      "Crop windows height/width:  64\n",
      "Crop windows step across rows and cols:  5\n",
      "New numpy shape:  (184, 464)\n",
      "||||||||||||||||||\n",
      "\n",
      "||||||||||||||||||\n",
      "Y arr reshaping to 2D\n",
      "Crops arr size:  (2025, 1)\n",
      "Crop windows height/width:  64\n",
      "Crop windows step across rows and cols:  5\n",
      "Orig map size: (119,400)\n",
      "Added dims: (1,0)\n",
      "Expanded map size: (184,464)\n",
      "\n",
      "New numpy shape:  (119, 400)\n",
      "||||||||||||||||||\n",
      "\n"
     ]
    }
   ],
   "source": [
    "# Посчитаем карту дефектов на основании предсказаний модели 2 методами\n",
    "map_1 = reshape_2D_Y_numpy_to_2D(res, PREP_df_rows, PREP_df_cols, PREP_image_size, PREP_crop_step)\n",
    "map_2 = reshape_2D_Y_numpy_to_2D_2(res)"
   ]
  },
  {
   "cell_type": "markdown",
   "metadata": {},
   "source": [
    "# Построение карт дефектов моделью"
   ]
  },
  {
   "cell_type": "markdown",
   "metadata": {},
   "source": [
    "## Грубое построение карты"
   ]
  },
  {
   "cell_type": "code",
   "execution_count": 18,
   "metadata": {
    "ExecuteTime": {
     "end_time": "2023-05-09T15:19:15.841013Z",
     "start_time": "2023-05-09T15:19:15.714984Z"
    }
   },
   "outputs": [
    {
     "data": {
      "image/png": "[encoded data removed]",
      "text/plain": [
       "<Figure size 1296x432 with 1 Axes>"
      ]
     },
     "metadata": {
      "needs_background": "light"
     },
     "output_type": "display_data"
    }
   ],
   "source": [
    "fig, axes = plt.subplots()\n",
    "\n",
    "fig.set_figwidth(18)\n",
    "fig.set_figheight(6)\n",
    "\n",
    "axes.pcolormesh(map_1)\n",
    "axes.invert_yaxis()\n",
    "axes.set_xlabel('Номер датчика', fontsize=10) \n",
    "axes.set_ylabel('Номер измерения', fontsize=10) \n",
    "axes.set_title(f'Карта дефектов', fontsize=10) \n",
    "     \n",
    "plt.subplots_adjust(left=0.1, bottom=0.1, right=0.9, top=0.9, wspace=0.1, hspace=0.2)\n",
    "plt.show()"
   ]
  },
  {
   "cell_type": "markdown",
   "metadata": {},
   "source": [
    "## Умное построение карты"
   ]
  },
  {
   "cell_type": "code",
   "execution_count": 19,
   "metadata": {
    "ExecuteTime": {
     "end_time": "2023-05-09T15:19:15.937034Z",
     "start_time": "2023-05-09T15:19:15.842013Z"
    }
   },
   "outputs": [
    {
     "data": {
      "image/png": "[encoded data removed]",
      "text/plain": [
       "<Figure size 1296x432 with 1 Axes>"
      ]
     },
     "metadata": {
      "needs_background": "light"
     },
     "output_type": "display_data"
    }
   ],
   "source": [
    "fig, axes = plt.subplots()\n",
    "\n",
    "fig.set_figwidth(18)\n",
    "fig.set_figheight(6)\n",
    "\n",
    "axes.pcolormesh(map_2)\n",
    "axes.invert_yaxis()\n",
    "axes.set_xlabel('Номер датчика', fontsize=10) \n",
    "axes.set_ylabel('Номер измерения', fontsize=10) \n",
    "axes.set_title(f'Карта дефектов', fontsize=10) \n",
    "     \n",
    "plt.subplots_adjust(left=0.1, bottom=0.1, right=0.9, top=0.9, wspace=0.1, hspace=0.2)\n",
    "plt.show()"
   ]
  },
  {
   "cell_type": "code",
   "execution_count": null,
   "metadata": {},
   "outputs": [],
   "source": []
  }
 ],
 "metadata": {
  "colab": {
   "provenance": []
  },
  "kernelspec": {
   "display_name": "Python 3 (ipykernel)",
   "language": "python",
   "name": "python3"
  },
  "language_info": {
   "codemirror_mode": {
    "name": "ipython",
    "version": 3
   },
   "file_extension": ".py",
   "mimetype": "text/x-python",
   "name": "python",
   "nbconvert_exporter": "python",
   "pygments_lexer": "ipython3",
   "version": "3.10.0"
  }
 },
 "nbformat": 4,
 "nbformat_minor": 1
}
