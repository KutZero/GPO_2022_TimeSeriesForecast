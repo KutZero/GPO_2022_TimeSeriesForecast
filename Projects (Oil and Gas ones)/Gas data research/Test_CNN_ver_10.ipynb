{
 "cells": [
  {
   "cell_type": "code",
   "execution_count": 1,
   "metadata": {
    "ExecuteTime": {
     "end_time": "2023-05-10T04:12:48.360329Z",
     "start_time": "2023-05-10T04:12:45.520093Z"
    },
    "cell_style": "center",
    "id": "p6xN-IEhhbla"
   },
   "outputs": [],
   "source": [
    "import os\n",
    "import numpy as np\n",
    "import pandas as pd\n",
    "import matplotlib.pyplot as plt\n",
    "import tensorflow as tf\n",
    "\n",
    "import sys\n",
    "sys.path.append('custom_modules')\n",
    "\n",
    "import Data_processing as dp\n",
    "\n",
    "from IPython.display import display\n",
    "from matplotlib import ticker\n",
    "from pathlib import Path\n",
    "from tensorflow import keras\n",
    "from tensorflow.keras import backend as K\n",
    "from tensorflow.keras.utils import plot_model\n",
    "from tensorflow.keras.layers import Reshape, Input, Dense, Flatten, Conv2D, Dropout, Conv2DTranspose\n",
    "from tensorflow.keras.layers import MaxPooling2D, UpSampling2D, concatenate, BatchNormalization"
   ]
  },
  {
   "cell_type": "markdown",
   "metadata": {
    "id": "wLCfK5LxQbD9"
   },
   "source": [
    "### Константы для путей к файлам"
   ]
  },
  {
   "cell_type": "code",
   "execution_count": 2,
   "metadata": {
    "ExecuteTime": {
     "end_time": "2023-05-10T04:12:48.375997Z",
     "start_time": "2023-05-10T04:12:48.361338Z"
    },
    "id": "bZHiwO4ShhEF"
   },
   "outputs": [],
   "source": [
    "# Пути к обработанным данным\n",
    "# Пути к X части выборки с массивами в каждой ячейке\n",
    "path_to_array_like_X_data = 'data/Prepared data/Run1/X_data_array_like.xlsx'\n",
    "# Пути к Y части выборки\n",
    "path_to_Y_data = 'data/Prepared data/Run1/Y_data(binary_classification).xlsx'\n"
   ]
  },
  {
   "cell_type": "markdown",
   "metadata": {
    "id": "0dxaXom0QbEB"
   },
   "source": [
    "### Константы для обработки данных"
   ]
  },
  {
   "cell_type": "code",
   "execution_count": 3,
   "metadata": {
    "ExecuteTime": {
     "end_time": "2023-05-10T04:12:48.391307Z",
     "start_time": "2023-05-10T04:12:48.376998Z"
    },
    "id": "J-6_JuU5QbEC"
   },
   "outputs": [],
   "source": [
    "PREP_image_size = 64\n",
    "PREP_crop_step = 6"
   ]
  },
  {
   "cell_type": "code",
   "execution_count": 4,
   "metadata": {
    "ExecuteTime": {
     "end_time": "2023-05-10T04:12:48.407330Z",
     "start_time": "2023-05-10T04:12:48.392308Z"
    },
    "cell_style": "center",
    "id": "oicZsiTGQbEE"
   },
   "outputs": [],
   "source": [
    "# детерминация случайных величин, отвечающих за выбор первоначальных весов и биасов\n",
    "tf.compat.v1.set_random_seed(290)\n",
    "tf.random.set_seed(290)"
   ]
  },
  {
   "cell_type": "markdown",
   "metadata": {
    "id": "M3IDwA8GQbEP"
   },
   "source": [
    "# Подготовка данных"
   ]
  },
  {
   "cell_type": "code",
   "execution_count": 5,
   "metadata": {
    "ExecuteTime": {
     "end_time": "2023-05-10T04:12:51.345104Z",
     "start_time": "2023-05-10T04:12:48.408331Z"
    },
    "id": "opRWBSZpQbEP"
   },
   "outputs": [],
   "source": [
    "# загрузка данных из файлов\n",
    "X_dict = dict()\n",
    "Y_dict = dict()\n",
    "\n",
    "X_dict['df'] =  dp.get_array_like_X_df(path_to_array_like_X_data)\n",
    "Y_dict['df'] =  dp.get_Y_df(path_to_Y_data)\n",
    "\n",
    "#X_dict['df'] = pd.concat([X_dict['df'].iloc[:,200:],X_dict['df'].iloc[:,:200]],axis=1,ignore_index=True)\n",
    "#Y_dict['df'] = pd.concat([Y_dict['df'].iloc[:,200:],Y_dict['df'].iloc[:,:200]],axis=1,ignore_index=True)"
   ]
  },
  {
   "cell_type": "code",
   "execution_count": 6,
   "metadata": {
    "ExecuteTime": {
     "end_time": "2023-05-10T04:12:51.486739Z",
     "start_time": "2023-05-10T04:12:51.346113Z"
    }
   },
   "outputs": [
    {
     "data": {
      "image/png": "[encoded data removed]",
      "text/plain": [
       "<Figure size 1296x432 with 1 Axes>"
      ]
     },
     "metadata": {
      "needs_background": "light"
     },
     "output_type": "display_data"
    }
   ],
   "source": [
    "# карта дефектов для считанного файла\n",
    "fig, axes = plt.subplots()\n",
    "\n",
    "fig.set_figwidth(18)\n",
    "fig.set_figheight(6)\n",
    "\n",
    "axes.pcolormesh(Y_dict['df'])\n",
    "axes.invert_yaxis()\n",
    "\n",
    "axes.set_xlabel('Номер датчика', fontsize=15) \n",
    "axes.set_ylabel('Номер измерения', fontsize=15) \n",
    "axes.set_title(f'Карта дефектов', fontsize=15) \n",
    "\n",
    "#  Устанавливаем интервал основных делений: \n",
    "axes.xaxis.set_major_locator(ticker.MultipleLocator(20)) \n",
    "axes.yaxis.set_major_locator(ticker.MultipleLocator(15)) \n",
    " \n",
    "#  Устанавливаем форматирование чисел основных делений: \n",
    "axes.xaxis.set_major_formatter(ticker.FormatStrFormatter('%.d')) \n",
    "axes.yaxis.set_major_formatter(ticker.FormatStrFormatter('%.d'))\n",
    "\n",
    "#  Устанавливаем форматирование делений: \n",
    "axes.xaxis.set_tick_params(which = 'major', labelsize = 15, labelrotation = 45) \n",
    "axes.yaxis.set_tick_params(which = 'major', labelsize = 15) \n",
    "\n",
    "plt.subplots_adjust(left=0.1, bottom=0.1, right=0.9, top=0.9, wspace=0.1, hspace=0.2)\n",
    "plt.show()"
   ]
  },
  {
   "cell_type": "code",
   "execution_count": 7,
   "metadata": {
    "ExecuteTime": {
     "end_time": "2023-05-10T04:12:51.501471Z",
     "start_time": "2023-05-10T04:12:51.487739Z"
    },
    "colab": {
     "base_uri": "https://localhost:8080/"
    },
    "id": "JpYrdVggQbER",
    "outputId": "3a3019d2-f190-46c8-a928-f5b9089ffc64"
   },
   "outputs": [
    {
     "name": "stdout",
     "output_type": "stream",
     "text": [
      "||||||||||| X df preprocessing |||||||||||\n",
      "Original df size:  (115, 400)\n",
      "Result df size:  (179, 464)\n",
      "||||||||||||||||||\n",
      "Df reshaping for exact splitting with crop_size\n",
      "Original df size:  (179, 464)\n",
      "Crop windows height/width:  64\n",
      "Crop windows step across rows and cols:  6\n",
      "New df shape:  (184, 466)\n",
      "||||||||||||||||||\n",
      "\n",
      "||||||||||| Y df preprocessing |||||||||||\n",
      "Original df size:  (115, 400)\n",
      "Original df size:  (179, 464)\n",
      "||||||||||||||||||\n",
      "Df reshaping for exact splitting with crop_size\n",
      "Original df size:  (179, 464)\n",
      "Crop windows height/width:  64\n",
      "Crop windows step across rows and cols:  6\n",
      "New df shape:  (184, 466)\n",
      "||||||||||||||||||\n",
      "\n",
      "\n",
      "\n"
     ]
    }
   ],
   "source": [
    "# добавление строк в датафреймы\n",
    "print('||||||||||| X df preprocessing |||||||||||')\n",
    "print('Original df size: ', X_dict['df'] .shape)\n",
    "X_dict['df'] = pd.concat([X_dict['df'],X_dict['df'].iloc[:,:64]],axis=1,ignore_index=True)\n",
    "X_dict['df'] = pd.concat([X_dict['df'],X_dict['df'].iloc[:64,:]],axis=0,ignore_index=True)\n",
    "print('Result df size: ', X_dict['df'] .shape)\n",
    "X_dict['df'] = dp.reshape_df_for_future_crops(X_dict['df'], \n",
    "                                                        PREP_image_size, \n",
    "                                                        PREP_crop_step)\n",
    "\n",
    "print('||||||||||| Y df preprocessing |||||||||||')\n",
    "print('Original df size: ', Y_dict['df'].shape)\n",
    "Y_dict['df'] = pd.concat([Y_dict['df'],Y_dict['df'].iloc[:,:64]],axis=1,ignore_index=True)\n",
    "Y_dict['df'] = pd.concat([Y_dict['df'],Y_dict['df'].iloc[:64,:]],axis=0,ignore_index=True)\n",
    "print('Original df size: ', Y_dict['df'].shape)\n",
    "Y_dict['df'] = dp.reshape_df_for_future_crops(Y_dict['df'], \n",
    "                                                        PREP_image_size, \n",
    "                                                        PREP_crop_step)\n",
    "\n",
    "print('\\n')"
   ]
  },
  {
   "cell_type": "markdown",
   "metadata": {},
   "source": [
    "### Константы для обработки данных"
   ]
  },
  {
   "cell_type": "code",
   "execution_count": 8,
   "metadata": {
    "ExecuteTime": {
     "end_time": "2023-05-10T04:12:51.517384Z",
     "start_time": "2023-05-10T04:12:51.502471Z"
    }
   },
   "outputs": [],
   "source": [
    "PREP_df_cols = Y_dict['df'].shape[1]\n",
    "PREP_df_rows = Y_dict['df'].shape[0]"
   ]
  },
  {
   "cell_type": "code",
   "execution_count": 9,
   "metadata": {
    "ExecuteTime": {
     "end_time": "2023-05-10T04:12:51.676112Z",
     "start_time": "2023-05-10T04:12:51.518384Z"
    }
   },
   "outputs": [
    {
     "data": {
      "image/png": "[encoded data removed]",
      "text/plain": [
       "<Figure size 1296x432 with 1 Axes>"
      ]
     },
     "metadata": {
      "needs_background": "light"
     },
     "output_type": "display_data"
    }
   ],
   "source": [
    "# как выглядит карта дефектов после первичного расширения\n",
    "fig, axes = plt.subplots()\n",
    "\n",
    "fig.set_figwidth(18)\n",
    "fig.set_figheight(6)\n",
    "\n",
    "axes.pcolormesh(Y_dict['df'])\n",
    "axes.invert_yaxis()\n",
    "axes.set_xlabel('Номер датчика', fontsize=15) \n",
    "axes.set_ylabel('Номер измерения', fontsize=15) \n",
    "axes.set_title(f'Карта дефектов', fontsize=15) \n",
    "\n",
    "#  Устанавливаем интервал основных делений: \n",
    "axes.xaxis.set_major_locator(ticker.MultipleLocator(20)) \n",
    "axes.yaxis.set_major_locator(ticker.MultipleLocator(15)) \n",
    " \n",
    "#  Устанавливаем форматирование чисел основных делений: \n",
    "axes.xaxis.set_major_formatter(ticker.FormatStrFormatter('%.d')) \n",
    "axes.yaxis.set_major_formatter(ticker.FormatStrFormatter('%.d'))\n",
    "\n",
    "#  Устанавливаем форматирование делений: \n",
    "axes.xaxis.set_tick_params(which = 'major', labelsize = 15, labelrotation = 45) \n",
    "axes.yaxis.set_tick_params(which = 'major', labelsize = 15) \n",
    "\n",
    "plt.subplots_adjust(left=0.1, bottom=0.1, right=0.9, top=0.9, wspace=0.1, hspace=0.2)\n",
    "plt.show()"
   ]
  },
  {
   "cell_type": "code",
   "execution_count": 10,
   "metadata": {
    "ExecuteTime": {
     "end_time": "2023-05-10T04:12:58.443328Z",
     "start_time": "2023-05-10T04:12:51.678113Z"
    },
    "colab": {
     "base_uri": "https://localhost:8080/"
    },
    "id": "fJMMLFK0QbES",
    "outputId": "564394aa-ab18-4de9-d21c-7482739bfe19"
   },
   "outputs": [
    {
     "name": "stdout",
     "output_type": "stream",
     "text": [
      "||||||||||| X df preprocessing |||||||||||\n",
      "||||||||||||||||||\n",
      "X df reshaping to 4D\n",
      "Original df size:  (184, 466)\n",
      "Crop windows height/width:  64\n",
      "Crop windows step across rows and cols:  6\n",
      "New X_time shape:  (1428, 64, 64, 32)\n",
      "New X_amp shape:  (1428, 64, 64, 32)\n",
      "||||||||||||||||||\n",
      "\n",
      "||||||||||| Y df preprocessing |||||||||||\n",
      "||||||||||||||||||\n",
      "Y df reshaping to 3D\n",
      "Original df size:  (184, 466)\n",
      "Crop windows height/width:  64\n",
      "Crop windows step across rows and cols:  6\n",
      "New numpy shape:  (1428, 64, 64, 1)\n",
      "||||||||||||||||||\n",
      "\n",
      "\n",
      "\n"
     ]
    }
   ],
   "source": [
    "# запишем в словарь numpy array полученные из df\n",
    "\n",
    "print('||||||||||| X df preprocessing |||||||||||')\n",
    "x_time_temp, \\\n",
    "x_amp_temp = dp.reshape_X_df_to_image_like_numpy(X_dict['df'], \n",
    "                                                    PREP_image_size, \n",
    "                                                    PREP_crop_step)\n",
    "X_dict['X_time_all'] = x_time_temp.astype('float32')\n",
    "X_dict['X_amp_all'] = x_amp_temp.astype('float32')\n",
    "\n",
    "X_dict.pop('df',0)\n",
    "\n",
    "print('||||||||||| Y df preprocessing |||||||||||')\n",
    "y_temp = dp.reshape_Y_df_to_image_like_numpy(Y_dict['df'], \n",
    "                                             PREP_image_size, \n",
    "                                             PREP_crop_step)\n",
    "Y_dict['Y_mask_all'] = y_temp.astype('int8')\n",
    "\n",
    "Y_dict.pop('df',0)\n",
    "\n",
    "print('\\n')\n",
    "    \n",
    "    "
   ]
  },
  {
   "cell_type": "code",
   "execution_count": 11,
   "metadata": {
    "ExecuteTime": {
     "end_time": "2023-05-10T04:12:58.458331Z",
     "start_time": "2023-05-10T04:12:58.444329Z"
    },
    "colab": {
     "base_uri": "https://localhost:8080/"
    },
    "id": "ni5HwQ0cQbET",
    "outputId": "644095e7-4b84-419c-f882-b369bf58203d"
   },
   "outputs": [
    {
     "name": "stdout",
     "output_type": "stream",
     "text": [
      "||||||||||||||||||||||||||||\n",
      "\n",
      "||||||||||| X data |||||||||||\n",
      "Для \"X\" выборки считано  dict_keys(['X_time_all', 'X_amp_all'])\n",
      "\n",
      "||||||||||| Y data |||||||||||\n",
      "Для \"Y\" выборки считано  dict_keys(['Y_mask_all'])\n"
     ]
    }
   ],
   "source": [
    "print('||||||||||||||||||||||||||||')\n",
    "print('\\n||||||||||| X data |||||||||||')\n",
    "print(f'Для \\\"X\\\" выборки считано ', X_dict.keys())\n",
    "\n",
    "print('\\n||||||||||| Y data |||||||||||')        \n",
    "print(f'Для \\\"Y\\\" выборки считано ', Y_dict.keys())"
   ]
  },
  {
   "cell_type": "code",
   "execution_count": 12,
   "metadata": {
    "ExecuteTime": {
     "end_time": "2023-05-10T04:12:59.240684Z",
     "start_time": "2023-05-10T04:12:58.459332Z"
    },
    "colab": {
     "base_uri": "https://localhost:8080/"
    },
    "id": "r9jbs8dBQbET",
    "outputId": "cec69435-0279-4bc9-f388-0416949a0174"
   },
   "outputs": [
    {
     "name": "stdout",
     "output_type": "stream",
     "text": [
      "||||||||||| X df preprocessing |||||||||||\n",
      "||||||||||||||||||\n",
      "Data preprocessing\n",
      "Orig X_time shape:  (1428, 64, 64, 32)\n",
      "Orig X_amp shape:  (1428, 64, 64, 32)\n",
      "Orig Y_mask shape:  (1428, 64, 64, 1)\n",
      "||||||||||||||||||\n",
      "Data standartization\n",
      "X_time_max: 44.5\n",
      "X_amp_max: 62.992000579833984\n",
      "\n",
      "X_time_max after standartization: 1.0\n",
      "X_time_min after standartization: 0.0\n",
      "\n",
      "X_amp_max after standartization: 1.0\n",
      "X_amp_min after standartization: -0.9837439060211182\n",
      "||||||||||||||||||\n",
      "\n",
      "||||||||||||||||||\n",
      "Data with and witout defects splitting\n",
      "||||||||||||||||||\n",
      "Defects nums calculating\n",
      "Для карт высотой и шириной в 64\n",
      "и общим кличеством: 1428\n",
      "дефекты присутствуеют на 496 картах\n",
      "||||||||||||||||||\n",
      "\n",
      "X_time_def shape:  (496, 64, 64, 32)\n",
      "X_time_non_def shape:  (932, 64, 64, 32)\n",
      "\n",
      "X_amp_def shape:  (496, 64, 64, 32)\n",
      "X_amp_non_def shape:  (932, 64, 64, 32)\n",
      "\n",
      "Y_mask_def shape:  (496, 64, 64, 1)\n",
      "Y_mask_non_def shape:  (932, 64, 64, 1)\n",
      "\n",
      "Y_binary_def shape:  (496,)\n",
      "Y_binary_non_def shape:  (932,)\n",
      "||||||||||||||||||\n",
      "\n",
      "||||||||||||||||||\n",
      "\n"
     ]
    }
   ],
   "source": [
    "# обработка данных\n",
    "print('||||||||||| X df preprocessing |||||||||||')\n",
    "\n",
    "(X_time_def, X_time_non_def), \\\n",
    "(X_amp_def, X_amp_non_def), \\\n",
    "(Y_mask_def, Y_mask_non_def), \\\n",
    "(Y_binary_def, Y_binary_non_def) = dp.preprocess_data(X_dict['X_time_all'], \n",
    "                                                            X_dict['X_amp_all'], \n",
    "                                                            Y_dict['Y_mask_all'],\n",
    "                                                            PREP_image_size)\n",
    "\n",
    "X_dict['X_time_def'] = X_time_def\n",
    "X_dict['X_time_non_def'] = X_time_non_def\n",
    "\n",
    "X_dict['X_amp_def'] = X_amp_def\n",
    "X_dict['X_amp_non_def'] = X_amp_non_def\n",
    "\n",
    "Y_dict['Y_mask_def'] = Y_mask_def\n",
    "Y_dict['Y_mask_non_def'] = Y_mask_non_def\n",
    "\n",
    "Y_dict['Y_binary_def'] = Y_binary_def\n",
    "Y_dict['Y_binary_non_def'] = Y_binary_non_def"
   ]
  },
  {
   "cell_type": "code",
   "execution_count": 13,
   "metadata": {
    "ExecuteTime": {
     "end_time": "2023-05-10T04:12:59.320702Z",
     "start_time": "2023-05-10T04:12:59.241684Z"
    }
   },
   "outputs": [
    {
     "name": "stdout",
     "output_type": "stream",
     "text": [
      "\n"
     ]
    }
   ],
   "source": [
    "# очистка памяти от лишнего\n",
    "\n",
    "X_dict.pop('X_time_all',0)\n",
    "X_dict.pop('X_amp_all',0)\n",
    "Y_dict.pop('Y_mask_all',0)\n",
    "print()"
   ]
  },
  {
   "cell_type": "code",
   "execution_count": 14,
   "metadata": {
    "ExecuteTime": {
     "end_time": "2023-05-10T04:12:59.336705Z",
     "start_time": "2023-05-10T04:12:59.321702Z"
    }
   },
   "outputs": [
    {
     "name": "stdout",
     "output_type": "stream",
     "text": [
      "|||||||||||||| X dataset ||||||||||||||||\n",
      "X_time_def.shape:  (496, 64, 64, 32)\n",
      "X_time_non_def.shape:  (932, 64, 64, 32)\n",
      "X_amp_def.shape:  (496, 64, 64, 32)\n",
      "X_amp_non_def.shape:  (932, 64, 64, 32)\n",
      "\n",
      "|||||||||||||| Y dataset ||||||||||||||||\n",
      "Y_mask_def.shape:  (496, 64, 64, 1)\n",
      "Y_mask_non_def.shape:  (932, 64, 64, 1)\n",
      "Y_binary_def.shape:  (496,)\n",
      "Y_binary_non_def.shape:  (932,)\n"
     ]
    }
   ],
   "source": [
    "print('|||||||||||||| X dataset ||||||||||||||||')\n",
    "for key in X_dict.keys():\n",
    "    print(f\"{key}.shape: \", X_dict[key].shape)\n",
    "\n",
    "print('\\n|||||||||||||| Y dataset ||||||||||||||||')\n",
    "for key in Y_dict.keys():\n",
    "    print(f\"{key}.shape: \", Y_dict[key].shape)"
   ]
  },
  {
   "cell_type": "code",
   "execution_count": null,
   "metadata": {
    "ExecuteTime": {
     "end_time": "2023-05-09T03:11:22.485021Z",
     "start_time": "2023-05-09T03:10:54.413915Z"
    },
    "deletable": false,
    "editable": false,
    "run_control": {
     "frozen": true
    }
   },
   "outputs": [],
   "source": [
    "# аугментация\n",
    "print('|||||||||||||| X dataset ||||||||||||||||')\n",
    "for key in X_dict.keys():\n",
    "    X_dict[key] = dp.augment_data(X_dict[key]) \n",
    "\n",
    "print('\\n|||||||||||||| Y dataset ||||||||||||||||')\n",
    "print(f\"|||||||||||||| dataset part: Y_binary_def||||||||||||||||\")\n",
    "print(f'Orig arr shape: {Y_dict[\"Y_binary_def\"].shape}')\n",
    "Y_dict['Y_binary_def'] = np.ones(X_dict['X_time_def'].shape[0])\n",
    "print(f'Result arr shape: {Y_dict[\"Y_binary_def\"].shape}')\n",
    "\n",
    "print(f\"|||||||||||||| dataset part: Y_binary_non_def||||||||||||||||\")\n",
    "print(f'Orig arr shape: {Y_dict[\"Y_binary_non_def\"].shape}')\n",
    "Y_dict['Y_binary_non_def'] = np.zeros(X_dict['X_time_non_def'].shape[0])\n",
    "print(f'Result arr shape: {Y_dict[\"Y_binary_non_def\"].shape}')    "
   ]
  },
  {
   "cell_type": "code",
   "execution_count": 15,
   "metadata": {
    "ExecuteTime": {
     "end_time": "2023-05-10T04:12:59.352709Z",
     "start_time": "2023-05-10T04:12:59.337706Z"
    }
   },
   "outputs": [
    {
     "name": "stdout",
     "output_type": "stream",
     "text": [
      "|||||||||||||| X dataset ||||||||||||||||\n",
      "X_time_def.shape:  (496, 64, 64, 32)\n",
      "X_time_non_def.shape:  (932, 64, 64, 32)\n",
      "X_amp_def.shape:  (496, 64, 64, 32)\n",
      "X_amp_non_def.shape:  (932, 64, 64, 32)\n",
      "\n",
      "|||||||||||||| Y dataset ||||||||||||||||\n",
      "Y_mask_def.shape:  (496, 64, 64, 1)\n",
      "Y_mask_non_def.shape:  (932, 64, 64, 1)\n",
      "Y_binary_def.shape:  (496,)\n",
      "Y_binary_non_def.shape:  (932,)\n"
     ]
    }
   ],
   "source": [
    "# что имеем перед тем как объеденить данные в тестовые\n",
    "print('|||||||||||||| X dataset ||||||||||||||||')\n",
    "for key in X_dict.keys():\n",
    "    print(f\"{key}.shape: \", X_dict[key].shape)\n",
    "\n",
    "print('\\n|||||||||||||| Y dataset ||||||||||||||||')\n",
    "for key in Y_dict.keys():\n",
    "    print(f\"{key}.shape: \", Y_dict[key].shape)"
   ]
  },
  {
   "cell_type": "code",
   "execution_count": 16,
   "metadata": {
    "ExecuteTime": {
     "end_time": "2023-05-10T04:12:59.589762Z",
     "start_time": "2023-05-10T04:12:59.353710Z"
    }
   },
   "outputs": [
    {
     "name": "stdout",
     "output_type": "stream",
     "text": [
      "\n"
     ]
    }
   ],
   "source": [
    "# объединение данных в тестовую выборку\n",
    "X_time_test = np.concatenate([X_dict['X_time_def'],X_dict['X_time_non_def']],\n",
    "                                                                     axis=0)                           \n",
    "X_dict.pop('X_time_def',0)\n",
    "X_dict.pop('X_time_non_def',0)\n",
    "\n",
    "\n",
    "X_amp_test = np.concatenate([X_dict['X_amp_def'],X_dict['X_amp_non_def']],\n",
    "                                                                   axis=0)\n",
    "X_dict.pop('X_amp_def',0)\n",
    "X_dict.pop('X_amp_non_def',0)\n",
    "\n",
    "\n",
    "Y_mask_test = np.concatenate([Y_dict['Y_mask_def'],Y_dict['Y_mask_non_def']],\n",
    "                                                                         axis=0)\n",
    "Y_dict.pop('Y_mask_def',0)\n",
    "Y_dict.pop('Y_mask_non_def',0)\n",
    "\n",
    "\n",
    "Y_binary_test = np.concatenate([Y_dict['Y_binary_def'],Y_dict['Y_binary_non_def']],\n",
    "                                                                         axis=0)\n",
    "Y_dict.pop('Y_binary_def',0)\n",
    "Y_dict.pop('Y_binary_non_def',0)\n",
    "print()"
   ]
  },
  {
   "cell_type": "code",
   "execution_count": 17,
   "metadata": {
    "ExecuteTime": {
     "end_time": "2023-05-10T04:12:59.605690Z",
     "start_time": "2023-05-10T04:12:59.590763Z"
    }
   },
   "outputs": [],
   "source": [
    "# очистка памяти от лишнего        \n",
    "X_dict.clear()\n",
    "Y_dict.clear()"
   ]
  },
  {
   "cell_type": "code",
   "execution_count": 18,
   "metadata": {
    "ExecuteTime": {
     "end_time": "2023-05-10T04:12:59.621694Z",
     "start_time": "2023-05-10T04:12:59.606691Z"
    }
   },
   "outputs": [
    {
     "name": "stdout",
     "output_type": "stream",
     "text": [
      "X_time_test.shape:  (1428, 64, 64, 32)\n",
      "X_amp_test.shape:  (1428, 64, 64, 32)\n",
      "Y_mask_test.shape (1428, 64, 64, 1)\n",
      "Y_binary_test.shape (1428,)\n",
      "\n",
      "\n"
     ]
    }
   ],
   "source": [
    "# сколько получилось тестовых данных\n",
    "print('X_time_test.shape: ', X_time_test.shape)\n",
    "print('X_amp_test.shape: ', X_amp_test.shape)\n",
    "print('Y_mask_test.shape', Y_mask_test.shape)\n",
    "print('Y_binary_test.shape', Y_binary_test.shape)\n",
    "print('\\n')"
   ]
  },
  {
   "cell_type": "markdown",
   "metadata": {},
   "source": [
    "# CNN с 2 входами по времени и амплитуде"
   ]
  },
  {
   "cell_type": "code",
   "execution_count": 19,
   "metadata": {
    "ExecuteTime": {
     "end_time": "2023-05-10T04:13:00.532917Z",
     "start_time": "2023-05-10T04:12:59.622694Z"
    }
   },
   "outputs": [],
   "source": [
    "# загрузка модели\n",
    "model = keras.models.load_model('Networks//CNN//NetWork_(64x32+64x32)_to(1)_(test_0dot0366)_ver_10.h5')"
   ]
  },
  {
   "cell_type": "code",
   "execution_count": 20,
   "metadata": {
    "ExecuteTime": {
     "end_time": "2023-05-10T04:13:40.687438Z",
     "start_time": "2023-05-10T04:13:00.533917Z"
    }
   },
   "outputs": [
    {
     "name": "stdout",
     "output_type": "stream",
     "text": [
      "1428/1428 [==============================] - 40s 28ms/step - loss: 0.0117\n"
     ]
    },
    {
     "data": {
      "text/plain": [
       "0.011659838259220123"
      ]
     },
     "execution_count": 20,
     "metadata": {},
     "output_type": "execute_result"
    }
   ],
   "source": [
    "# тест модели\n",
    "model.evaluate([X_time_test,X_amp_test], Y_binary_test, batch_size = 1)"
   ]
  }
 ],
 "metadata": {
  "colab": {
   "provenance": []
  },
  "kernelspec": {
   "display_name": "Python 3 (ipykernel)",
   "language": "python",
   "name": "python3"
  },
  "language_info": {
   "codemirror_mode": {
    "name": "ipython",
    "version": 3
   },
   "file_extension": ".py",
   "mimetype": "text/x-python",
   "name": "python",
   "nbconvert_exporter": "python",
   "pygments_lexer": "ipython3",
   "version": "3.10.0"
  }
 },
 "nbformat": 4,
 "nbformat_minor": 1
}
