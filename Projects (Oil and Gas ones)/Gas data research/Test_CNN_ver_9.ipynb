{
 "cells": [
  {
   "cell_type": "code",
   "execution_count": 1,
   "metadata": {
    "ExecuteTime": {
     "end_time": "2023-05-08T17:17:36.005579Z",
     "start_time": "2023-05-08T17:17:31.592340Z"
    },
    "cell_style": "center",
    "id": "p6xN-IEhhbla"
   },
   "outputs": [],
   "source": [
    "import os\n",
    "import numpy as np\n",
    "import pandas as pd\n",
    "import matplotlib.pyplot as plt\n",
    "import tensorflow as tf\n",
    "\n",
    "import sys\n",
    "sys.path.append('custom_modules')\n",
    "\n",
    "import Data_processing as dp\n",
    "\n",
    "from IPython.display import display\n",
    "from matplotlib import ticker\n",
    "from pathlib import Path\n",
    "from tensorflow import keras\n",
    "from tensorflow.keras import backend as K\n",
    "from tensorflow.keras.utils import plot_model\n",
    "from tensorflow.keras.layers import Reshape, Input, Dense, Flatten, Conv2D, Dropout, Conv2DTranspose\n",
    "from tensorflow.keras.layers import MaxPooling2D, UpSampling2D, concatenate, BatchNormalization"
   ]
  },
  {
   "cell_type": "markdown",
   "metadata": {
    "id": "wLCfK5LxQbD9"
   },
   "source": [
    "### Константы для путей к файлам"
   ]
  },
  {
   "cell_type": "code",
   "execution_count": 2,
   "metadata": {
    "ExecuteTime": {
     "end_time": "2023-05-08T17:17:36.021587Z",
     "start_time": "2023-05-08T17:17:36.006580Z"
    },
    "id": "bZHiwO4ShhEF"
   },
   "outputs": [],
   "source": [
    "# Пути к обработанным данным\n",
    "# Пути к X части выборки с массивами в каждой ячейке\n",
    "path_to_array_like_X_data = ('data/Prepared data/Run1/X_data_array_like.xlsx',\n",
    "                             'data/Prepared data/Run2/X_data_array_like.xlsx')\n",
    "# Пути к Y части выборки\n",
    "path_to_Y_data = ('data/Prepared data/Run1/Y_data(binary_classification).xlsx', \n",
    "                  'data/Prepared data/Run2/Y_data(binary_classification).xlsx') \n"
   ]
  },
  {
   "cell_type": "markdown",
   "metadata": {
    "id": "0dxaXom0QbEB"
   },
   "source": [
    "### Константы для обработки данных"
   ]
  },
  {
   "cell_type": "code",
   "execution_count": 3,
   "metadata": {
    "ExecuteTime": {
     "end_time": "2023-05-08T17:17:36.037314Z",
     "start_time": "2023-05-08T17:17:36.022589Z"
    },
    "id": "J-6_JuU5QbEC"
   },
   "outputs": [],
   "source": [
    "PREP_image_size = 64\n",
    "PREP_crop_step = 3"
   ]
  },
  {
   "cell_type": "code",
   "execution_count": 4,
   "metadata": {
    "ExecuteTime": {
     "end_time": "2023-05-08T17:17:36.052594Z",
     "start_time": "2023-05-08T17:17:36.038592Z"
    },
    "cell_style": "center",
    "id": "oicZsiTGQbEE"
   },
   "outputs": [],
   "source": [
    "# детерминация случайных величин, отвечающих за выбор первоначальных весов и биасов\n",
    "tf.compat.v1.set_random_seed(290)\n",
    "tf.random.set_seed(290)"
   ]
  },
  {
   "cell_type": "markdown",
   "metadata": {
    "id": "M3IDwA8GQbEP"
   },
   "source": [
    "# Подготовка данных"
   ]
  },
  {
   "cell_type": "code",
   "execution_count": 5,
   "metadata": {
    "ExecuteTime": {
     "end_time": "2023-05-08T17:17:42.000502Z",
     "start_time": "2023-05-08T17:17:36.053593Z"
    },
    "id": "opRWBSZpQbEP"
   },
   "outputs": [],
   "source": [
    "# загрузка данных из файлов\n",
    "X_dict = dict()\n",
    "Y_dict = dict()\n",
    "\n",
    "for i,x_data_path,y_data_path in zip(range(len(path_to_array_like_X_data)),\n",
    "                                     path_to_array_like_X_data, \n",
    "                                     path_to_Y_data):\n",
    "    \n",
    "    x_temp = dp.get_array_like_X_df(x_data_path)\n",
    "    y_temp = dp.get_Y_df(y_data_path)\n",
    "    \n",
    "    \n",
    "    \n",
    "    X_dict[f'run{i+1}'] = {'df' : x_temp.iloc[:,int(x_temp.shape[1]/2):]}\n",
    "    Y_dict[f'run{i+1}'] = {'df' : y_temp.iloc[:,int(y_temp.shape[1]/2):]}"
   ]
  },
  {
   "cell_type": "code",
   "execution_count": 6,
   "metadata": {
    "ExecuteTime": {
     "end_time": "2023-05-08T17:17:42.015874Z",
     "start_time": "2023-05-08T17:17:42.001515Z"
    },
    "colab": {
     "base_uri": "https://localhost:8080/"
    },
    "id": "KdhGoLqFQbEQ",
    "outputId": "f48fba51-b02b-4655-da95-fdbe4d63eab2"
   },
   "outputs": [
    {
     "name": "stdout",
     "output_type": "stream",
     "text": [
      "Загружены данные для X выборки из файлов:  dict_keys(['run1', 'run2'])\n",
      "Загружены данные для Y выборки из файлов:  dict_keys(['run1', 'run2'])\n"
     ]
    }
   ],
   "source": [
    "print('Загружены данные для X выборки из файлов: ', X_dict.keys())\n",
    "print('Загружены данные для Y выборки из файлов: ', Y_dict.keys())"
   ]
  },
  {
   "cell_type": "code",
   "execution_count": null,
   "metadata": {},
   "outputs": [],
   "source": [
    "fig, axes = plt.subplots(2)\n",
    "\n",
    "fig.set_figwidth(18)\n",
    "fig.set_figheight(10)\n",
    "\n",
    "for ax,key in zip(axes,Y_dict.keys()):\n",
    "    ax.pcolormesh(Y_dict[key]['df'])\n",
    "\n",
    "    ax.set_xlabel('Номер датчика', fontsize=10) \n",
    "    ax.set_ylabel('Номер измерения', fontsize=10) \n",
    "    ax.set_title(f'Часть начального датафрейма для тренировки модели (файл: {key})', fontsize=10) \n",
    "     \n",
    "plt.subplots_adjust(left=0.1, bottom=0.1, right=0.9, top=0.9, wspace=0.1, hspace=0.2)\n",
    "plt.show()"
   ]
  },
  {
   "cell_type": "code",
   "execution_count": 7,
   "metadata": {
    "ExecuteTime": {
     "end_time": "2023-05-08T17:17:42.046158Z",
     "start_time": "2023-05-08T17:17:42.016875Z"
    },
    "colab": {
     "base_uri": "https://localhost:8080/"
    },
    "id": "JpYrdVggQbER",
    "outputId": "3a3019d2-f190-46c8-a928-f5b9089ffc64"
   },
   "outputs": [
    {
     "name": "stdout",
     "output_type": "stream",
     "text": [
      "||||||||||| step:  0 |||||||||||\n",
      "||||||||||| X df preprocessing |||||||||||\n",
      "||||||||||||||||||\n",
      "Df reshaping for exact splitting with crop_size\n",
      "Original df size:  (115, 200)\n",
      "Crop windows height/width:  64\n",
      "Crop windows step across rows and cols:  2\n",
      "New df shape:  (116, 200)\n",
      "||||||||||||||||||\n",
      "\n",
      "||||||||||| Y df preprocessing |||||||||||\n",
      "||||||||||||||||||\n",
      "Df reshaping for exact splitting with crop_size\n",
      "Original df size:  (115, 200)\n",
      "Crop windows height/width:  64\n",
      "Crop windows step across rows and cols:  2\n",
      "New df shape:  (116, 200)\n",
      "||||||||||||||||||\n",
      "\n",
      "\n",
      "\n",
      "||||||||||| step:  1 |||||||||||\n",
      "||||||||||| X df preprocessing |||||||||||\n",
      "||||||||||||||||||\n",
      "Df reshaping for exact splitting with crop_size\n",
      "Original df size:  (119, 200)\n",
      "Crop windows height/width:  64\n",
      "Crop windows step across rows and cols:  2\n",
      "New df shape:  (120, 200)\n",
      "||||||||||||||||||\n",
      "\n",
      "||||||||||| Y df preprocessing |||||||||||\n",
      "||||||||||||||||||\n",
      "Df reshaping for exact splitting with crop_size\n",
      "Original df size:  (119, 200)\n",
      "Crop windows height/width:  64\n",
      "Crop windows step across rows and cols:  2\n",
      "New df shape:  (120, 200)\n",
      "||||||||||||||||||\n",
      "\n",
      "\n",
      "\n"
     ]
    }
   ],
   "source": [
    "# добавление строк в датафреймы\n",
    "for i,key in zip(range(len(X_dict.keys())),X_dict.keys()):\n",
    "    print(f\"||||||||||| step:  {i} |||||||||||\")\n",
    "    print('||||||||||| X df preprocessing |||||||||||')\n",
    "    X_dict[key]['df'] = dp.reshape_df_for_future_crops(X_dict[key]['df'], \n",
    "                                                        PREP_image_size, \n",
    "                                                        PREP_crop_step)\n",
    "    print('||||||||||| Y df preprocessing |||||||||||')\n",
    "    Y_dict[key]['df'] = dp.reshape_df_for_future_crops(Y_dict[key]['df'], \n",
    "                                                        PREP_image_size, \n",
    "                                                        PREP_crop_step) \n",
    "\n",
    "\n",
    "    print('\\n')"
   ]
  },
  {
   "cell_type": "code",
   "execution_count": 8,
   "metadata": {
    "ExecuteTime": {
     "end_time": "2023-05-08T17:18:04.195632Z",
     "start_time": "2023-05-08T17:17:42.047160Z"
    },
    "colab": {
     "base_uri": "https://localhost:8080/"
    },
    "id": "fJMMLFK0QbES",
    "outputId": "564394aa-ab18-4de9-d21c-7482739bfe19"
   },
   "outputs": [
    {
     "name": "stdout",
     "output_type": "stream",
     "text": [
      "|||||||||||||| step: 1||||||||||||||||\n",
      "|||||||||||||| file: run1||||||||||||||||\n",
      "||||||||||| X df preprocessing |||||||||||\n",
      "||||||||||||||||||\n",
      "X df reshaping to 4D\n",
      "Original df size:  (116, 200)\n",
      "Crop windows height/width:  64\n",
      "Crop windows step across rows and cols:  2\n",
      "New X_time shape:  (1863, 64, 64, 32)\n",
      "New X_amp shape:  (1863, 64, 64, 32)\n",
      "||||||||||||||||||\n",
      "\n",
      "||||||||||| Y df preprocessing |||||||||||\n",
      "||||||||||||||||||\n",
      "Y df reshaping to 3D\n",
      "Original df size:  (116, 200)\n",
      "Crop windows height/width:  64\n",
      "Crop windows step across rows and cols:  2\n",
      "New numpy shape:  (1863, 64, 64, 1)\n",
      "||||||||||||||||||\n",
      "\n",
      "\n",
      "\n",
      "|||||||||||||| step: 2||||||||||||||||\n",
      "|||||||||||||| file: run2||||||||||||||||\n",
      "||||||||||| X df preprocessing |||||||||||\n",
      "||||||||||||||||||\n",
      "X df reshaping to 4D\n",
      "Original df size:  (120, 200)\n",
      "Crop windows height/width:  64\n",
      "Crop windows step across rows and cols:  2\n",
      "New X_time shape:  (2001, 64, 64, 32)\n",
      "New X_amp shape:  (2001, 64, 64, 32)\n",
      "||||||||||||||||||\n",
      "\n",
      "||||||||||| Y df preprocessing |||||||||||\n",
      "||||||||||||||||||\n",
      "Y df reshaping to 3D\n",
      "Original df size:  (120, 200)\n",
      "Crop windows height/width:  64\n",
      "Crop windows step across rows and cols:  2\n",
      "New numpy shape:  (2001, 64, 64, 1)\n",
      "||||||||||||||||||\n",
      "\n",
      "\n",
      "\n"
     ]
    }
   ],
   "source": [
    "# запишем в словарь numpy array полученные из df\n",
    "for i,key in zip(range(len(X_dict.keys())),X_dict.keys()):\n",
    "    print(f\"|||||||||||||| step: {i+1}||||||||||||||||\")\n",
    "    print(f\"|||||||||||||| file: {key}||||||||||||||||\")\n",
    "    print('||||||||||| X df preprocessing |||||||||||')\n",
    "    x_time_temp, \\\n",
    "    x_amp_temp = dp.reshape_X_df_to_image_like_numpy(X_dict[key]['df'], \n",
    "                                                        PREP_image_size, \n",
    "                                                        PREP_crop_step)\n",
    "    X_dict[key]['X_time_all'] = x_time_temp.astype('float32')\n",
    "    X_dict[key]['X_amp_all'] = x_amp_temp.astype('float32')\n",
    "\n",
    "    X_dict[key].pop('df',0)\n",
    "    \n",
    "    print('||||||||||| Y df preprocessing |||||||||||')\n",
    "    y_temp = dp.reshape_Y_df_to_image_like_numpy(Y_dict[key]['df'], \n",
    "                                                 PREP_image_size, \n",
    "                                                 PREP_crop_step)\n",
    "    Y_dict[key]['Y_mask_all'] = y_temp.astype('int8')\n",
    "    \n",
    "    Y_dict[key].pop('df',0)\n",
    "    \n",
    "    print('\\n')\n",
    "    \n",
    "    "
   ]
  },
  {
   "cell_type": "code",
   "execution_count": 9,
   "metadata": {
    "ExecuteTime": {
     "end_time": "2023-05-08T17:18:04.227640Z",
     "start_time": "2023-05-08T17:18:04.204635Z"
    },
    "colab": {
     "base_uri": "https://localhost:8080/"
    },
    "id": "ni5HwQ0cQbET",
    "outputId": "644095e7-4b84-419c-f882-b369bf58203d"
   },
   "outputs": [
    {
     "name": "stdout",
     "output_type": "stream",
     "text": [
      "||||||||||||||||||||||||||||\n",
      "Данные считаны для файлов:  dict_keys(['run1', 'run2'])\n",
      "\n",
      "||||||||||| X data |||||||||||\n",
      "Для файла \"run1\" для \"X\" выборки считано  dict_keys(['X_time_all', 'X_amp_all'])\n",
      "Для файла \"run2\" для \"X\" выборки считано  dict_keys(['X_time_all', 'X_amp_all'])\n",
      "\n",
      "||||||||||| Y data |||||||||||\n",
      "Для файла \"run1\" для \"Y\" выборки считано  dict_keys(['Y_mask_all'])\n",
      "Для файла \"run2\" для \"Y\" выборки считано  dict_keys(['Y_mask_all'])\n"
     ]
    }
   ],
   "source": [
    "print('||||||||||||||||||||||||||||')\n",
    "print('Данные считаны для файлов: ',X_dict.keys())\n",
    "print('\\n||||||||||| X data |||||||||||')\n",
    "for key in X_dict.keys():\n",
    "    print(f'Для файла \\\"{key}\\\" для \\\"X\\\" выборки считано ', X_dict[key].keys())\n",
    "\n",
    "print('\\n||||||||||| Y data |||||||||||')        \n",
    "for key in Y_dict.keys():\n",
    "    print(f'Для файла \\\"{key}\\\" для \\\"Y\\\" выборки считано ', Y_dict[key].keys())"
   ]
  },
  {
   "cell_type": "code",
   "execution_count": 10,
   "metadata": {
    "ExecuteTime": {
     "end_time": "2023-05-08T17:18:13.788095Z",
     "start_time": "2023-05-08T17:18:04.231641Z"
    },
    "colab": {
     "base_uri": "https://localhost:8080/"
    },
    "id": "r9jbs8dBQbET",
    "outputId": "cec69435-0279-4bc9-f388-0416949a0174"
   },
   "outputs": [
    {
     "name": "stdout",
     "output_type": "stream",
     "text": [
      "|||||||||||||| step: 1||||||||||||||||\n",
      "|||||||||||||| file: run1||||||||||||||||\n",
      "||||||||||| X df preprocessing |||||||||||\n",
      "||||||||||||||||||\n",
      "Data preprocessing\n",
      "Orig X_time shape:  (1863, 64, 64, 32)\n",
      "Orig X_amp shape:  (1863, 64, 64, 32)\n",
      "Orig Y_mask shape:  (1863, 64, 64, 1)\n",
      "||||||||||||||||||\n",
      "Data standartization\n",
      "X_time_max: 44.5\n",
      "X_amp_max: 62.992000579833984\n",
      "\n",
      "X_time_max after standartization: 1.0\n",
      "X_time_min after standartization: 0.0\n",
      "\n",
      "X_amp_max after standartization: 1.0\n",
      "X_amp_min after standartization: -0.9837439060211182\n",
      "||||||||||||||||||\n",
      "\n",
      "||||||||||||||||||\n",
      "Data with and witout defects splitting\n",
      "||||||||||||||||||\n",
      "Defects nums calculating\n",
      "Для карт высотой и шириной в 64\n",
      "и общим кличеством: 1863\n",
      "дефекты присутствуеют на 513 картах\n",
      "||||||||||||||||||\n",
      "\n",
      "X_time_def shape:  (513, 64, 64, 32)\n",
      "X_time_non_def shape:  (1350, 64, 64, 32)\n",
      "\n",
      "X_amp_def shape:  (513, 64, 64, 32)\n",
      "X_amp_non_def shape:  (1350, 64, 64, 32)\n",
      "\n",
      "Y_mask_def shape:  (513, 64, 64, 1)\n",
      "Y_mask_non_def shape:  (1350, 64, 64, 1)\n",
      "\n",
      "Y_binary_def shape:  (513,)\n",
      "Y_binary_non_def shape:  (1350,)\n",
      "||||||||||||||||||\n",
      "\n",
      "||||||||||||||||||\n",
      "\n",
      "|||||||||||||| step: 2||||||||||||||||\n",
      "|||||||||||||| file: run2||||||||||||||||\n",
      "||||||||||| X df preprocessing |||||||||||\n",
      "||||||||||||||||||\n",
      "Data preprocessing\n",
      "Orig X_time shape:  (2001, 64, 64, 32)\n",
      "Orig X_amp shape:  (2001, 64, 64, 32)\n",
      "Orig Y_mask shape:  (2001, 64, 64, 1)\n",
      "||||||||||||||||||\n",
      "Data standartization\n",
      "X_time_max: 44.400001525878906\n",
      "X_amp_max: 62.992000579833984\n",
      "\n",
      "X_time_max after standartization: 1.0\n",
      "X_time_min after standartization: 0.0\n",
      "\n",
      "X_amp_max after standartization: 1.0\n",
      "X_amp_min after standartization: -0.9837439060211182\n",
      "||||||||||||||||||\n",
      "\n",
      "||||||||||||||||||\n",
      "Data with and witout defects splitting\n",
      "||||||||||||||||||\n",
      "Defects nums calculating\n",
      "Для карт высотой и шириной в 64\n",
      "и общим кличеством: 2001\n",
      "дефекты присутствуеют на 622 картах\n",
      "||||||||||||||||||\n",
      "\n",
      "X_time_def shape:  (622, 64, 64, 32)\n",
      "X_time_non_def shape:  (1379, 64, 64, 32)\n",
      "\n",
      "X_amp_def shape:  (622, 64, 64, 32)\n",
      "X_amp_non_def shape:  (1379, 64, 64, 32)\n",
      "\n",
      "Y_mask_def shape:  (622, 64, 64, 1)\n",
      "Y_mask_non_def shape:  (1379, 64, 64, 1)\n",
      "\n",
      "Y_binary_def shape:  (622,)\n",
      "Y_binary_non_def shape:  (1379,)\n",
      "||||||||||||||||||\n",
      "\n",
      "||||||||||||||||||\n",
      "\n"
     ]
    }
   ],
   "source": [
    "# обработка данных\n",
    "for i,key in zip(range(len(X_dict.keys())),X_dict.keys()):\n",
    "    print(f\"|||||||||||||| step: {i+1}||||||||||||||||\")\n",
    "    print(f\"|||||||||||||| file: {key}||||||||||||||||\")\n",
    "    print('||||||||||| X df preprocessing |||||||||||')\n",
    "\n",
    "    (X_time_def, X_time_non_def), \\\n",
    "    (X_amp_def, X_amp_non_def), \\\n",
    "    (Y_mask_def, Y_mask_non_def), \\\n",
    "    (Y_binary_def, Y_binary_non_def) = dp.preprocess_data(X_dict[key]['X_time_all'], \n",
    "                                                                    X_dict[key]['X_amp_all'], \n",
    "                                                                    Y_dict[key]['Y_mask_all'],\n",
    "                                                                    PREP_image_size)\n",
    "\n",
    "    X_dict[key]['X_time_def'] = X_time_def\n",
    "    X_dict[key]['X_time_non_def'] = X_time_non_def\n",
    "\n",
    "    X_dict[key]['X_amp_def'] = X_amp_def\n",
    "    X_dict[key]['X_amp_non_def'] = X_amp_non_def\n",
    "\n",
    "    Y_dict[key]['Y_binary_def'] = Y_binary_def\n",
    "    Y_dict[key]['Y_binary_non_def'] = Y_binary_non_def"
   ]
  },
  {
   "cell_type": "code",
   "execution_count": 11,
   "metadata": {
    "ExecuteTime": {
     "end_time": "2023-05-08T17:18:13.978653Z",
     "start_time": "2023-05-08T17:18:13.795895Z"
    }
   },
   "outputs": [],
   "source": [
    "# очистка памяти от лишнего\n",
    "for key in X_dict.keys():\n",
    "    X_dict[key].pop('X_time_all',0)\n",
    "    X_dict[key].pop('X_amp_all',0)\n",
    "    Y_dict[key].pop('Y_mask_all',0)"
   ]
  },
  {
   "cell_type": "code",
   "execution_count": 12,
   "metadata": {
    "ExecuteTime": {
     "end_time": "2023-05-08T17:18:14.009660Z",
     "start_time": "2023-05-08T17:18:13.984654Z"
    },
    "colab": {
     "base_uri": "https://localhost:8080/"
    },
    "id": "A0vDah1nQbEU",
    "outputId": "a1fcf167-2c5b-463e-b6fd-ccc979e9f487"
   },
   "outputs": [
    {
     "name": "stdout",
     "output_type": "stream",
     "text": [
      "||||||||||||||||||||||||||||\n",
      "Данные считаны для файлов:  dict_keys(['run1', 'run2'])\n",
      "\n",
      "||||||||||| X data |||||||||||\n",
      "Для файла \"run1\" для \"X\" выборки считано  dict_keys(['X_time_def', 'X_time_non_def', 'X_amp_def', 'X_amp_non_def'])\n",
      "Для файла \"run2\" для \"X\" выборки считано  dict_keys(['X_time_def', 'X_time_non_def', 'X_amp_def', 'X_amp_non_def'])\n",
      "\n",
      "||||||||||| Y data |||||||||||\n",
      "Для файла \"run1\" для \"Y\" выборки считано  dict_keys(['Y_binary_def', 'Y_binary_non_def'])\n",
      "Для файла \"run2\" для \"Y\" выборки считано  dict_keys(['Y_binary_def', 'Y_binary_non_def'])\n"
     ]
    }
   ],
   "source": [
    "print('||||||||||||||||||||||||||||')\n",
    "print('Данные считаны для файлов: ',X_dict.keys())\n",
    "print('\\n||||||||||| X data |||||||||||')\n",
    "for key in X_dict.keys():\n",
    "    print(f'Для файла \\\"{key}\\\" для \\\"X\\\" выборки считано ', X_dict[key].keys())\n",
    "\n",
    "print('\\n||||||||||| Y data |||||||||||')        \n",
    "for key in Y_dict.keys():\n",
    "    print(f'Для файла \\\"{key}\\\" для \\\"Y\\\" выборки считано ', Y_dict[key].keys())"
   ]
  },
  {
   "cell_type": "code",
   "execution_count": 13,
   "metadata": {
    "ExecuteTime": {
     "end_time": "2023-05-08T17:18:14.025663Z",
     "start_time": "2023-05-08T17:18:14.011660Z"
    }
   },
   "outputs": [
    {
     "name": "stdout",
     "output_type": "stream",
     "text": [
      "|||||||||||||| X dataset ||||||||||||||||\n",
      "|||||||||||||| file: run1||||||||||||||||\n",
      "X_time_def.shape:  (513, 64, 64, 32)\n",
      "X_time_non_def.shape:  (1350, 64, 64, 32)\n",
      "X_amp_def.shape:  (513, 64, 64, 32)\n",
      "X_amp_non_def.shape:  (1350, 64, 64, 32)\n",
      "|||||||||||||| file: run2||||||||||||||||\n",
      "X_time_def.shape:  (622, 64, 64, 32)\n",
      "X_time_non_def.shape:  (1379, 64, 64, 32)\n",
      "X_amp_def.shape:  (622, 64, 64, 32)\n",
      "X_amp_non_def.shape:  (1379, 64, 64, 32)\n",
      "\n",
      "|||||||||||||| Y dataset ||||||||||||||||\n",
      "|||||||||||||| file: run1||||||||||||||||\n",
      "Y_binary_def.shape:  (513,)\n",
      "Y_binary_non_def.shape:  (1350,)\n",
      "|||||||||||||| file: run2||||||||||||||||\n",
      "Y_binary_def.shape:  (622,)\n",
      "Y_binary_non_def.shape:  (1379,)\n"
     ]
    }
   ],
   "source": [
    "print('|||||||||||||| X dataset ||||||||||||||||')\n",
    "for key in X_dict.keys():\n",
    "    print(f\"|||||||||||||| file: {key}||||||||||||||||\")\n",
    "    for qkey in X_dict[key].keys():\n",
    "        print(f\"{qkey}.shape: \", X_dict[key][qkey].shape)\n",
    "\n",
    "print('\\n|||||||||||||| Y dataset ||||||||||||||||')\n",
    "for key in Y_dict.keys():\n",
    "    print(f\"|||||||||||||| file: {key}||||||||||||||||\")\n",
    "    for qkey in Y_dict[key].keys():\n",
    "        print(f\"{qkey}.shape: \", Y_dict[key][qkey].shape)"
   ]
  },
  {
   "cell_type": "code",
   "execution_count": null,
   "metadata": {
    "ExecuteTime": {
     "end_time": "2023-05-08T10:37:52.586717Z",
     "start_time": "2023-05-08T10:37:10.677854Z"
    },
    "deletable": false,
    "editable": false,
    "run_control": {
     "frozen": true
    }
   },
   "outputs": [],
   "source": [
    "print('|||||||||||||||||| X data ||||||||||||||||||')\n",
    "print('|||||||||||||||||| augment train data ||||||||||||||||||')\n",
    "for key in X_dict.keys():\n",
    "    print(f\"|||||||||||||| file: {key}||||||||||||||||\")\n",
    "    for qkey in X_dict[key].keys():\n",
    "        print(f\"|||||||||||||| dataset part: {qkey}||||||||||||||||\")\n",
    "        X_dict[key][qkey] = dp.augment_data(X_dict[key][qkey])      \n",
    "\n",
    "print('|||||||||||||||||| Y data ||||||||||||||||||')                \n",
    "for key in Y_dict.keys():\n",
    "    print(f\"|||||||||||||| file: {key}||||||||||||||||\")\n",
    "        \n",
    "    print(f\"|||||||||||||| dataset part: Y_binary_def||||||||||||||||\")\n",
    "    print(f'Orig arr shape: {Y_dict[key][\"Y_binary_def\"].shape}')\n",
    "    Y_dict[key][\"Y_binary_def\"] = np.ones(X_dict[key]['X_time_def'].shape[0])\n",
    "    print(f'Result arr shape: {Y_dict[key][\"Y_binary_def\"].shape}')\n",
    "\n",
    "    print(f\"|||||||||||||| dataset part: Y_binary_non_def||||||||||||||||\")\n",
    "    print(f'Orig arr shape: {Y_dict[key][\"Y_binary_non_def\"].shape}')\n",
    "    Y_dict[key][\"Y_binary_non_def\"] = np.zeros(X_dict[key]['X_time_non_def'].shape[0])\n",
    "    print(f'Result arr shape: {Y_dict[key][\"Y_binary_non_def\"].shape}')"
   ]
  },
  {
   "cell_type": "code",
   "execution_count": 14,
   "metadata": {
    "ExecuteTime": {
     "end_time": "2023-05-08T17:18:14.040666Z",
     "start_time": "2023-05-08T17:18:14.026663Z"
    }
   },
   "outputs": [
    {
     "name": "stdout",
     "output_type": "stream",
     "text": [
      "|||||||||||||| X dataset ||||||||||||||||\n",
      "|||||||||||||| file: run1||||||||||||||||\n",
      "X_time_def.shape:  (513, 64, 64, 32)\n",
      "X_time_non_def.shape:  (1350, 64, 64, 32)\n",
      "X_amp_def.shape:  (513, 64, 64, 32)\n",
      "X_amp_non_def.shape:  (1350, 64, 64, 32)\n",
      "|||||||||||||| file: run2||||||||||||||||\n",
      "X_time_def.shape:  (622, 64, 64, 32)\n",
      "X_time_non_def.shape:  (1379, 64, 64, 32)\n",
      "X_amp_def.shape:  (622, 64, 64, 32)\n",
      "X_amp_non_def.shape:  (1379, 64, 64, 32)\n",
      "\n",
      "|||||||||||||| Y dataset ||||||||||||||||\n",
      "|||||||||||||| file: run1||||||||||||||||\n",
      "Y_binary_def.shape:  (513,)\n",
      "Y_binary_non_def.shape:  (1350,)\n",
      "|||||||||||||| file: run2||||||||||||||||\n",
      "Y_binary_def.shape:  (622,)\n",
      "Y_binary_non_def.shape:  (1379,)\n"
     ]
    }
   ],
   "source": [
    "print('|||||||||||||| X dataset ||||||||||||||||')\n",
    "for key in X_dict.keys():\n",
    "    print(f\"|||||||||||||| file: {key}||||||||||||||||\")\n",
    "    for qkey in X_dict[key].keys():\n",
    "        print(f\"{qkey}.shape: \", X_dict[key][qkey].shape)\n",
    "\n",
    "print('\\n|||||||||||||| Y dataset ||||||||||||||||')\n",
    "for key in Y_dict.keys():\n",
    "    print(f\"|||||||||||||| file: {key}||||||||||||||||\")\n",
    "    for qkey in Y_dict[key].keys():\n",
    "        print(f\"{qkey}.shape: \", Y_dict[key][qkey].shape)"
   ]
  },
  {
   "cell_type": "code",
   "execution_count": 15,
   "metadata": {
    "ExecuteTime": {
     "end_time": "2023-05-08T17:18:15.518726Z",
     "start_time": "2023-05-08T17:18:14.042667Z"
    }
   },
   "outputs": [
    {
     "data": {
      "text/plain": [
       "array([0., 0., 0., ..., 0., 0., 0.])"
      ]
     },
     "execution_count": 15,
     "metadata": {},
     "output_type": "execute_result"
    }
   ],
   "source": [
    "X_time_test = np.concatenate([X_dict['run1']['X_time_def'],\n",
    "                                X_dict['run1']['X_time_non_def'],\n",
    "                                X_dict['run2']['X_time_def'],\n",
    "                                X_dict['run2']['X_time_non_def']],\n",
    "                                    axis=0)\n",
    "X_dict['run1'].pop('X_time_def',0)\n",
    "X_dict['run1'].pop('X_time_non_def',0)\n",
    "X_dict['run2'].pop('X_time_def',0)\n",
    "X_dict['run2'].pop('X_time_non_def',0)\n",
    "\n",
    "X_amp_test = np.concatenate([X_dict['run1']['X_amp_def'],\n",
    "                                X_dict['run1']['X_amp_non_def'],\n",
    "                                X_dict['run2']['X_amp_def'],\n",
    "                                X_dict['run2']['X_amp_non_def']],\n",
    "                                    axis=0)\n",
    "\n",
    "X_dict['run1'].pop('X_amp_def',0)\n",
    "X_dict['run1'].pop('X_amp_non_def',0)\n",
    "X_dict['run2'].pop('X_amp_def',0)\n",
    "X_dict['run2'].pop('X_amp_non_def',0)\n",
    "\n",
    "\n",
    "Y_binary_test= np.concatenate([Y_dict['run1']['Y_binary_def'],\n",
    "                                Y_dict['run1']['Y_binary_non_def'],\n",
    "                                Y_dict['run2']['Y_binary_def'],\n",
    "                                Y_dict['run2']['Y_binary_non_def']],\n",
    "                                    axis=0)\n",
    "\n",
    "Y_dict['run1'].pop('Y_binary_def',0)\n",
    "Y_dict['run1'].pop('Y_binary_non_def',0)\n",
    "Y_dict['run2'].pop('Y_binary_def',0)\n",
    "Y_dict['run2'].pop('Y_binary_non_def',0)"
   ]
  },
  {
   "cell_type": "code",
   "execution_count": 16,
   "metadata": {
    "ExecuteTime": {
     "end_time": "2023-05-08T17:18:15.534730Z",
     "start_time": "2023-05-08T17:18:15.519727Z"
    }
   },
   "outputs": [],
   "source": [
    "# очистка памяти от лишнего\n",
    "        \n",
    "X_dict.clear()\n",
    "Y_dict.clear()"
   ]
  },
  {
   "cell_type": "code",
   "execution_count": 17,
   "metadata": {
    "ExecuteTime": {
     "end_time": "2023-05-08T17:18:15.550734Z",
     "start_time": "2023-05-08T17:18:15.535730Z"
    }
   },
   "outputs": [
    {
     "name": "stdout",
     "output_type": "stream",
     "text": [
      "X_time_test.shape:  (3864, 64, 64, 32)\n",
      "X_amp_test.shape:  (3864, 64, 64, 32)\n",
      "Y_binary_test.shape (3864,)\n",
      "\n",
      "\n"
     ]
    }
   ],
   "source": [
    "print('X_time_test.shape: ', X_time_test.shape)\n",
    "print('X_amp_test.shape: ', X_amp_test.shape)\n",
    "print('Y_binary_test.shape', Y_binary_test.shape)\n",
    "print('\\n')"
   ]
  },
  {
   "cell_type": "markdown",
   "metadata": {},
   "source": [
    "# CNN с 1 входом по времени"
   ]
  },
  {
   "cell_type": "code",
   "execution_count": 18,
   "metadata": {
    "ExecuteTime": {
     "end_time": "2023-05-08T17:18:17.244826Z",
     "start_time": "2023-05-08T17:18:15.551734Z"
    }
   },
   "outputs": [],
   "source": [
    "model = keras.models.load_model('Networks//CNN//NetWork_(64x32+64x32)_to(1)_(test_0dot0).h5')"
   ]
  },
  {
   "cell_type": "code",
   "execution_count": 19,
   "metadata": {
    "ExecuteTime": {
     "end_time": "2023-05-08T17:20:06.836689Z",
     "start_time": "2023-05-08T17:18:17.245826Z"
    }
   },
   "outputs": [
    {
     "name": "stdout",
     "output_type": "stream",
     "text": [
      "3864/3864 [==============================] - 110s 28ms/step - loss: 0.1996\n"
     ]
    },
    {
     "data": {
      "text/plain": [
       "0.19961786270141602"
      ]
     },
     "execution_count": 19,
     "metadata": {},
     "output_type": "execute_result"
    }
   ],
   "source": [
    "# тест модели\n",
    "model.evaluate([X_time_test,X_amp_test], Y_binary_test, batch_size = 1)"
   ]
  },
  {
   "cell_type": "code",
   "execution_count": null,
   "metadata": {},
   "outputs": [],
   "source": []
  }
 ],
 "metadata": {
  "colab": {
   "provenance": []
  },
  "kernelspec": {
   "display_name": "Python 3 (ipykernel)",
   "language": "python",
   "name": "python3"
  },
  "language_info": {
   "codemirror_mode": {
    "name": "ipython",
    "version": 3
   },
   "file_extension": ".py",
   "mimetype": "text/x-python",
   "name": "python",
   "nbconvert_exporter": "python",
   "pygments_lexer": "ipython3",
   "version": "3.10.0"
  }
 },
 "nbformat": 4,
 "nbformat_minor": 1
}
