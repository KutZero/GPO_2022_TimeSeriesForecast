{
 "cells": [
  {
   "cell_type": "markdown",
   "metadata": {},
   "source": [
    "# Рисование карты дефектов с помощью модели ver_10"
   ]
  },
  {
   "cell_type": "code",
   "execution_count": 1,
   "metadata": {
    "ExecuteTime": {
     "end_time": "2023-05-24T07:13:00.067177Z",
     "start_time": "2023-05-24T07:12:57.206731Z"
    },
    "cell_style": "center",
    "id": "p6xN-IEhhbla"
   },
   "outputs": [],
   "source": [
    "# Подключенине библиотек\n",
    "import numpy as np\n",
    "import pandas as pd\n",
    "import matplotlib.pyplot as plt\n",
    "import tensorflow as tf\n",
    "\n",
    "import sys\n",
    "sys.path.append('custom_modules')\n",
    "\n",
    "import Data_processing as dp\n",
    "\n",
    "from matplotlib import ticker\n",
    "from IPython.display import display\n",
    "from tensorflow import keras"
   ]
  },
  {
   "cell_type": "markdown",
   "metadata": {
    "id": "wLCfK5LxQbD9"
   },
   "source": [
    "### Константы для путей к файлам"
   ]
  },
  {
   "cell_type": "code",
   "execution_count": 2,
   "metadata": {
    "ExecuteTime": {
     "end_time": "2023-05-24T07:13:00.082180Z",
     "start_time": "2023-05-24T07:13:00.068179Z"
    },
    "id": "bZHiwO4ShhEF"
   },
   "outputs": [],
   "source": [
    "# Пути к обработанным данным\n",
    "# Путь к X части выборки с массивами в каждой ячейке\n",
    "# Run1 - данные обучающей выборки\n",
    "# Run2 - данные тестовой выборки\n",
    "path_to_array_like_X_data = 'data/Prepared data/Run2/X_data_array_like.xlsx'\n",
    "# Путь к Y части выборки\n",
    "path_to_Y_data = 'data/Prepared data/Run2/Y_data(binary_classification).xlsx'\n"
   ]
  },
  {
   "cell_type": "markdown",
   "metadata": {
    "id": "0dxaXom0QbEB"
   },
   "source": [
    "### Константы для обработки данных"
   ]
  },
  {
   "cell_type": "code",
   "execution_count": 3,
   "metadata": {
    "ExecuteTime": {
     "end_time": "2023-05-24T07:13:00.097733Z",
     "start_time": "2023-05-24T07:13:00.083180Z"
    },
    "id": "J-6_JuU5QbEC"
   },
   "outputs": [],
   "source": [
    "# Размер кропа\n",
    "PREP_image_size = 64\n",
    "# Шаг кропа\n",
    "PREP_crop_step = 6"
   ]
  },
  {
   "cell_type": "code",
   "execution_count": 4,
   "metadata": {
    "ExecuteTime": {
     "end_time": "2023-05-24T07:13:00.113232Z",
     "start_time": "2023-05-24T07:13:00.098733Z"
    },
    "cell_style": "center",
    "id": "oicZsiTGQbEE"
   },
   "outputs": [],
   "source": [
    "# Детерминация случайных величин, отвечающих за выбор первоначальных весов и биасов\n",
    "tf.compat.v1.set_random_seed(290)\n",
    "tf.random.set_seed(290)"
   ]
  },
  {
   "cell_type": "code",
   "execution_count": 34,
   "metadata": {
    "ExecuteTime": {
     "end_time": "2023-05-17T17:21:31.451540Z",
     "start_time": "2023-05-17T17:21:31.442537Z"
    },
    "deletable": false,
    "editable": false,
    "run_control": {
     "frozen": true
    }
   },
   "outputs": [],
   "source": [
    "def extend_df_for_prediction(df, crop_size, crop_step):\n",
    "\n",
    "    print('||||||||||||||||||')\n",
    "    print('Df extending for better prediction')\n",
    "    print('Original df size: ', df.shape)\n",
    "    print('Crop windows height/width: ', crop_size)\n",
    "    print('Crop windows step across rows and cols: ', crop_step)\n",
    "\n",
    "    new_rows = df.shape[0] % crop_step\n",
    "    new_cols = df.shape[1] % crop_step\n",
    "\n",
    "\n",
    "    if new_rows != 1:\n",
    "        new_rows = crop_step - new_rows + 1\n",
    "        df = pd.concat([df,\n",
    "                        df.iloc[-1:-new_rows-1:-1]],\n",
    "                        axis=0,ignore_index=True)\n",
    "        print(f'Row fillers added: {new_rows}')\n",
    "    \n",
    "    if new_cols != 1:\n",
    "        new_cols = crop_step - new_cols + 1\n",
    "        df = pd.concat([df,\n",
    "                        df.iloc[:,-1:-new_cols-1:-1]],\n",
    "                        axis=1,ignore_index=True)\n",
    "        print(f'CoL fillers added: {new_cols}')\n",
    "\n",
    "    \n",
    "    print(f'Extending rows added: {crop_size - 1}')\n",
    "    print(f'Extending cols added: {crop_size - 1}')\n",
    "    df = pd.concat([df,df.iloc[:,:(crop_size - 1)]],axis=1,ignore_index=True)\n",
    "    df = pd.concat([df,df.iloc[:(crop_size - 1),:]],axis=0,ignore_index=True)\n",
    "    \n",
    "        \n",
    "    print('New df shape: ', df.shape)\n",
    "    print('||||||||||||||||||\\n')\n",
    "\n",
    "    return df"
   ]
  },
  {
   "cell_type": "code",
   "execution_count": 5,
   "metadata": {
    "ExecuteTime": {
     "end_time": "2023-05-24T07:13:00.128893Z",
     "start_time": "2023-05-24T07:13:00.114234Z"
    }
   },
   "outputs": [],
   "source": [
    "def extend_df_for_prediction_2(df, crop_size, crop_step):\n",
    "\n",
    "    print('||||||||||||||||||')\n",
    "    print('Df extending for better prediction')\n",
    "    print('Original df size: ', df.shape)\n",
    "    print('Crop windows height/width: ', crop_size)\n",
    "    print('Crop windows step across rows and cols: ', crop_step)\n",
    "        \n",
    "    extend_dims = crop_size - 1\n",
    "\n",
    "    df = pd.concat([df.iloc[:,-1 * extend_dims:],\n",
    "                    df,\n",
    "                    df.iloc[:,:extend_dims]],axis=1,ignore_index=True)\n",
    "    \n",
    "    df = pd.concat([df.iloc[extend_dims-1::-1,:], \n",
    "                    df,\n",
    "                    df.iloc[-1:extend_dims:-1,:]\n",
    "                    ],axis=0,ignore_index=True)\n",
    "        \n",
    "    print('New df shape: ', df.shape)\n",
    "    print('||||||||||||||||||\\n')\n",
    "    \n",
    "    dp.reshape_df_for_future_crops(df,crop_size,crop_step)\n",
    "\n",
    "    return df"
   ]
  },
  {
   "cell_type": "code",
   "execution_count": null,
   "metadata": {
    "ExecuteTime": {
     "end_time": "2023-05-24T07:11:34.202052Z",
     "start_time": "2023-05-24T07:11:34.081585Z"
    },
    "deletable": false,
    "editable": false,
    "run_control": {
     "frozen": true
    }
   },
   "outputs": [],
   "source": [
    "rows = 5\n",
    "cols = 5\n",
    "df = pd.DataFrame(np.stack([np.arange(cols) + i for i in range(rows)], axis=0)) #pd.DataFrame(np.zeros((7, 8)))\n",
    "\n",
    "fig, axes = plt.subplots(2)\n",
    "\n",
    "fig.set_figwidth(18)\n",
    "fig.set_figheight(6)\n",
    "\n",
    "axes[0].pcolormesh(df)\n",
    "axes[0].invert_yaxis()\n",
    "\n",
    "df = extend_df_for_prediction_2(df, 3, 2)\n",
    "\n",
    "axes[1].pcolormesh(df)\n",
    "axes[1].invert_yaxis()\n",
    "axes[1].xaxis.set_major_locator(ticker.MultipleLocator(1)) \n",
    "axes[1].yaxis.set_major_locator(ticker.MultipleLocator(1)) "
   ]
  },
  {
   "cell_type": "markdown",
   "metadata": {
    "id": "M3IDwA8GQbEP"
   },
   "source": [
    "# Загрузка данных"
   ]
  },
  {
   "cell_type": "code",
   "execution_count": 6,
   "metadata": {
    "ExecuteTime": {
     "end_time": "2023-05-24T07:13:03.311668Z",
     "start_time": "2023-05-24T07:13:00.129894Z"
    },
    "id": "opRWBSZpQbEP"
   },
   "outputs": [],
   "source": [
    "# загрузка данных из файлов\n",
    "X_dict = dict()\n",
    "Y_dict = dict()\n",
    "\n",
    "X_dict['df'] =  dp.get_array_like_X_df(path_to_array_like_X_data)#.iloc[:,200:]\n",
    "Y_dict['df'] =  dp.get_Y_df(path_to_Y_data)#.iloc[:,:200]\n",
    "\n",
    "# По желанию сдвиг по оси у\n",
    "#shift = 100\n",
    "\n",
    "#X_dict['df'] = pd.concat([X_dict['df'].iloc[:,shift:],X_dict['df'].iloc[:,:shift]],axis=1,ignore_index=True)\n",
    "#Y_dict['df'] = pd.concat([Y_dict['df'].iloc[:,shift:],Y_dict['df'].iloc[:,:shift]],axis=1,ignore_index=True)"
   ]
  },
  {
   "cell_type": "code",
   "execution_count": 7,
   "metadata": {
    "ExecuteTime": {
     "end_time": "2023-05-24T07:13:03.454414Z",
     "start_time": "2023-05-24T07:13:03.312668Z"
    }
   },
   "outputs": [
    {
     "data": {
      "image/png": "[encoded data removed]",
      "text/plain": [
       "<Figure size 1296x432 with 1 Axes>"
      ]
     },
     "metadata": {
      "needs_background": "light"
     },
     "output_type": "display_data"
    }
   ],
   "source": [
    "# Построить карту дефектов для считанного файла\n",
    "# до всяких обработок\n",
    "fig, axes = plt.subplots()\n",
    "\n",
    "fig.set_figwidth(18)\n",
    "fig.set_figheight(6)\n",
    "\n",
    "axes.pcolormesh(Y_dict['df'])\n",
    "axes.invert_yaxis()\n",
    "\n",
    "axes.set_xlabel('Номер датчика', fontsize=15) \n",
    "axes.set_ylabel('Номер измерения', fontsize=15) \n",
    "axes.set_title(f'Карта дефектов', fontsize=15) \n",
    "\n",
    "#  Устанавливаем интервал основных делений: \n",
    "axes.xaxis.set_major_locator(ticker.MultipleLocator(20)) \n",
    "axes.yaxis.set_major_locator(ticker.MultipleLocator(15)) \n",
    " \n",
    "#  Устанавливаем форматирование чисел основных делений: \n",
    "axes.xaxis.set_major_formatter(ticker.FormatStrFormatter('%.d')) \n",
    "axes.yaxis.set_major_formatter(ticker.FormatStrFormatter('%.d')) \n",
    " \n",
    "#  Устанавливаем форматирование делений: \n",
    "axes.xaxis.set_tick_params(which = 'major', labelsize = 15, labelrotation = 45) \n",
    "axes.yaxis.set_tick_params(which = 'major', labelsize = 15) \n",
    "\n",
    "plt.show()"
   ]
  },
  {
   "cell_type": "markdown",
   "metadata": {},
   "source": [
    "# Обработка данных"
   ]
  },
  {
   "cell_type": "code",
   "execution_count": 8,
   "metadata": {
    "ExecuteTime": {
     "end_time": "2023-05-24T07:13:03.470418Z",
     "start_time": "2023-05-24T07:13:03.455414Z"
    }
   },
   "outputs": [
    {
     "name": "stdout",
     "output_type": "stream",
     "text": [
      "||||||||||| X df preprocessing |||||||||||\n",
      "||||||||||||||||||\n",
      "Df extending for better prediction\n",
      "Original df size:  (119, 400)\n",
      "Crop windows height/width:  64\n",
      "Crop windows step across rows and cols:  6\n",
      "Extending cols added: 126\n",
      "Extending rows added: 126\n",
      "New df shape:  (237, 526)\n",
      "||||||||||||||||||\n",
      "\n",
      "||||||||||||||||||\n",
      "Df reshaping for exact splitting with crop_size\n",
      "Original df size:  (237, 526)\n",
      "Crop windows height/width:  64\n",
      "Crop windows step across rows and cols:  6\n",
      "New df shape:  (238, 526)\n",
      "||||||||||||||||||\n",
      "\n",
      "||||||||||| Y df preprocessing |||||||||||\n",
      "||||||||||||||||||\n",
      "Df extending for better prediction\n",
      "Original df size:  (119, 400)\n",
      "Crop windows height/width:  64\n",
      "Crop windows step across rows and cols:  6\n",
      "Extending cols added: 126\n",
      "Extending rows added: 126\n",
      "New df shape:  (237, 526)\n",
      "||||||||||||||||||\n",
      "\n",
      "||||||||||||||||||\n",
      "Df reshaping for exact splitting with crop_size\n",
      "Original df size:  (237, 526)\n",
      "Crop windows height/width:  64\n",
      "Crop windows step across rows and cols:  6\n",
      "New df shape:  (238, 526)\n",
      "||||||||||||||||||\n",
      "\n",
      "\n",
      "\n"
     ]
    }
   ],
   "source": [
    "# Добавление строк в датафреймы\n",
    "# Справа к каждому датафрейму дописывается по 64\n",
    "# элемента, чтобы сымитировать сканирование \n",
    "# трубы по всей окружности фильтром размера 64 на 64\n",
    "# а еще дописывается некоторое количество строк и столбцов\n",
    "# меньшее чем шаг кропа. Чтобы датафрейм можно было поделить\n",
    "# на целое кол-во кропов\n",
    "\n",
    "print('||||||||||| X df preprocessing |||||||||||')\n",
    "X_dict['df'] = extend_df_for_prediction_2(X_dict['df'], PREP_image_size, PREP_crop_step)\n",
    "\n",
    "\n",
    "\n",
    "print('||||||||||| Y df preprocessing |||||||||||')\n",
    "Y_dict['df'] = extend_df_for_prediction_2(Y_dict['df'], PREP_image_size, PREP_crop_step)\n",
    "\n",
    "print('\\n')"
   ]
  },
  {
   "cell_type": "code",
   "execution_count": null,
   "metadata": {
    "ExecuteTime": {
     "end_time": "2023-05-17T15:39:27.780004Z",
     "start_time": "2023-05-17T15:39:27.765001Z"
    },
    "colab": {
     "base_uri": "https://localhost:8080/"
    },
    "deletable": false,
    "editable": false,
    "id": "JpYrdVggQbER",
    "outputId": "3a3019d2-f190-46c8-a928-f5b9089ffc64",
    "run_control": {
     "frozen": true
    }
   },
   "outputs": [],
   "source": [
    "# Добавление строк в датафреймы\n",
    "# Справа к каждому датафрейму дописывается по 64\n",
    "# элемента, чтобы сымитировать сканирование \n",
    "# трубы по всей окружности фильтром размера 64 на 64\n",
    "# а еще дописывается некоторое количество строк и столбцов\n",
    "# меньшее чем шаг кропа. Чтобы датафрейм можно было поделить\n",
    "# на целое кол-во кропов\n",
    "\n",
    "extend_dims = PREP_image_size - PREP_crop_step\n",
    "\n",
    "print('||||||||||| X df preprocessing |||||||||||')\n",
    "print('Original df size: ', X_dict['df'] .shape)\n",
    "X_dict['df'] = pd.concat([X_dict['df'],X_dict['df'].iloc[:,:extend_dims]],axis=1,ignore_index=True)\n",
    "X_dict['df'] = pd.concat([X_dict['df'],X_dict['df'].iloc[:extend_dims,:]],axis=0,ignore_index=True)\n",
    "ADDED_df_rows = X_dict['df'].shape[0]\n",
    "ADDED_df_cols = X_dict['df'].shape[1]\n",
    "print('Result df size: ', X_dict['df'].shape)\n",
    "X_dict['df'] = dp.reshape_df_for_future_crops(X_dict['df'], PREP_image_size, PREP_crop_step)\n",
    "ADDED_df_rows = X_dict['df'].shape[0] - ADDED_df_rows\n",
    "ADDED_df_cols = X_dict['df'].shape[1] - ADDED_df_cols\n",
    "\n",
    "\n",
    "print('||||||||||| Y df preprocessing |||||||||||')\n",
    "print('Original df size: ', Y_dict['df'].shape)\n",
    "Y_dict['df'] = pd.concat([Y_dict['df'],Y_dict['df'].iloc[:,:extend_dims]],axis=1,ignore_index=True)\n",
    "Y_dict['df'] = pd.concat([Y_dict['df'],Y_dict['df'].iloc[:extend_dims,:]],axis=0,ignore_index=True)\n",
    "print('Original df size: ', Y_dict['df'].shape)\n",
    "Y_dict['df'] = dp.reshape_df_for_future_crops(Y_dict['df'], PREP_image_size, PREP_crop_step)\n",
    "\n",
    "print('\\n')"
   ]
  },
  {
   "cell_type": "markdown",
   "metadata": {},
   "source": [
    "### Константы для обработки данных"
   ]
  },
  {
   "cell_type": "code",
   "execution_count": 9,
   "metadata": {
    "ExecuteTime": {
     "end_time": "2023-05-24T07:13:03.486304Z",
     "start_time": "2023-05-24T07:13:03.471418Z"
    }
   },
   "outputs": [],
   "source": [
    "# Запишем размеры датафреймов после обработки\n",
    "PREP_df_cols = Y_dict['df'].shape[1]\n",
    "PREP_df_rows = Y_dict['df'].shape[0]"
   ]
  },
  {
   "cell_type": "code",
   "execution_count": 10,
   "metadata": {
    "ExecuteTime": {
     "end_time": "2023-05-24T07:13:03.662514Z",
     "start_time": "2023-05-24T07:13:03.487305Z"
    }
   },
   "outputs": [
    {
     "data": {
      "image/png": "[encoded data removed]",
      "text/plain": [
       "<Figure size 1296x432 with 1 Axes>"
      ]
     },
     "metadata": {
      "needs_background": "light"
     },
     "output_type": "display_data"
    }
   ],
   "source": [
    "# Выведем карту дефектов после первичного расширения\n",
    "fig, axes = plt.subplots()\n",
    "\n",
    "fig.set_figwidth(18)\n",
    "fig.set_figheight(6)\n",
    "\n",
    "axes.pcolormesh(Y_dict['df'])\n",
    "axes.invert_yaxis()\n",
    "axes.set_xlabel('Номер датчика', fontsize=15) \n",
    "axes.set_ylabel('Номер измерения', fontsize=15) \n",
    "axes.set_title(f'Карта дефектов', fontsize=15) \n",
    "\n",
    "#  Устанавливаем интервал основных делений: \n",
    "axes.xaxis.set_major_locator(ticker.MultipleLocator(20)) \n",
    "axes.yaxis.set_major_locator(ticker.MultipleLocator(15)) \n",
    " \n",
    "#  Устанавливаем форматирование чисел основных делений: \n",
    "axes.xaxis.set_major_formatter(ticker.FormatStrFormatter('%.d')) \n",
    "axes.yaxis.set_major_formatter(ticker.FormatStrFormatter('%.d')) \n",
    " \n",
    "#  Устанавливаем форматирование делений: \n",
    "axes.xaxis.set_tick_params(which = 'major', labelsize = 15, labelrotation = 45) \n",
    "axes.yaxis.set_tick_params(which = 'major', labelsize = 15) \n",
    "\n",
    "plt.show()"
   ]
  },
  {
   "cell_type": "code",
   "execution_count": 12,
   "metadata": {
    "ExecuteTime": {
     "end_time": "2023-05-17T17:07:39.279643Z",
     "start_time": "2023-05-17T17:07:33.063296Z"
    },
    "colab": {
     "base_uri": "https://localhost:8080/"
    },
    "id": "fJMMLFK0QbES",
    "outputId": "564394aa-ab18-4de9-d21c-7482739bfe19"
   },
   "outputs": [
    {
     "name": "stdout",
     "output_type": "stream",
     "text": [
      "||||||||||| X df preprocessing |||||||||||\n",
      "||||||||||||||||||\n",
      "X df reshaping to 4D\n",
      "Original df size:  (184, 466)\n",
      "Crop windows height/width:  64\n",
      "Crop windows step across rows and cols:  6\n",
      "New X_time shape:  (1428, 64, 64, 32)\n",
      "New X_amp shape:  (1428, 64, 64, 32)\n",
      "||||||||||||||||||\n",
      "\n",
      "||||||||||| Y df preprocessing |||||||||||\n",
      "||||||||||||||||||\n",
      "Y df reshaping to 3D\n",
      "Original df size:  (184, 466)\n",
      "Crop windows height/width:  64\n",
      "Crop windows step across rows and cols:  6\n",
      "New numpy shape:  (1428, 64, 64, 1)\n",
      "||||||||||||||||||\n",
      "\n",
      "\n",
      "\n"
     ]
    }
   ],
   "source": [
    "# Запишем в словарь numpy array нарезанные из считанных датафреймов\n",
    "\n",
    "print('||||||||||| X df preprocessing |||||||||||')\n",
    "x_time_temp, \\\n",
    "x_amp_temp = dp.reshape_X_df_to_image_like_numpy(X_dict['df'], \n",
    "                                                    PREP_image_size, \n",
    "                                                    PREP_crop_step)\n",
    "X_dict['X_time_all'] = x_time_temp.astype('float32')\n",
    "X_dict['X_amp_all'] = x_amp_temp.astype('float32')\n",
    "\n",
    "X_dict.pop('df',0)\n",
    "\n",
    "print('||||||||||| Y df preprocessing |||||||||||')\n",
    "y_temp = dp.reshape_Y_df_to_image_like_numpy(Y_dict['df'], \n",
    "                                             PREP_image_size, \n",
    "                                             PREP_crop_step)\n",
    "Y_dict['Y_mask_all'] = y_temp.astype('int8')\n",
    "\n",
    "Y_dict.pop('df',0)\n",
    "\n",
    "print('\\n')\n",
    "    \n",
    "    "
   ]
  },
  {
   "cell_type": "code",
   "execution_count": 13,
   "metadata": {
    "ExecuteTime": {
     "end_time": "2023-05-17T17:07:39.295649Z",
     "start_time": "2023-05-17T17:07:39.279643Z"
    }
   },
   "outputs": [
    {
     "name": "stdout",
     "output_type": "stream",
     "text": [
      "|||||||||||||| X dataset ||||||||||||||||\n",
      "X_time_all.shape:  (1428, 64, 64, 32)\n",
      "X_amp_all.shape:  (1428, 64, 64, 32)\n",
      "\n",
      "|||||||||||||| Y dataset ||||||||||||||||\n",
      "Y_mask_all.shape:  (1428, 64, 64, 1)\n"
     ]
    }
   ],
   "source": [
    "print('|||||||||||||| X dataset ||||||||||||||||')\n",
    "for key in X_dict.keys():\n",
    "    print(f\"{key}.shape: \", X_dict[key].shape)\n",
    "\n",
    "print('\\n|||||||||||||| Y dataset ||||||||||||||||')\n",
    "for key in Y_dict.keys():\n",
    "    print(f\"{key}.shape: \", Y_dict[key].shape)"
   ]
  },
  {
   "cell_type": "markdown",
   "metadata": {},
   "source": [
    "# CNN с 2 входами по времени и амплитуде"
   ]
  },
  {
   "cell_type": "code",
   "execution_count": 14,
   "metadata": {
    "ExecuteTime": {
     "end_time": "2023-05-17T17:07:40.204841Z",
     "start_time": "2023-05-17T17:07:39.297650Z"
    }
   },
   "outputs": [],
   "source": [
    "# Загрузка модели\n",
    "model = keras.models.load_model('Networks//CNN//NetWork_(64x32+64x32)_to(1)_(test_0dot0366)_ver_10.h5')"
   ]
  },
  {
   "cell_type": "code",
   "execution_count": 15,
   "metadata": {
    "ExecuteTime": {
     "end_time": "2023-05-17T17:08:04.045866Z",
     "start_time": "2023-05-17T17:07:40.205842Z"
    }
   },
   "outputs": [
    {
     "name": "stdout",
     "output_type": "stream",
     "text": [
      "45/45 [==============================] - 24s 520ms/step\n",
      "(1428, 1)\n"
     ]
    }
   ],
   "source": [
    "# Предсказание модели\n",
    "res = model.predict([X_dict['X_time_all'],X_dict['X_amp_all']])\n",
    "print(res.shape)"
   ]
  },
  {
   "cell_type": "code",
   "execution_count": 16,
   "metadata": {
    "ExecuteTime": {
     "end_time": "2023-05-17T17:08:04.203901Z",
     "start_time": "2023-05-17T17:08:04.046866Z"
    }
   },
   "outputs": [],
   "source": [
    "# Преобразовать массив результатов работы модели размера (batch,1)\n",
    "# в матрицу размера PREP_df_rows * PREP_df_cols (карту дефектов, построенную моделью)\n",
    "# Размер выходной матрицы - PREP_df_rows * PREP_df_cols\n",
    "# Так как начальное расширение датафрейма на PREP_image_size по 2 осям\n",
    "# тут учитывается грубо, то размер выходной матрицы будет также\n",
    "# PREP_df_rows * PREP_df_cols, а ячейки по конрутру будут размыты \n",
    "# и не точны, так как по ним фильтр прошел меньше раз чем по ячейкам \n",
    "# посреди матрицы\n",
    "\n",
    "def reshape_2D_Y_numpy_to_2D(arr, rows_count, cols_count, crop_size, step = -1):\n",
    "\n",
    "    print('||||||||||||||||||')\n",
    "    print('Y arr reshaping to 2D')\n",
    "    print('Original arr size: ', arr.shape)\n",
    "    print('Crop windows height/width: ', crop_size)\n",
    "    print('Crop windows step across rows and cols: ', step)\n",
    "\n",
    "    if step == -1:\n",
    "        step = crop_size\n",
    "    \n",
    "    new_arr = np.zeros((rows_count, cols_count))\n",
    "    \n",
    "    arr = arr[:,0]\n",
    "    myit = iter(arr)    \n",
    "    \n",
    "    for j in range(0,  cols_count - crop_size + 1, step):\n",
    "        for i in range(0, rows_count - crop_size + 1, step):\n",
    "            temp_add = next(myit)\n",
    "            temp_orig = new_arr[i:i+crop_size,j:j+crop_size]\n",
    "            \n",
    "            if temp_add > 0.5:\n",
    "                temp_orig = temp_orig + 0.1\n",
    "            if temp_add <= 0.5:\n",
    "                temp_orig = temp_orig - 0.1\n",
    "                \n",
    "            '''ones_filter = temp_orig > 1\n",
    "            zeros_filter = temp_orig < 0\n",
    "            \n",
    "            temp_orig[ones_filter] = 1\n",
    "            temp_orig[zeros_filter] = 0'''\n",
    "            \n",
    "            new_arr[i:i+crop_size,j:j+crop_size] = temp_orig       \n",
    "            \n",
    "    print('New numpy shape: ', new_arr.shape)\n",
    "    print('||||||||||||||||||\\n')\n",
    "\n",
    "    return new_arr"
   ]
  },
  {
   "cell_type": "code",
   "execution_count": 17,
   "metadata": {
    "ExecuteTime": {
     "end_time": "2023-05-17T17:08:04.219905Z",
     "start_time": "2023-05-17T17:08:04.204902Z"
    }
   },
   "outputs": [],
   "source": [
    "# Преобразовать массив результатов работы модели размера (batch,1)\n",
    "# Так как начальное расширение датафрейма на crop_size по 2 осям\n",
    "\n",
    "def reshape_2D_Y_numpy_to_2D_2(arr, rows_count, cols_count, crop_size, step = -1):\n",
    "\n",
    "    print('||||||||||||||||||')\n",
    "    print('Y arr reshaping to 2D')\n",
    "    print('Crops arr size: ', arr.shape)\n",
    "    print('Crop windows height/width: ', crop_size)\n",
    "    print('Crop windows step across rows and cols: ', step)\n",
    "    print(f'Expanded map size: ({rows_count},{cols_count})')\n",
    "    print()\n",
    "\n",
    "    new_rows = rows_count - crop_size + 1\n",
    "    new_cols = cols_count - crop_size + 1\n",
    "    \n",
    "    new_arr = np.zeros((new_rows,new_cols))\n",
    "    \n",
    "    arr = arr[:,0]\n",
    "    myit = iter(arr)    \n",
    "    \n",
    "    for j in range(0,  cols_count - crop_size + 1, step):\n",
    "        for i in range(0, rows_count - crop_size + 1, step):\n",
    "            temp_add_num = next(myit)\n",
    "            if temp_add_num > 0.5:\n",
    "                add_num = 0.1\n",
    "            if temp_add_num <= 0.5:\n",
    "                add_num = - 0.1\n",
    "\n",
    "            if i <= new_rows - crop_size:\n",
    "                if j <= new_cols - crop_size:\n",
    "                    temp_orig = new_arr[i:i+crop_size,j:j+crop_size] + add_num\n",
    "                    new_arr[i:i+crop_size,j:j+crop_size] = temp_orig  \n",
    "                elif j <= new_cols:\n",
    "                    right_orig = new_arr[i:i+crop_size,j:] + add_num\n",
    "                    left_orig = new_arr[i:i+crop_size,:crop_size - right_orig.shape[1]] + add_num\n",
    "                    new_arr[i:i+crop_size,j:] = right_orig\n",
    "                    new_arr[i:i+crop_size,:crop_size - right_orig.shape[1]] = left_orig\n",
    "\n",
    "            elif i <= new_rows:\n",
    "                if j <= new_cols - crop_size:\n",
    "                    low_orig = new_arr[i:,j:j+crop_size] + add_num\n",
    "                    high_orig = new_arr[:crop_size - low_orig.shape[0],j:j+crop_size] + add_num\n",
    "                    new_arr[i:,j:j+crop_size] = low_orig \n",
    "                    new_arr[:crop_size - low_orig.shape[0],j:j+crop_size] = high_orig \n",
    "                elif j <= new_cols:\n",
    "                    right_low = new_arr[i:,j:] + add_num\n",
    "                    right_high = new_arr[:crop_size - low_orig.shape[0],j:] + add_num\n",
    "                    \n",
    "                    left_low = new_arr[i:,:crop_size - right_high.shape[1]] + add_num\n",
    "                    left_high = new_arr[:crop_size - low_orig.shape[0],:crop_size - right_high.shape[1]] + add_num\n",
    "                    \n",
    "                    new_arr[i:,j:] = right_low\n",
    "                    new_arr[:crop_size - low_orig.shape[0],j:] = right_high\n",
    "                    new_arr[i:,:crop_size - right_high.shape[1]] = left_low\n",
    "                    new_arr[:crop_size - low_orig.shape[0],:crop_size - right_high.shape[1]] = left_high\n",
    "                          \n",
    "            \n",
    "    print('New numpy shape: ', new_arr.shape)\n",
    "    print('||||||||||||||||||\\n')\n",
    "\n",
    "    return new_arr"
   ]
  },
  {
   "cell_type": "code",
   "execution_count": 23,
   "metadata": {
    "ExecuteTime": {
     "end_time": "2023-05-17T17:14:54.504278Z",
     "start_time": "2023-05-17T17:14:54.498265Z"
    }
   },
   "outputs": [],
   "source": [
    "# Преобразовать массив результатов работы модели размера (batch,1)\n",
    "# в матрицу размера PREP_df_rows * PREP_df_cols (карту дефектов, построенную моделью)\n",
    "# Размер выходной матрицы - PREP_df_rows * PREP_df_cols\n",
    "# Так как начальное расширение датафрейма на PREP_image_size по 2 осям\n",
    "# тут учитывается грубо, то размер выходной матрицы будет также\n",
    "# PREP_df_rows * PREP_df_cols, а ячейки по конрутру будут размыты \n",
    "# и не точны, так как по ним фильтр прошел меньше раз чем по ячейкам \n",
    "# посреди матрицы\n",
    "\n",
    "def test_reshape_2D_Y_numpy_to_2D(rows_count, cols_count, crop_size, step = -1):\n",
    "\n",
    "    print('||||||||||||||||||')\n",
    "    print('Y arr reshaping to 2D')\n",
    "    print('Crop windows height/width: ', crop_size)\n",
    "    print('Crop windows step across rows and cols: ', step)\n",
    "\n",
    "    if step == -1:\n",
    "        step = crop_size\n",
    "    \n",
    "    new_arr = np.zeros((rows_count, cols_count))\n",
    "      \n",
    "    \n",
    "    for j in range(0,  cols_count - crop_size + 1, step):\n",
    "        for i in range(0, rows_count - crop_size + 1, step):\n",
    "            new_arr[i:i+crop_size,j:j+crop_size] += 1      \n",
    "            \n",
    "    print('New numpy shape: ', new_arr.shape)\n",
    "    print('||||||||||||||||||\\n')\n",
    "\n",
    "    return new_arr"
   ]
  },
  {
   "cell_type": "code",
   "execution_count": 24,
   "metadata": {
    "ExecuteTime": {
     "end_time": "2023-05-17T17:14:54.925962Z",
     "start_time": "2023-05-17T17:14:54.905184Z"
    }
   },
   "outputs": [],
   "source": [
    "# Преобразовать массив результатов работы модели размера (batch,1)\n",
    "# Так как начальное расширение датафрейма на crop_size по 2 осям\n",
    "\n",
    "def test_reshape_2D_Y_numpy_to_2D_2(rows_count, cols_count, crop_size, step = -1):\n",
    "\n",
    "    print('||||||||||||||||||')\n",
    "    print('Y arr reshaping to 2D')\n",
    "    print('Crop windows height/width: ', crop_size)\n",
    "    print('Crop windows step across rows and cols: ', step)\n",
    "    print(f'Expanded map size: ({rows_count},{cols_count})')\n",
    "    print()\n",
    "\n",
    "    new_rows = rows_count - crop_size + 1\n",
    "    new_cols = cols_count - crop_size + 1\n",
    "    \n",
    "    new_arr = np.zeros((new_rows,new_cols))  \n",
    "    \n",
    "    add_num = 1\n",
    "    \n",
    "    for j in range(0,  cols_count - crop_size + 1, step):\n",
    "        for i in range(0, rows_count - crop_size + 1, step):\n",
    "            \n",
    "            if i <= new_rows - crop_size:\n",
    "                if j <= new_cols - crop_size:\n",
    "                    temp_orig = new_arr[i:i+crop_size,j:j+crop_size] + add_num\n",
    "                    new_arr[i:i+crop_size,j:j+crop_size] = temp_orig  \n",
    "                elif j <= new_cols:\n",
    "                    right_orig = new_arr[i:i+crop_size,j:] + add_num\n",
    "                    left_orig = new_arr[i:i+crop_size,:crop_size - right_orig.shape[1]] + add_num\n",
    "                    new_arr[i:i+crop_size,j:] = right_orig\n",
    "                    new_arr[i:i+crop_size,:crop_size - right_orig.shape[1]] = left_orig\n",
    "\n",
    "            elif i <= new_rows:\n",
    "                if j <= new_cols - crop_size:\n",
    "                    low_orig = new_arr[i:,j:j+crop_size] + add_num\n",
    "                    high_orig = new_arr[:crop_size - low_orig.shape[0],j:j+crop_size] + add_num\n",
    "                    new_arr[i:,j:j+crop_size] = low_orig \n",
    "                    new_arr[:crop_size - low_orig.shape[0],j:j+crop_size] = high_orig \n",
    "                elif j <= new_cols:\n",
    "                    right_low = new_arr[i:,j:] + add_num\n",
    "                    right_high = new_arr[:crop_size - low_orig.shape[0],j:] + add_num\n",
    "                    \n",
    "                    left_low = new_arr[i:,:crop_size - right_high.shape[1]] + add_num\n",
    "                    left_high = new_arr[:crop_size - low_orig.shape[0],:crop_size - right_high.shape[1]] + add_num\n",
    "                    \n",
    "                    new_arr[i:,j:] = right_low\n",
    "                    new_arr[:crop_size - low_orig.shape[0],j:] = right_high\n",
    "                    new_arr[i:,:crop_size - right_high.shape[1]] = left_low\n",
    "                    new_arr[:crop_size - low_orig.shape[0],:crop_size - right_high.shape[1]] = left_high\n",
    "                          \n",
    "            \n",
    "    print('New numpy shape: ', new_arr.shape)\n",
    "    print('||||||||||||||||||\\n')\n",
    "\n",
    "    return new_arr"
   ]
  },
  {
   "cell_type": "code",
   "execution_count": 32,
   "metadata": {
    "ExecuteTime": {
     "end_time": "2023-05-17T17:18:19.739746Z",
     "start_time": "2023-05-17T17:18:19.712260Z"
    }
   },
   "outputs": [
    {
     "data": {
      "text/html": [
       "<div>\n",
       "<style scoped>\n",
       "    .dataframe tbody tr th:only-of-type {\n",
       "        vertical-align: middle;\n",
       "    }\n",
       "\n",
       "    .dataframe tbody tr th {\n",
       "        vertical-align: top;\n",
       "    }\n",
       "\n",
       "    .dataframe thead th {\n",
       "        text-align: right;\n",
       "    }\n",
       "</style>\n",
       "<table border=\"1\" class=\"dataframe\">\n",
       "  <thead>\n",
       "    <tr style=\"text-align: right;\">\n",
       "      <th></th>\n",
       "      <th>0</th>\n",
       "      <th>1</th>\n",
       "      <th>2</th>\n",
       "      <th>3</th>\n",
       "      <th>4</th>\n",
       "      <th>5</th>\n",
       "      <th>6</th>\n",
       "      <th>7</th>\n",
       "    </tr>\n",
       "  </thead>\n",
       "  <tbody>\n",
       "    <tr>\n",
       "      <th>0</th>\n",
       "      <td>0.0</td>\n",
       "      <td>0.0</td>\n",
       "      <td>0.0</td>\n",
       "      <td>0.0</td>\n",
       "      <td>0.0</td>\n",
       "      <td>0.0</td>\n",
       "      <td>0.0</td>\n",
       "      <td>0.0</td>\n",
       "    </tr>\n",
       "    <tr>\n",
       "      <th>1</th>\n",
       "      <td>0.0</td>\n",
       "      <td>0.0</td>\n",
       "      <td>0.0</td>\n",
       "      <td>0.0</td>\n",
       "      <td>0.0</td>\n",
       "      <td>0.0</td>\n",
       "      <td>0.0</td>\n",
       "      <td>0.0</td>\n",
       "    </tr>\n",
       "    <tr>\n",
       "      <th>2</th>\n",
       "      <td>0.0</td>\n",
       "      <td>0.0</td>\n",
       "      <td>0.0</td>\n",
       "      <td>0.0</td>\n",
       "      <td>0.0</td>\n",
       "      <td>0.0</td>\n",
       "      <td>0.0</td>\n",
       "      <td>0.0</td>\n",
       "    </tr>\n",
       "    <tr>\n",
       "      <th>3</th>\n",
       "      <td>0.0</td>\n",
       "      <td>0.0</td>\n",
       "      <td>0.0</td>\n",
       "      <td>0.0</td>\n",
       "      <td>0.0</td>\n",
       "      <td>0.0</td>\n",
       "      <td>0.0</td>\n",
       "      <td>0.0</td>\n",
       "    </tr>\n",
       "    <tr>\n",
       "      <th>4</th>\n",
       "      <td>0.0</td>\n",
       "      <td>0.0</td>\n",
       "      <td>0.0</td>\n",
       "      <td>0.0</td>\n",
       "      <td>0.0</td>\n",
       "      <td>0.0</td>\n",
       "      <td>0.0</td>\n",
       "      <td>0.0</td>\n",
       "    </tr>\n",
       "    <tr>\n",
       "      <th>5</th>\n",
       "      <td>0.0</td>\n",
       "      <td>0.0</td>\n",
       "      <td>0.0</td>\n",
       "      <td>0.0</td>\n",
       "      <td>0.0</td>\n",
       "      <td>0.0</td>\n",
       "      <td>0.0</td>\n",
       "      <td>0.0</td>\n",
       "    </tr>\n",
       "    <tr>\n",
       "      <th>6</th>\n",
       "      <td>0.0</td>\n",
       "      <td>0.0</td>\n",
       "      <td>0.0</td>\n",
       "      <td>0.0</td>\n",
       "      <td>0.0</td>\n",
       "      <td>0.0</td>\n",
       "      <td>0.0</td>\n",
       "      <td>0.0</td>\n",
       "    </tr>\n",
       "  </tbody>\n",
       "</table>\n",
       "</div>"
      ],
      "text/plain": [
       "     0    1    2    3    4    5    6    7\n",
       "0  0.0  0.0  0.0  0.0  0.0  0.0  0.0  0.0\n",
       "1  0.0  0.0  0.0  0.0  0.0  0.0  0.0  0.0\n",
       "2  0.0  0.0  0.0  0.0  0.0  0.0  0.0  0.0\n",
       "3  0.0  0.0  0.0  0.0  0.0  0.0  0.0  0.0\n",
       "4  0.0  0.0  0.0  0.0  0.0  0.0  0.0  0.0\n",
       "5  0.0  0.0  0.0  0.0  0.0  0.0  0.0  0.0\n",
       "6  0.0  0.0  0.0  0.0  0.0  0.0  0.0  0.0"
      ]
     },
     "metadata": {},
     "output_type": "display_data"
    },
    {
     "name": "stdout",
     "output_type": "stream",
     "text": [
      "||||||||||||||||||\n",
      "Df extending for better prediction\n",
      "Original df size:  (7, 8)\n",
      "Crop windows height/width:  5\n",
      "Crop windows step across rows and cols:  1\n",
      "Row fillers added: 2\n",
      "CoL fillers added: 2\n",
      "Extending rows added: 4\n",
      "Extending cols added: 4\n",
      "New df shape:  (13, 14)\n",
      "||||||||||||||||||\n",
      "\n"
     ]
    },
    {
     "data": {
      "text/html": [
       "<div>\n",
       "<style scoped>\n",
       "    .dataframe tbody tr th:only-of-type {\n",
       "        vertical-align: middle;\n",
       "    }\n",
       "\n",
       "    .dataframe tbody tr th {\n",
       "        vertical-align: top;\n",
       "    }\n",
       "\n",
       "    .dataframe thead th {\n",
       "        text-align: right;\n",
       "    }\n",
       "</style>\n",
       "<table border=\"1\" class=\"dataframe\">\n",
       "  <thead>\n",
       "    <tr style=\"text-align: right;\">\n",
       "      <th></th>\n",
       "      <th>0</th>\n",
       "      <th>1</th>\n",
       "      <th>2</th>\n",
       "      <th>3</th>\n",
       "      <th>4</th>\n",
       "      <th>5</th>\n",
       "      <th>6</th>\n",
       "      <th>7</th>\n",
       "      <th>8</th>\n",
       "      <th>9</th>\n",
       "      <th>10</th>\n",
       "      <th>11</th>\n",
       "      <th>12</th>\n",
       "      <th>13</th>\n",
       "    </tr>\n",
       "  </thead>\n",
       "  <tbody>\n",
       "    <tr>\n",
       "      <th>0</th>\n",
       "      <td>0.0</td>\n",
       "      <td>0.0</td>\n",
       "      <td>0.0</td>\n",
       "      <td>0.0</td>\n",
       "      <td>0.0</td>\n",
       "      <td>0.0</td>\n",
       "      <td>0.0</td>\n",
       "      <td>0.0</td>\n",
       "      <td>0.0</td>\n",
       "      <td>0.0</td>\n",
       "      <td>0.0</td>\n",
       "      <td>0.0</td>\n",
       "      <td>0.0</td>\n",
       "      <td>0.0</td>\n",
       "    </tr>\n",
       "    <tr>\n",
       "      <th>1</th>\n",
       "      <td>0.0</td>\n",
       "      <td>0.0</td>\n",
       "      <td>0.0</td>\n",
       "      <td>0.0</td>\n",
       "      <td>0.0</td>\n",
       "      <td>0.0</td>\n",
       "      <td>0.0</td>\n",
       "      <td>0.0</td>\n",
       "      <td>0.0</td>\n",
       "      <td>0.0</td>\n",
       "      <td>0.0</td>\n",
       "      <td>0.0</td>\n",
       "      <td>0.0</td>\n",
       "      <td>0.0</td>\n",
       "    </tr>\n",
       "    <tr>\n",
       "      <th>2</th>\n",
       "      <td>0.0</td>\n",
       "      <td>0.0</td>\n",
       "      <td>0.0</td>\n",
       "      <td>0.0</td>\n",
       "      <td>0.0</td>\n",
       "      <td>0.0</td>\n",
       "      <td>0.0</td>\n",
       "      <td>0.0</td>\n",
       "      <td>0.0</td>\n",
       "      <td>0.0</td>\n",
       "      <td>0.0</td>\n",
       "      <td>0.0</td>\n",
       "      <td>0.0</td>\n",
       "      <td>0.0</td>\n",
       "    </tr>\n",
       "    <tr>\n",
       "      <th>3</th>\n",
       "      <td>0.0</td>\n",
       "      <td>0.0</td>\n",
       "      <td>0.0</td>\n",
       "      <td>0.0</td>\n",
       "      <td>0.0</td>\n",
       "      <td>0.0</td>\n",
       "      <td>0.0</td>\n",
       "      <td>0.0</td>\n",
       "      <td>0.0</td>\n",
       "      <td>0.0</td>\n",
       "      <td>0.0</td>\n",
       "      <td>0.0</td>\n",
       "      <td>0.0</td>\n",
       "      <td>0.0</td>\n",
       "    </tr>\n",
       "    <tr>\n",
       "      <th>4</th>\n",
       "      <td>0.0</td>\n",
       "      <td>0.0</td>\n",
       "      <td>0.0</td>\n",
       "      <td>0.0</td>\n",
       "      <td>0.0</td>\n",
       "      <td>0.0</td>\n",
       "      <td>0.0</td>\n",
       "      <td>0.0</td>\n",
       "      <td>0.0</td>\n",
       "      <td>0.0</td>\n",
       "      <td>0.0</td>\n",
       "      <td>0.0</td>\n",
       "      <td>0.0</td>\n",
       "      <td>0.0</td>\n",
       "    </tr>\n",
       "    <tr>\n",
       "      <th>5</th>\n",
       "      <td>0.0</td>\n",
       "      <td>0.0</td>\n",
       "      <td>0.0</td>\n",
       "      <td>0.0</td>\n",
       "      <td>0.0</td>\n",
       "      <td>0.0</td>\n",
       "      <td>0.0</td>\n",
       "      <td>0.0</td>\n",
       "      <td>0.0</td>\n",
       "      <td>0.0</td>\n",
       "      <td>0.0</td>\n",
       "      <td>0.0</td>\n",
       "      <td>0.0</td>\n",
       "      <td>0.0</td>\n",
       "    </tr>\n",
       "    <tr>\n",
       "      <th>6</th>\n",
       "      <td>0.0</td>\n",
       "      <td>0.0</td>\n",
       "      <td>0.0</td>\n",
       "      <td>0.0</td>\n",
       "      <td>0.0</td>\n",
       "      <td>0.0</td>\n",
       "      <td>0.0</td>\n",
       "      <td>0.0</td>\n",
       "      <td>0.0</td>\n",
       "      <td>0.0</td>\n",
       "      <td>0.0</td>\n",
       "      <td>0.0</td>\n",
       "      <td>0.0</td>\n",
       "      <td>0.0</td>\n",
       "    </tr>\n",
       "    <tr>\n",
       "      <th>7</th>\n",
       "      <td>0.0</td>\n",
       "      <td>0.0</td>\n",
       "      <td>0.0</td>\n",
       "      <td>0.0</td>\n",
       "      <td>0.0</td>\n",
       "      <td>0.0</td>\n",
       "      <td>0.0</td>\n",
       "      <td>0.0</td>\n",
       "      <td>0.0</td>\n",
       "      <td>0.0</td>\n",
       "      <td>0.0</td>\n",
       "      <td>0.0</td>\n",
       "      <td>0.0</td>\n",
       "      <td>0.0</td>\n",
       "    </tr>\n",
       "    <tr>\n",
       "      <th>8</th>\n",
       "      <td>0.0</td>\n",
       "      <td>0.0</td>\n",
       "      <td>0.0</td>\n",
       "      <td>0.0</td>\n",
       "      <td>0.0</td>\n",
       "      <td>0.0</td>\n",
       "      <td>0.0</td>\n",
       "      <td>0.0</td>\n",
       "      <td>0.0</td>\n",
       "      <td>0.0</td>\n",
       "      <td>0.0</td>\n",
       "      <td>0.0</td>\n",
       "      <td>0.0</td>\n",
       "      <td>0.0</td>\n",
       "    </tr>\n",
       "    <tr>\n",
       "      <th>9</th>\n",
       "      <td>0.0</td>\n",
       "      <td>0.0</td>\n",
       "      <td>0.0</td>\n",
       "      <td>0.0</td>\n",
       "      <td>0.0</td>\n",
       "      <td>0.0</td>\n",
       "      <td>0.0</td>\n",
       "      <td>0.0</td>\n",
       "      <td>0.0</td>\n",
       "      <td>0.0</td>\n",
       "      <td>0.0</td>\n",
       "      <td>0.0</td>\n",
       "      <td>0.0</td>\n",
       "      <td>0.0</td>\n",
       "    </tr>\n",
       "    <tr>\n",
       "      <th>10</th>\n",
       "      <td>0.0</td>\n",
       "      <td>0.0</td>\n",
       "      <td>0.0</td>\n",
       "      <td>0.0</td>\n",
       "      <td>0.0</td>\n",
       "      <td>0.0</td>\n",
       "      <td>0.0</td>\n",
       "      <td>0.0</td>\n",
       "      <td>0.0</td>\n",
       "      <td>0.0</td>\n",
       "      <td>0.0</td>\n",
       "      <td>0.0</td>\n",
       "      <td>0.0</td>\n",
       "      <td>0.0</td>\n",
       "    </tr>\n",
       "    <tr>\n",
       "      <th>11</th>\n",
       "      <td>0.0</td>\n",
       "      <td>0.0</td>\n",
       "      <td>0.0</td>\n",
       "      <td>0.0</td>\n",
       "      <td>0.0</td>\n",
       "      <td>0.0</td>\n",
       "      <td>0.0</td>\n",
       "      <td>0.0</td>\n",
       "      <td>0.0</td>\n",
       "      <td>0.0</td>\n",
       "      <td>0.0</td>\n",
       "      <td>0.0</td>\n",
       "      <td>0.0</td>\n",
       "      <td>0.0</td>\n",
       "    </tr>\n",
       "    <tr>\n",
       "      <th>12</th>\n",
       "      <td>0.0</td>\n",
       "      <td>0.0</td>\n",
       "      <td>0.0</td>\n",
       "      <td>0.0</td>\n",
       "      <td>0.0</td>\n",
       "      <td>0.0</td>\n",
       "      <td>0.0</td>\n",
       "      <td>0.0</td>\n",
       "      <td>0.0</td>\n",
       "      <td>0.0</td>\n",
       "      <td>0.0</td>\n",
       "      <td>0.0</td>\n",
       "      <td>0.0</td>\n",
       "      <td>0.0</td>\n",
       "    </tr>\n",
       "  </tbody>\n",
       "</table>\n",
       "</div>"
      ],
      "text/plain": [
       "     0    1    2    3    4    5    6    7    8    9    10   11   12   13\n",
       "0   0.0  0.0  0.0  0.0  0.0  0.0  0.0  0.0  0.0  0.0  0.0  0.0  0.0  0.0\n",
       "1   0.0  0.0  0.0  0.0  0.0  0.0  0.0  0.0  0.0  0.0  0.0  0.0  0.0  0.0\n",
       "2   0.0  0.0  0.0  0.0  0.0  0.0  0.0  0.0  0.0  0.0  0.0  0.0  0.0  0.0\n",
       "3   0.0  0.0  0.0  0.0  0.0  0.0  0.0  0.0  0.0  0.0  0.0  0.0  0.0  0.0\n",
       "4   0.0  0.0  0.0  0.0  0.0  0.0  0.0  0.0  0.0  0.0  0.0  0.0  0.0  0.0\n",
       "5   0.0  0.0  0.0  0.0  0.0  0.0  0.0  0.0  0.0  0.0  0.0  0.0  0.0  0.0\n",
       "6   0.0  0.0  0.0  0.0  0.0  0.0  0.0  0.0  0.0  0.0  0.0  0.0  0.0  0.0\n",
       "7   0.0  0.0  0.0  0.0  0.0  0.0  0.0  0.0  0.0  0.0  0.0  0.0  0.0  0.0\n",
       "8   0.0  0.0  0.0  0.0  0.0  0.0  0.0  0.0  0.0  0.0  0.0  0.0  0.0  0.0\n",
       "9   0.0  0.0  0.0  0.0  0.0  0.0  0.0  0.0  0.0  0.0  0.0  0.0  0.0  0.0\n",
       "10  0.0  0.0  0.0  0.0  0.0  0.0  0.0  0.0  0.0  0.0  0.0  0.0  0.0  0.0\n",
       "11  0.0  0.0  0.0  0.0  0.0  0.0  0.0  0.0  0.0  0.0  0.0  0.0  0.0  0.0\n",
       "12  0.0  0.0  0.0  0.0  0.0  0.0  0.0  0.0  0.0  0.0  0.0  0.0  0.0  0.0"
      ]
     },
     "metadata": {},
     "output_type": "display_data"
    }
   ],
   "source": [
    "df = pd.DataFrame(np.zeros((7, 8)))\n",
    "display(df)\n",
    "df = extend_df_for_prediction(df, 5, 1)\n",
    "display(df)"
   ]
  },
  {
   "cell_type": "code",
   "execution_count": 33,
   "metadata": {
    "ExecuteTime": {
     "end_time": "2023-05-17T17:18:22.335682Z",
     "start_time": "2023-05-17T17:18:22.222915Z"
    }
   },
   "outputs": [
    {
     "name": "stdout",
     "output_type": "stream",
     "text": [
      "||||||||||||||||||\n",
      "Y arr reshaping to 2D\n",
      "Crop windows height/width:  5\n",
      "Crop windows step across rows and cols:  1\n",
      "New numpy shape:  (13, 14)\n",
      "||||||||||||||||||\n",
      "\n",
      "||||||||||||||||||\n",
      "Y arr reshaping to 2D\n",
      "Crop windows height/width:  5\n",
      "Crop windows step across rows and cols:  1\n",
      "Expanded map size: (13,14)\n",
      "\n",
      "New numpy shape:  (9, 10)\n",
      "||||||||||||||||||\n",
      "\n"
     ]
    },
    {
     "data": {
      "text/plain": [
       "array([[ 1.,  2.,  3.,  4.,  5.,  5.,  5.,  5.,  5.,  5.,  4.,  3.,  2.,\n",
       "         1.],\n",
       "       [ 2.,  4.,  6.,  8., 10., 10., 10., 10., 10., 10.,  8.,  6.,  4.,\n",
       "         2.],\n",
       "       [ 3.,  6.,  9., 12., 15., 15., 15., 15., 15., 15., 12.,  9.,  6.,\n",
       "         3.],\n",
       "       [ 4.,  8., 12., 16., 20., 20., 20., 20., 20., 20., 16., 12.,  8.,\n",
       "         4.],\n",
       "       [ 5., 10., 15., 20., 25., 25., 25., 25., 25., 25., 20., 15., 10.,\n",
       "         5.],\n",
       "       [ 5., 10., 15., 20., 25., 25., 25., 25., 25., 25., 20., 15., 10.,\n",
       "         5.],\n",
       "       [ 5., 10., 15., 20., 25., 25., 25., 25., 25., 25., 20., 15., 10.,\n",
       "         5.],\n",
       "       [ 5., 10., 15., 20., 25., 25., 25., 25., 25., 25., 20., 15., 10.,\n",
       "         5.],\n",
       "       [ 5., 10., 15., 20., 25., 25., 25., 25., 25., 25., 20., 15., 10.,\n",
       "         5.],\n",
       "       [ 4.,  8., 12., 16., 20., 20., 20., 20., 20., 20., 16., 12.,  8.,\n",
       "         4.],\n",
       "       [ 3.,  6.,  9., 12., 15., 15., 15., 15., 15., 15., 12.,  9.,  6.,\n",
       "         3.],\n",
       "       [ 2.,  4.,  6.,  8., 10., 10., 10., 10., 10., 10.,  8.,  6.,  4.,\n",
       "         2.],\n",
       "       [ 1.,  2.,  3.,  4.,  5.,  5.,  5.,  5.,  5.,  5.,  4.,  3.,  2.,\n",
       "         1.]])"
      ]
     },
     "metadata": {},
     "output_type": "display_data"
    },
    {
     "data": {
      "text/plain": [
       "array([[25., 25., 25., 25., 25., 25., 25., 25., 25., 25.],\n",
       "       [29., 28., 27., 26., 25., 25., 26., 27., 28., 29.],\n",
       "       [33., 31., 29., 27., 25., 25., 27., 29., 31., 33.],\n",
       "       [37., 34., 31., 28., 25., 25., 28., 31., 34., 37.],\n",
       "       [25., 25., 25., 25., 25., 25., 25., 25., 25., 25.],\n",
       "       [25., 25., 25., 25., 25., 25., 25., 25., 25., 25.],\n",
       "       [25., 25., 25., 25., 25., 25., 25., 25., 25., 25.],\n",
       "       [25., 25., 25., 25., 25., 25., 25., 25., 25., 25.],\n",
       "       [25., 25., 25., 25., 25., 25., 25., 25., 25., 25.]])"
      ]
     },
     "metadata": {},
     "output_type": "display_data"
    },
    {
     "data": {
      "text/plain": [
       "<matplotlib.collections.QuadMesh at 0x1eb2bdb2f50>"
      ]
     },
     "execution_count": 33,
     "metadata": {},
     "output_type": "execute_result"
    },
    {
     "data": {
      "image/png": "[encoded data removed]",
      "text/plain": [
       "<Figure size 432x288 with 2 Axes>"
      ]
     },
     "metadata": {
      "needs_background": "light"
     },
     "output_type": "display_data"
    }
   ],
   "source": [
    "res_1 = test_reshape_2D_Y_numpy_to_2D(df.shape[0], df.shape[1], 5, 1)\n",
    "res_2 = test_reshape_2D_Y_numpy_to_2D_2(df.shape[0], df.shape[1], 5, 1)\n",
    "\n",
    "display(res_1)\n",
    "display(res_2)\n",
    "\n",
    "fig, axes = plt.subplots(2)\n",
    "\n",
    "axes[0].pcolormesh(res_1)\n",
    "axes[1].pcolormesh(res_2)"
   ]
  },
  {
   "cell_type": "code",
   "execution_count": 18,
   "metadata": {
    "ExecuteTime": {
     "end_time": "2023-05-17T17:08:04.266916Z",
     "start_time": "2023-05-17T17:08:04.220906Z"
    }
   },
   "outputs": [
    {
     "name": "stdout",
     "output_type": "stream",
     "text": [
      "||||||||||||||||||\n",
      "Y arr reshaping to 2D\n",
      "Original arr size:  (1428, 1)\n",
      "Crop windows height/width:  64\n",
      "Crop windows step across rows and cols:  6\n",
      "New numpy shape:  (184, 466)\n",
      "||||||||||||||||||\n",
      "\n",
      "||||||||||||||||||\n",
      "Y arr reshaping to 2D\n",
      "Crops arr size:  (1428, 1)\n",
      "Crop windows height/width:  64\n",
      "Crop windows step across rows and cols:  6\n",
      "Expanded map size: (184,466)\n",
      "\n",
      "New numpy shape:  (121, 403)\n",
      "||||||||||||||||||\n",
      "\n"
     ]
    }
   ],
   "source": [
    "# Посчитаем карту дефектов на основании предсказаний модели 2 методами\n",
    "map_1 = reshape_2D_Y_numpy_to_2D(res, PREP_df_rows, PREP_df_cols, PREP_image_size, PREP_crop_step)\n",
    "map_2 = reshape_2D_Y_numpy_to_2D_2(res, PREP_df_rows, PREP_df_cols, PREP_image_size, PREP_crop_step)"
   ]
  },
  {
   "cell_type": "markdown",
   "metadata": {},
   "source": [
    "# Построение карт дефектов моделью"
   ]
  },
  {
   "cell_type": "markdown",
   "metadata": {},
   "source": [
    "## Грубое построение карты"
   ]
  },
  {
   "cell_type": "code",
   "execution_count": 19,
   "metadata": {
    "ExecuteTime": {
     "end_time": "2023-05-17T17:08:04.424951Z",
     "start_time": "2023-05-17T17:08:04.267917Z"
    }
   },
   "outputs": [
    {
     "data": {
      "image/png": "[encoded data removed]",
      "text/plain": [
       "<Figure size 1296x432 with 1 Axes>"
      ]
     },
     "metadata": {
      "needs_background": "light"
     },
     "output_type": "display_data"
    }
   ],
   "source": [
    "fig, axes = plt.subplots()\n",
    "\n",
    "fig.set_figwidth(18)\n",
    "fig.set_figheight(6)\n",
    "\n",
    "axes.pcolormesh(map_1)\n",
    "axes.invert_yaxis()\n",
    "axes.set_xlabel('Номер датчика', fontsize=10) \n",
    "axes.set_ylabel('Номер измерения', fontsize=10) \n",
    "axes.set_title(f'Карта дефектов', fontsize=10) \n",
    "\n",
    "#  Устанавливаем интервал основных делений: \n",
    "axes.xaxis.set_major_locator(ticker.MultipleLocator(20)) \n",
    "axes.yaxis.set_major_locator(ticker.MultipleLocator(15)) \n",
    " \n",
    "#  Устанавливаем форматирование чисел основных делений: \n",
    "axes.xaxis.set_major_formatter(ticker.FormatStrFormatter('%.d')) \n",
    "axes.yaxis.set_major_formatter(ticker.FormatStrFormatter('%.d')) \n",
    " \n",
    "#  Устанавливаем форматирование делений: \n",
    "axes.xaxis.set_tick_params(which = 'major', labelsize = 15, labelrotation = 45) \n",
    "axes.yaxis.set_tick_params(which = 'major', labelsize = 15) \n",
    "\n",
    "plt.subplots_adjust(left=0.1, bottom=0.1, right=0.9, top=0.9, wspace=0.1, hspace=0.2)\n",
    "plt.show()"
   ]
  },
  {
   "cell_type": "markdown",
   "metadata": {},
   "source": [
    "## Умное построение карты"
   ]
  },
  {
   "cell_type": "code",
   "execution_count": 20,
   "metadata": {
    "ExecuteTime": {
     "end_time": "2023-05-17T17:08:04.570293Z",
     "start_time": "2023-05-17T17:08:04.425952Z"
    }
   },
   "outputs": [
    {
     "data": {
      "image/png": "[encoded data removed]",
      "text/plain": [
       "<Figure size 1296x432 with 1 Axes>"
      ]
     },
     "metadata": {
      "needs_background": "light"
     },
     "output_type": "display_data"
    }
   ],
   "source": [
    "fig, axes = plt.subplots()\n",
    "\n",
    "fig.set_figwidth(18)\n",
    "fig.set_figheight(6)\n",
    "\n",
    "axes.pcolormesh(map_2)\n",
    "axes.invert_yaxis()\n",
    "axes.set_xlabel('Номер датчика', fontsize=10) \n",
    "axes.set_ylabel('Номер измерения', fontsize=10) \n",
    "axes.set_title(f'Карта дефектов', fontsize=10) \n",
    "\n",
    "#  Устанавливаем интервал основных делений: \n",
    "axes.xaxis.set_major_locator(ticker.MultipleLocator(20)) \n",
    "axes.yaxis.set_major_locator(ticker.MultipleLocator(15)) \n",
    " \n",
    "#  Устанавливаем форматирование чисел основных делений: \n",
    "axes.xaxis.set_major_formatter(ticker.FormatStrFormatter('%.d')) \n",
    "axes.yaxis.set_major_formatter(ticker.FormatStrFormatter('%.d')) \n",
    " \n",
    "#  Устанавливаем форматирование делений: \n",
    "axes.xaxis.set_tick_params(which = 'major', labelsize = 15, labelrotation = 45) \n",
    "axes.yaxis.set_tick_params(which = 'major', labelsize = 15) \n",
    "\n",
    "plt.subplots_adjust(left=0.1, bottom=0.1, right=0.9, top=0.9, wspace=0.1, hspace=0.2)\n",
    "plt.show()"
   ]
  },
  {
   "cell_type": "code",
   "execution_count": null,
   "metadata": {},
   "outputs": [],
   "source": []
  }
 ],
 "metadata": {
  "colab": {
   "provenance": []
  },
  "kernelspec": {
   "display_name": "Python 3 (ipykernel)",
   "language": "python",
   "name": "python3"
  },
  "language_info": {
   "codemirror_mode": {
    "name": "ipython",
    "version": 3
   },
   "file_extension": ".py",
   "mimetype": "text/x-python",
   "name": "python",
   "nbconvert_exporter": "python",
   "pygments_lexer": "ipython3",
   "version": "3.10.0"
  }
 },
 "nbformat": 4,
 "nbformat_minor": 1
}
