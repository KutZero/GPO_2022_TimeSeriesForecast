{
 "cells": [
  {
   "cell_type": "code",
   "execution_count": 1,
   "id": "075d553d",
   "metadata": {
    "ExecuteTime": {
     "end_time": "2023-05-24T16:48:23.620652Z",
     "start_time": "2023-05-24T16:48:19.884164Z"
    },
    "id": "075d553d"
   },
   "outputs": [],
   "source": [
    "import os\n",
    "import pandas as pd\n",
    "import numpy as np\n",
    "import re\n",
    "import matplotlib.pyplot as plt\n",
    "import psycopg2\n",
    "import datetime\n",
    "\n",
    "from IPython.display import display"
   ]
  },
  {
   "cell_type": "code",
   "execution_count": 2,
   "id": "18f55450",
   "metadata": {
    "ExecuteTime": {
     "end_time": "2023-05-24T16:23:36.608515Z",
     "start_time": "2023-05-24T16:23:36.597522Z"
    },
    "id": "18f55450"
   },
   "outputs": [],
   "source": [
    "path_to_X_data = 'data\\\\Original data\\\\Run1\\\\run1_WM32_data.csv' \n",
    "path_to_Y_data = 'data\\\\Original data\\\\Run1\\\\run1_WM32_defects.csv' "
   ]
  },
  {
   "cell_type": "code",
   "execution_count": 11,
   "id": "265e5b82",
   "metadata": {
    "ExecuteTime": {
     "end_time": "2023-05-24T16:23:51.893923Z",
     "start_time": "2023-05-24T16:23:51.882929Z"
    }
   },
   "outputs": [],
   "source": [
    "db_name = 'gpo_2023'\n",
    "pg_host = 'localhost'\n",
    "sql_user = 'postgres'\n",
    "sql_pwd = '12345'\n",
    "port = '5432'\n",
    "schema_name = 'public'"
   ]
  },
  {
   "cell_type": "code",
   "execution_count": 12,
   "id": "d5513080",
   "metadata": {
    "ExecuteTime": {
     "end_time": "2023-05-24T16:23:51.924905Z",
     "start_time": "2023-05-24T16:23:51.897921Z"
    }
   },
   "outputs": [],
   "source": [
    "insert_in_import_files_x_query = \"\"\"INSERT INTO public.import_file_x (id, file_name, create_date) VALUES (%s, %s, %s)\"\"\"\n",
    "insert_in_import_files_y_query = \"\"\"INSERT INTO public.import_file_y (id, file_name, create_date) VALUES (%s, %s, %s)\"\"\"\n",
    "\n",
    "insert_in_bool_measure = \"\"\"INSERT INTO public.bool_measure  \n",
    "    (row_id, detector_id, file_id, defect_state) VALUES\"\"\"\n",
    "insert_in_array_measure = \"\"\"INSERT INTO public.array_measure\n",
    "    (row_id, detector_id, file_id, time_values, amplitude_values) VALUES\"\"\""
   ]
  },
  {
   "cell_type": "code",
   "execution_count": 3,
   "id": "4d1240fc",
   "metadata": {
    "ExecuteTime": {
     "end_time": "2023-05-24T16:23:36.623837Z",
     "start_time": "2023-05-24T16:23:36.612512Z"
    },
    "id": "4d1240fc"
   },
   "outputs": [],
   "source": [
    "def get_df(path: str):\n",
    "    df = pd.read_csv(path, delimiter=';')\n",
    "    return df"
   ]
  },
  {
   "cell_type": "code",
   "execution_count": 4,
   "id": "Gq7VP7aLLcnZ",
   "metadata": {
    "ExecuteTime": {
     "end_time": "2023-05-24T16:23:36.655524Z",
     "start_time": "2023-05-24T16:23:36.627840Z"
    },
    "id": "Gq7VP7aLLcnZ"
   },
   "outputs": [],
   "source": [
    "def to_list_of_64_values(x):\n",
    "  # делим начальную строку на пары чисел\n",
    "  # пары чисел тут - это просто строки\n",
    "  x = str(x).split(',')\n",
    "\n",
    "  # делим пары чисел из строк и преобразуем в numpy\n",
    "  x = list(map(lambda y: str(y).split(':'), x))\n",
    "  x = np.array(x)\n",
    "\n",
    "  # если в ячейке не было данных\n",
    "  if x.shape[0] == x.shape[1] == 1:\n",
    "    x = np.zeros(64).astype(float)\n",
    "    return x\n",
    "\n",
    "  # если где то у числа не будет хватать пары\n",
    "  if x.shape[1] != 2:\n",
    "    print(x.shape)\n",
    "    print('\\nerror')\n",
    "    x = np.zeros(64).astype(float)\n",
    "    return x\n",
    "\n",
    "  # добавляем числа-заполнители чтобы в каждой ячейке итогового датасета было по 64 числа\n",
    "  x = np.pad(x, ((0,32 - len(x)),(0,0)), 'constant', constant_values=(0))\n",
    "\n",
    "  # меняем располоение числел в итоговом массиве\n",
    "  # теперь они не идут попарно (время, амплитуда)\n",
    "  # а 1 измерение, где первые 32 числа - значения времени, \n",
    "  # а вторые 32 - амплитуды\n",
    "  left_x = x[:,0]\n",
    "  right_x = x[:,1]\n",
    "  x = np.concatenate((left_x, right_x), axis=0)\n",
    "  x = x.astype(float)\n",
    "  \n",
    "  return x"
   ]
  },
  {
   "cell_type": "code",
   "execution_count": 5,
   "id": "6c6e5f3e",
   "metadata": {
    "ExecuteTime": {
     "end_time": "2023-05-24T16:23:36.671514Z",
     "start_time": "2023-05-24T16:23:36.660521Z"
    }
   },
   "outputs": [],
   "source": [
    "def to_str(x):\n",
    "  return np.array2string(x, precision=4, separator=',',floatmode='fixed')[1:-1]"
   ]
  },
  {
   "cell_type": "code",
   "execution_count": 6,
   "id": "8ef0e147",
   "metadata": {
    "ExecuteTime": {
     "end_time": "2023-05-24T16:23:36.687501Z",
     "start_time": "2023-05-24T16:23:36.674510Z"
    }
   },
   "outputs": [],
   "source": [
    "def get_row_defects_dataframe(row_df, orig_df):\n",
    "    temp_df = orig_df\n",
    "\n",
    "    row_min = row_df.loc['row_min']\n",
    "    row_max = row_df.loc['row_max'] + 1\n",
    "    detector_min = row_df.loc['detector_min']   \n",
    "    detector_max = row_df.loc['detector_max']     \n",
    "\n",
    "    if (detector_min < detector_max):\n",
    "        result_df = temp_df.iloc[row_min:row_max,detector_min:detector_max+1]\n",
    "    else:\n",
    "        result_df = pd.concat(\n",
    "            [temp_df.iloc[row_min:row_max,:detector_max+1],\n",
    "             temp_df.iloc[row_min:row_max,detector_min:]], axis=1)\n",
    "        \n",
    "    result_df[:] = 1\n",
    "    \n",
    "    return result_df"
   ]
  },
  {
   "cell_type": "markdown",
   "id": "fg6EHpHyaGiJ",
   "metadata": {
    "id": "fg6EHpHyaGiJ"
   },
   "source": [
    "# Чтение данных"
   ]
  },
  {
   "cell_type": "code",
   "execution_count": 7,
   "id": "51d26635",
   "metadata": {
    "ExecuteTime": {
     "end_time": "2023-05-24T16:23:37.114387Z",
     "start_time": "2023-05-24T16:23:36.690504Z"
    },
    "id": "51d26635"
   },
   "outputs": [],
   "source": [
    "# Чтение данных из файлов\n",
    "first_X_df = get_df(path_to_X_data)\n",
    "first_Y_df = get_df(path_to_Y_data)"
   ]
  },
  {
   "cell_type": "code",
   "execution_count": 8,
   "id": "6aba6dd5",
   "metadata": {
    "ExecuteTime": {
     "end_time": "2023-05-24T16:23:37.146363Z",
     "start_time": "2023-05-24T16:23:37.116379Z"
    }
   },
   "outputs": [],
   "source": [
    "# Первичная обработка X данных\n",
    "first_X_df = first_X_df.drop(['position'], axis=1)\n",
    "first_X_df['row'] = first_X_df['row'].astype(int)\n",
    "first_X_df = first_X_df.set_index('row')\n",
    "\n",
    "# Первичная обработка Y данных\n",
    "first_Y_df = first_Y_df.loc[:,'row_min':'detector_max']\n",
    "\n",
    "# важные переменные\n",
    "PREP_rows_count = first_X_df.shape[0]\n",
    "PREP_detectors_count = first_X_df.shape[1]"
   ]
  },
  {
   "cell_type": "code",
   "execution_count": 9,
   "id": "7RV1_6G-8VF1",
   "metadata": {
    "ExecuteTime": {
     "end_time": "2023-05-24T16:23:51.752108Z",
     "start_time": "2023-05-24T16:23:37.149359Z"
    },
    "colab": {
     "base_uri": "https://localhost:8080/",
     "height": 1000
    },
    "id": "7RV1_6G-8VF1",
    "outputId": "86337cc4-5f33-46a0-adaf-8136e4f58a06"
   },
   "outputs": [],
   "source": [
    "X_df = first_X_df.apply(lambda x: x.apply(to_list_of_64_values, convert_dtype=True))\n",
    "# теперь в каждой ячейке находится одномерный массив из 64 значений\n",
    "# первые 32 - значения времени (если в оригинале значений было меньше 32, то к ним дописаны нули)\n",
    "# вторые 32 - значения амплитуды (если в оригинале значений было меньше 32, то к ним дописаны нули)"
   ]
  },
  {
   "cell_type": "code",
   "execution_count": null,
   "id": "92ea07f5",
   "metadata": {
    "ExecuteTime": {
     "end_time": "2023-05-24T16:23:51.878930Z",
     "start_time": "2023-05-24T16:23:51.755009Z"
    }
   },
   "outputs": [],
   "source": [
    "# создание датафрейма определенного вида для записи в него показателей дефектов \n",
    "Y_df = pd.DataFrame(np.zeros((PREP_rows_count,PREP_detectors_count)))\n",
    "\n",
    "Y_df.columns = [f'detector_{i}' for i in range(Y_df.shape[1])]\n",
    "\n",
    "# обработка Y данных\n",
    "for row_name in first_Y_df.index.values.tolist():\n",
    "    temp_df = get_row_defects_dataframe(first_Y_df.loc[row_name], Y_df)\n",
    "    \n",
    "    # наложить один датафрейм на другой с учетом имен столбцов и индектов\n",
    "    Y_df.loc[temp_df.index.values.tolist(),list(temp_df.columns)] = temp_df\n",
    "\n",
    "Y_df.index.name = 'Row'\n",
    "Y_df.to_numpy(dtype='bool')\n",
    "print()"
   ]
  },
  {
   "cell_type": "markdown",
   "id": "dc2e077e",
   "metadata": {},
   "source": [
    "# Запись данных в базу данных"
   ]
  },
  {
   "cell_type": "code",
   "execution_count": 13,
   "id": "591e2e76",
   "metadata": {
    "ExecuteTime": {
     "end_time": "2023-05-24T16:23:52.066849Z",
     "start_time": "2023-05-24T16:23:51.928902Z"
    }
   },
   "outputs": [],
   "source": [
    "# подключение к бд\n",
    "conn = psycopg2.connect(database=db_name,\n",
    "                        host=pg_host,\n",
    "                        user=sql_user,\n",
    "                        password=sql_pwd,\n",
    "                        port=port)\n",
    "with conn:\n",
    "    with conn.cursor() as cursor:\n",
    "        cursor.execute('SET search_path to ' + schema_name)"
   ]
  },
  {
   "cell_type": "code",
   "execution_count": 15,
   "id": "0b4b4c9e",
   "metadata": {
    "ExecuteTime": {
     "end_time": "2023-05-24T16:24:12.870530Z",
     "start_time": "2023-05-24T16:24:12.851539Z"
    }
   },
   "outputs": [],
   "source": [
    "# проверка того, сколько записей в таблице import_file_x и import_file_x\n",
    "result = 0\n",
    "\n",
    "with conn:\n",
    "    with conn.cursor() as cursor:\n",
    "        cursor.execute('SELECT id FROM public.import_file_x')\n",
    "        result = cursor.fetchall()\n",
    "    \n",
    "if len(result) == 0:\n",
    "    last_file_id = 0\n",
    "else:\n",
    "    last_file_id = result[-1][0] + 1"
   ]
  },
  {
   "cell_type": "code",
   "execution_count": 16,
   "id": "df4f4141",
   "metadata": {
    "ExecuteTime": {
     "end_time": "2023-05-24T16:24:13.918516Z",
     "start_time": "2023-05-24T16:24:13.891530Z"
    }
   },
   "outputs": [],
   "source": [
    "# вставка инфы в import_files_x и import_files_x\n",
    "with conn:\n",
    "    with conn.cursor() as cursor:\n",
    "        cursor.execute(insert_in_import_files_x_query, \n",
    "                       (last_file_id, \n",
    "                        path_to_X_data.split('\\\\')[-1], \n",
    "                        datetime.date.today().strftime(\"%Y-%m-%d\")))\n",
    "\n",
    "with conn:\n",
    "    with conn.cursor() as cursor:       \n",
    "        cursor.execute(insert_in_import_files_y_query, \n",
    "                       (last_file_id, \n",
    "                        path_to_Y_data.split('\\\\')[-1], \n",
    "                        datetime.date.today().strftime(\"%Y-%m-%d\")))\n",
    "\n",
    "conn.commit()"
   ]
  },
  {
   "cell_type": "code",
   "execution_count": 20,
   "id": "37b026fd",
   "metadata": {
    "ExecuteTime": {
     "end_time": "2023-05-24T16:25:55.961597Z",
     "start_time": "2023-05-24T16:25:53.923522Z"
    }
   },
   "outputs": [],
   "source": [
    "for i in range(PREP_rows_count):\n",
    "    temp_i_arr = np.full((PREP_detectors_count), i)\n",
    "    temp_j_arr = np.arange(PREP_detectors_count)\n",
    "    temp_file_id_arr = np.full((PREP_detectors_count), last_file_id)\n",
    "    temp_i_defect_state_arr = Y_df.iloc[i,:].to_numpy().astype(bool)\n",
    "    \n",
    "    temp_tuple = list(zip(temp_i_arr, temp_j_arr, temp_file_id_arr, temp_i_defect_state_arr))\n",
    "\n",
    "    temp_tuple_str = ','.join(['(' + ','.join([str(item) for item in row]) + ')' for row in temp_tuple])\n",
    "    \n",
    "    with conn:\n",
    "        with conn.cursor() as cursor:\n",
    "            cursor.execute(insert_in_bool_measure + temp_tuple_str)\n",
    "        \n",
    "conn.commit()"
   ]
  },
  {
   "cell_type": "code",
   "execution_count": 23,
   "id": "e306def3",
   "metadata": {
    "ExecuteTime": {
     "end_time": "2023-05-24T16:29:13.730221Z",
     "start_time": "2023-05-24T16:28:20.569040Z"
    }
   },
   "outputs": [],
   "source": [
    "for i in range(PREP_rows_count):\n",
    "    temp_i_arr = np.full((PREP_detectors_count), i)\n",
    "    temp_j_arr = np.arange(PREP_detectors_count)\n",
    "    temp_file_id_arr = np.full((PREP_detectors_count), last_file_id)\n",
    "    temp_i_time_values_arr = ['\\'{' + to_str(item) + '}\\'' for item in X_df.iloc[i,:][:32]]\n",
    "    temp_i_amplitude_values_arr = ['\\'{' + to_str(item) + '}\\'' for item in X_df.iloc[i,:][32:]]\n",
    "    \n",
    "    temp_tuple = list(zip(temp_i_arr, temp_j_arr, temp_file_id_arr, \n",
    "                          temp_i_time_values_arr, temp_i_amplitude_values_arr))\n",
    "\n",
    "    temp_tuple_str = ','.join(['(' + ','.join([str(item) for item in row]) + ')' for row in temp_tuple])\n",
    "        \n",
    "    with conn:\n",
    "        with conn.cursor() as cursor:\n",
    "            cursor.execute(insert_in_array_measure + temp_tuple_str)\n",
    "        \n",
    "conn.commit()"
   ]
  },
  {
   "cell_type": "code",
   "execution_count": 24,
   "id": "33e018e2",
   "metadata": {
    "ExecuteTime": {
     "end_time": "2023-05-24T16:29:18.210732Z",
     "start_time": "2023-05-24T16:29:18.200737Z"
    }
   },
   "outputs": [],
   "source": [
    "cursor.close()\n",
    "conn.close()"
   ]
  }
 ],
 "metadata": {
  "colab": {
   "provenance": []
  },
  "kernelspec": {
   "display_name": "Python 3 (ipykernel)",
   "language": "python",
   "name": "python3"
  },
  "language_info": {
   "codemirror_mode": {
    "name": "ipython",
    "version": 3
   },
   "file_extension": ".py",
   "mimetype": "text/x-python",
   "name": "python",
   "nbconvert_exporter": "python",
   "pygments_lexer": "ipython3",
   "version": "3.8.12"
  }
 },
 "nbformat": 4,
 "nbformat_minor": 5
}
