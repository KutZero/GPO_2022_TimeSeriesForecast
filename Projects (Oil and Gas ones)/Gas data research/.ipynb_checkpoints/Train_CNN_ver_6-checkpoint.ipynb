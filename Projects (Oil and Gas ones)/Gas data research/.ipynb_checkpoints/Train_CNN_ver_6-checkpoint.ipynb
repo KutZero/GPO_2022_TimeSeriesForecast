{
 "cells": [
  {
   "cell_type": "code",
   "execution_count": 1,
   "metadata": {
    "ExecuteTime": {
     "end_time": "2023-04-25T09:30:34.586367Z",
     "start_time": "2023-04-25T09:30:26.350148Z"
    },
    "cell_style": "center",
    "id": "p6xN-IEhhbla"
   },
   "outputs": [],
   "source": [
    "import os\n",
    "import numpy as np\n",
    "import pandas as pd\n",
    "import matplotlib.pyplot as plt\n",
    "import tensorflow as tf\n",
    "\n",
    "from IPython.display import display\n",
    "from matplotlib import ticker\n",
    "from pathlib import Path\n",
    "from tensorflow import keras\n",
    "from tensorflow.keras.datasets import mnist\n",
    "from tensorflow.keras import backend as K\n",
    "from tensorflow.keras.layers import Reshape, Input, Dense, Flatten, Conv2D, Dropout, Conv2DTranspose\n",
    "from tensorflow.keras.layers import MaxPooling2D, UpSampling2D, concatenate, BatchNormalization"
   ]
  },
  {
   "cell_type": "markdown",
   "metadata": {
    "id": "wLCfK5LxQbD9"
   },
   "source": [
    "### Константы для путей к файлам"
   ]
  },
  {
   "cell_type": "code",
   "execution_count": 2,
   "metadata": {
    "ExecuteTime": {
     "end_time": "2023-04-25T09:30:34.601772Z",
     "start_time": "2023-04-25T09:30:34.590781Z"
    },
    "id": "bZHiwO4ShhEF"
   },
   "outputs": [],
   "source": [
    "# Пути к обработанным данным\n",
    "# Пути к X части выборки с массивами в каждой ячейке\n",
    "path_to_array_like_X_data = ('data/Prepared data/Run1/X_data_array_like.xlsx',\n",
    "                             'data/Prepared data/Run2/X_data_array_like.xlsx')\n",
    "# Пути к Y части выборки\n",
    "path_to_Y_data = ('data/Prepared data/Run1/Y_data(binary_classification).xlsx', \n",
    "                  'data/Prepared data/Run2/Y_data(binary_classification).xlsx') \n"
   ]
  },
  {
   "cell_type": "markdown",
   "metadata": {
    "id": "0dxaXom0QbEB"
   },
   "source": [
    "### Константы для обработки данных"
   ]
  },
  {
   "cell_type": "code",
   "execution_count": 3,
   "metadata": {
    "ExecuteTime": {
     "end_time": "2023-04-25T09:30:34.616763Z",
     "start_time": "2023-04-25T09:30:34.607772Z"
    },
    "id": "J-6_JuU5QbEC"
   },
   "outputs": [],
   "source": [
    "PREP_image_size = 16\n",
    "PREP_crop_step = 4"
   ]
  },
  {
   "cell_type": "code",
   "execution_count": 4,
   "metadata": {
    "ExecuteTime": {
     "end_time": "2023-04-25T09:30:34.632755Z",
     "start_time": "2023-04-25T09:30:34.622759Z"
    },
    "cell_style": "center",
    "deletable": false,
    "editable": false,
    "id": "oicZsiTGQbEE"
   },
   "outputs": [],
   "source": [
    "# детерминация случайных величин, отвечающих за выбор первоначальных весов и биасов\n",
    "tf.compat.v1.set_random_seed(290)\n",
    "tf.random.set_seed(290)"
   ]
  },
  {
   "cell_type": "code",
   "execution_count": 5,
   "metadata": {
    "ExecuteTime": {
     "end_time": "2023-04-25T09:30:34.664733Z",
     "start_time": "2023-04-25T09:30:34.639749Z"
    },
    "cell_style": "center",
    "deletable": false,
    "editable": false,
    "id": "dCqzRrH4QbEG"
   },
   "outputs": [],
   "source": [
    "def to_list_of_64_values(x):\n",
    "  # делим начальную строку на пары чисел\n",
    "  # пары чисел тут - это просто строки\n",
    "  x = str(x[1:-1]).split(',')\n",
    "  x = np.array(x)\n",
    "\n",
    "  x = x.astype(float)\n",
    "  \n",
    "  return x"
   ]
  },
  {
   "cell_type": "code",
   "execution_count": 6,
   "metadata": {
    "ExecuteTime": {
     "end_time": "2023-04-25T09:30:34.695733Z",
     "start_time": "2023-04-25T09:30:34.668730Z"
    },
    "cell_style": "center",
    "deletable": false,
    "editable": false,
    "id": "HfWyHYJqhlBX"
   },
   "outputs": [],
   "source": [
    "# прочесть файл X_data_array-like.xlsx\n",
    "def get_array_like_X_df(path: str):\n",
    "    df = pd.read_excel(path,index_col=[0])\n",
    "    df = df.apply(lambda x: \n",
    "                  x.apply(to_list_of_64_values, convert_dtype=True))\n",
    "    return df"
   ]
  },
  {
   "cell_type": "code",
   "execution_count": 7,
   "metadata": {
    "ExecuteTime": {
     "end_time": "2023-04-25T09:30:34.711722Z",
     "start_time": "2023-04-25T09:30:34.699730Z"
    },
    "cell_style": "center",
    "deletable": false,
    "editable": false,
    "id": "UH4wq7FOhlI1"
   },
   "outputs": [],
   "source": [
    "# прочесть файл Y_data(binary_classification).xlsx\n",
    "def get_Y_df(path: str):\n",
    "    df = pd.read_excel(path,index_col=[0])\n",
    "    return df"
   ]
  },
  {
   "cell_type": "code",
   "execution_count": 8,
   "metadata": {
    "ExecuteTime": {
     "end_time": "2023-04-25T09:30:34.743704Z",
     "start_time": "2023-04-25T09:30:34.714721Z"
    },
    "deletable": false,
    "editable": false,
    "id": "Q3ZMd4btQbEJ"
   },
   "outputs": [],
   "source": [
    "# кропы массива pandas имеют размер (PREP_image_size, PREP_image_size)\n",
    "# после преобразования в numpy через to_numpy() размер тот-же,\n",
    "# при том, что в каждой ячейке хранится массив из 64 чисел как объект\n",
    "# для работы нужно преобразовать кроп к размеру (PREP_image_size, PREP_image_size, 64)\n",
    "# чтобы каждый элемент массива был не объектом, а вещественным числом\n",
    "def pandas_crop_to_image_like_numpy(df):\n",
    "    x = df.to_numpy()\n",
    "    return np.stack([np.stack([x[i,j] for i in range(x.shape[0])],axis=0) for j in range(x.shape[1])],axis=1)"
   ]
  },
  {
   "cell_type": "code",
   "execution_count": 9,
   "metadata": {
    "ExecuteTime": {
     "end_time": "2023-04-25T09:30:34.775684Z",
     "start_time": "2023-04-25T09:30:34.748701Z"
    },
    "deletable": false,
    "editable": false,
    "id": "JuI7jpS3QbEO"
   },
   "outputs": [],
   "source": [
    "# датафрейм размера 112 на 400 при размере кропа в 10\n",
    "# преобразует в размер 120 на 400 (чтобы каждая сторона ровно\n",
    "# делилась на размер кропа)\n",
    "# новые строки добавляются за счет копирования старых\n",
    "def reshape_df_for_future_crops(df, crop_size, crop_step):\n",
    "    \n",
    "    print('||||||||||||||||||')\n",
    "    print('Df reshaping for exact splitting with crop_size')\n",
    "    print('Original df size: ', df.shape)\n",
    "    print('Crop windows height/width: ', crop_size)\n",
    "    print('Crop windows step across rows and cols: ', crop_step)\n",
    "    \n",
    "    new_rows = crop_step - ((df.shape[0] - crop_size) % crop_step)\n",
    "    new_cols = crop_step - ((df.shape[1] - crop_size) % crop_step)\n",
    "    \n",
    "    if new_rows != crop_step:\n",
    "        df = pd.concat([df,\n",
    "                        df.iloc[-1:-new_rows-1:-1]],\n",
    "                        axis=0,ignore_index=True)\n",
    "    if new_cols != crop_step:\n",
    "        df = pd.concat([df,\n",
    "                        df.iloc[:,-1:-new_cols-1:-1]],\n",
    "                        axis=1,ignore_index=True)\n",
    "\n",
    "    print('New df shape: ', df.shape)\n",
    "    print('||||||||||||||||||\\n')\n",
    "    \n",
    "    return df"
   ]
  },
  {
   "cell_type": "code",
   "execution_count": 10,
   "metadata": {
    "ExecuteTime": {
     "end_time": "2023-04-25T09:30:34.806925Z",
     "start_time": "2023-04-25T09:30:34.781686Z"
    },
    "deletable": false,
    "editable": false,
    "id": "p35k94_nQbEJ"
   },
   "outputs": [],
   "source": [
    "# приведение к виду, который принимают на вход слои Conv2D\n",
    "# (batch, channels, rows, cols) если data_format='channels_first'\n",
    "# (batch, rows, cols, channels) если data_format='channels_last'\n",
    "# тут выбран последний формат \n",
    "# а так как \"изображения\" состоят из 64 измерений, то \n",
    "# каналов либо 64, либо по 32\n",
    "def reshape_X_df_to_image_like_numpy(df, crop_size, step = -1):   \n",
    "    \n",
    "    print('||||||||||||||||||')\n",
    "    print('X df reshaping to 4D')\n",
    "    print('Original df size: ', df.shape)\n",
    "    print('Crop windows height/width: ', crop_size)\n",
    "    \n",
    "    if step == -1:\n",
    "        step = crop_size\n",
    "    \n",
    "    temp = np.concatenate([np.stack(\n",
    "        [pandas_crop_to_image_like_numpy(\n",
    "            df.iloc[i:i+crop_size,j:j+crop_size]) \n",
    "             for i in range(0,df.shape[0] - crop_size + 1, step)]\n",
    "                , axis=0) for j in range(0,df.shape[1] - crop_size + 1, step)]\n",
    "                    , axis=0)\n",
    "    \n",
    "    # поделим x выборку на значения времен и амплитуд\n",
    "    X_time = temp[:,:,:,:32]\n",
    "    X_amp = temp[:,:,:,32:]\n",
    "    \n",
    "    print('New X_time shape: ', X_time.shape)\n",
    "    print('New X_amp shape: ', X_amp.shape)\n",
    "    print('||||||||||||||||||\\n')\n",
    "    \n",
    "    return (X_time,X_amp)"
   ]
  },
  {
   "cell_type": "code",
   "execution_count": 11,
   "metadata": {
    "ExecuteTime": {
     "end_time": "2023-04-25T09:30:34.852766Z",
     "start_time": "2023-04-25T09:30:34.818130Z"
    },
    "deletable": false,
    "editable": false,
    "id": "62jZ5uCAQbEK"
   },
   "outputs": [],
   "source": [
    "# приведение к нужному виду бинарных масок\n",
    "def reshape_Y_df_to_image_like_numpy(df, crop_size, step = -1):\n",
    "    \n",
    "    print('||||||||||||||||||')\n",
    "    print('Y df reshaping to 3D')\n",
    "    print('Original df size: ', df.shape)\n",
    "    print('Crop windows height/width: ', crop_size)\n",
    "    \n",
    "    if step == -1:\n",
    "        step = crop_size\n",
    "    \n",
    "    Y_res = np.concatenate([np.stack(\n",
    "        [df.iloc[i:i+crop_size,j:j+crop_size].to_numpy().astype('float32') \n",
    "             for i in range(0,df.shape[0] - crop_size + 1, step)]\n",
    "                , axis=0) for j in range(0,df.shape[1] - crop_size + 1, step)]\n",
    "                    , axis=0)\n",
    "    \n",
    "    \n",
    "    Y_res = np.expand_dims(Y_res,axis=3)\n",
    "    \n",
    "    print('New numpy shape: ', Y_res.shape)\n",
    "    print('||||||||||||||||||\\n')\n",
    "    \n",
    "    return Y_res"
   ]
  },
  {
   "cell_type": "code",
   "execution_count": 12,
   "metadata": {
    "ExecuteTime": {
     "end_time": "2023-04-25T09:30:34.884743Z",
     "start_time": "2023-04-25T09:30:34.855763Z"
    },
    "deletable": false,
    "editable": false,
    "id": "1UXlvpJqQbEL"
   },
   "outputs": [],
   "source": [
    "# преобразовать массив кропов numpy Y выборки размера (batch,rows,cols) \n",
    "# в матрицу размера (rows,cols)\n",
    "def reshape_3D_Y_numpy_to_2D(arr, rows_count, cols_count, crop_size):\n",
    "    \n",
    "    print('||||||||||||||||||')\n",
    "    print('Y arr reshaping to 2D')\n",
    "    print('Original arr size: ', arr.shape)\n",
    "    print('Crop windows height/width: ', crop_size)\n",
    "    \n",
    "    crops_per_rows_count = int(rows_count/crop_size) # кол-во строк / размер кропа\n",
    "    crops_per_cols_count = int(cols_count/crop_size) # кол-во столбцов / размер кропа\n",
    "    \n",
    "    temp  = np.concatenate([\n",
    "                np.concatenate([arr[i + (j*crops_per_rows_count)] \n",
    "                             for i in range(crops_per_rows_count)],axis=0)\n",
    "                                 for j in range(crops_per_cols_count)],axis=1)\n",
    "    \n",
    "    print('New numpy shape: ', temp.shape)\n",
    "    print('||||||||||||||||||\\n')\n",
    "    \n",
    "    return temp"
   ]
  },
  {
   "cell_type": "code",
   "execution_count": 13,
   "metadata": {
    "ExecuteTime": {
     "end_time": "2023-04-25T09:30:34.900735Z",
     "start_time": "2023-04-25T09:30:34.887742Z"
    },
    "deletable": false,
    "editable": false,
    "id": "DxFOhUIiQbEM"
   },
   "outputs": [],
   "source": [
    "# вернет бинарную 1D маску, где 1 - для кропов с дефектами\n",
    "# 0 - для кропов без дефектов\n",
    "def calculate_crops_with_defects_positions(Y_arr, crop_size):\n",
    "    \n",
    "    print('||||||||||||||||||')\n",
    "    print('Defects nums calculating')\n",
    "    # Найдем на каких картинках есть дефекты\n",
    "    defects_nums = list()\n",
    "    for i in range(Y_arr.shape[0]):\n",
    "        if np.sum(Y_arr[i] > 0) >= 1:\n",
    "            defects_nums.append(True)\n",
    "        else:\n",
    "            defects_nums.append(False)\n",
    "\n",
    "    defects_nums = np.array(defects_nums, dtype='bool')\n",
    "\n",
    "    print(f'Для карт высотой и шириной в {crop_size}',\n",
    "          f'и общим кличеством: {Y_arr.shape[0]}',\n",
    "            f'дефекты присутствуеют на {np.sum(defects_nums)} картах',\n",
    "              sep='\\n')\n",
    "    print('||||||||||||||||||\\n')\n",
    "    \n",
    "    return defects_nums\n"
   ]
  },
  {
   "cell_type": "code",
   "execution_count": 14,
   "metadata": {
    "ExecuteTime": {
     "end_time": "2023-04-25T09:30:34.947707Z",
     "start_time": "2023-04-25T09:30:34.912729Z"
    },
    "deletable": false,
    "editable": false,
    "id": "-1EQLJANQbEM"
   },
   "outputs": [],
   "source": [
    "def preprocess_data(X_time_arr, X_amp_arr, Y_arr, crop_size, X_time_max=0, X_amp_max=0):\n",
    "    # стндартизуем данные\n",
    "    # удалим кропы, в которых нет дефектов\n",
    "    \n",
    "    print('||||||||||||||||||')\n",
    "    print('Data preprocessing')\n",
    "    \n",
    "    print('Orig X_time_arr shape: ', X_time_arr.shape)\n",
    "    print('Orig X_amp_arr shape: ', X_amp_arr.shape)\n",
    "    print('Orig Y_arr shape: ', Y_arr.shape)\n",
    "    \n",
    "    \n",
    "    print('||||||||||||||||||')\n",
    "    print('Data standartization')\n",
    "    \n",
    "    # стандартизуем данные\n",
    "    if ((X_time_max == 0) and (X_amp_max == 0)):\n",
    "        X_time_max = X_time_arr.max()\n",
    "        X_amp_max = X_amp_arr.max()\n",
    "\n",
    "    print(f'X_time_max: {X_time_max}')\n",
    "    print(f'X_amp_max: {X_amp_max}')\n",
    "\n",
    "    X_time_arr = X_time_arr / X_time_max\n",
    "    X_amp_arr = X_amp_arr / X_amp_max\n",
    "    \n",
    "    print(f'X_time_max after standartization: {X_time_arr.max()}')\n",
    "    print(f'X_time_min after standartization: {X_time_arr.min()}')\n",
    "    \n",
    "    print(f'X_amp_max after standartization: {X_amp_arr.max()}')\n",
    "    print(f'X_amp_min after standartization: {X_amp_arr.min()}')\n",
    "    \n",
    "    print('||||||||||||||||||\\n')\n",
    "    \n",
    "    print('||||||||||||||||||')\n",
    "    print('Data with and witout defects splitting')\n",
    "    \n",
    "    # удалим кропы не содержищие дефекты\n",
    "    defects_nums = calculate_crops_with_defects_positions(Y_arr, crop_size)\n",
    "    \n",
    "    X_time_arr_def = X_time_arr[defects_nums]\n",
    "    X_amp_arr_def = X_amp_arr[defects_nums]\n",
    "    Y_arr_def = Y_arr[defects_nums]\n",
    "    \n",
    "    X_time_arr_non_def = X_time_arr[~defects_nums]\n",
    "    X_amp_arr_non_def = X_amp_arr[~defects_nums]\n",
    "    Y_arr_non_def = Y_arr[~defects_nums]\n",
    "    \n",
    "    print('X_time_arr_def shape: ', X_time_arr_def.shape)\n",
    "    print('X_time_arr_non_def shape: ', X_time_arr_non_def.shape)\n",
    "    \n",
    "    print('X_amp_arr_def shape: ', X_amp_arr_def.shape)\n",
    "    print('X_amp_arr_non_def shape: ', X_amp_arr_non_def.shape)\n",
    "    \n",
    "    print('Y_arr_def shape: ', Y_arr_def.shape)\n",
    "    print('Y_arr_non_def shape: ', Y_arr_non_def.shape)\n",
    "    print('||||||||||||||||||\\n')\n",
    "    print('||||||||||||||||||\\n')\n",
    "    \n",
    "    return (X_time_arr_def,X_time_arr_non_def),(X_amp_arr_def,X_amp_arr_non_def),(Y_arr_def,Y_arr_non_def)"
   ]
  },
  {
   "cell_type": "code",
   "execution_count": 15,
   "metadata": {
    "ExecuteTime": {
     "end_time": "2023-04-25T09:30:35.011690Z",
     "start_time": "2023-04-25T09:30:34.952703Z"
    },
    "deletable": false,
    "editable": false,
    "id": "xvjUj18MQbEN"
   },
   "outputs": [],
   "source": [
    "# применить аугментации к данным\n",
    "# повернуть каждую картинку на 90 градусов 3 раза как пример\n",
    "# для увеличения кол-ва данных для обучения\n",
    "def augment_data(X_time_arr, X_amp_arr, Y_arr):\n",
    "    print('||||||||||||||||||')\n",
    "    print('Data augmentation')\n",
    "    \n",
    "    print('Orig X_time_arr shape: ', X_time_arr.shape)\n",
    "    print('Orig X_amp_arr shape: ', X_amp_arr.shape)\n",
    "    print('Orig Y_arr shape: ', Y_arr.shape)\n",
    "    \n",
    "    X_time_arr = np.concatenate([X_time_arr,\n",
    "                            np.rot90(X_time_arr,1,[1,2]),\n",
    "                            np.rot90(X_time_arr,2,[1,2]),\n",
    "                            np.rot90(X_time_arr,3,[1,2])],axis=0)\n",
    "\n",
    "    X_amp_arr = np.concatenate([X_amp_arr,\n",
    "                            np.rot90(X_amp_arr,1,[1,2]),\n",
    "                            np.rot90(X_amp_arr,2,[1,2]),\n",
    "                            np.rot90(X_amp_arr,3,[1,2])],axis=0)\n",
    "\n",
    "    Y_arr = np.concatenate([Y_arr,\n",
    "                            np.rot90(Y_arr,1,[1,2]),\n",
    "                            np.rot90(Y_arr,2,[1,2]),\n",
    "                            np.rot90(Y_arr,3,[1,2])],axis=0)\n",
    "    \n",
    "    print('||||||||||||\\nAfter 4 steps of 90 degree rotate')\n",
    "    print('X_time_arr shape: ', X_time_arr.shape)\n",
    "    print('X_amp_arr shape: ', X_amp_arr.shape)\n",
    "    print('Y_arr shape: ', Y_arr.shape)\n",
    "    \n",
    "    X_time_arr = np.concatenate([X_time_arr,np.flip(X_time_arr,2)],axis=0)\n",
    "    X_amp_arr = np.concatenate([X_amp_arr,np.flip(X_amp_arr,2)],axis=0)\n",
    "    Y_arr = np.concatenate([Y_arr,np.flip(Y_arr,2)],axis=0)\n",
    "    \n",
    "    print('||||||||||||\\nAfter horizontal full mirroring')\n",
    "    print('X_time_arr shape: ', X_time_arr.shape)\n",
    "    print('X_amp_arr shape: ', X_amp_arr.shape)\n",
    "    print('Y_arr shape: ', Y_arr.shape)\n",
    "    \n",
    "    X_time_arr = np.concatenate([X_time_arr,np.flip(X_time_arr,1)],axis=0)\n",
    "    X_amp_arr = np.concatenate([X_amp_arr,np.flip(X_amp_arr,1)],axis=0)\n",
    "    Y_arr = np.concatenate([Y_arr,np.flip(Y_arr,1)],axis=0)\n",
    "    \n",
    "    print('||||||||||||\\nAfter vertical full mirroring')\n",
    "    print('X_time_arr shape: ', X_time_arr.shape)\n",
    "    print('X_amp_arr shape: ', X_amp_arr.shape)\n",
    "    print('Y_arr shape: ', Y_arr.shape)\n",
    "    \n",
    "    X_time_arr = np.concatenate([X_time_arr,\n",
    "                                 np.roll(X_time_arr,int(X_time_arr.shape[1]/2),axis=1)],axis=0)\n",
    "    \n",
    "    X_amp_arr = np.concatenate([X_amp_arr,\n",
    "                               np.roll(X_amp_arr,int(X_amp_arr.shape[1]/2),axis=1)],axis=0)\n",
    "    \n",
    "    Y_arr = np.concatenate([Y_arr,\n",
    "                           np.roll(Y_arr,int(Y_arr.shape[1]/2),axis=1)],axis=0)\n",
    "    \n",
    "    print('||||||||||||\\nAfter vertical half shifting')\n",
    "    print('X_time_arr shape: ', X_time_arr.shape)\n",
    "    print('X_amp_arr shape: ', X_amp_arr.shape)\n",
    "    print('Y_arr shape: ', Y_arr.shape)\n",
    "    \n",
    "    X_time_arr = np.concatenate([X_time_arr,\n",
    "                             np.roll(X_time_arr,int(X_time_arr.shape[2]/2),axis=2)],axis=0)\n",
    "    \n",
    "    X_amp_arr = np.concatenate([X_amp_arr,\n",
    "                               np.roll(X_amp_arr,int(X_amp_arr.shape[2]/2),axis=2)],axis=0)\n",
    "    \n",
    "    Y_arr = np.concatenate([Y_arr,\n",
    "                           np.roll(Y_arr,int(Y_arr.shape[2]/2),axis=2)],axis=0)\n",
    "    \n",
    "    print('||||||||||||\\nAfter horizontal half shifting')\n",
    "    print('X_time_arr shape: ', X_time_arr.shape)\n",
    "    print('X_amp_arr shape: ', X_amp_arr.shape)\n",
    "    print('Y_arr shape: ', Y_arr.shape)\n",
    "    \n",
    "    print('||||||||||||||||||\\n')\n",
    "    return X_time_arr, X_amp_arr, Y_arr"
   ]
  },
  {
   "cell_type": "code",
   "execution_count": 16,
   "metadata": {
    "ExecuteTime": {
     "end_time": "2023-04-25T09:30:35.043625Z",
     "start_time": "2023-04-25T09:30:35.014687Z"
    },
    "deletable": false,
    "editable": false
   },
   "outputs": [],
   "source": [
    "# подаем на вход 3 numpy array\n",
    "# X_time_arr, X_amp_arr, Y_arr\n",
    "# они делятся на 3 выборки и функция возвращает\n",
    "# X_time_train, X_time_val, X_time_test\n",
    "# X_amp_train, X_amp_val, X_amp_test\n",
    "# Y_train, Y_val, Y_test\n",
    "def split_data_to_train_test_val_datasets(X_time_arr, X_amp_arr, Y_arr, test_percent, val_percent):\n",
    "    print('||||||||||||||||||')\n",
    "    print('Data spliting to test, val and train datasets')\n",
    "    \n",
    "    print('Orig X_time_arr shape: ', X_time_arr.shape)\n",
    "    print('Orig X_amp_arr shape: ', X_amp_arr.shape)\n",
    "    print('Orig Y_arr shape: ', Y_arr.shape)\n",
    "    print('')\n",
    "    \n",
    "    firs_dim_size = X_time_arr.shape[0]\n",
    "    \n",
    "    X_time_train = X_time_arr[int(firs_dim_size * (test_percent+val_percent)):]\n",
    "    X_time_val = X_time_arr[:int(firs_dim_size * (val_percent))]\n",
    "    X_time_test = X_time_arr[int(firs_dim_size * (val_percent)):int(firs_dim_size * (test_percent+val_percent))]\n",
    "    \n",
    "    X_amp_train = X_amp_arr[int(firs_dim_size * (test_percent+val_percent)):]\n",
    "    X_amp_val = X_amp_arr[:int(firs_dim_size * (val_percent))]\n",
    "    X_amp_test = X_amp_arr[int(firs_dim_size * (val_percent)):int(firs_dim_size * (test_percent+val_percent))]\n",
    "    \n",
    "    Y_train = Y_arr[int(firs_dim_size * (test_percent+val_percent)):]\n",
    "    Y_val = Y_arr[:int(firs_dim_size * (val_percent))]\n",
    "    Y_test = Y_arr[int(firs_dim_size * (val_percent)):int(firs_dim_size * (test_percent+val_percent))]\n",
    "    \n",
    "    print('X_time_train shape: ', X_time_train.shape)\n",
    "    print('X_time_val shape: ', X_time_val.shape)\n",
    "    print('X_time_test shape: ', X_time_test.shape)\n",
    "    print('')\n",
    "    \n",
    "    print('X_amp_train shape: ', X_amp_train.shape)\n",
    "    print('X_amp_val shape: ', X_amp_val.shape)\n",
    "    print('X_amp_test shape: ', X_amp_test.shape)\n",
    "    print('')\n",
    "    \n",
    "    print('Y_train shape: ', Y_train.shape)\n",
    "    print('Y_val shape: ', Y_val.shape)\n",
    "    print('Y_test shape: ', Y_test.shape)\n",
    "    \n",
    "    print('||||||||||||||||||\\n')\n",
    "    \n",
    "    return (X_time_train,X_time_val,X_time_test),(X_amp_train,X_amp_val,X_amp_test),(Y_train,Y_val,Y_test)"
   ]
  },
  {
   "cell_type": "markdown",
   "metadata": {
    "id": "M3IDwA8GQbEP"
   },
   "source": [
    "# Подготовка данных"
   ]
  },
  {
   "cell_type": "code",
   "execution_count": 17,
   "metadata": {
    "ExecuteTime": {
     "end_time": "2023-04-25T09:30:57.453088Z",
     "start_time": "2023-04-25T09:30:35.046623Z"
    },
    "id": "opRWBSZpQbEP"
   },
   "outputs": [],
   "source": [
    "# загрузка данных из файлов\n",
    "X_dict = dict()\n",
    "Y_dict = dict()\n",
    "\n",
    "for i,x_data_path,y_data_path in zip(range(len(path_to_array_like_X_data)),\n",
    "                                     path_to_array_like_X_data, \n",
    "                                     path_to_Y_data):\n",
    "    \n",
    "    x_temp = get_array_like_X_df(x_data_path)\n",
    "    y_temp = get_Y_df(y_data_path)\n",
    "    \n",
    "    X_dict[f'run{i+1}'] = {'df': x_temp}\n",
    "    Y_dict[f'run{i+1}'] = {'df': y_temp}"
   ]
  },
  {
   "cell_type": "code",
   "execution_count": 18,
   "metadata": {
    "ExecuteTime": {
     "end_time": "2023-04-25T09:30:57.469086Z",
     "start_time": "2023-04-25T09:30:57.456095Z"
    },
    "colab": {
     "base_uri": "https://localhost:8080/"
    },
    "id": "KdhGoLqFQbEQ",
    "outputId": "f48fba51-b02b-4655-da95-fdbe4d63eab2"
   },
   "outputs": [
    {
     "name": "stdout",
     "output_type": "stream",
     "text": [
      "Загружены данные для X выборки из файлов:  dict_keys(['run1', 'run2'])\n",
      "Загружены данные для Y выборки из файлов:  dict_keys(['run1', 'run2'])\n"
     ]
    }
   ],
   "source": [
    "print('Загружены данные для X выборки из файлов: ', X_dict.keys())\n",
    "print('Загружены данные для Y выборки из файлов: ', Y_dict.keys())"
   ]
  },
  {
   "cell_type": "code",
   "execution_count": 19,
   "metadata": {
    "ExecuteTime": {
     "end_time": "2023-04-25T09:30:57.500068Z",
     "start_time": "2023-04-25T09:30:57.475082Z"
    },
    "colab": {
     "base_uri": "https://localhost:8080/"
    },
    "id": "JpYrdVggQbER",
    "outputId": "3a3019d2-f190-46c8-a928-f5b9089ffc64"
   },
   "outputs": [
    {
     "name": "stdout",
     "output_type": "stream",
     "text": [
      "||||||||||||||||||\n",
      "Df reshaping for exact splitting with crop_size\n",
      "Original df size:  (115, 400)\n",
      "Crop windows height/width:  16\n",
      "Crop windows step across rows and cols:  4\n",
      "New df shape:  (116, 400)\n",
      "||||||||||||||||||\n",
      "\n",
      "||||||||||||||||||\n",
      "Df reshaping for exact splitting with crop_size\n",
      "Original df size:  (115, 400)\n",
      "Crop windows height/width:  16\n",
      "Crop windows step across rows and cols:  4\n",
      "New df shape:  (116, 400)\n",
      "||||||||||||||||||\n",
      "\n",
      "||||||||||||||||||\n",
      "Df reshaping for exact splitting with crop_size\n",
      "Original df size:  (119, 400)\n",
      "Crop windows height/width:  16\n",
      "Crop windows step across rows and cols:  4\n",
      "New df shape:  (120, 400)\n",
      "||||||||||||||||||\n",
      "\n",
      "||||||||||||||||||\n",
      "Df reshaping for exact splitting with crop_size\n",
      "Original df size:  (119, 400)\n",
      "Crop windows height/width:  16\n",
      "Crop windows step across rows and cols:  4\n",
      "New df shape:  (120, 400)\n",
      "||||||||||||||||||\n",
      "\n"
     ]
    }
   ],
   "source": [
    "# добавление строк в датафреймы\n",
    "for key in X_dict.keys():\n",
    "    X_dict[key]['df'] = reshape_df_for_future_crops(X_dict[key]['df'], PREP_image_size, PREP_crop_step)\n",
    "    Y_dict[key]['df'] = reshape_df_for_future_crops(Y_dict[key]['df'], PREP_image_size, PREP_crop_step) \n",
    "       "
   ]
  },
  {
   "cell_type": "code",
   "execution_count": 20,
   "metadata": {
    "ExecuteTime": {
     "end_time": "2023-04-25T09:31:04.258234Z",
     "start_time": "2023-04-25T09:30:57.504064Z"
    },
    "colab": {
     "base_uri": "https://localhost:8080/"
    },
    "id": "fJMMLFK0QbES",
    "outputId": "564394aa-ab18-4de9-d21c-7482739bfe19"
   },
   "outputs": [
    {
     "name": "stdout",
     "output_type": "stream",
     "text": [
      "||||||||||||||step 1||||||||||||||||\n",
      "||||||||||||||||||\n",
      "X df reshaping to 4D\n",
      "Original df size:  (116, 400)\n",
      "Crop windows height/width:  16\n",
      "New X_time shape:  (2522, 16, 16, 32)\n",
      "New X_amp shape:  (2522, 16, 16, 32)\n",
      "||||||||||||||||||\n",
      "\n",
      "||||||||||||||||||\n",
      "Y df reshaping to 3D\n",
      "Original df size:  (116, 400)\n",
      "Crop windows height/width:  16\n",
      "New numpy shape:  (2522, 16, 16, 1)\n",
      "||||||||||||||||||\n",
      "\n",
      "\n",
      "\n",
      "||||||||||||||step 2||||||||||||||||\n",
      "||||||||||||||||||\n",
      "X df reshaping to 4D\n",
      "Original df size:  (120, 400)\n",
      "Crop windows height/width:  16\n",
      "New X_time shape:  (2619, 16, 16, 32)\n",
      "New X_amp shape:  (2619, 16, 16, 32)\n",
      "||||||||||||||||||\n",
      "\n",
      "||||||||||||||||||\n",
      "Y df reshaping to 3D\n",
      "Original df size:  (120, 400)\n",
      "Crop windows height/width:  16\n",
      "New numpy shape:  (2619, 16, 16, 1)\n",
      "||||||||||||||||||\n",
      "\n",
      "\n",
      "\n"
     ]
    }
   ],
   "source": [
    "# запишем в словарь numpy array полученные из df\n",
    "#step = 20\n",
    "for i,key in zip(range(len(X_dict.keys())),X_dict.keys()):\n",
    "    print(f\"||||||||||||||step {i+1}||||||||||||||||\")\n",
    "    x_time_temp, x_amp_temp = reshape_X_df_to_image_like_numpy(X_dict[key]['df'], PREP_image_size, PREP_crop_step)\n",
    "    \n",
    "    X_dict[key]['X_time_all'] = x_time_temp\n",
    "    X_dict[key]['X_amp_all'] = x_amp_temp\n",
    "    \n",
    "    y_temp = reshape_Y_df_to_image_like_numpy(Y_dict[key]['df'], PREP_image_size, PREP_crop_step)\n",
    "    \n",
    "    Y_dict[key]['Y_all'] = y_temp \n",
    "    print('\\n')\n",
    "     "
   ]
  },
  {
   "cell_type": "code",
   "execution_count": 21,
   "metadata": {
    "ExecuteTime": {
     "end_time": "2023-04-25T09:31:04.290213Z",
     "start_time": "2023-04-25T09:31:04.261231Z"
    },
    "colab": {
     "base_uri": "https://localhost:8080/"
    },
    "id": "ni5HwQ0cQbET",
    "outputId": "644095e7-4b84-419c-f882-b369bf58203d"
   },
   "outputs": [
    {
     "name": "stdout",
     "output_type": "stream",
     "text": [
      "X данные считаны для файлов:  dict_keys(['run1', 'run2'])\n",
      "Для файла run1 считаны такие данные:  dict_keys(['df', 'X_time_all', 'X_amp_all'])\n",
      "Для файла run2 считаны такие данные:  dict_keys(['df', 'X_time_all', 'X_amp_all'])\n",
      "\n",
      "Y данные считаны для файлов:  dict_keys(['run1', 'run2'])\n",
      "Для файла run1 считаны такие данные:  dict_keys(['df', 'Y_all'])\n",
      "Для файла run2 считаны такие данные:  dict_keys(['df', 'Y_all'])\n"
     ]
    }
   ],
   "source": [
    "print('X данные считаны для файлов: ',X_dict.keys())\n",
    "for key in X_dict.keys():\n",
    "    print('Для файла', key, 'считаны такие данные: ', X_dict[key].keys())\n",
    "    \n",
    "print('\\nY данные считаны для файлов: ',Y_dict.keys())\n",
    "for key in Y_dict.keys():\n",
    "    print('Для файла', key, 'считаны такие данные: ', Y_dict[key].keys())"
   ]
  },
  {
   "cell_type": "code",
   "execution_count": 22,
   "metadata": {
    "ExecuteTime": {
     "end_time": "2023-04-25T09:31:05.605872Z",
     "start_time": "2023-04-25T09:31:04.293215Z"
    },
    "colab": {
     "base_uri": "https://localhost:8080/"
    },
    "id": "r9jbs8dBQbET",
    "outputId": "cec69435-0279-4bc9-f388-0416949a0174"
   },
   "outputs": [
    {
     "name": "stdout",
     "output_type": "stream",
     "text": [
      "||||||||||||||||||\n",
      "Файл:  run1\n",
      "||||||||||||||||||\n",
      "Data preprocessing\n",
      "Orig X_time_arr shape:  (2522, 16, 16, 32)\n",
      "Orig X_amp_arr shape:  (2522, 16, 16, 32)\n",
      "Orig Y_arr shape:  (2522, 16, 16, 1)\n",
      "||||||||||||||||||\n",
      "Data standartization\n",
      "X_time_max: 44.5\n",
      "X_amp_max: 62.992\n",
      "X_time_max after standartization: 1.0\n",
      "X_time_min after standartization: 0.0\n",
      "X_amp_max after standartization: 1.0\n",
      "X_amp_min after standartization: -0.983743967487935\n",
      "||||||||||||||||||\n",
      "\n",
      "||||||||||||||||||\n",
      "Data with and witout defects splitting\n",
      "||||||||||||||||||\n",
      "Defects nums calculating\n",
      "Для карт высотой и шириной в 16\n",
      "и общим кличеством: 2522\n",
      "дефекты присутствуеют на 290 картах\n",
      "||||||||||||||||||\n",
      "\n",
      "X_time_arr_def shape:  (290, 16, 16, 32)\n",
      "X_time_arr_non_def shape:  (2232, 16, 16, 32)\n",
      "X_amp_arr_def shape:  (290, 16, 16, 32)\n",
      "X_amp_arr_non_def shape:  (2232, 16, 16, 32)\n",
      "Y_arr_def shape:  (290, 16, 16, 1)\n",
      "Y_arr_non_def shape:  (2232, 16, 16, 1)\n",
      "||||||||||||||||||\n",
      "\n",
      "||||||||||||||||||\n",
      "\n",
      "||||||||||||||||||\n",
      "Файл:  run2\n",
      "||||||||||||||||||\n",
      "Data preprocessing\n",
      "Orig X_time_arr shape:  (2619, 16, 16, 32)\n",
      "Orig X_amp_arr shape:  (2619, 16, 16, 32)\n",
      "Orig Y_arr shape:  (2619, 16, 16, 1)\n",
      "||||||||||||||||||\n",
      "Data standartization\n",
      "X_time_max: 44.4\n",
      "X_amp_max: 62.992\n",
      "X_time_max after standartization: 1.0\n",
      "X_time_min after standartization: 0.0\n",
      "X_amp_max after standartization: 1.0\n",
      "X_amp_min after standartization: -0.9919037338074677\n",
      "||||||||||||||||||\n",
      "\n",
      "||||||||||||||||||\n",
      "Data with and witout defects splitting\n",
      "||||||||||||||||||\n",
      "Defects nums calculating\n",
      "Для карт высотой и шириной в 16\n",
      "и общим кличеством: 2619\n",
      "дефекты присутствуеют на 278 картах\n",
      "||||||||||||||||||\n",
      "\n",
      "X_time_arr_def shape:  (278, 16, 16, 32)\n",
      "X_time_arr_non_def shape:  (2341, 16, 16, 32)\n",
      "X_amp_arr_def shape:  (278, 16, 16, 32)\n",
      "X_amp_arr_non_def shape:  (2341, 16, 16, 32)\n",
      "Y_arr_def shape:  (278, 16, 16, 1)\n",
      "Y_arr_non_def shape:  (2341, 16, 16, 1)\n",
      "||||||||||||||||||\n",
      "\n",
      "||||||||||||||||||\n",
      "\n"
     ]
    }
   ],
   "source": [
    "# обработка данных\n",
    "for key in X_dict.keys():\n",
    "    print('||||||||||||||||||')\n",
    "    print('Файл: ', key)\n",
    "    \n",
    "    (X_time_def,X_time_non_def), \\\n",
    "    (X_amp_def,X_amp_non_def), \\\n",
    "    (Y_def,Y_non_def) = preprocess_data(X_dict[key]['X_time_all'], \n",
    "                                        X_dict[key]['X_amp_all'], \n",
    "                                        Y_dict[key]['Y_all'],\n",
    "                                        PREP_image_size)\n",
    "    \n",
    "    X_dict[key]['X_time_def'] = X_time_def\n",
    "    X_dict[key]['X_time_non_def'] = X_time_non_def\n",
    "    \n",
    "    X_dict[key]['X_amp_def'] = X_amp_def\n",
    "    X_dict[key]['X_amp_non_def'] = X_amp_non_def\n",
    "    \n",
    "    Y_dict[key]['Y_def'] = Y_def\n",
    "    Y_dict[key]['Y_non_def'] = Y_non_def"
   ]
  },
  {
   "cell_type": "code",
   "execution_count": 23,
   "metadata": {
    "ExecuteTime": {
     "end_time": "2023-04-25T09:31:05.625856Z",
     "start_time": "2023-04-25T09:31:05.608869Z"
    },
    "colab": {
     "base_uri": "https://localhost:8080/"
    },
    "id": "A0vDah1nQbEU",
    "outputId": "a1fcf167-2c5b-463e-b6fd-ccc979e9f487"
   },
   "outputs": [
    {
     "name": "stdout",
     "output_type": "stream",
     "text": [
      "X данные считаны для файлов:  dict_keys(['run1', 'run2'])\n",
      "Для файла run1 считаны такие данные:  dict_keys(['df', 'X_time_all', 'X_amp_all', 'X_time_def', 'X_time_non_def', 'X_amp_def', 'X_amp_non_def'])\n",
      "Для файла run2 считаны такие данные:  dict_keys(['df', 'X_time_all', 'X_amp_all', 'X_time_def', 'X_time_non_def', 'X_amp_def', 'X_amp_non_def'])\n",
      "\n",
      "Y данные считаны для файлов:  dict_keys(['run1', 'run2'])\n",
      "Для файла run1 считаны такие данные:  dict_keys(['df', 'Y_all', 'Y_def', 'Y_non_def'])\n",
      "Для файла run2 считаны такие данные:  dict_keys(['df', 'Y_all', 'Y_def', 'Y_non_def'])\n"
     ]
    }
   ],
   "source": [
    "print('X данные считаны для файлов: ',X_dict.keys())\n",
    "for key in X_dict.keys():\n",
    "    print('Для файла', key, 'считаны такие данные: ', X_dict[key].keys())\n",
    "    \n",
    "print('\\nY данные считаны для файлов: ',Y_dict.keys())\n",
    "for key in Y_dict.keys():\n",
    "    print('Для файла', key, 'считаны такие данные: ', Y_dict[key].keys())"
   ]
  },
  {
   "cell_type": "code",
   "execution_count": 24,
   "metadata": {
    "ExecuteTime": {
     "end_time": "2023-04-25T09:31:27.845714Z",
     "start_time": "2023-04-25T09:31:05.632853Z"
    }
   },
   "outputs": [
    {
     "name": "stdout",
     "output_type": "stream",
     "text": [
      "||||||||||||||||||\n",
      "Data augmentation\n",
      "Orig X_time_arr shape:  (290, 16, 16, 32)\n",
      "Orig X_amp_arr shape:  (290, 16, 16, 32)\n",
      "Orig Y_arr shape:  (290, 16, 16, 1)\n",
      "||||||||||||\n",
      "After 4 steps of 90 degree rotate\n",
      "X_time_arr shape:  (1160, 16, 16, 32)\n",
      "X_amp_arr shape:  (1160, 16, 16, 32)\n",
      "Y_arr shape:  (1160, 16, 16, 1)\n",
      "||||||||||||\n",
      "After horizontal full mirroring\n",
      "X_time_arr shape:  (2320, 16, 16, 32)\n",
      "X_amp_arr shape:  (2320, 16, 16, 32)\n",
      "Y_arr shape:  (2320, 16, 16, 1)\n",
      "||||||||||||\n",
      "After vertical full mirroring\n",
      "X_time_arr shape:  (4640, 16, 16, 32)\n",
      "X_amp_arr shape:  (4640, 16, 16, 32)\n",
      "Y_arr shape:  (4640, 16, 16, 1)\n",
      "||||||||||||\n",
      "After vertical half shifting\n",
      "X_time_arr shape:  (9280, 16, 16, 32)\n",
      "X_amp_arr shape:  (9280, 16, 16, 32)\n",
      "Y_arr shape:  (9280, 16, 16, 1)\n",
      "||||||||||||\n",
      "After horizontal half shifting\n",
      "X_time_arr shape:  (18560, 16, 16, 32)\n",
      "X_amp_arr shape:  (18560, 16, 16, 32)\n",
      "Y_arr shape:  (18560, 16, 16, 1)\n",
      "||||||||||||||||||\n",
      "\n",
      "||||||||||||||||||\n",
      "Data augmentation\n",
      "Orig X_time_arr shape:  (278, 16, 16, 32)\n",
      "Orig X_amp_arr shape:  (278, 16, 16, 32)\n",
      "Orig Y_arr shape:  (278, 16, 16, 1)\n",
      "||||||||||||\n",
      "After 4 steps of 90 degree rotate\n",
      "X_time_arr shape:  (1112, 16, 16, 32)\n",
      "X_amp_arr shape:  (1112, 16, 16, 32)\n",
      "Y_arr shape:  (1112, 16, 16, 1)\n",
      "||||||||||||\n",
      "After horizontal full mirroring\n",
      "X_time_arr shape:  (2224, 16, 16, 32)\n",
      "X_amp_arr shape:  (2224, 16, 16, 32)\n",
      "Y_arr shape:  (2224, 16, 16, 1)\n",
      "||||||||||||\n",
      "After vertical full mirroring\n",
      "X_time_arr shape:  (4448, 16, 16, 32)\n",
      "X_amp_arr shape:  (4448, 16, 16, 32)\n",
      "Y_arr shape:  (4448, 16, 16, 1)\n",
      "||||||||||||\n",
      "After vertical half shifting\n",
      "X_time_arr shape:  (8896, 16, 16, 32)\n",
      "X_amp_arr shape:  (8896, 16, 16, 32)\n",
      "Y_arr shape:  (8896, 16, 16, 1)\n",
      "||||||||||||\n",
      "After horizontal half shifting\n",
      "X_time_arr shape:  (17792, 16, 16, 32)\n",
      "X_amp_arr shape:  (17792, 16, 16, 32)\n",
      "Y_arr shape:  (17792, 16, 16, 1)\n",
      "||||||||||||||||||\n",
      "\n"
     ]
    }
   ],
   "source": [
    "# аугментация данных\n",
    "X_time_def_1, X_amp_def_1, Y_def_1 = augment_data(X_dict['run1']['X_time_def'], \n",
    "                                      X_dict['run1']['X_amp_def'],\n",
    "                                      Y_dict['run1']['Y_def'])\n",
    "\n",
    "X_time_def_2, X_amp_def_2, Y_def_2 = augment_data(X_dict['run2']['X_time_def'],\n",
    "                                      X_dict['run2']['X_amp_def'],\n",
    "                                      Y_dict['run2']['Y_def'])"
   ]
  },
  {
   "cell_type": "code",
   "execution_count": 25,
   "metadata": {
    "ExecuteTime": {
     "end_time": "2023-04-25T09:31:28.129538Z",
     "start_time": "2023-04-25T09:31:27.879693Z"
    }
   },
   "outputs": [
    {
     "name": "stdout",
     "output_type": "stream",
     "text": [
      "||||||||||||||||||\n",
      "Data spliting to test, val and train datasets\n",
      "Orig X_time_arr shape:  (18560, 16, 16, 32)\n",
      "Orig X_amp_arr shape:  (18560, 16, 16, 32)\n",
      "Orig Y_arr shape:  (18560, 16, 16, 1)\n",
      "\n",
      "X_time_train shape:  (9280, 16, 16, 32)\n",
      "X_time_val shape:  (1856, 16, 16, 32)\n",
      "X_time_test shape:  (7424, 16, 16, 32)\n",
      "\n",
      "X_amp_train shape:  (9280, 16, 16, 32)\n",
      "X_amp_val shape:  (1856, 16, 16, 32)\n",
      "X_amp_test shape:  (7424, 16, 16, 32)\n",
      "\n",
      "Y_train shape:  (9280, 16, 16, 1)\n",
      "Y_val shape:  (1856, 16, 16, 1)\n",
      "Y_test shape:  (7424, 16, 16, 1)\n",
      "||||||||||||||||||\n",
      "\n",
      "||||||||||||||||||\n",
      "Data spliting to test, val and train datasets\n",
      "Orig X_time_arr shape:  (17792, 16, 16, 32)\n",
      "Orig X_amp_arr shape:  (17792, 16, 16, 32)\n",
      "Orig Y_arr shape:  (17792, 16, 16, 1)\n",
      "\n",
      "X_time_train shape:  (8896, 16, 16, 32)\n",
      "X_time_val shape:  (1779, 16, 16, 32)\n",
      "X_time_test shape:  (7117, 16, 16, 32)\n",
      "\n",
      "X_amp_train shape:  (8896, 16, 16, 32)\n",
      "X_amp_val shape:  (1779, 16, 16, 32)\n",
      "X_amp_test shape:  (7117, 16, 16, 32)\n",
      "\n",
      "Y_train shape:  (8896, 16, 16, 1)\n",
      "Y_val shape:  (1779, 16, 16, 1)\n",
      "Y_test shape:  (7117, 16, 16, 1)\n",
      "||||||||||||||||||\n",
      "\n"
     ]
    },
    {
     "data": {
      "text/plain": [
       "\" X_time_non_def_tuple_1, X_amp_non_def_tuple_1, Y_non_def_tuple_1 = split_data_to_train_test_val_datasets(X_dict['run1']['X_time_non_def'], \\n                                                          X_dict['run1']['X_amp_non_def'], \\n                                                          Y_dict['run1']['Y_non_def'], \\n                                                          test_data_percent, \\n                                                          val_data_percent)   \\n\\nX_time_non_def_tuple_2, \\\\ \\nX_amp_non_def_tuple_2, \\\\ \\nY_non_def_tuple_2 = split_data_to_train_test_val_datasets(X_dict['run2']['X_time_non_def'], \\n                                                          X_dict['run2']['X_amp_non_def'], \\n                                                          Y_dict['run2']['Y_non_def'], \\n                                                          test_data_percent, \\n                                                          val_data_percent)  \""
      ]
     },
     "execution_count": 25,
     "metadata": {},
     "output_type": "execute_result"
    }
   ],
   "source": [
    "test_data_percent = 0.4\n",
    "val_data_percent = 0.1\n",
    "\n",
    "X_time_def_tuple_1,\\\n",
    "X_amp_def_tuple_1,\\\n",
    "Y_def_tuple_1 = split_data_to_train_test_val_datasets(X_time_def_1, \n",
    "                                                      X_amp_def_1, \n",
    "                                                      Y_def_1, \n",
    "                                                      test_data_percent, \n",
    "                                                      val_data_percent)\n",
    "    \n",
    "X_time_def_tuple_2, \\\n",
    "X_amp_def_tuple_2, \\\n",
    "Y_def_tuple_2 = split_data_to_train_test_val_datasets(X_time_def_2, \n",
    "                                                      X_amp_def_2, \n",
    "                                                      Y_def_2, \n",
    "                                                      test_data_percent, \n",
    "                                                      val_data_percent)\n",
    "\n",
    "''' X_time_non_def_tuple_1, \\\n",
    "X_amp_non_def_tuple_1, \\\n",
    "Y_non_def_tuple_1 = split_data_to_train_test_val_datasets(X_dict['run1']['X_time_non_def'], \n",
    "                                                          X_dict['run1']['X_amp_non_def'], \n",
    "                                                          Y_dict['run1']['Y_non_def'], \n",
    "                                                          test_data_percent, \n",
    "                                                          val_data_percent)   \n",
    "\n",
    "X_time_non_def_tuple_2, \\ \n",
    "X_amp_non_def_tuple_2, \\ \n",
    "Y_non_def_tuple_2 = split_data_to_train_test_val_datasets(X_dict['run2']['X_time_non_def'], \n",
    "                                                          X_dict['run2']['X_amp_non_def'], \n",
    "                                                          Y_dict['run2']['Y_non_def'], \n",
    "                                                          test_data_percent, \n",
    "                                                          val_data_percent)  '''"
   ]
  },
  {
   "cell_type": "code",
   "execution_count": 26,
   "metadata": {
    "ExecuteTime": {
     "end_time": "2023-04-25T09:31:38.295816Z",
     "start_time": "2023-04-25T09:31:28.134536Z"
    }
   },
   "outputs": [],
   "source": [
    "X_train =  np.concatenate([X_time_def_tuple_1[0],X_time_def_tuple_2[0]],axis=0)\n",
    "Y_train = np.concatenate([Y_def_tuple_1[0], Y_def_tuple_2[0]],axis=0)\n",
    "\n",
    "X_val = np.concatenate([X_time_def_tuple_1[1],X_time_def_tuple_2[1]],axis=0)\n",
    "Y_val = np.concatenate([Y_def_tuple_1[1], Y_def_tuple_2[1]],axis=0)\n",
    "\n",
    "X_test = np.concatenate([X_time_def_tuple_1[2],X_time_def_tuple_2[2]],axis=0)\n",
    "Y_test = np.concatenate([Y_def_tuple_1[2], Y_def_tuple_2[2]],axis=0)"
   ]
  },
  {
   "cell_type": "code",
   "execution_count": 27,
   "metadata": {
    "ExecuteTime": {
     "end_time": "2023-04-25T09:31:38.829475Z",
     "start_time": "2023-04-25T09:31:38.585626Z"
    },
    "colab": {
     "base_uri": "https://localhost:8080/"
    },
    "id": "oYqxrgnhQbEV",
    "outputId": "bc9ef031-a0a6-4da1-d38d-bb2c799b20d9"
   },
   "outputs": [
    {
     "name": "stdout",
     "output_type": "stream",
     "text": [
      "X_train.shape:  (18176, 16, 16, 32)\n",
      "Y_train.shape (18176, 16, 16, 1)\n",
      "\n",
      "\n",
      "X_val.shape:  (3635, 16, 16, 32)\n",
      "Y_val.shape (3635, 16, 16, 1)\n",
      "\n",
      "\n",
      "X_test.shape (14541, 16, 16, 32)\n",
      "Y_test.shape (14541, 16, 16, 1)\n"
     ]
    }
   ],
   "source": [
    "print('X_train.shape: ', X_train.shape)\n",
    "print('Y_train.shape',Y_train.shape)\n",
    "print('\\n')\n",
    "\n",
    "print('X_val.shape: ', X_val.shape)\n",
    "print('Y_val.shape',Y_val.shape)\n",
    "print('\\n')\n",
    "\n",
    "print('X_test.shape',X_test.shape)\n",
    "print('Y_test.shape',Y_test.shape)"
   ]
  },
  {
   "cell_type": "markdown",
   "metadata": {},
   "source": [
    "# CNN с 1 входом по времени"
   ]
  },
  {
   "cell_type": "code",
   "execution_count": 60,
   "metadata": {
    "ExecuteTime": {
     "end_time": "2023-04-25T10:46:10.774374Z",
     "start_time": "2023-04-25T10:46:10.758385Z"
    }
   },
   "outputs": [],
   "source": [
    "def weighted_binary_crossentropy(y_true, y_pred):\n",
    "    one_weight=0.80\n",
    "    zero_weight=0.20\n",
    "    # Original binary crossentropy (see losses.py):\n",
    "    # K.mean(K.binary_crossentropy(y_true, y_pred), axis=-1)\n",
    "\n",
    "    # Calculate the binary crossentropy\n",
    "    b_ce = K.binary_crossentropy(y_true, y_pred)\n",
    "\n",
    "    # Apply the weights\n",
    "    weight_vector = y_true * one_weight + (1. - y_true) * zero_weight\n",
    "    weighted_b_ce = weight_vector * b_ce\n",
    "\n",
    "    # Return the mean error\n",
    "    return K.mean(weighted_b_ce)"
   ]
  },
  {
   "cell_type": "code",
   "execution_count": 61,
   "metadata": {
    "ExecuteTime": {
     "end_time": "2023-04-25T10:46:11.168642Z",
     "start_time": "2023-04-25T10:46:11.143660Z"
    }
   },
   "outputs": [],
   "source": [
    "# всякие константы для последующей работы\n",
    "\n",
    "#///////////////////////////////// для компиляции \n",
    "\n",
    "CMP_learning_rate = 0.008 #0.04 # шаг сходимости back propogation\n",
    "#CMP_solver = keras.optimizers.Adam(CMP_learning_rate) # оптимизатор\n",
    "#CMP_solver = keras.optimizers.Adagrad(CMP_learning_rate) # оптимизатор\n",
    "CMP_solver = keras.optimizers.SGD(CMP_learning_rate, nesterov=True, momentum=0.2) # оптимизатор\n",
    "#CMP_metrics = ['accuracy']\n",
    "\n",
    "CMP_loss_func = 'binary_crossentropy'#'mean_squared_error'# функция потерь\n",
    "#///////////////////////////////// для колбэков\n",
    "\n",
    "    # для Early_stopping\n",
    "ES_patience = 2 # кол-во эпох без улучшений\n",
    "ES_min_delta = 0.001 # минимальное улучшение параметра за cur_patience\n",
    "ES_monitor_parametr =  'loss' #'loss' # отслеживаемый параметр \n",
    "ES_save_best_weights = True # сохранять ли веса нейронки с лучшими результатами\n",
    "    \n",
    "    # для ReduceLROnPlateau\n",
    "RLPOP_monitor_parametr = 'loss'#'loss' #'val_loss'  # отслеживаемый параметр \n",
    "RLPOP_factor = 0.2 # множитель для расчета нового шага сходимости (new_learning_rate = old_learning_rate*RLPOP_factor)\n",
    "RLPOP_patience = 5 # кол-во эпох без улучшений\n",
    "RLPOP_verbose = 1 # выводить ли прогресс изменения шага сходимости в его процессее\n",
    "RLPOP_mode = 'auto' # выбирает, уменьшать шаг сходимости при росте величины или при её уменьшении\n",
    "RLPOP_min_delta = 0.0001 # порог изменения отслеживаемого значения\n",
    "RLPOP_cooldown = 0 # количество эпох до возобновления работы после изменения шага сходимости\n",
    "RLPOP_min_lr = 0 # минимальное значение шага сходимости\n",
    "\n",
    "    # для CallbackList\n",
    "CBL_add_history = True # вызывать ли колбэк History (если он не был довавлен вручную)\n",
    "CBL_add_progbar = True # вызывать ли колбэк ProgbarLogger (если он не был довавлен вручную)\n",
    "    \n",
    "#///////////////////////////////// для тренировки\n",
    "\n",
    "FIT_batch_size = 100 # размер bach при обучении/тестировании1\n",
    "FIT_shuffle = True # перемешивать ли данные\n",
    "FIT_verbose = True # выводить ли прогресс обучения в его процессее\n",
    "FIT_epochs = 3 # количество эпох обучения\n",
    "#FIT_validation_split = 0.20 #0.20 # процент валидационных данных, отсекаемых из тестовой выборки"
   ]
  },
  {
   "cell_type": "code",
   "execution_count": 72,
   "metadata": {
    "ExecuteTime": {
     "end_time": "2023-04-25T11:23:30.693780Z",
     "start_time": "2023-04-25T11:23:30.227873Z"
    }
   },
   "outputs": [
    {
     "name": "stdout",
     "output_type": "stream",
     "text": [
      "Tensor(\"conv2d_104/Relu:0\", shape=(None, 14, 14, 64), dtype=float32)\n",
      "Tensor(\"conv2d_105/Relu:0\", shape=(None, 12, 12, 64), dtype=float32)\n",
      "Tensor(\"conv2d_106/Relu:0\", shape=(None, 6, 6, 64), dtype=float32)\n",
      "Tensor(\"conv2d_107/Relu:0\", shape=(None, 4, 4, 128), dtype=float32)\n",
      "Tensor(\"conv2d_108/Relu:0\", shape=(None, 2, 2, 128), dtype=float32)\n",
      "Tensor(\"conv2d_109/Relu:0\", shape=(None, 1, 1, 128), dtype=float32)\n"
     ]
    },
    {
     "ename": "ValueError",
     "evalue": "A `Concatenate` layer requires inputs with matching shapes except for the concat axis. Got inputs shapes: [(None, 12, 12, 64), (None, 4, 4, 64)]",
     "output_type": "error",
     "traceback": [
      "\u001b[1;31m---------------------------------------------------------------------------\u001b[0m",
      "\u001b[1;31mValueError\u001b[0m                                Traceback (most recent call last)",
      "\u001b[1;32m~\\AppData\\Local\\Temp/ipykernel_9276/2581748942.py\u001b[0m in \u001b[0;36m<module>\u001b[1;34m\u001b[0m\n\u001b[0;32m     29\u001b[0m \u001b[0mconvT_4\u001b[0m \u001b[1;33m=\u001b[0m \u001b[0mUpSampling2D\u001b[0m\u001b[1;33m(\u001b[0m\u001b[1;36m2\u001b[0m\u001b[1;33m,\u001b[0m \u001b[0minterpolation\u001b[0m\u001b[1;33m=\u001b[0m\u001b[1;34m'bilinear'\u001b[0m\u001b[1;33m)\u001b[0m \u001b[1;33m(\u001b[0m\u001b[0mconv_7_2\u001b[0m\u001b[1;33m)\u001b[0m\u001b[1;33m\u001b[0m\u001b[1;33m\u001b[0m\u001b[0m\n\u001b[0;32m     30\u001b[0m \u001b[0mconv_8_1\u001b[0m \u001b[1;33m=\u001b[0m \u001b[0mConv2D\u001b[0m\u001b[1;33m(\u001b[0m\u001b[1;36m64\u001b[0m\u001b[1;33m,\u001b[0m \u001b[1;33m(\u001b[0m\u001b[1;36m3\u001b[0m\u001b[1;33m,\u001b[0m\u001b[1;36m3\u001b[0m\u001b[1;33m)\u001b[0m\u001b[1;33m,\u001b[0m \u001b[0mpadding\u001b[0m\u001b[1;33m=\u001b[0m\u001b[1;34m'same'\u001b[0m\u001b[1;33m,\u001b[0m \u001b[0mactivation\u001b[0m\u001b[1;33m=\u001b[0m\u001b[1;34m'relu'\u001b[0m\u001b[1;33m)\u001b[0m\u001b[1;33m(\u001b[0m\u001b[0mconvT_4\u001b[0m\u001b[1;33m)\u001b[0m\u001b[1;33m\u001b[0m\u001b[1;33m\u001b[0m\u001b[0m\n\u001b[1;32m---> 31\u001b[1;33m \u001b[0mconc_3\u001b[0m \u001b[1;33m=\u001b[0m \u001b[0mconcatenate\u001b[0m\u001b[1;33m(\u001b[0m\u001b[1;33m[\u001b[0m\u001b[0mconv_1_2\u001b[0m\u001b[1;33m,\u001b[0m\u001b[0mconv_8_1\u001b[0m\u001b[1;33m]\u001b[0m\u001b[1;33m,\u001b[0m\u001b[0maxis\u001b[0m\u001b[1;33m=\u001b[0m\u001b[1;36m3\u001b[0m\u001b[1;33m)\u001b[0m\u001b[1;33m\u001b[0m\u001b[1;33m\u001b[0m\u001b[0m\n\u001b[0m\u001b[0;32m     32\u001b[0m \u001b[0mbatch_6\u001b[0m \u001b[1;33m=\u001b[0m \u001b[0mDropout\u001b[0m\u001b[1;33m(\u001b[0m\u001b[1;36m0.5\u001b[0m\u001b[1;33m)\u001b[0m\u001b[1;33m(\u001b[0m\u001b[0mconc_3\u001b[0m\u001b[1;33m)\u001b[0m\u001b[1;33m\u001b[0m\u001b[1;33m\u001b[0m\u001b[0m\n\u001b[0;32m     33\u001b[0m \u001b[0mconv_8_2\u001b[0m \u001b[1;33m=\u001b[0m \u001b[0mConv2D\u001b[0m\u001b[1;33m(\u001b[0m\u001b[1;36m64\u001b[0m\u001b[1;33m,\u001b[0m \u001b[1;33m(\u001b[0m\u001b[1;36m3\u001b[0m\u001b[1;33m,\u001b[0m\u001b[1;36m3\u001b[0m\u001b[1;33m)\u001b[0m\u001b[1;33m,\u001b[0m \u001b[0mpadding\u001b[0m\u001b[1;33m=\u001b[0m\u001b[1;34m'same'\u001b[0m\u001b[1;33m,\u001b[0m \u001b[0mactivation\u001b[0m\u001b[1;33m=\u001b[0m\u001b[1;34m'relu'\u001b[0m\u001b[1;33m)\u001b[0m\u001b[1;33m(\u001b[0m\u001b[0mbatch_6\u001b[0m\u001b[1;33m)\u001b[0m\u001b[1;33m\u001b[0m\u001b[1;33m\u001b[0m\u001b[0m\n",
      "\u001b[1;32m~\\anaconda3\\envs\\network\\lib\\site-packages\\tensorflow\\python\\keras\\layers\\merge.py\u001b[0m in \u001b[0;36mconcatenate\u001b[1;34m(inputs, axis, **kwargs)\u001b[0m\n\u001b[0;32m    929\u001b[0m       \u001b[0mA\u001b[0m \u001b[0mtensor\u001b[0m\u001b[1;33m,\u001b[0m \u001b[0mthe\u001b[0m \u001b[0mconcatenation\u001b[0m \u001b[0mof\u001b[0m \u001b[0mthe\u001b[0m \u001b[0minputs\u001b[0m \u001b[0malongside\u001b[0m \u001b[0maxis\u001b[0m\u001b[0;31m \u001b[0m\u001b[0;31m`\u001b[0m\u001b[0maxis\u001b[0m\u001b[0;31m`\u001b[0m\u001b[1;33m.\u001b[0m\u001b[1;33m\u001b[0m\u001b[1;33m\u001b[0m\u001b[0m\n\u001b[0;32m    930\u001b[0m   \"\"\"\n\u001b[1;32m--> 931\u001b[1;33m   \u001b[1;32mreturn\u001b[0m \u001b[0mConcatenate\u001b[0m\u001b[1;33m(\u001b[0m\u001b[0maxis\u001b[0m\u001b[1;33m=\u001b[0m\u001b[0maxis\u001b[0m\u001b[1;33m,\u001b[0m \u001b[1;33m**\u001b[0m\u001b[0mkwargs\u001b[0m\u001b[1;33m)\u001b[0m\u001b[1;33m(\u001b[0m\u001b[0minputs\u001b[0m\u001b[1;33m)\u001b[0m\u001b[1;33m\u001b[0m\u001b[1;33m\u001b[0m\u001b[0m\n\u001b[0m\u001b[0;32m    932\u001b[0m \u001b[1;33m\u001b[0m\u001b[0m\n\u001b[0;32m    933\u001b[0m \u001b[1;33m\u001b[0m\u001b[0m\n",
      "\u001b[1;32m~\\anaconda3\\envs\\network\\lib\\site-packages\\tensorflow\\python\\keras\\engine\\base_layer.py\u001b[0m in \u001b[0;36m__call__\u001b[1;34m(self, *args, **kwargs)\u001b[0m\n\u001b[0;32m    923\u001b[0m     \u001b[1;31m# >> model = tf.keras.Model(inputs, outputs)\u001b[0m\u001b[1;33m\u001b[0m\u001b[1;33m\u001b[0m\u001b[1;33m\u001b[0m\u001b[0m\n\u001b[0;32m    924\u001b[0m     \u001b[1;32mif\u001b[0m \u001b[0m_in_functional_construction_mode\u001b[0m\u001b[1;33m(\u001b[0m\u001b[0mself\u001b[0m\u001b[1;33m,\u001b[0m \u001b[0minputs\u001b[0m\u001b[1;33m,\u001b[0m \u001b[0margs\u001b[0m\u001b[1;33m,\u001b[0m \u001b[0mkwargs\u001b[0m\u001b[1;33m,\u001b[0m \u001b[0minput_list\u001b[0m\u001b[1;33m)\u001b[0m\u001b[1;33m:\u001b[0m\u001b[1;33m\u001b[0m\u001b[1;33m\u001b[0m\u001b[0m\n\u001b[1;32m--> 925\u001b[1;33m       return self._functional_construction_call(inputs, args, kwargs,\n\u001b[0m\u001b[0;32m    926\u001b[0m                                                 input_list)\n\u001b[0;32m    927\u001b[0m \u001b[1;33m\u001b[0m\u001b[0m\n",
      "\u001b[1;32m~\\anaconda3\\envs\\network\\lib\\site-packages\\tensorflow\\python\\keras\\engine\\base_layer.py\u001b[0m in \u001b[0;36m_functional_construction_call\u001b[1;34m(self, inputs, args, kwargs, input_list)\u001b[0m\n\u001b[0;32m   1096\u001b[0m         \u001b[1;31m# Build layer if applicable (if the `build` method has been\u001b[0m\u001b[1;33m\u001b[0m\u001b[1;33m\u001b[0m\u001b[1;33m\u001b[0m\u001b[0m\n\u001b[0;32m   1097\u001b[0m         \u001b[1;31m# overridden).\u001b[0m\u001b[1;33m\u001b[0m\u001b[1;33m\u001b[0m\u001b[1;33m\u001b[0m\u001b[0m\n\u001b[1;32m-> 1098\u001b[1;33m         \u001b[0mself\u001b[0m\u001b[1;33m.\u001b[0m\u001b[0m_maybe_build\u001b[0m\u001b[1;33m(\u001b[0m\u001b[0minputs\u001b[0m\u001b[1;33m)\u001b[0m\u001b[1;33m\u001b[0m\u001b[1;33m\u001b[0m\u001b[0m\n\u001b[0m\u001b[0;32m   1099\u001b[0m         \u001b[0mcast_inputs\u001b[0m \u001b[1;33m=\u001b[0m \u001b[0mself\u001b[0m\u001b[1;33m.\u001b[0m\u001b[0m_maybe_cast_inputs\u001b[0m\u001b[1;33m(\u001b[0m\u001b[0minputs\u001b[0m\u001b[1;33m,\u001b[0m \u001b[0minput_list\u001b[0m\u001b[1;33m)\u001b[0m\u001b[1;33m\u001b[0m\u001b[1;33m\u001b[0m\u001b[0m\n\u001b[0;32m   1100\u001b[0m \u001b[1;33m\u001b[0m\u001b[0m\n",
      "\u001b[1;32m~\\anaconda3\\envs\\network\\lib\\site-packages\\tensorflow\\python\\keras\\engine\\base_layer.py\u001b[0m in \u001b[0;36m_maybe_build\u001b[1;34m(self, inputs)\u001b[0m\n\u001b[0;32m   2641\u001b[0m         \u001b[1;31m# operations.\u001b[0m\u001b[1;33m\u001b[0m\u001b[1;33m\u001b[0m\u001b[1;33m\u001b[0m\u001b[0m\n\u001b[0;32m   2642\u001b[0m         \u001b[1;32mwith\u001b[0m \u001b[0mtf_utils\u001b[0m\u001b[1;33m.\u001b[0m\u001b[0mmaybe_init_scope\u001b[0m\u001b[1;33m(\u001b[0m\u001b[0mself\u001b[0m\u001b[1;33m)\u001b[0m\u001b[1;33m:\u001b[0m\u001b[1;33m\u001b[0m\u001b[1;33m\u001b[0m\u001b[0m\n\u001b[1;32m-> 2643\u001b[1;33m           \u001b[0mself\u001b[0m\u001b[1;33m.\u001b[0m\u001b[0mbuild\u001b[0m\u001b[1;33m(\u001b[0m\u001b[0minput_shapes\u001b[0m\u001b[1;33m)\u001b[0m  \u001b[1;31m# pylint:disable=not-callable\u001b[0m\u001b[1;33m\u001b[0m\u001b[1;33m\u001b[0m\u001b[0m\n\u001b[0m\u001b[0;32m   2644\u001b[0m       \u001b[1;31m# We must set also ensure that the layer is marked as built, and the build\u001b[0m\u001b[1;33m\u001b[0m\u001b[1;33m\u001b[0m\u001b[1;33m\u001b[0m\u001b[0m\n\u001b[0;32m   2645\u001b[0m       \u001b[1;31m# shape is stored since user defined build functions may not be calling\u001b[0m\u001b[1;33m\u001b[0m\u001b[1;33m\u001b[0m\u001b[1;33m\u001b[0m\u001b[0m\n",
      "\u001b[1;32m~\\anaconda3\\envs\\network\\lib\\site-packages\\tensorflow\\python\\keras\\utils\\tf_utils.py\u001b[0m in \u001b[0;36mwrapper\u001b[1;34m(instance, input_shape)\u001b[0m\n\u001b[0;32m    321\u001b[0m     \u001b[1;32mif\u001b[0m \u001b[0minput_shape\u001b[0m \u001b[1;32mis\u001b[0m \u001b[1;32mnot\u001b[0m \u001b[1;32mNone\u001b[0m\u001b[1;33m:\u001b[0m\u001b[1;33m\u001b[0m\u001b[1;33m\u001b[0m\u001b[0m\n\u001b[0;32m    322\u001b[0m       \u001b[0minput_shape\u001b[0m \u001b[1;33m=\u001b[0m \u001b[0mconvert_shapes\u001b[0m\u001b[1;33m(\u001b[0m\u001b[0minput_shape\u001b[0m\u001b[1;33m,\u001b[0m \u001b[0mto_tuples\u001b[0m\u001b[1;33m=\u001b[0m\u001b[1;32mTrue\u001b[0m\u001b[1;33m)\u001b[0m\u001b[1;33m\u001b[0m\u001b[1;33m\u001b[0m\u001b[0m\n\u001b[1;32m--> 323\u001b[1;33m     \u001b[0moutput_shape\u001b[0m \u001b[1;33m=\u001b[0m \u001b[0mfn\u001b[0m\u001b[1;33m(\u001b[0m\u001b[0minstance\u001b[0m\u001b[1;33m,\u001b[0m \u001b[0minput_shape\u001b[0m\u001b[1;33m)\u001b[0m\u001b[1;33m\u001b[0m\u001b[1;33m\u001b[0m\u001b[0m\n\u001b[0m\u001b[0;32m    324\u001b[0m     \u001b[1;31m# Return shapes from `fn` as TensorShapes.\u001b[0m\u001b[1;33m\u001b[0m\u001b[1;33m\u001b[0m\u001b[1;33m\u001b[0m\u001b[0m\n\u001b[0;32m    325\u001b[0m     \u001b[1;32mif\u001b[0m \u001b[0moutput_shape\u001b[0m \u001b[1;32mis\u001b[0m \u001b[1;32mnot\u001b[0m \u001b[1;32mNone\u001b[0m\u001b[1;33m:\u001b[0m\u001b[1;33m\u001b[0m\u001b[1;33m\u001b[0m\u001b[0m\n",
      "\u001b[1;32m~\\anaconda3\\envs\\network\\lib\\site-packages\\tensorflow\\python\\keras\\layers\\merge.py\u001b[0m in \u001b[0;36mbuild\u001b[1;34m(self, input_shape)\u001b[0m\n\u001b[0;32m    517\u001b[0m             shape[axis] for shape in shape_set if shape[axis] is not None)\n\u001b[0;32m    518\u001b[0m         \u001b[1;32mif\u001b[0m \u001b[0mlen\u001b[0m\u001b[1;33m(\u001b[0m\u001b[0munique_dims\u001b[0m\u001b[1;33m)\u001b[0m \u001b[1;33m>\u001b[0m \u001b[1;36m1\u001b[0m\u001b[1;33m:\u001b[0m\u001b[1;33m\u001b[0m\u001b[1;33m\u001b[0m\u001b[0m\n\u001b[1;32m--> 519\u001b[1;33m           \u001b[1;32mraise\u001b[0m \u001b[0mValueError\u001b[0m\u001b[1;33m(\u001b[0m\u001b[0merr_msg\u001b[0m\u001b[1;33m)\u001b[0m\u001b[1;33m\u001b[0m\u001b[1;33m\u001b[0m\u001b[0m\n\u001b[0m\u001b[0;32m    520\u001b[0m \u001b[1;33m\u001b[0m\u001b[0m\n\u001b[0;32m    521\u001b[0m   \u001b[1;32mdef\u001b[0m \u001b[0m_merge_function\u001b[0m\u001b[1;33m(\u001b[0m\u001b[0mself\u001b[0m\u001b[1;33m,\u001b[0m \u001b[0minputs\u001b[0m\u001b[1;33m)\u001b[0m\u001b[1;33m:\u001b[0m\u001b[1;33m\u001b[0m\u001b[1;33m\u001b[0m\u001b[0m\n",
      "\u001b[1;31mValueError\u001b[0m: A `Concatenate` layer requires inputs with matching shapes except for the concat axis. Got inputs shapes: [(None, 12, 12, 64), (None, 4, 4, 64)]"
     ]
    }
   ],
   "source": [
    "input_time = Input((16,16,32))\n",
    "\n",
    "conv_1_1 = Conv2D(64, (3,3), activation='relu')(input_time)\n",
    "conv_1_2 = Conv2D(64, (3,3), activation='relu')(conv_1_1)\n",
    "dconv_1_1 = Conv2D(64, (3,3), dilation_rate=(3, 3), activation='relu')(conv_1_2)\n",
    "#batch_1 = Dropout(0.5)(dconv_1_1)\n",
    "\n",
    "print(conv_1_1)\n",
    "print(conv_1_2)\n",
    "print(dconv_1_1)\n",
    "\n",
    "conv_2_1 = Conv2D(128, (3,3), activation='relu')(dconv_1_1)\n",
    "conv_2_2 = Conv2D(128, (3,3), activation='relu')(conv_2_1)\n",
    "dconv_2_1 = Conv2D(128, (2,2), dilation_rate=(1, 1), activation='relu')(conv_2_2)\n",
    "#batch_2 = Dropout(0.5)(dconv_2_1)\n",
    "\n",
    "print(conv_2_1)\n",
    "print(conv_2_2)\n",
    "print(dconv_2_1)\n",
    "\n",
    "convT_3 = UpSampling2D(2, interpolation='bilinear') (conv_4_1)\n",
    "conv_7_1 = Conv2D(128, (3,3), padding='same', activation='relu')(convT_3)\n",
    "conc_2 = concatenate([conv_2_2,conv_7_1],axis=3)\n",
    "batch_5 = Dropout(0.5)(conc_2)\n",
    "conv_7_2 = Conv2D(128, (3,3), padding='same', activation='relu')(batch_5)\n",
    "\n",
    "convT_4 = UpSampling2D(2, interpolation='bilinear') (conv_7_2)\n",
    "conv_8_1 = Conv2D(64, (3,3), padding='same', activation='relu')(convT_4)\n",
    "conc_3 = concatenate([conv_1_2,conv_8_1],axis=3)\n",
    "batch_6 = Dropout(0.5)(conc_3)\n",
    "conv_8_2 = Conv2D(64, (3,3), padding='same', activation='relu')(batch_6)\n",
    "\n",
    "output = Conv2D(1, (3,3), padding='same', activation='sigmoid')(conv_8_2)\n",
    "\n",
    "\n",
    "model = keras.Model(input_time, output, name='model')\n",
    "\n",
    "model.compile(optimizer = CMP_solver, \n",
    "              loss = weighted_binary_crossentropy)\n",
    "\n",
    "print(model.summary())"
   ]
  },
  {
   "cell_type": "code",
   "execution_count": null,
   "metadata": {
    "ExecuteTime": {
     "end_time": "2023-04-20T13:41:58.993199Z",
     "start_time": "2023-04-20T13:41:58.070765Z"
    },
    "deletable": false,
    "editable": false,
    "run_control": {
     "frozen": true
    }
   },
   "outputs": [],
   "source": [
    "input_time = Input((PREP_image_size,PREP_image_size,32))\n",
    "\n",
    "conv_1_1 = Conv2D(64, (3,3), padding='same', activation='relu')(input_time)\n",
    "conv_1_2 = Conv2D(64, (3,3), padding='same', activation='relu')(conv_1_1)\n",
    "conv_1_3 = Conv2D(64, (3,3), padding='same', activation='relu')(conv_1_2)\n",
    "dconv_1_1 = Conv2D(64, (3,3), dilation_rate=(12, 12), activation='relu')(conv_1_3)\n",
    "batch_1 = Dropout(0.5)(dconv_1_1)\n",
    "\n",
    "conv_2_1 = Conv2D(128, (3,3), padding='same', activation='relu')(batch_1)\n",
    "conv_2_2 = Conv2D(128, (3,3), padding='same', activation='relu')(conv_2_1)\n",
    "conv_2_3 = Conv2D(128, (3,3), padding='same', activation='relu')(conv_2_2)\n",
    "dconv_2_1 = Conv2D(128, (3,3), dilation_rate=(6, 6), activation='relu')(conv_2_3)\n",
    "batch_2 = Dropout(0.5)(dconv_2_1)\n",
    "\n",
    "conv_3_1 = Conv2D(256, (3,3), padding='same', activation='relu')(batch_2)\n",
    "conv_3_2 = Conv2D(256, (3,3), padding='same', activation='relu')(conv_3_1)\n",
    "conv_3_3 = Conv2D(256, (3,3), padding='same', activation='relu')(conv_3_2)\n",
    "dconv_3_1 = Conv2D(256, (3,3), dilation_rate=(3, 3), activation='relu')(conv_3_3)\n",
    "batch_3 = Dropout(0.5)(dconv_3_1)\n",
    "\n",
    "conv_4_1 = Conv2D(512, (3,3), padding='same', activation='relu')(batch_3)\n",
    "conv_4_2 = Conv2D(512, (3,3), padding='same', activation='relu')(conv_4_1)\n",
    "#conv_4_3 = Conv2D(512, (3,3), padding='same', activation='relu')(conv_4_2)\n",
    "\n",
    "convT_2 = Conv2DTranspose(256,(2,2),strides=(2,2))(conv_4_2)\n",
    "conv_6_1 = Conv2D(256, (3,3), padding='same', activation='relu')(convT_2)\n",
    "conc_1 = concatenate([conv_3_3,conv_6_1],axis=3)\n",
    "batch_4 = Dropout(0.5)(conc_1)\n",
    "conv_6_2 = Conv2D(256, (3,3), padding='same', activation='relu')(batch_4)\n",
    "conv_6_3 = Conv2D(256, (3,3), padding='same', activation='relu')(conv_6_2)\n",
    "\n",
    "convT_3 = Conv2DTranspose(128,(2,2),strides=(2,2))(conv_6_3)\n",
    "conv_7_1 = Conv2D(128, (3,3), padding='same', activation='relu')(convT_3)\n",
    "conc_2 = concatenate([conv_2_3,conv_7_1],axis=3)\n",
    "batch_5 = Dropout(0.5)(conc_2)\n",
    "conv_7_2 = Conv2D(128, (3,3), padding='same', activation='relu')(batch_5)\n",
    "conv_7_3 = Conv2D(128, (3,3), padding='same', activation='relu')(conv_7_2)\n",
    "\n",
    "convT_4 = Conv2DTranspose(64,(2,2),strides=(2,2))(conv_7_3)\n",
    "conv_8_1 = Conv2D(64, (3,3), padding='same', activation='relu')(convT_4)\n",
    "conc_3 = concatenate([conv_1_3,conv_8_1],axis=3)\n",
    "batch_6 = Dropout(0.5)(conc_3)\n",
    "conv_8_2 = Conv2D(64, (3,3), padding='same', activation='relu')(batch_6)\n",
    "conv_8_3 = Conv2D(64, (3,3), padding='same', activation='relu')(conv_8_2)\n",
    "\n",
    "\n",
    "output = Conv2D(1, (3,3), padding='same', activation='sigmoid')(conv_8_3)\n",
    "\n",
    "\n",
    "model = keras.Model(input_time, output, name='model')\n",
    "\n",
    "model.compile(optimizer = CMP_solver, \n",
    "              loss = weighted_binary_crossentropy)\n",
    "\n",
    "print(model.summary())"
   ]
  },
  {
   "cell_type": "code",
   "execution_count": 63,
   "metadata": {
    "ExecuteTime": {
     "end_time": "2023-04-25T10:46:12.443434Z",
     "start_time": "2023-04-25T10:46:12.431442Z"
    }
   },
   "outputs": [],
   "source": [
    "# Создание и настройка колбэков\n",
    "callback_list = [] # массив колбэков до подачи в колбек \"callbacklist\"\n",
    "\n",
    "'''temp = keras.callbacks.EarlyStopping(\n",
    "            monitor = ES_monitor_parametr, \n",
    "            min_delta = ES_min_delta, \n",
    "            patience = ES_patience,\n",
    "            restore_best_weights = ES_save_best_weights\n",
    "            )\n",
    "callback_list.append(temp)\n",
    "\n",
    "temp = keras.callbacks.ReduceLROnPlateau(\n",
    "            monitor = RLPOP_monitor_parametr, \n",
    "            factor = RLPOP_factor, \n",
    "            patience = RLPOP_patience, \n",
    "            verbose = RLPOP_verbose,\n",
    "            mode = RLPOP_mode, \n",
    "            min_delta = RLPOP_min_delta, \n",
    "            cooldown = RLPOP_cooldown, \n",
    "            min_lr = RLPOP_min_lr\n",
    "            )\n",
    "callback_list.append(temp)'''\n",
    "\n",
    "FIT_callback_list = keras.callbacks.CallbackList(\n",
    "            callbacks = callback_list, \n",
    "            add_history = CBL_add_history, \n",
    "            add_progbar = CBL_add_progbar, \n",
    "            model = model\n",
    "            )"
   ]
  },
  {
   "cell_type": "code",
   "execution_count": 64,
   "metadata": {
    "ExecuteTime": {
     "end_time": "2023-04-25T11:17:40.831474Z",
     "start_time": "2023-04-25T10:46:12.840434Z"
    }
   },
   "outputs": [
    {
     "name": "stdout",
     "output_type": "stream",
     "text": [
      "122/122 [==============================] - 665s 5s/step - loss: 0.1587 - val_loss: 0.1512\n",
      "122/122 [==============================] - 606s 5s/step - loss: 0.1518 - val_loss: 0.1510\n",
      "122/122 [==============================] - 600s 5s/step - loss: 0.1515 - val_loss: 0.1507\n"
     ]
    }
   ],
   "source": [
    "history = model.fit(X_train,\n",
    "                    Y_train,\n",
    "                    batch_size = FIT_batch_size, \n",
    "                    epochs = FIT_epochs, \n",
    "                    verbose = FIT_verbose, \n",
    "                    validation_data = (X_val,Y_val), \n",
    "                    shuffle = FIT_shuffle,\n",
    "                    callbacks = FIT_callback_list)"
   ]
  },
  {
   "cell_type": "code",
   "execution_count": 65,
   "metadata": {
    "ExecuteTime": {
     "end_time": "2023-04-25T11:17:41.642233Z",
     "start_time": "2023-04-25T11:17:40.839475Z"
    }
   },
   "outputs": [
    {
     "data": {
      "image/png": "[encoded data removed]",
      "text/plain": [
       "<Figure size 720x432 with 1 Axes>"
      ]
     },
     "metadata": {
      "needs_background": "light"
     },
     "output_type": "display_data"
    }
   ],
   "source": [
    "# Вывод графика изменения ошибки\n",
    "\n",
    "fig, ax = plt.subplots()\n",
    "fig.set_figwidth(10)\n",
    "fig.set_figheight(6)\n",
    "\n",
    "plt.plot(history.history['loss'], label='loss',  linewidth=1.5, color='blue')\n",
    "plt.plot(history.history['val_loss'], linestyle = '--', label='val_loss',  linewidth=3, color='red')\n",
    "\n",
    "ax.set_title('График ошибки во время обучения', fontsize=20)\n",
    "ax.set_ylabel('Ошибка', fontsize=15)\n",
    "ax.set_xlabel('Эпохи', fontsize=15)\n",
    "\n",
    "#  Устанавливаем форматирование делений:\n",
    "ax.xaxis.set_tick_params(which = 'major', labelsize = 14)\n",
    "ax.yaxis.set_tick_params(which = 'major', labelsize = 14)\n",
    "\n",
    "ax.minorticks_on()\n",
    "ax.grid(which='major', color = 'k', alpha = 0.6)\n",
    "ax.grid(which='minor', color = 'gray', linestyle = ':')\n",
    "\n",
    "ax.legend(fontsize = 15, facecolor = \"white\", loc = 'upper right')\n",
    "\n",
    "plt.show()"
   ]
  },
  {
   "cell_type": "code",
   "execution_count": 66,
   "metadata": {
    "ExecuteTime": {
     "end_time": "2023-04-25T11:19:40.142055Z",
     "start_time": "2023-04-25T11:17:41.642233Z"
    },
    "colab": {
     "base_uri": "https://localhost:8080/"
    },
    "id": "QTC0hhhEQbEY",
    "outputId": "57c7c314-fcaf-4971-c3c0-53320f6f7755"
   },
   "outputs": [
    {
     "name": "stdout",
     "output_type": "stream",
     "text": [
      "97/97 [==============================] - 117s 1s/step - loss: 0.1507\n"
     ]
    },
    {
     "data": {
      "text/plain": [
       "0.15074507892131805"
      ]
     },
     "execution_count": 66,
     "metadata": {},
     "output_type": "execute_result"
    }
   ],
   "source": [
    "# тест модели\n",
    "model.evaluate(X_test, Y_test, batch_size = FIT_batch_size)"
   ]
  },
  {
   "cell_type": "code",
   "execution_count": 67,
   "metadata": {
    "ExecuteTime": {
     "end_time": "2023-04-25T11:19:42.975110Z",
     "start_time": "2023-04-25T11:19:42.307903Z"
    }
   },
   "outputs": [],
   "source": [
    "res = model.predict(X_test[:20])"
   ]
  },
  {
   "cell_type": "code",
   "execution_count": 68,
   "metadata": {
    "ExecuteTime": {
     "end_time": "2023-04-25T11:19:50.129430Z",
     "start_time": "2023-04-25T11:19:42.983105Z"
    }
   },
   "outputs": [
    {
     "data": {
      "image/png": "[encoded data removed]",
      "text/plain": [
       "<Figure size 720x4320 with 40 Axes>"
      ]
     },
     "metadata": {
      "needs_background": "light"
     },
     "output_type": "display_data"
    }
   ],
   "source": [
    "i = 1\n",
    "fig, axes = plt.subplots(20,2)\n",
    "\n",
    "fig.set_figwidth(10)\n",
    "fig.set_figheight(60)\n",
    "\n",
    "for ax,rmap,ymap in zip(axes,res,Y_test):\n",
    "    ax[0].imshow(rmap)\n",
    "    ax[1].imshow(ymap)\n",
    "     \n",
    "#plt.subplots_adjust(left=0.1, bottom=0.1, right=0.9, top=0.9, wspace=0.1, hspace=0.8)\n",
    "plt.show()"
   ]
  },
  {
   "cell_type": "code",
   "execution_count": 56,
   "metadata": {
    "ExecuteTime": {
     "end_time": "2023-04-24T16:56:31.750868Z",
     "start_time": "2023-04-24T16:56:25.423838Z"
    },
    "colab": {
     "base_uri": "https://localhost:8080/"
    },
    "deletable": false,
    "editable": false,
    "id": "2IRlkWLoQbEY",
    "outputId": "aaa52e8c-7679-4d7b-e71f-07facca79ddd",
    "run_control": {
     "frozen": true
    }
   },
   "outputs": [
    {
     "name": "stdout",
     "output_type": "stream",
     "text": [
      "||||||||||||||||||\n",
      "Y arr reshaping to 2D\n",
      "Original arr size:  (72, 48, 48, 1)\n",
      "Crop windows height/width:  48\n",
      "New numpy shape:  (96, 384, 1)\n",
      "||||||||||||||||||\n",
      "\n",
      "||||||||||||||||||\n",
      "Y arr reshaping to 2D\n",
      "Original arr size:  (72, 48, 48, 1)\n",
      "Crop windows height/width:  48\n",
      "New numpy shape:  (96, 384, 1)\n",
      "||||||||||||||||||\n",
      "\n"
     ]
    }
   ],
   "source": [
    "res = model.predict(X_dict['run1']['X_time_all'])\n",
    "Y_res_map = reshape_3D_Y_numpy_to_2D(res,Y_dict['run1']['df'].shape[0],Y_dict['run1']['df'].shape[1],PREP_image_size)\n",
    "Y_orig_map = reshape_3D_Y_numpy_to_2D(Y_dict['run1']['Y_all'],Y_dict['run1']['df'].shape[0],Y_dict['run1']['df'].shape[1],PREP_image_size)"
   ]
  },
  {
   "cell_type": "code",
   "execution_count": 57,
   "metadata": {
    "ExecuteTime": {
     "end_time": "2023-04-24T16:56:32.466298Z",
     "start_time": "2023-04-24T16:56:31.754873Z"
    },
    "colab": {
     "base_uri": "https://localhost:8080/",
     "height": 869
    },
    "deletable": false,
    "editable": false,
    "id": "0KIAIrVJQbEZ",
    "outputId": "cc1ff259-7b07-42ec-85aa-354b26a8893c",
    "run_control": {
     "frozen": true
    }
   },
   "outputs": [
    {
     "data": {
      "image/png": "[encoded data removed]",
      "text/plain": [
       "<Figure size 1440x720 with 2 Axes>"
      ]
     },
     "metadata": {
      "needs_background": "light"
     },
     "output_type": "display_data"
    }
   ],
   "source": [
    "fig, axes = plt.subplots(2)\n",
    "\n",
    "fig.set_figwidth(20)\n",
    "fig.set_figheight(10)\n",
    "\n",
    "axes[0].imshow(Y_res_map)\n",
    "\n",
    "axes[0].set_xlabel('Номер датчика', fontsize=10) \n",
    "axes[0].set_ylabel('Номер измерения', fontsize=10) \n",
    "axes[0].set_title('Результат модели', fontsize=10) \n",
    "\n",
    "axes[1].imshow(Y_orig_map)\n",
    "\n",
    "axes[1].set_xlabel('Желаемый результат', fontsize=10) \n",
    "axes[1].set_ylabel('Номер измерения', fontsize=10) \n",
    "axes[1].set_title('Карта дефектов', fontsize=10) \n",
    "\n",
    "     \n",
    "#plt.subplots_adjust(left=0.1, bottom=0.1, right=0.9, top=0.9, wspace=0.1, hspace=0.8)\n",
    "plt.show()"
   ]
  },
  {
   "cell_type": "code",
   "execution_count": 58,
   "metadata": {
    "ExecuteTime": {
     "end_time": "2023-04-24T16:56:38.253507Z",
     "start_time": "2023-04-24T16:56:32.471294Z"
    },
    "colab": {
     "base_uri": "https://localhost:8080/"
    },
    "deletable": false,
    "editable": false,
    "id": "ywVin2upkLjs",
    "outputId": "c0324dfb-d475-48dd-ef63-e97c738e3c44",
    "run_control": {
     "frozen": true
    }
   },
   "outputs": [
    {
     "name": "stdout",
     "output_type": "stream",
     "text": [
      "||||||||||||||||||\n",
      "Y arr reshaping to 2D\n",
      "Original arr size:  (72, 48, 48, 1)\n",
      "Crop windows height/width:  48\n",
      "New numpy shape:  (96, 384, 1)\n",
      "||||||||||||||||||\n",
      "\n",
      "||||||||||||||||||\n",
      "Y arr reshaping to 2D\n",
      "Original arr size:  (72, 48, 48, 1)\n",
      "Crop windows height/width:  48\n",
      "New numpy shape:  (96, 384, 1)\n",
      "||||||||||||||||||\n",
      "\n"
     ]
    }
   ],
   "source": [
    "res = model.predict(X_dict['run2']['X_time_all'])\n",
    "Y_res_map = reshape_3D_Y_numpy_to_2D(res,Y_dict['run2']['df'].shape[0],Y_dict['run2']['df'].shape[1],PREP_image_size)\n",
    "Y_orig_map = reshape_3D_Y_numpy_to_2D(Y_dict['run2']['Y_all'],Y_dict['run2']['df'].shape[0],Y_dict['run2']['df'].shape[1],PREP_image_size)"
   ]
  },
  {
   "cell_type": "code",
   "execution_count": 59,
   "metadata": {
    "ExecuteTime": {
     "end_time": "2023-04-24T16:56:38.938286Z",
     "start_time": "2023-04-24T16:56:38.259507Z"
    },
    "colab": {
     "base_uri": "https://localhost:8080/",
     "height": 869
    },
    "deletable": false,
    "editable": false,
    "id": "-pkEiaLqdS9L",
    "outputId": "bd5b8291-cc3b-495b-9642-57edb9c0b62f",
    "run_control": {
     "frozen": true
    }
   },
   "outputs": [
    {
     "data": {
      "image/png": "[encoded data removed]",
      "text/plain": [
       "<Figure size 1440x720 with 2 Axes>"
      ]
     },
     "metadata": {
      "needs_background": "light"
     },
     "output_type": "display_data"
    }
   ],
   "source": [
    "fig, axes = plt.subplots(2)\n",
    "\n",
    "fig.set_figwidth(20)\n",
    "fig.set_figheight(10)\n",
    "\n",
    "axes[0].imshow(Y_res_map)\n",
    "\n",
    "axes[0].set_xlabel('Номер датчика', fontsize=10) \n",
    "axes[0].set_ylabel('Номер измерения', fontsize=10) \n",
    "axes[0].set_title('Результат модели', fontsize=10) \n",
    "\n",
    "axes[1].imshow(Y_orig_map)\n",
    "\n",
    "axes[1].set_xlabel('Желаемый результат', fontsize=10) \n",
    "axes[1].set_ylabel('Номер измерения', fontsize=10) \n",
    "axes[1].set_title('Карта дефектов', fontsize=10) \n",
    "\n",
    "     \n",
    "#plt.subplots_adjust(left=0.1, bottom=0.1, right=0.9, top=0.9, wspace=0.1, hspace=0.8)\n",
    "plt.show()"
   ]
  },
  {
   "cell_type": "code",
   "execution_count": null,
   "metadata": {},
   "outputs": [],
   "source": []
  }
 ],
 "metadata": {
  "colab": {
   "provenance": []
  },
  "kernelspec": {
   "display_name": "Python 3 (ipykernel)",
   "language": "python",
   "name": "python3"
  },
  "language_info": {
   "codemirror_mode": {
    "name": "ipython",
    "version": 3
   },
   "file_extension": ".py",
   "mimetype": "text/x-python",
   "name": "python",
   "nbconvert_exporter": "python",
   "pygments_lexer": "ipython3",
   "version": "3.8.12"
  }
 },
 "nbformat": 4,
 "nbformat_minor": 1
}
