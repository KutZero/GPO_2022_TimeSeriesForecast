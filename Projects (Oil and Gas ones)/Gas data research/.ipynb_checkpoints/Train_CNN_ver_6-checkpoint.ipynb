{
 "cells": [
  {
   "cell_type": "code",
   "execution_count": 1,
   "metadata": {
    "ExecuteTime": {
     "end_time": "2023-04-27T09:36:04.776801Z",
     "start_time": "2023-04-27T09:35:21.578748Z"
    },
    "cell_style": "center",
    "id": "p6xN-IEhhbla"
   },
   "outputs": [],
   "source": [
    "import os\n",
    "import numpy as np\n",
    "import pandas as pd\n",
    "import matplotlib.pyplot as plt\n",
    "import tensorflow as tf\n",
    "\n",
    "import sys\n",
    "sys.path.append('custom_modules')\n",
    "\n",
    "import Data_processing as dp\n",
    "\n",
    "from IPython.display import display\n",
    "from matplotlib import ticker\n",
    "from pathlib import Path\n",
    "from tensorflow import keras\n",
    "from tensorflow.keras.datasets import mnist\n",
    "from tensorflow.keras import backend as K\n",
    "from tensorflow.keras.layers import Reshape, Input, Dense, Flatten, Conv2D, Dropout, Conv2DTranspose\n",
    "from tensorflow.keras.layers import MaxPooling2D, UpSampling2D, concatenate, BatchNormalization"
   ]
  },
  {
   "cell_type": "markdown",
   "metadata": {
    "id": "wLCfK5LxQbD9"
   },
   "source": [
    "### Константы для путей к файлам"
   ]
  },
  {
   "cell_type": "code",
   "execution_count": 2,
   "metadata": {
    "ExecuteTime": {
     "end_time": "2023-04-27T09:36:04.792805Z",
     "start_time": "2023-04-27T09:36:04.777801Z"
    },
    "id": "bZHiwO4ShhEF"
   },
   "outputs": [],
   "source": [
    "# Пути к обработанным данным\n",
    "# Пути к X части выборки с массивами в каждой ячейке\n",
    "path_to_array_like_X_data = ('data/Prepared data/Run1/X_data_array_like.xlsx',\n",
    "                             'data/Prepared data/Run2/X_data_array_like.xlsx')\n",
    "# Пути к Y части выборки\n",
    "path_to_Y_data = ('data/Prepared data/Run1/Y_data(binary_classification).xlsx', \n",
    "                  'data/Prepared data/Run2/Y_data(binary_classification).xlsx') \n"
   ]
  },
  {
   "cell_type": "markdown",
   "metadata": {
    "id": "0dxaXom0QbEB"
   },
   "source": [
    "### Константы для обработки данных"
   ]
  },
  {
   "cell_type": "code",
   "execution_count": 3,
   "metadata": {
    "ExecuteTime": {
     "end_time": "2023-04-27T09:36:04.808808Z",
     "start_time": "2023-04-27T09:36:04.793804Z"
    },
    "id": "J-6_JuU5QbEC"
   },
   "outputs": [],
   "source": [
    "PREP_image_size = 16\n",
    "PREP_crop_step = 4"
   ]
  },
  {
   "cell_type": "code",
   "execution_count": 4,
   "metadata": {
    "ExecuteTime": {
     "end_time": "2023-04-27T09:36:04.824811Z",
     "start_time": "2023-04-27T09:36:04.809808Z"
    },
    "cell_style": "center",
    "id": "oicZsiTGQbEE"
   },
   "outputs": [],
   "source": [
    "# детерминация случайных величин, отвечающих за выбор первоначальных весов и биасов\n",
    "tf.compat.v1.set_random_seed(290)\n",
    "tf.random.set_seed(290)"
   ]
  },
  {
   "cell_type": "markdown",
   "metadata": {
    "id": "M3IDwA8GQbEP"
   },
   "source": [
    "# Подготовка данных"
   ]
  },
  {
   "cell_type": "code",
   "execution_count": 5,
   "metadata": {
    "ExecuteTime": {
     "end_time": "2023-04-27T09:36:10.987148Z",
     "start_time": "2023-04-27T09:36:04.826811Z"
    },
    "id": "opRWBSZpQbEP"
   },
   "outputs": [],
   "source": [
    "# загрузка данных из файлов\n",
    "X_dict = dict()\n",
    "Y_dict = dict()\n",
    "\n",
    "for i,x_data_path,y_data_path in zip(range(len(path_to_array_like_X_data)),\n",
    "                                     path_to_array_like_X_data, \n",
    "                                     path_to_Y_data):\n",
    "    \n",
    "    x_temp = dp.get_array_like_X_df(x_data_path)\n",
    "    y_temp = dp.get_Y_df(y_data_path)\n",
    "    \n",
    "    X_dict[f'run{i+1}'] = {'df': x_temp}\n",
    "    Y_dict[f'run{i+1}'] = {'df': y_temp}"
   ]
  },
  {
   "cell_type": "code",
   "execution_count": 6,
   "metadata": {
    "ExecuteTime": {
     "end_time": "2023-04-27T09:36:11.002156Z",
     "start_time": "2023-04-27T09:36:10.988149Z"
    },
    "colab": {
     "base_uri": "https://localhost:8080/"
    },
    "id": "KdhGoLqFQbEQ",
    "outputId": "f48fba51-b02b-4655-da95-fdbe4d63eab2"
   },
   "outputs": [
    {
     "name": "stdout",
     "output_type": "stream",
     "text": [
      "Загружены данные для X выборки из файлов:  dict_keys(['run1', 'run2'])\n",
      "Загружены данные для Y выборки из файлов:  dict_keys(['run1', 'run2'])\n"
     ]
    }
   ],
   "source": [
    "print('Загружены данные для X выборки из файлов: ', X_dict.keys())\n",
    "print('Загружены данные для Y выборки из файлов: ', Y_dict.keys())"
   ]
  },
  {
   "cell_type": "code",
   "execution_count": 7,
   "metadata": {
    "ExecuteTime": {
     "end_time": "2023-04-27T09:36:11.018166Z",
     "start_time": "2023-04-27T09:36:11.003156Z"
    },
    "colab": {
     "base_uri": "https://localhost:8080/"
    },
    "id": "JpYrdVggQbER",
    "outputId": "3a3019d2-f190-46c8-a928-f5b9089ffc64"
   },
   "outputs": [
    {
     "name": "stdout",
     "output_type": "stream",
     "text": [
      "||||||||||||||||||\n",
      "Df reshaping for exact splitting with crop_size\n",
      "Original df size:  (115, 400)\n",
      "Crop windows height/width:  16\n",
      "Crop windows step across rows and cols:  4\n",
      "New df shape:  (116, 400)\n",
      "||||||||||||||||||\n",
      "\n",
      "||||||||||||||||||\n",
      "Df reshaping for exact splitting with crop_size\n",
      "Original df size:  (115, 400)\n",
      "Crop windows height/width:  16\n",
      "Crop windows step across rows and cols:  4\n",
      "New df shape:  (116, 400)\n",
      "||||||||||||||||||\n",
      "\n",
      "||||||||||||||||||\n",
      "Df reshaping for exact splitting with crop_size\n",
      "Original df size:  (119, 400)\n",
      "Crop windows height/width:  16\n",
      "Crop windows step across rows and cols:  4\n",
      "New df shape:  (120, 400)\n",
      "||||||||||||||||||\n",
      "\n",
      "||||||||||||||||||\n",
      "Df reshaping for exact splitting with crop_size\n",
      "Original df size:  (119, 400)\n",
      "Crop windows height/width:  16\n",
      "Crop windows step across rows and cols:  4\n",
      "New df shape:  (120, 400)\n",
      "||||||||||||||||||\n",
      "\n"
     ]
    }
   ],
   "source": [
    "# добавление строк в датафреймы\n",
    "for key in X_dict.keys():\n",
    "    X_dict[key]['df'] = dp.reshape_df_for_future_crops(X_dict[key]['df'], PREP_image_size, PREP_crop_step)\n",
    "    Y_dict[key]['df'] = dp.reshape_df_for_future_crops(Y_dict[key]['df'], PREP_image_size, PREP_crop_step) \n",
    "       "
   ]
  },
  {
   "cell_type": "code",
   "execution_count": 8,
   "metadata": {
    "ExecuteTime": {
     "end_time": "2023-04-27T09:36:12.828662Z",
     "start_time": "2023-04-27T09:36:11.019166Z"
    },
    "colab": {
     "base_uri": "https://localhost:8080/"
    },
    "id": "fJMMLFK0QbES",
    "outputId": "564394aa-ab18-4de9-d21c-7482739bfe19"
   },
   "outputs": [
    {
     "name": "stdout",
     "output_type": "stream",
     "text": [
      "||||||||||||||step 1||||||||||||||||\n",
      "||||||||||||||||||\n",
      "X df reshaping to 4D\n",
      "Original df size:  (116, 400)\n",
      "Crop windows height/width:  16\n",
      "New X_time shape:  (2522, 16, 16, 32)\n",
      "New X_amp shape:  (2522, 16, 16, 32)\n",
      "||||||||||||||||||\n",
      "\n",
      "||||||||||||||||||\n",
      "Y df reshaping to 3D\n",
      "Original df size:  (116, 400)\n",
      "Crop windows height/width:  16\n",
      "New numpy shape:  (2522, 16, 16, 1)\n",
      "||||||||||||||||||\n",
      "\n",
      "\n",
      "\n",
      "||||||||||||||step 2||||||||||||||||\n",
      "||||||||||||||||||\n",
      "X df reshaping to 4D\n",
      "Original df size:  (120, 400)\n",
      "Crop windows height/width:  16\n",
      "New X_time shape:  (2619, 16, 16, 32)\n",
      "New X_amp shape:  (2619, 16, 16, 32)\n",
      "||||||||||||||||||\n",
      "\n",
      "||||||||||||||||||\n",
      "Y df reshaping to 3D\n",
      "Original df size:  (120, 400)\n",
      "Crop windows height/width:  16\n",
      "New numpy shape:  (2619, 16, 16, 1)\n",
      "||||||||||||||||||\n",
      "\n",
      "\n",
      "\n"
     ]
    }
   ],
   "source": [
    "# запишем в словарь numpy array полученные из df\n",
    "#step = 20\n",
    "for i,key in zip(range(len(X_dict.keys())),X_dict.keys()):\n",
    "    print(f\"||||||||||||||step {i+1}||||||||||||||||\")\n",
    "    x_time_temp, x_amp_temp = dp.reshape_X_df_to_image_like_numpy(X_dict[key]['df'], PREP_image_size, PREP_crop_step)\n",
    "    \n",
    "    X_dict[key]['X_time_all'] = x_time_temp\n",
    "    X_dict[key]['X_amp_all'] = x_amp_temp\n",
    "    \n",
    "    y_temp = dp.reshape_Y_df_to_image_like_numpy(Y_dict[key]['df'], PREP_image_size, PREP_crop_step)\n",
    "    \n",
    "    Y_dict[key]['Y_all'] = y_temp \n",
    "    print('\\n')\n",
    "     "
   ]
  },
  {
   "cell_type": "code",
   "execution_count": 9,
   "metadata": {
    "ExecuteTime": {
     "end_time": "2023-04-27T09:36:12.844666Z",
     "start_time": "2023-04-27T09:36:12.829663Z"
    },
    "colab": {
     "base_uri": "https://localhost:8080/"
    },
    "id": "ni5HwQ0cQbET",
    "outputId": "644095e7-4b84-419c-f882-b369bf58203d"
   },
   "outputs": [
    {
     "name": "stdout",
     "output_type": "stream",
     "text": [
      "X данные считаны для файлов:  dict_keys(['run1', 'run2'])\n",
      "Для файла run1 считаны такие данные:  dict_keys(['df', 'X_time_all', 'X_amp_all'])\n",
      "Для файла run2 считаны такие данные:  dict_keys(['df', 'X_time_all', 'X_amp_all'])\n",
      "\n",
      "Y данные считаны для файлов:  dict_keys(['run1', 'run2'])\n",
      "Для файла run1 считаны такие данные:  dict_keys(['df', 'Y_all'])\n",
      "Для файла run2 считаны такие данные:  dict_keys(['df', 'Y_all'])\n"
     ]
    }
   ],
   "source": [
    "print('X данные считаны для файлов: ',X_dict.keys())\n",
    "for key in X_dict.keys():\n",
    "    print('Для файла', key, 'считаны такие данные: ', X_dict[key].keys())\n",
    "    \n",
    "print('\\nY данные считаны для файлов: ',Y_dict.keys())\n",
    "for key in Y_dict.keys():\n",
    "    print('Для файла', key, 'считаны такие данные: ', Y_dict[key].keys())"
   ]
  },
  {
   "cell_type": "code",
   "execution_count": 10,
   "metadata": {
    "ExecuteTime": {
     "end_time": "2023-04-27T09:36:13.418931Z",
     "start_time": "2023-04-27T09:36:12.845666Z"
    },
    "colab": {
     "base_uri": "https://localhost:8080/"
    },
    "id": "r9jbs8dBQbET",
    "outputId": "cec69435-0279-4bc9-f388-0416949a0174"
   },
   "outputs": [
    {
     "name": "stdout",
     "output_type": "stream",
     "text": [
      "||||||||||||||||||\n",
      "Файл:  run1\n",
      "||||||||||||||||||\n",
      "Data preprocessing\n",
      "Orig X_time_arr shape:  (2522, 16, 16, 32)\n",
      "Orig X_amp_arr shape:  (2522, 16, 16, 32)\n",
      "Orig Y_arr shape:  (2522, 16, 16, 1)\n",
      "||||||||||||||||||\n",
      "Data standartization\n",
      "X_time_max: 44.5\n",
      "X_amp_max: 62.992\n",
      "X_time_max after standartization: 1.0\n",
      "X_time_min after standartization: 0.0\n",
      "X_amp_max after standartization: 1.0\n",
      "X_amp_min after standartization: -0.983743967487935\n",
      "||||||||||||||||||\n",
      "\n",
      "||||||||||||||||||\n",
      "Data with and witout defects splitting\n",
      "||||||||||||||||||\n",
      "Defects nums calculating\n",
      "Для карт высотой и шириной в 16\n",
      "и общим кличеством: 2522\n",
      "дефекты присутствуеют на 290 картах\n",
      "||||||||||||||||||\n",
      "\n",
      "X_time_arr_def shape:  (290, 16, 16, 32)\n",
      "X_time_arr_non_def shape:  (2232, 16, 16, 32)\n",
      "X_amp_arr_def shape:  (290, 16, 16, 32)\n",
      "X_amp_arr_non_def shape:  (2232, 16, 16, 32)\n",
      "Y_arr_def shape:  (290, 16, 16, 1)\n",
      "Y_arr_non_def shape:  (2232, 16, 16, 1)\n",
      "||||||||||||||||||\n",
      "\n",
      "||||||||||||||||||\n",
      "\n",
      "||||||||||||||||||\n",
      "Файл:  run2\n",
      "||||||||||||||||||\n",
      "Data preprocessing\n",
      "Orig X_time_arr shape:  (2619, 16, 16, 32)\n",
      "Orig X_amp_arr shape:  (2619, 16, 16, 32)\n",
      "Orig Y_arr shape:  (2619, 16, 16, 1)\n",
      "||||||||||||||||||\n",
      "Data standartization\n",
      "X_time_max: 44.4\n",
      "X_amp_max: 62.992\n",
      "X_time_max after standartization: 1.0\n",
      "X_time_min after standartization: 0.0\n",
      "X_amp_max after standartization: 1.0\n",
      "X_amp_min after standartization: -0.9919037338074677\n",
      "||||||||||||||||||\n",
      "\n",
      "||||||||||||||||||\n",
      "Data with and witout defects splitting\n",
      "||||||||||||||||||\n",
      "Defects nums calculating\n",
      "Для карт высотой и шириной в 16\n",
      "и общим кличеством: 2619\n",
      "дефекты присутствуеют на 278 картах\n",
      "||||||||||||||||||\n",
      "\n",
      "X_time_arr_def shape:  (278, 16, 16, 32)\n",
      "X_time_arr_non_def shape:  (2341, 16, 16, 32)\n",
      "X_amp_arr_def shape:  (278, 16, 16, 32)\n",
      "X_amp_arr_non_def shape:  (2341, 16, 16, 32)\n",
      "Y_arr_def shape:  (278, 16, 16, 1)\n",
      "Y_arr_non_def shape:  (2341, 16, 16, 1)\n",
      "||||||||||||||||||\n",
      "\n",
      "||||||||||||||||||\n",
      "\n"
     ]
    }
   ],
   "source": [
    "# обработка данных\n",
    "for key in X_dict.keys():\n",
    "    print('||||||||||||||||||')\n",
    "    print('Файл: ', key)\n",
    "    \n",
    "    (X_time_def,X_time_non_def), \\\n",
    "    (X_amp_def,X_amp_non_def), \\\n",
    "    (Y_def,Y_non_def) = dp.preprocess_data(X_dict[key]['X_time_all'], \n",
    "                                        X_dict[key]['X_amp_all'], \n",
    "                                        Y_dict[key]['Y_all'],\n",
    "                                        PREP_image_size)\n",
    "    \n",
    "    X_dict[key]['X_time_def'] = X_time_def\n",
    "    X_dict[key]['X_time_non_def'] = X_time_non_def\n",
    "    \n",
    "    X_dict[key]['X_amp_def'] = X_amp_def\n",
    "    X_dict[key]['X_amp_non_def'] = X_amp_non_def\n",
    "    \n",
    "    Y_dict[key]['Y_def'] = Y_def\n",
    "    Y_dict[key]['Y_non_def'] = Y_non_def"
   ]
  },
  {
   "cell_type": "code",
   "execution_count": 11,
   "metadata": {
    "ExecuteTime": {
     "end_time": "2023-04-27T09:36:13.434394Z",
     "start_time": "2023-04-27T09:36:13.421934Z"
    },
    "colab": {
     "base_uri": "https://localhost:8080/"
    },
    "id": "A0vDah1nQbEU",
    "outputId": "a1fcf167-2c5b-463e-b6fd-ccc979e9f487"
   },
   "outputs": [
    {
     "name": "stdout",
     "output_type": "stream",
     "text": [
      "X данные считаны для файлов:  dict_keys(['run1', 'run2'])\n",
      "Для файла run1 считаны такие данные:  dict_keys(['df', 'X_time_all', 'X_amp_all', 'X_time_def', 'X_time_non_def', 'X_amp_def', 'X_amp_non_def'])\n",
      "Для файла run2 считаны такие данные:  dict_keys(['df', 'X_time_all', 'X_amp_all', 'X_time_def', 'X_time_non_def', 'X_amp_def', 'X_amp_non_def'])\n",
      "\n",
      "Y данные считаны для файлов:  dict_keys(['run1', 'run2'])\n",
      "Для файла run1 считаны такие данные:  dict_keys(['df', 'Y_all', 'Y_def', 'Y_non_def'])\n",
      "Для файла run2 считаны такие данные:  dict_keys(['df', 'Y_all', 'Y_def', 'Y_non_def'])\n"
     ]
    }
   ],
   "source": [
    "print('X данные считаны для файлов: ',X_dict.keys())\n",
    "for key in X_dict.keys():\n",
    "    print('Для файла', key, 'считаны такие данные: ', X_dict[key].keys())\n",
    "    \n",
    "print('\\nY данные считаны для файлов: ',Y_dict.keys())\n",
    "for key in Y_dict.keys():\n",
    "    print('Для файла', key, 'считаны такие данные: ', Y_dict[key].keys())"
   ]
  },
  {
   "cell_type": "code",
   "execution_count": 12,
   "metadata": {
    "ExecuteTime": {
     "end_time": "2023-04-27T09:36:16.322945Z",
     "start_time": "2023-04-27T09:36:13.435395Z"
    }
   },
   "outputs": [
    {
     "name": "stdout",
     "output_type": "stream",
     "text": [
      "||||||||||||||||||\n",
      "Data augmentation\n",
      "Orig X_time_arr shape:  (290, 16, 16, 32)\n",
      "Orig X_amp_arr shape:  (290, 16, 16, 32)\n",
      "Orig Y_arr shape:  (290, 16, 16, 1)\n",
      "||||||||||||\n",
      "After 4 steps of 90 degree rotate\n",
      "X_time_arr shape:  (1160, 16, 16, 32)\n",
      "X_amp_arr shape:  (1160, 16, 16, 32)\n",
      "Y_arr shape:  (1160, 16, 16, 1)\n",
      "||||||||||||\n",
      "After horizontal full mirroring\n",
      "X_time_arr shape:  (2320, 16, 16, 32)\n",
      "X_amp_arr shape:  (2320, 16, 16, 32)\n",
      "Y_arr shape:  (2320, 16, 16, 1)\n",
      "||||||||||||\n",
      "After vertical full mirroring\n",
      "X_time_arr shape:  (4640, 16, 16, 32)\n",
      "X_amp_arr shape:  (4640, 16, 16, 32)\n",
      "Y_arr shape:  (4640, 16, 16, 1)\n",
      "||||||||||||\n",
      "After vertical half shifting\n",
      "X_time_arr shape:  (9280, 16, 16, 32)\n",
      "X_amp_arr shape:  (9280, 16, 16, 32)\n",
      "Y_arr shape:  (9280, 16, 16, 1)\n",
      "||||||||||||\n",
      "After horizontal half shifting\n",
      "X_time_arr shape:  (18560, 16, 16, 32)\n",
      "X_amp_arr shape:  (18560, 16, 16, 32)\n",
      "Y_arr shape:  (18560, 16, 16, 1)\n",
      "||||||||||||||||||\n",
      "\n",
      "||||||||||||||||||\n",
      "Data augmentation\n",
      "Orig X_time_arr shape:  (278, 16, 16, 32)\n",
      "Orig X_amp_arr shape:  (278, 16, 16, 32)\n",
      "Orig Y_arr shape:  (278, 16, 16, 1)\n",
      "||||||||||||\n",
      "After 4 steps of 90 degree rotate\n",
      "X_time_arr shape:  (1112, 16, 16, 32)\n",
      "X_amp_arr shape:  (1112, 16, 16, 32)\n",
      "Y_arr shape:  (1112, 16, 16, 1)\n",
      "||||||||||||\n",
      "After horizontal full mirroring\n",
      "X_time_arr shape:  (2224, 16, 16, 32)\n",
      "X_amp_arr shape:  (2224, 16, 16, 32)\n",
      "Y_arr shape:  (2224, 16, 16, 1)\n",
      "||||||||||||\n",
      "After vertical full mirroring\n",
      "X_time_arr shape:  (4448, 16, 16, 32)\n",
      "X_amp_arr shape:  (4448, 16, 16, 32)\n",
      "Y_arr shape:  (4448, 16, 16, 1)\n",
      "||||||||||||\n",
      "After vertical half shifting\n",
      "X_time_arr shape:  (8896, 16, 16, 32)\n",
      "X_amp_arr shape:  (8896, 16, 16, 32)\n",
      "Y_arr shape:  (8896, 16, 16, 1)\n",
      "||||||||||||\n",
      "After horizontal half shifting\n",
      "X_time_arr shape:  (17792, 16, 16, 32)\n",
      "X_amp_arr shape:  (17792, 16, 16, 32)\n",
      "Y_arr shape:  (17792, 16, 16, 1)\n",
      "||||||||||||||||||\n",
      "\n"
     ]
    }
   ],
   "source": [
    "# аугментация данных\n",
    "X_time_def_1, X_amp_def_1, Y_def_1 = dp.augment_data(X_dict['run1']['X_time_def'], \n",
    "                                      X_dict['run1']['X_amp_def'],\n",
    "                                      Y_dict['run1']['Y_def'])\n",
    "\n",
    "X_time_def_2, X_amp_def_2, Y_def_2 = dp.augment_data(X_dict['run2']['X_time_def'],\n",
    "                                      X_dict['run2']['X_amp_def'],\n",
    "                                      Y_dict['run2']['Y_def'])"
   ]
  },
  {
   "cell_type": "code",
   "execution_count": 13,
   "metadata": {
    "ExecuteTime": {
     "end_time": "2023-04-27T09:36:16.338948Z",
     "start_time": "2023-04-27T09:36:16.323945Z"
    }
   },
   "outputs": [
    {
     "name": "stdout",
     "output_type": "stream",
     "text": [
      "||||||||||||||||||\n",
      "Data spliting to test, val and train datasets\n",
      "Orig X_time_arr shape:  (18560, 16, 16, 32)\n",
      "Orig X_amp_arr shape:  (18560, 16, 16, 32)\n",
      "Orig Y_arr shape:  (18560, 16, 16, 1)\n",
      "\n",
      "X_time_train shape:  (9280, 16, 16, 32)\n",
      "X_time_val shape:  (1856, 16, 16, 32)\n",
      "X_time_test shape:  (7424, 16, 16, 32)\n",
      "\n",
      "X_amp_train shape:  (9280, 16, 16, 32)\n",
      "X_amp_val shape:  (1856, 16, 16, 32)\n",
      "X_amp_test shape:  (7424, 16, 16, 32)\n",
      "\n",
      "Y_train shape:  (9280, 16, 16, 1)\n",
      "Y_val shape:  (1856, 16, 16, 1)\n",
      "Y_test shape:  (7424, 16, 16, 1)\n",
      "||||||||||||||||||\n",
      "\n",
      "||||||||||||||||||\n",
      "Data spliting to test, val and train datasets\n",
      "Orig X_time_arr shape:  (17792, 16, 16, 32)\n",
      "Orig X_amp_arr shape:  (17792, 16, 16, 32)\n",
      "Orig Y_arr shape:  (17792, 16, 16, 1)\n",
      "\n",
      "X_time_train shape:  (8896, 16, 16, 32)\n",
      "X_time_val shape:  (1779, 16, 16, 32)\n",
      "X_time_test shape:  (7117, 16, 16, 32)\n",
      "\n",
      "X_amp_train shape:  (8896, 16, 16, 32)\n",
      "X_amp_val shape:  (1779, 16, 16, 32)\n",
      "X_amp_test shape:  (7117, 16, 16, 32)\n",
      "\n",
      "Y_train shape:  (8896, 16, 16, 1)\n",
      "Y_val shape:  (1779, 16, 16, 1)\n",
      "Y_test shape:  (7117, 16, 16, 1)\n",
      "||||||||||||||||||\n",
      "\n"
     ]
    },
    {
     "data": {
      "text/plain": [
       "\" X_time_non_def_tuple_1, X_amp_non_def_tuple_1, Y_non_def_tuple_1 = dp.split_data_to_train_test_val_datasets(X_dict['run1']['X_time_non_def'], \\n                                                          X_dict['run1']['X_amp_non_def'], \\n                                                          Y_dict['run1']['Y_non_def'], \\n                                                          test_data_percent, \\n                                                          val_data_percent)   \\n\\nX_time_non_def_tuple_2, \\\\ \\nX_amp_non_def_tuple_2, \\\\ \\nY_non_def_tuple_2 = dp.split_data_to_train_test_val_datasets(X_dict['run2']['X_time_non_def'], \\n                                                          X_dict['run2']['X_amp_non_def'], \\n                                                          Y_dict['run2']['Y_non_def'], \\n                                                          test_data_percent, \\n                                                          val_data_percent)  \""
      ]
     },
     "execution_count": 13,
     "metadata": {},
     "output_type": "execute_result"
    }
   ],
   "source": [
    "test_data_percent = 0.4\n",
    "val_data_percent = 0.1\n",
    "\n",
    "X_time_def_tuple_1,\\\n",
    "X_amp_def_tuple_1,\\\n",
    "Y_def_tuple_1 = dp.split_data_to_train_test_val_datasets(X_time_def_1, \n",
    "                                                      X_amp_def_1, \n",
    "                                                      Y_def_1, \n",
    "                                                      test_data_percent, \n",
    "                                                      val_data_percent)\n",
    "    \n",
    "X_time_def_tuple_2, \\\n",
    "X_amp_def_tuple_2, \\\n",
    "Y_def_tuple_2 = dp.split_data_to_train_test_val_datasets(X_time_def_2, \n",
    "                                                      X_amp_def_2, \n",
    "                                                      Y_def_2, \n",
    "                                                      test_data_percent, \n",
    "                                                      val_data_percent)\n",
    "\n",
    "''' X_time_non_def_tuple_1, \\\n",
    "X_amp_non_def_tuple_1, \\\n",
    "Y_non_def_tuple_1 = dp.split_data_to_train_test_val_datasets(X_dict['run1']['X_time_non_def'], \n",
    "                                                          X_dict['run1']['X_amp_non_def'], \n",
    "                                                          Y_dict['run1']['Y_non_def'], \n",
    "                                                          test_data_percent, \n",
    "                                                          val_data_percent)   \n",
    "\n",
    "X_time_non_def_tuple_2, \\ \n",
    "X_amp_non_def_tuple_2, \\ \n",
    "Y_non_def_tuple_2 = dp.split_data_to_train_test_val_datasets(X_dict['run2']['X_time_non_def'], \n",
    "                                                          X_dict['run2']['X_amp_non_def'], \n",
    "                                                          Y_dict['run2']['Y_non_def'], \n",
    "                                                          test_data_percent, \n",
    "                                                          val_data_percent)  '''"
   ]
  },
  {
   "cell_type": "code",
   "execution_count": 14,
   "metadata": {
    "ExecuteTime": {
     "end_time": "2023-04-27T09:36:16.801053Z",
     "start_time": "2023-04-27T09:36:16.340949Z"
    }
   },
   "outputs": [],
   "source": [
    "X_train =  np.concatenate([X_time_def_tuple_1[0],X_time_def_tuple_2[0]],axis=0)\n",
    "Y_train = np.concatenate([Y_def_tuple_1[0], Y_def_tuple_2[0]],axis=0)\n",
    "\n",
    "X_val = np.concatenate([X_time_def_tuple_1[1],X_time_def_tuple_2[1]],axis=0)\n",
    "Y_val = np.concatenate([Y_def_tuple_1[1], Y_def_tuple_2[1]],axis=0)\n",
    "\n",
    "X_test = np.concatenate([X_time_def_tuple_1[2],X_time_def_tuple_2[2]],axis=0)\n",
    "Y_test = np.concatenate([Y_def_tuple_1[2], Y_def_tuple_2[2]],axis=0)"
   ]
  },
  {
   "cell_type": "code",
   "execution_count": 15,
   "metadata": {
    "ExecuteTime": {
     "end_time": "2023-04-27T09:36:16.817057Z",
     "start_time": "2023-04-27T09:36:16.802053Z"
    },
    "colab": {
     "base_uri": "https://localhost:8080/"
    },
    "id": "oYqxrgnhQbEV",
    "outputId": "bc9ef031-a0a6-4da1-d38d-bb2c799b20d9"
   },
   "outputs": [
    {
     "name": "stdout",
     "output_type": "stream",
     "text": [
      "X_train.shape:  (18176, 16, 16, 32)\n",
      "Y_train.shape (18176, 16, 16, 1)\n",
      "\n",
      "\n",
      "X_val.shape:  (3635, 16, 16, 32)\n",
      "Y_val.shape (3635, 16, 16, 1)\n",
      "\n",
      "\n",
      "X_test.shape (14541, 16, 16, 32)\n",
      "Y_test.shape (14541, 16, 16, 1)\n"
     ]
    }
   ],
   "source": [
    "print('X_train.shape: ', X_train.shape)\n",
    "print('Y_train.shape',Y_train.shape)\n",
    "print('\\n')\n",
    "\n",
    "print('X_val.shape: ', X_val.shape)\n",
    "print('Y_val.shape',Y_val.shape)\n",
    "print('\\n')\n",
    "\n",
    "print('X_test.shape',X_test.shape)\n",
    "print('Y_test.shape',Y_test.shape)"
   ]
  },
  {
   "cell_type": "markdown",
   "metadata": {},
   "source": [
    "# CNN с 1 входом по времени"
   ]
  },
  {
   "cell_type": "code",
   "execution_count": 16,
   "metadata": {
    "ExecuteTime": {
     "end_time": "2023-04-27T09:36:16.833060Z",
     "start_time": "2023-04-27T09:36:16.818057Z"
    }
   },
   "outputs": [],
   "source": [
    "def weighted_binary_crossentropy(y_true, y_pred):\n",
    "    one_weight=0.80\n",
    "    zero_weight=0.20\n",
    "    # Original binary crossentropy (see losses.py):\n",
    "    # K.mean(K.binary_crossentropy(y_true, y_pred), axis=-1)\n",
    "\n",
    "    # Calculate the binary crossentropy\n",
    "    b_ce = K.binary_crossentropy(y_true, y_pred)\n",
    "\n",
    "    # Apply the weights\n",
    "    weight_vector = y_true * one_weight + (1. - y_true) * zero_weight\n",
    "    weighted_b_ce = weight_vector * b_ce\n",
    "\n",
    "    # Return the mean error\n",
    "    return K.mean(weighted_b_ce)"
   ]
  },
  {
   "cell_type": "code",
   "execution_count": 17,
   "metadata": {
    "ExecuteTime": {
     "end_time": "2023-04-27T09:36:16.849064Z",
     "start_time": "2023-04-27T09:36:16.834061Z"
    }
   },
   "outputs": [],
   "source": [
    "# всякие константы для последующей работы\n",
    "\n",
    "#///////////////////////////////// для компиляции \n",
    "\n",
    "CMP_learning_rate = 0.008 #0.04 # шаг сходимости back propogation\n",
    "#CMP_solver = keras.optimizers.Adam(CMP_learning_rate) # оптимизатор\n",
    "#CMP_solver = keras.optimizers.Adagrad(CMP_learning_rate) # оптимизатор\n",
    "CMP_solver = keras.optimizers.SGD(CMP_learning_rate, nesterov=True, momentum=0.2) # оптимизатор\n",
    "#CMP_metrics = ['accuracy']\n",
    "\n",
    "CMP_loss_func = 'binary_crossentropy'#'mean_squared_error'# функция потерь\n",
    "#///////////////////////////////// для колбэков\n",
    "\n",
    "    # для Early_stopping\n",
    "ES_patience = 2 # кол-во эпох без улучшений\n",
    "ES_min_delta = 0.001 # минимальное улучшение параметра за cur_patience\n",
    "ES_monitor_parametr =  'loss' #'loss' # отслеживаемый параметр \n",
    "ES_save_best_weights = True # сохранять ли веса нейронки с лучшими результатами\n",
    "    \n",
    "    # для ReduceLROnPlateau\n",
    "RLPOP_monitor_parametr = 'loss'#'loss' #'val_loss'  # отслеживаемый параметр \n",
    "RLPOP_factor = 0.2 # множитель для расчета нового шага сходимости (new_learning_rate = old_learning_rate*RLPOP_factor)\n",
    "RLPOP_patience = 5 # кол-во эпох без улучшений\n",
    "RLPOP_verbose = 1 # выводить ли прогресс изменения шага сходимости в его процессее\n",
    "RLPOP_mode = 'auto' # выбирает, уменьшать шаг сходимости при росте величины или при её уменьшении\n",
    "RLPOP_min_delta = 0.0001 # порог изменения отслеживаемого значения\n",
    "RLPOP_cooldown = 0 # количество эпох до возобновления работы после изменения шага сходимости\n",
    "RLPOP_min_lr = 0 # минимальное значение шага сходимости\n",
    "\n",
    "    # для CallbackList\n",
    "CBL_add_history = True # вызывать ли колбэк History (если он не был довавлен вручную)\n",
    "CBL_add_progbar = True # вызывать ли колбэк ProgbarLogger (если он не был довавлен вручную)\n",
    "    \n",
    "#///////////////////////////////// для тренировки\n",
    "\n",
    "FIT_batch_size = 100 # размер bach при обучении/тестировании1\n",
    "FIT_shuffle = True # перемешивать ли данные\n",
    "FIT_verbose = True # выводить ли прогресс обучения в его процессее\n",
    "FIT_epochs = 3 # количество эпох обучения\n",
    "#FIT_validation_split = 0.20 #0.20 # процент валидационных данных, отсекаемых из тестовой выборки"
   ]
  },
  {
   "cell_type": "code",
   "execution_count": 18,
   "metadata": {
    "ExecuteTime": {
     "end_time": "2023-04-27T09:36:17.406258Z",
     "start_time": "2023-04-27T09:36:16.850065Z"
    }
   },
   "outputs": [
    {
     "name": "stdout",
     "output_type": "stream",
     "text": [
      "KerasTensor(type_spec=TensorSpec(shape=(None, 14, 14, 64), dtype=tf.float32, name=None), name='conv2d/Relu:0', description=\"created by layer 'conv2d'\")\n",
      "KerasTensor(type_spec=TensorSpec(shape=(None, 12, 12, 64), dtype=tf.float32, name=None), name='conv2d_1/Relu:0', description=\"created by layer 'conv2d_1'\")\n",
      "KerasTensor(type_spec=TensorSpec(shape=(None, 6, 6, 64), dtype=tf.float32, name=None), name='conv2d_2/Relu:0', description=\"created by layer 'conv2d_2'\")\n",
      "KerasTensor(type_spec=TensorSpec(shape=(None, 4, 4, 128), dtype=tf.float32, name=None), name='conv2d_3/Relu:0', description=\"created by layer 'conv2d_3'\")\n",
      "KerasTensor(type_spec=TensorSpec(shape=(None, 2, 2, 128), dtype=tf.float32, name=None), name='conv2d_4/Relu:0', description=\"created by layer 'conv2d_4'\")\n",
      "KerasTensor(type_spec=TensorSpec(shape=(None, 1, 1, 128), dtype=tf.float32, name=None), name='conv2d_5/Relu:0', description=\"created by layer 'conv2d_5'\")\n"
     ]
    },
    {
     "ename": "NameError",
     "evalue": "name 'conv_4_1' is not defined",
     "output_type": "error",
     "traceback": [
      "\u001b[1;31m---------------------------------------------------------------------------\u001b[0m",
      "\u001b[1;31mNameError\u001b[0m                                 Traceback (most recent call last)",
      "Input \u001b[1;32mIn [18]\u001b[0m, in \u001b[0;36m<cell line: 21>\u001b[1;34m()\u001b[0m\n\u001b[0;32m     18\u001b[0m \u001b[38;5;28mprint\u001b[39m(conv_2_2)\n\u001b[0;32m     19\u001b[0m \u001b[38;5;28mprint\u001b[39m(dconv_2_1)\n\u001b[1;32m---> 21\u001b[0m convT_3 \u001b[38;5;241m=\u001b[39m UpSampling2D(\u001b[38;5;241m2\u001b[39m, interpolation\u001b[38;5;241m=\u001b[39m\u001b[38;5;124m'\u001b[39m\u001b[38;5;124mbilinear\u001b[39m\u001b[38;5;124m'\u001b[39m) (\u001b[43mconv_4_1\u001b[49m)\n\u001b[0;32m     22\u001b[0m conv_7_1 \u001b[38;5;241m=\u001b[39m Conv2D(\u001b[38;5;241m128\u001b[39m, (\u001b[38;5;241m3\u001b[39m,\u001b[38;5;241m3\u001b[39m), padding\u001b[38;5;241m=\u001b[39m\u001b[38;5;124m'\u001b[39m\u001b[38;5;124msame\u001b[39m\u001b[38;5;124m'\u001b[39m, activation\u001b[38;5;241m=\u001b[39m\u001b[38;5;124m'\u001b[39m\u001b[38;5;124mrelu\u001b[39m\u001b[38;5;124m'\u001b[39m)(convT_3)\n\u001b[0;32m     23\u001b[0m conc_2 \u001b[38;5;241m=\u001b[39m concatenate([conv_2_2,conv_7_1],axis\u001b[38;5;241m=\u001b[39m\u001b[38;5;241m3\u001b[39m)\n",
      "\u001b[1;31mNameError\u001b[0m: name 'conv_4_1' is not defined"
     ]
    }
   ],
   "source": [
    "input_time = Input((16,16,32))\n",
    "\n",
    "conv_1_1 = Conv2D(64, (3,3), activation='relu')(input_time)\n",
    "conv_1_2 = Conv2D(64, (3,3), activation='relu')(conv_1_1)\n",
    "dconv_1_1 = Conv2D(64, (3,3), dilation_rate=(3, 3), activation='relu')(conv_1_2)\n",
    "#batch_1 = Dropout(0.5)(dconv_1_1)\n",
    "\n",
    "print(conv_1_1)\n",
    "print(conv_1_2)\n",
    "print(dconv_1_1)\n",
    "\n",
    "conv_2_1 = Conv2D(128, (3,3), activation='relu')(dconv_1_1)\n",
    "conv_2_2 = Conv2D(128, (3,3), activation='relu')(conv_2_1)\n",
    "dconv_2_1 = Conv2D(128, (2,2), dilation_rate=(1, 1), activation='relu')(conv_2_2)\n",
    "#batch_2 = Dropout(0.5)(dconv_2_1)\n",
    "\n",
    "print(conv_2_1)\n",
    "print(conv_2_2)\n",
    "print(dconv_2_1)\n",
    "\n",
    "convT_3 = UpSampling2D(2, interpolation='bilinear') (conv_4_1)\n",
    "conv_7_1 = Conv2D(128, (3,3), padding='same', activation='relu')(convT_3)\n",
    "conc_2 = concatenate([conv_2_2,conv_7_1],axis=3)\n",
    "batch_5 = Dropout(0.5)(conc_2)\n",
    "conv_7_2 = Conv2D(128, (3,3), padding='same', activation='relu')(batch_5)\n",
    "\n",
    "convT_4 = UpSampling2D(2, interpolation='bilinear') (conv_7_2)\n",
    "conv_8_1 = Conv2D(64, (3,3), padding='same', activation='relu')(convT_4)\n",
    "conc_3 = concatenate([conv_1_2,conv_8_1],axis=3)\n",
    "batch_6 = Dropout(0.5)(conc_3)\n",
    "conv_8_2 = Conv2D(64, (3,3), padding='same', activation='relu')(batch_6)\n",
    "\n",
    "output = Conv2D(1, (3,3), padding='same', activation='sigmoid')(conv_8_2)\n",
    "\n",
    "\n",
    "model = keras.Model(input_time, output, name='model')\n",
    "\n",
    "model.compile(optimizer = CMP_solver, \n",
    "              loss = weighted_binary_crossentropy)\n",
    "\n",
    "print(model.summary())"
   ]
  },
  {
   "cell_type": "code",
   "execution_count": null,
   "metadata": {
    "ExecuteTime": {
     "end_time": "2023-04-27T09:36:17.407259Z",
     "start_time": "2023-04-27T09:36:17.407259Z"
    }
   },
   "outputs": [],
   "source": [
    "history = model.fit(X_train,\n",
    "                    Y_train,\n",
    "                    batch_size = FIT_batch_size, \n",
    "                    epochs = FIT_epochs, \n",
    "                    verbose = FIT_verbose, \n",
    "                    validation_data = (X_val,Y_val), \n",
    "                    shuffle = FIT_shuffle,\n",
    "                    callbacks = FIT_callback_list)"
   ]
  },
  {
   "cell_type": "code",
   "execution_count": null,
   "metadata": {
    "ExecuteTime": {
     "end_time": "2023-04-27T09:36:17.408259Z",
     "start_time": "2023-04-27T09:36:17.408259Z"
    }
   },
   "outputs": [],
   "source": [
    "# Вывод графика изменения ошибки\n",
    "\n",
    "fig, ax = plt.subplots()\n",
    "fig.set_figwidth(10)\n",
    "fig.set_figheight(6)\n",
    "\n",
    "plt.plot(history.history['loss'], label='loss',  linewidth=1.5, color='blue')\n",
    "plt.plot(history.history['val_loss'], linestyle = '--', label='val_loss',  linewidth=3, color='red')\n",
    "\n",
    "ax.set_title('График ошибки во время обучения', fontsize=20)\n",
    "ax.set_ylabel('Ошибка', fontsize=15)\n",
    "ax.set_xlabel('Эпохи', fontsize=15)\n",
    "\n",
    "#  Устанавливаем форматирование делений:\n",
    "ax.xaxis.set_tick_params(which = 'major', labelsize = 14)\n",
    "ax.yaxis.set_tick_params(which = 'major', labelsize = 14)\n",
    "\n",
    "ax.minorticks_on()\n",
    "ax.grid(which='major', color = 'k', alpha = 0.6)\n",
    "ax.grid(which='minor', color = 'gray', linestyle = ':')\n",
    "\n",
    "ax.legend(fontsize = 15, facecolor = \"white\", loc = 'upper right')\n",
    "\n",
    "plt.show()"
   ]
  },
  {
   "cell_type": "code",
   "execution_count": null,
   "metadata": {
    "ExecuteTime": {
     "end_time": "2023-04-27T09:36:17.409258Z",
     "start_time": "2023-04-27T09:36:17.409258Z"
    },
    "colab": {
     "base_uri": "https://localhost:8080/"
    },
    "id": "QTC0hhhEQbEY",
    "outputId": "57c7c314-fcaf-4971-c3c0-53320f6f7755"
   },
   "outputs": [],
   "source": [
    "# тест модели\n",
    "model.evaluate(X_test, Y_test, batch_size = FIT_batch_size)"
   ]
  },
  {
   "cell_type": "code",
   "execution_count": 56,
   "metadata": {
    "ExecuteTime": {
     "end_time": "2023-04-24T16:56:31.750868Z",
     "start_time": "2023-04-24T16:56:25.423838Z"
    },
    "colab": {
     "base_uri": "https://localhost:8080/"
    },
    "deletable": false,
    "editable": false,
    "id": "2IRlkWLoQbEY",
    "outputId": "aaa52e8c-7679-4d7b-e71f-07facca79ddd",
    "run_control": {
     "frozen": true
    }
   },
   "outputs": [
    {
     "name": "stdout",
     "output_type": "stream",
     "text": [
      "||||||||||||||||||\n",
      "Y arr reshaping to 2D\n",
      "Original arr size:  (72, 48, 48, 1)\n",
      "Crop windows height/width:  48\n",
      "New numpy shape:  (96, 384, 1)\n",
      "||||||||||||||||||\n",
      "\n",
      "||||||||||||||||||\n",
      "Y arr reshaping to 2D\n",
      "Original arr size:  (72, 48, 48, 1)\n",
      "Crop windows height/width:  48\n",
      "New numpy shape:  (96, 384, 1)\n",
      "||||||||||||||||||\n",
      "\n"
     ]
    }
   ],
   "source": [
    "res = model.predict(X_dict['run1']['X_time_all'])\n",
    "Y_res_map = reshape_3D_Y_numpy_to_2D(res,Y_dict['run1']['df'].shape[0],Y_dict['run1']['df'].shape[1],PREP_image_size)\n",
    "Y_orig_map = reshape_3D_Y_numpy_to_2D(Y_dict['run1']['Y_all'],Y_dict['run1']['df'].shape[0],Y_dict['run1']['df'].shape[1],PREP_image_size)"
   ]
  },
  {
   "cell_type": "code",
   "execution_count": 57,
   "metadata": {
    "ExecuteTime": {
     "end_time": "2023-04-24T16:56:32.466298Z",
     "start_time": "2023-04-24T16:56:31.754873Z"
    },
    "colab": {
     "base_uri": "https://localhost:8080/",
     "height": 869
    },
    "deletable": false,
    "editable": false,
    "id": "0KIAIrVJQbEZ",
    "outputId": "cc1ff259-7b07-42ec-85aa-354b26a8893c",
    "run_control": {
     "frozen": true
    }
   },
   "outputs": [
    {
     "data": {
      "image/png": "[encoded data removed]",
      "text/plain": [
       "<Figure size 1440x720 with 2 Axes>"
      ]
     },
     "metadata": {
      "needs_background": "light"
     },
     "output_type": "display_data"
    }
   ],
   "source": [
    "fig, axes = plt.subplots(2)\n",
    "\n",
    "fig.set_figwidth(20)\n",
    "fig.set_figheight(10)\n",
    "\n",
    "axes[0].imshow(Y_res_map)\n",
    "\n",
    "axes[0].set_xlabel('Номер датчика', fontsize=10) \n",
    "axes[0].set_ylabel('Номер измерения', fontsize=10) \n",
    "axes[0].set_title('Результат модели', fontsize=10) \n",
    "\n",
    "axes[1].imshow(Y_orig_map)\n",
    "\n",
    "axes[1].set_xlabel('Желаемый результат', fontsize=10) \n",
    "axes[1].set_ylabel('Номер измерения', fontsize=10) \n",
    "axes[1].set_title('Карта дефектов', fontsize=10) \n",
    "\n",
    "     \n",
    "#plt.subplots_adjust(left=0.1, bottom=0.1, right=0.9, top=0.9, wspace=0.1, hspace=0.8)\n",
    "plt.show()"
   ]
  },
  {
   "cell_type": "code",
   "execution_count": 58,
   "metadata": {
    "ExecuteTime": {
     "end_time": "2023-04-24T16:56:38.253507Z",
     "start_time": "2023-04-24T16:56:32.471294Z"
    },
    "colab": {
     "base_uri": "https://localhost:8080/"
    },
    "deletable": false,
    "editable": false,
    "id": "ywVin2upkLjs",
    "outputId": "c0324dfb-d475-48dd-ef63-e97c738e3c44",
    "run_control": {
     "frozen": true
    }
   },
   "outputs": [
    {
     "name": "stdout",
     "output_type": "stream",
     "text": [
      "||||||||||||||||||\n",
      "Y arr reshaping to 2D\n",
      "Original arr size:  (72, 48, 48, 1)\n",
      "Crop windows height/width:  48\n",
      "New numpy shape:  (96, 384, 1)\n",
      "||||||||||||||||||\n",
      "\n",
      "||||||||||||||||||\n",
      "Y arr reshaping to 2D\n",
      "Original arr size:  (72, 48, 48, 1)\n",
      "Crop windows height/width:  48\n",
      "New numpy shape:  (96, 384, 1)\n",
      "||||||||||||||||||\n",
      "\n"
     ]
    }
   ],
   "source": [
    "res = model.predict(X_dict['run2']['X_time_all'])\n",
    "Y_res_map = reshape_3D_Y_numpy_to_2D(res,Y_dict['run2']['df'].shape[0],Y_dict['run2']['df'].shape[1],PREP_image_size)\n",
    "Y_orig_map = reshape_3D_Y_numpy_to_2D(Y_dict['run2']['Y_all'],Y_dict['run2']['df'].shape[0],Y_dict['run2']['df'].shape[1],PREP_image_size)"
   ]
  },
  {
   "cell_type": "code",
   "execution_count": 59,
   "metadata": {
    "ExecuteTime": {
     "end_time": "2023-04-24T16:56:38.938286Z",
     "start_time": "2023-04-24T16:56:38.259507Z"
    },
    "colab": {
     "base_uri": "https://localhost:8080/",
     "height": 869
    },
    "deletable": false,
    "editable": false,
    "id": "-pkEiaLqdS9L",
    "outputId": "bd5b8291-cc3b-495b-9642-57edb9c0b62f",
    "run_control": {
     "frozen": true
    }
   },
   "outputs": [
    {
     "data": {
      "image/png": "[encoded data removed]",
      "text/plain": [
       "<Figure size 1440x720 with 2 Axes>"
      ]
     },
     "metadata": {
      "needs_background": "light"
     },
     "output_type": "display_data"
    }
   ],
   "source": [
    "fig, axes = plt.subplots(2)\n",
    "\n",
    "fig.set_figwidth(20)\n",
    "fig.set_figheight(10)\n",
    "\n",
    "axes[0].imshow(Y_res_map)\n",
    "\n",
    "axes[0].set_xlabel('Номер датчика', fontsize=10) \n",
    "axes[0].set_ylabel('Номер измерения', fontsize=10) \n",
    "axes[0].set_title('Результат модели', fontsize=10) \n",
    "\n",
    "axes[1].imshow(Y_orig_map)\n",
    "\n",
    "axes[1].set_xlabel('Желаемый результат', fontsize=10) \n",
    "axes[1].set_ylabel('Номер измерения', fontsize=10) \n",
    "axes[1].set_title('Карта дефектов', fontsize=10) \n",
    "\n",
    "     \n",
    "#plt.subplots_adjust(left=0.1, bottom=0.1, right=0.9, top=0.9, wspace=0.1, hspace=0.8)\n",
    "plt.show()"
   ]
  },
  {
   "cell_type": "code",
   "execution_count": null,
   "metadata": {},
   "outputs": [],
   "source": []
  }
 ],
 "metadata": {
  "colab": {
   "provenance": []
  },
  "kernelspec": {
   "display_name": "Python 3 (ipykernel)",
   "language": "python",
   "name": "python3"
  },
  "language_info": {
   "codemirror_mode": {
    "name": "ipython",
    "version": 3
   },
   "file_extension": ".py",
   "mimetype": "text/x-python",
   "name": "python",
   "nbconvert_exporter": "python",
   "pygments_lexer": "ipython3",
   "version": "3.10.0"
  }
 },
 "nbformat": 4,
 "nbformat_minor": 1
}
