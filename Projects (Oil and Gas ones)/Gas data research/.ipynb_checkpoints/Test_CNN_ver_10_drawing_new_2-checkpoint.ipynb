{
 "cells": [
  {
   "cell_type": "markdown",
   "metadata": {},
   "source": [
    "# Рисование карты дефектов с помощью модели ver_10"
   ]
  },
  {
   "cell_type": "code",
   "execution_count": null,
   "metadata": {
    "ExecuteTime": {
     "end_time": "2023-06-11T03:23:51.264290Z",
     "start_time": "2023-06-11T03:23:46.865872Z"
    },
    "cell_style": "center",
    "id": "p6xN-IEhhbla"
   },
   "outputs": [],
   "source": [
    "# Подключенине библиотек\n",
    "import numpy as np\n",
    "import pandas as pd\n",
    "import matplotlib.pyplot as plt\n",
    "import tensorflow as tf\n",
    "\n",
    "import sys\n",
    "sys.path.append('custom_modules')\n",
    "\n",
    "import Data_processing as dp\n",
    "\n",
    "from matplotlib import ticker\n",
    "from IPython.display import display\n",
    "from tensorflow import keras"
   ]
  },
  {
   "cell_type": "markdown",
   "metadata": {
    "id": "wLCfK5LxQbD9"
   },
   "source": [
    "### Константы для путей к файлам"
   ]
  },
  {
   "cell_type": "code",
   "execution_count": null,
   "metadata": {
    "ExecuteTime": {
     "end_time": "2023-06-11T03:23:51.279294Z",
     "start_time": "2023-06-11T03:23:51.265291Z"
    },
    "id": "bZHiwO4ShhEF"
   },
   "outputs": [],
   "source": [
    "# Пути к обработанным данным\n",
    "# Путь к X части выборки с массивами в каждой ячейке\n",
    "# Run1 - данные обучающей выборки\n",
    "# Run2 - данные тестовой выборки\n",
    "path_to_array_like_X_data = 'data/Prepared data/Run2/X_data_array_like.xlsx'\n",
    "# Путь к Y части выборки\n",
    "path_to_Y_data = 'data/Prepared data/Run2/Y_data(binary_classification).xlsx'\n"
   ]
  },
  {
   "cell_type": "markdown",
   "metadata": {
    "id": "0dxaXom0QbEB"
   },
   "source": [
    "### Константы для обработки данных"
   ]
  },
  {
   "cell_type": "code",
   "execution_count": null,
   "metadata": {
    "ExecuteTime": {
     "end_time": "2023-06-11T03:23:51.295297Z",
     "start_time": "2023-06-11T03:23:51.280294Z"
    },
    "id": "J-6_JuU5QbEC"
   },
   "outputs": [],
   "source": [
    "# Размер кропа\n",
    "PREP_image_size = 64\n",
    "# Шаг кропа\n",
    "PREP_crop_step = 1"
   ]
  },
  {
   "cell_type": "code",
   "execution_count": null,
   "metadata": {
    "ExecuteTime": {
     "end_time": "2023-06-11T03:23:51.311385Z",
     "start_time": "2023-06-11T03:23:51.296298Z"
    },
    "cell_style": "center",
    "id": "oicZsiTGQbEE"
   },
   "outputs": [],
   "source": [
    "# Детерминация случайных величин, отвечающих за выбор первоначальных весов и биасов\n",
    "tf.compat.v1.set_random_seed(290)\n",
    "tf.random.set_seed(290)"
   ]
  },
  {
   "cell_type": "markdown",
   "metadata": {},
   "source": [
    "### Функции для обработки"
   ]
  },
  {
   "cell_type": "code",
   "execution_count": null,
   "metadata": {
    "ExecuteTime": {
     "end_time": "2023-06-11T03:23:51.326388Z",
     "start_time": "2023-06-11T03:23:51.312385Z"
    }
   },
   "outputs": [],
   "source": [
    "def extend_df_for_prediction_1(df, crop_size, crop_step):\n",
    "\n",
    "    print('||||||||||||||||||')\n",
    "    print('Df extending for better prediction')\n",
    "    print('Original df size: ', df.shape)\n",
    "    print('Crop windows height/width: ', crop_size)\n",
    "    print('Crop windows step across rows and cols: ', crop_step)\n",
    "\n",
    "    extend_dims = crop_size - 1\n",
    "    \n",
    "    df = pd.concat([df,df.iloc[:,:extend_dims]],axis=1,ignore_index=True)\n",
    "    df = pd.concat([df,df.iloc[:extend_dims,:]],axis=0,ignore_index=True)\n",
    "        \n",
    "    print('New df shape: ', df.shape)\n",
    "    print('||||||||||||||||||\\n')\n",
    "\n",
    "    dp.reshape_df_for_future_crops(df,crop_size,crop_step)\n",
    "    \n",
    "    return df"
   ]
  },
  {
   "cell_type": "code",
   "execution_count": null,
   "metadata": {
    "ExecuteTime": {
     "end_time": "2023-06-11T03:23:51.342392Z",
     "start_time": "2023-06-11T03:23:51.327389Z"
    }
   },
   "outputs": [],
   "source": [
    "def extend_df_for_prediction_2(df, crop_size, crop_step):\n",
    "\n",
    "    print('||||||||||||||||||')\n",
    "    print('Df extending for better prediction')\n",
    "    print('Original df size: ', df.shape)\n",
    "    print('Crop windows height/width: ', crop_size)\n",
    "    print('Crop windows step across rows and cols: ', crop_step)\n",
    "        \n",
    "    extend_dims = crop_size - 1\n",
    "\n",
    "    df = pd.concat([df.iloc[:,-1 * extend_dims:],\n",
    "                    df,\n",
    "                    df.iloc[:,:extend_dims]],axis=1,ignore_index=True)\n",
    "    \n",
    "    df = pd.concat([df.iloc[extend_dims-1::-1,:], \n",
    "                    df,\n",
    "                    df.iloc[-1:-extend_dims-1:-1,:]\n",
    "                    ],axis=0,ignore_index=True)\n",
    "        \n",
    "    print('New df shape: ', df.shape)\n",
    "    print('||||||||||||||||||\\n')\n",
    "    \n",
    "    dp.reshape_df_for_future_crops(df,crop_size,crop_step)\n",
    "\n",
    "    return df"
   ]
  },
  {
   "cell_type": "markdown",
   "metadata": {},
   "source": [
    "### 3 подхода к предобработке"
   ]
  },
  {
   "cell_type": "code",
   "execution_count": null,
   "metadata": {
    "ExecuteTime": {
     "end_time": "2023-06-11T03:23:51.357395Z",
     "start_time": "2023-06-11T03:23:51.343393Z"
    }
   },
   "outputs": [],
   "source": [
    "# Преобразовать массив результатов работы модели размера (batch,1)\n",
    "# в матрицу размера PREP_df_rows * PREP_df_cols (карту дефектов, построенную моделью)\n",
    "# Размер выходной матрицы - PREP_df_rows * PREP_df_cols\n",
    "# Так как начальное расширение датафрейма на PREP_image_size по 2 осям\n",
    "# тут учитывается грубо, то размер выходной матрицы будет также\n",
    "# PREP_df_rows * PREP_df_cols, а ячейки по конрутру будут размыты \n",
    "# и не точны, так как по ним фильтр прошел меньше раз чем по ячейкам \n",
    "# посреди матрицы\n",
    "\n",
    "def test_reshape_2D_Y_numpy_to_2D_0(rows_count, cols_count, crop_size, step = -1):\n",
    "\n",
    "    print('||||||||||||||||||')\n",
    "    print('Y arr reshaping to 2D')\n",
    "    print('Crop windows height/width: ', crop_size)\n",
    "    print('Crop windows step across rows and cols: ', step)\n",
    "\n",
    "    if step == -1:\n",
    "        step = crop_size\n",
    "    \n",
    "    new_arr = np.zeros((rows_count, cols_count))\n",
    "      \n",
    "    for j in range(0,  cols_count - crop_size + 1, step):\n",
    "        for i in range(0, rows_count - crop_size + 1, step):\n",
    "            new_arr[i:i+crop_size,j:j+crop_size] += 1      \n",
    "            \n",
    "    print('New numpy shape: ', new_arr.shape)\n",
    "    print('||||||||||||||||||\\n')\n",
    "\n",
    "    return new_arr"
   ]
  },
  {
   "cell_type": "code",
   "execution_count": null,
   "metadata": {
    "ExecuteTime": {
     "end_time": "2023-06-11T03:23:51.372544Z",
     "start_time": "2023-06-11T03:23:51.358396Z"
    },
    "hide_input": false
   },
   "outputs": [],
   "source": [
    "# Преобразовать массив результатов работы модели размера (batch,1)\n",
    "# Так как начальное расширение датафрейма на crop_size по 2 осям\n",
    "\n",
    "def test_reshape_2D_Y_numpy_to_2D_1(rows_count, cols_count, crop_size, step = -1):\n",
    "\n",
    "    print('||||||||||||||||||')\n",
    "    print('Y arr reshaping to 2D')\n",
    "    print('Crop windows height/width: ', crop_size)\n",
    "    print('Crop windows step across rows and cols: ', step)\n",
    "    print(f'Expanded map size: ({rows_count},{cols_count})')\n",
    "    print()\n",
    "\n",
    "    new_rows = rows_count - crop_size + 1\n",
    "    new_cols = cols_count - crop_size + 1\n",
    "    \n",
    "    new_arr = np.zeros((new_rows,new_cols))  \n",
    "    \n",
    "    add_num = 1\n",
    "    \n",
    "    for j in range(0,  cols_count - crop_size + 1, step):\n",
    "        for i in range(0, rows_count - crop_size + 1, step):\n",
    "            \n",
    "            if i <= new_rows - crop_size:\n",
    "                if j <= new_cols - crop_size:\n",
    "                    temp_orig = new_arr[i:i+crop_size,j:j+crop_size] + add_num\n",
    "                    new_arr[i:i+crop_size,j:j+crop_size] = temp_orig  \n",
    "                elif j <= new_cols:\n",
    "                    right_orig = new_arr[i:i+crop_size,j:] + add_num\n",
    "                    left_orig = new_arr[i:i+crop_size,:crop_size - right_orig.shape[1]] + add_num\n",
    "                    new_arr[i:i+crop_size,j:] = right_orig\n",
    "                    new_arr[i:i+crop_size,:crop_size - right_orig.shape[1]] = left_orig\n",
    "\n",
    "            elif i <= new_rows:\n",
    "                if j <= new_cols - crop_size:\n",
    "                    low_orig = new_arr[i:,j:j+crop_size] + add_num\n",
    "                    high_orig = new_arr[:crop_size - low_orig.shape[0],j:j+crop_size] + add_num\n",
    "                    new_arr[i:,j:j+crop_size] = low_orig \n",
    "                    new_arr[:crop_size - low_orig.shape[0],j:j+crop_size] = high_orig \n",
    "                elif j <= new_cols:\n",
    "                    right_low = new_arr[i:,j:] + add_num\n",
    "                    right_high = new_arr[:crop_size - low_orig.shape[0],j:] + add_num\n",
    "                    \n",
    "                    left_low = new_arr[i:,:crop_size - right_high.shape[1]] + add_num\n",
    "                    left_high = new_arr[:crop_size - low_orig.shape[0],:crop_size - right_high.shape[1]] + add_num\n",
    "                    \n",
    "                    new_arr[i:,j:] = right_low\n",
    "                    new_arr[:crop_size - low_orig.shape[0],j:] = right_high\n",
    "                    new_arr[i:,:crop_size - right_high.shape[1]] = left_low\n",
    "                    new_arr[:crop_size - low_orig.shape[0],:crop_size - right_high.shape[1]] = left_high\n",
    "                          \n",
    "            \n",
    "    print('New numpy shape: ', new_arr.shape)\n",
    "    print('||||||||||||||||||\\n')\n",
    "\n",
    "    return new_arr"
   ]
  },
  {
   "cell_type": "code",
   "execution_count": null,
   "metadata": {
    "ExecuteTime": {
     "end_time": "2023-06-11T03:23:51.387685Z",
     "start_time": "2023-06-11T03:23:51.373547Z"
    }
   },
   "outputs": [],
   "source": [
    "# Преобразовать массив результатов работы модели размера (batch,1)\n",
    "# в матрицу размера PREP_df_rows * PREP_df_cols (карту дефектов, построенную моделью)\n",
    "# Размер выходной матрицы - PREP_df_rows * PREP_df_cols\n",
    "# Так как начальное расширение датафрейма на PREP_image_size по 2 осям\n",
    "# тут учитывается грубо, то размер выходной матрицы будет также\n",
    "# PREP_df_rows * PREP_df_cols, а ячейки по конрутру будут размыты \n",
    "# и не точны, так как по ним фильтр прошел меньше раз чем по ячейкам \n",
    "# посреди матрицы\n",
    "\n",
    "def test_reshape_2D_Y_numpy_to_2D_2(orig_rows_count, orig_cols_count,\n",
    "                                    result_rows_count, result_cols_count, \n",
    "                                    crop_size, step = -1):\n",
    "\n",
    "    print('||||||||||||||||||')\n",
    "    print('Y arr reshaping to 2D')\n",
    "    print('Crop windows height/width: ', crop_size)\n",
    "    print('Crop windows step across rows and cols: ', step)\n",
    "\n",
    "    if step == -1:\n",
    "        step = crop_size\n",
    "    \n",
    "    new_arr = np.zeros((result_rows_count, result_cols_count))\n",
    "      \n",
    "    for j in range(0,  result_cols_count - crop_size + 1, step):\n",
    "        for i in range(0, result_rows_count - crop_size + 1, step):\n",
    "            new_arr[i:i+crop_size,j:j+crop_size] += 1      \n",
    "    \n",
    "    print('New numpy shape: ', new_arr.shape)\n",
    "    print('||||||||||||||||||\\n')\n",
    "\n",
    "    left_up_border = crop_size - 1\n",
    "    right_border = result_cols_count - (result_cols_count - orig_cols_count) + 1\n",
    "    bottom_border = result_rows_count - (result_rows_count - orig_rows_count) + 1\n",
    "    \n",
    "    return new_arr[left_up_border:,left_up_border:][:orig_rows_count,:orig_cols_count]"
   ]
  },
  {
   "cell_type": "code",
   "execution_count": null,
   "metadata": {
    "ExecuteTime": {
     "end_time": "2023-06-11T03:23:51.403230Z",
     "start_time": "2023-06-11T03:23:51.388686Z"
    }
   },
   "outputs": [],
   "source": [
    "test_rows = 115\n",
    "test_cols = 400\n",
    "test_crop_size = 64\n",
    "test_step = PREP_crop_step\n",
    "print('||||||||||||||||||||||||||||||||||||df_0||||||||||||||||||||||||||||||')\n",
    "df_0 = pd.DataFrame(np.zeros((test_rows, test_cols)))\n",
    "print(f'df.shape: ', df_0.shape)\n",
    "print('||||||||||||||||||||||||||||||||||||df_1||||||||||||||||||||||||||||||')\n",
    "df_1 = extend_df_for_prediction_1(df_0, test_crop_size, test_step)\n",
    "print('||||||||||||||||||||||||||||||||||||df_2||||||||||||||||||||||||||||||')\n",
    "df_2 = extend_df_for_prediction_2(df_0, test_crop_size, test_step)\n",
    "\n",
    "#display(df_0)\n",
    "#display(df_1)\n",
    "#display(df_2)"
   ]
  },
  {
   "cell_type": "code",
   "execution_count": null,
   "metadata": {
    "ExecuteTime": {
     "end_time": "2023-06-11T03:23:52.696749Z",
     "start_time": "2023-06-11T03:23:51.404230Z"
    }
   },
   "outputs": [],
   "source": [
    "test_res_0 = test_reshape_2D_Y_numpy_to_2D_0(df_0.shape[0], df_0.shape[1], \n",
    "                                        test_crop_size, test_step)\n",
    "test_res_1 = test_reshape_2D_Y_numpy_to_2D_1(df_1.shape[0], df_1.shape[1], \n",
    "                                        test_crop_size, test_step)\n",
    "test_res_2 = test_reshape_2D_Y_numpy_to_2D_2(test_rows, test_cols, \n",
    "                                        df_2.shape[0], df_2.shape[1], \n",
    "                                        test_crop_size, test_step)"
   ]
  },
  {
   "cell_type": "code",
   "execution_count": null,
   "metadata": {},
   "outputs": [],
   "source": [
    "fig, ax = plt.subplots()\n",
    "\n",
    "fig.set_figwidth(18)\n",
    "fig.set_figheight(8)\n",
    "\n",
    "ax.set_xlabel('Номер датчика', fontsize=20)\n",
    "ax.set_ylabel('Номер измерения', fontsize=20)\n",
    "ax.set_title(f\"Распределение частот анализа каждой точки для оригинального набора данных\", \n",
    "             fontsize=20, pad=15)\n",
    "\n",
    "ax.patch.set_alpha(0)\n",
    "\n",
    "#  Устанавливаем интервал основных делений:\n",
    "ax.xaxis.set_major_locator(ticker.MultipleLocator(20))\n",
    "ax.yaxis.set_major_locator(ticker.MultipleLocator(15))\n",
    "\n",
    "#  Устанавливаем форматирование чисел основных делений:\n",
    "ax.xaxis.set_major_formatter(ticker.FormatStrFormatter('%.d'))\n",
    "ax.yaxis.set_major_formatter(ticker.FormatStrFormatter('%.d'))\n",
    "\n",
    "#  Устанавливаем форматирование делений:\n",
    "ax.tick_params(axis='both', which='both', labelsize = 15)\n",
    "ax.tick_params(axis='x', labelrotation = 45)\n",
    "\n",
    "ax.pcolormesh(Y_df)\n",
    "ax.invert_yaxis()\n",
    "\n",
    "plt.show()"
   ]
  },
  {
   "cell_type": "code",
   "execution_count": null,
   "metadata": {},
   "outputs": [],
   "source": [
    "fig, ax = plt.subplots()\n",
    "\n",
    "fig.set_figwidth(18)\n",
    "fig.set_figheight(8)\n",
    "\n",
    "ax.set_xlabel('Номер датчика', fontsize=20)\n",
    "ax.set_ylabel('Номер измерения', fontsize=20)\n",
    "ax.set_title(f\"Распределение частот анализа каждой точки для расширенного набора данных\", \n",
    "             fontsize=20, pad=15)\n",
    "\n",
    "ax.patch.set_alpha(0)\n",
    "\n",
    "#  Устанавливаем интервал основных делений:\n",
    "ax.xaxis.set_major_locator(ticker.MultipleLocator(20))\n",
    "ax.yaxis.set_major_locator(ticker.MultipleLocator(15))\n",
    "\n",
    "#  Устанавливаем форматирование чисел основных делений:\n",
    "ax.xaxis.set_major_formatter(ticker.FormatStrFormatter('%.d'))\n",
    "ax.yaxis.set_major_formatter(ticker.FormatStrFormatter('%.d'))\n",
    "\n",
    "#  Устанавливаем форматирование делений:\n",
    "ax.tick_params(axis='both', which='both', labelsize = 15)\n",
    "ax.tick_params(axis='x', labelrotation = 45)\n",
    "\n",
    "ax.pcolormesh(Y_df)\n",
    "ax.invert_yaxis()\n",
    "\n",
    "plt.show()"
   ]
  },
  {
   "cell_type": "code",
   "execution_count": null,
   "metadata": {
    "ExecuteTime": {
     "end_time": "2023-06-11T03:23:53.076010Z",
     "start_time": "2023-06-11T03:23:52.697749Z"
    },
    "deletable": false,
    "editable": false,
    "run_control": {
     "frozen": true
    }
   },
   "outputs": [],
   "source": [
    "# Построить карту дефектов для считанного файла\n",
    "# до всяких обработок\n",
    "fig, axes = plt.subplots(3)\n",
    "\n",
    "fig.set_figwidth(16)\n",
    "fig.set_figheight(15)\n",
    "\n",
    "axes[0].pcolormesh(test_res_0)\n",
    "axes[0].invert_yaxis()\n",
    "\n",
    "axes[0].set_xlabel('Номер датчика', fontsize=15) \n",
    "axes[0].set_ylabel('Номер измерения', fontsize=15) \n",
    "axes[0].set_title(f'Распределение частот анализа каждой точки для оригинального набора данных', fontsize=15) \n",
    "\n",
    "#  Устанавливаем интервал основных делений: \n",
    "axes[0].xaxis.set_major_locator(ticker.MultipleLocator(20)) \n",
    "axes[0].yaxis.set_major_locator(ticker.MultipleLocator(15)) \n",
    " \n",
    "#  Устанавливаем форматирование чисел основных делений: \n",
    "axes[0].xaxis.set_major_formatter(ticker.FormatStrFormatter('%.d')) \n",
    "axes[0].yaxis.set_major_formatter(ticker.FormatStrFormatter('%.d')) \n",
    " \n",
    "#  Устанавливаем форматирование делений: \n",
    "axes[0].xaxis.set_tick_params(which = 'major', labelsize = 15, labelrotation = 45) \n",
    "axes[0].yaxis.set_tick_params(which = 'major', labelsize = 15) \n",
    "\n",
    "##############################################################################################\n",
    "\n",
    "axes[1].pcolormesh(test_res_1)\n",
    "axes[1].invert_yaxis()\n",
    "\n",
    "axes[1].set_xlabel('Номер датчика', fontsize=15) \n",
    "axes[1].set_ylabel('Номер измерения', fontsize=15) \n",
    "axes[1].set_title(f'Распределение частот анализа каждой точки для расширенного набора данных', fontsize=15) \n",
    "\n",
    "#  Устанавливаем интервал основных делений: \n",
    "axes[1].xaxis.set_major_locator(ticker.MultipleLocator(20)) \n",
    "axes[1].yaxis.set_major_locator(ticker.MultipleLocator(15)) \n",
    " \n",
    "#  Устанавливаем форматирование чисел основных делений: \n",
    "axes[1].xaxis.set_major_formatter(ticker.FormatStrFormatter('%.d')) \n",
    "axes[1].yaxis.set_major_formatter(ticker.FormatStrFormatter('%.d')) \n",
    " \n",
    "#  Устанавливаем форматирование делений: \n",
    "axes[1].xaxis.set_tick_params(which = 'major', labelsize = 15, labelrotation = 45) \n",
    "axes[1].yaxis.set_tick_params(which = 'major', labelsize = 15) \n",
    "\n",
    "##############################################################################################\n",
    "\n",
    "axes[2].pcolormesh(test_res_2)\n",
    "axes[2].invert_yaxis()\n",
    "\n",
    "axes[2].set_xlabel('Номер датчика', fontsize=15) \n",
    "axes[2].set_ylabel('Номер измерения', fontsize=15) \n",
    "axes[2].set_title(f'Распределение частот анализа каждой точки для расширенного набора данных', fontsize=15) \n",
    "\n",
    "#  Устанавливаем интервал основных делений: \n",
    "axes[2].xaxis.set_major_locator(ticker.MultipleLocator(20)) \n",
    "axes[2].yaxis.set_major_locator(ticker.MultipleLocator(15)) \n",
    " \n",
    "#  Устанавливаем форматирование чисел основных делений: \n",
    "axes[2].xaxis.set_major_formatter(ticker.FormatStrFormatter('%.d')) \n",
    "axes[2].yaxis.set_major_formatter(ticker.FormatStrFormatter('%.d')) \n",
    " \n",
    "#  Устанавливаем форматирование делений: \n",
    "axes[2].xaxis.set_tick_params(which = 'major', labelsize = 15, labelrotation = 45) \n",
    "axes[2].yaxis.set_tick_params(which = 'major', labelsize = 15) \n",
    "\n",
    "plt.subplots_adjust(left=0, bottom=0, right=1, top=1, wspace=0.1, hspace=0.3)\n",
    "\n",
    "plt.show()"
   ]
  },
  {
   "cell_type": "markdown",
   "metadata": {
    "id": "M3IDwA8GQbEP"
   },
   "source": [
    "# Загрузка данных"
   ]
  },
  {
   "cell_type": "code",
   "execution_count": null,
   "metadata": {
    "ExecuteTime": {
     "end_time": "2023-06-11T03:23:56.205354Z",
     "start_time": "2023-06-11T03:23:53.077011Z"
    },
    "id": "opRWBSZpQbEP"
   },
   "outputs": [],
   "source": [
    "# загрузка данных из файлов\n",
    "X_dict = dict()\n",
    "Y_dict = dict()\n",
    "\n",
    "X_dict['df'] =  dp.get_array_like_X_df(path_to_array_like_X_data)#.iloc[:,200:]\n",
    "Y_dict['df'] =  dp.get_Y_df(path_to_Y_data)#.iloc[:,:200]\n",
    "\n",
    "# По желанию сдвиг по оси у\n",
    "#shift = 100\n",
    "\n",
    "#X_dict['df'] = pd.concat([X_dict['df'].iloc[:,shift:],X_dict['df'].iloc[:,:shift]],axis=1,ignore_index=True)\n",
    "#Y_dict['df'] = pd.concat([Y_dict['df'].iloc[:,shift:],Y_dict['df'].iloc[:,:shift]],axis=1,ignore_index=True)"
   ]
  },
  {
   "cell_type": "code",
   "execution_count": null,
   "metadata": {
    "ExecuteTime": {
     "end_time": "2023-06-11T03:23:56.220854Z",
     "start_time": "2023-06-11T03:23:56.207355Z"
    }
   },
   "outputs": [],
   "source": [
    "# Запишем размеры датафреймов до обработки\n",
    "ORIG_df_cols = Y_dict['df'].shape[1]\n",
    "ORIG_df_rows = Y_dict['df'].shape[0]"
   ]
  },
  {
   "cell_type": "markdown",
   "metadata": {},
   "source": [
    "### Оригинальная развернутая карта дефектов"
   ]
  },
  {
   "cell_type": "code",
   "execution_count": null,
   "metadata": {
    "ExecuteTime": {
     "end_time": "2023-06-11T03:23:56.348683Z",
     "start_time": "2023-06-11T03:23:56.221855Z"
    }
   },
   "outputs": [],
   "source": [
    "# Построить карту дефектов для считанного файла\n",
    "# до всяких обработок\n",
    "fig, axes = plt.subplots()\n",
    "\n",
    "fig.set_figwidth(18)\n",
    "fig.set_figheight(6)\n",
    "\n",
    "axes.pcolormesh(Y_dict['df'])\n",
    "axes.invert_yaxis()\n",
    "\n",
    "axes.set_xlabel('Номер датчика', fontsize=15) \n",
    "axes.set_ylabel('Номер измерения', fontsize=15) \n",
    "axes.set_title(f'Развернутая карта дефектов', fontsize=15) \n",
    "\n",
    "#  Устанавливаем интервал основных делений: \n",
    "axes.xaxis.set_major_locator(ticker.MultipleLocator(20)) \n",
    "axes.yaxis.set_major_locator(ticker.MultipleLocator(15)) \n",
    " \n",
    "#  Устанавливаем форматирование чисел основных делений: \n",
    "axes.xaxis.set_major_formatter(ticker.FormatStrFormatter('%.d')) \n",
    "axes.yaxis.set_major_formatter(ticker.FormatStrFormatter('%.d')) \n",
    " \n",
    "#  Устанавливаем форматирование делений: \n",
    "axes.xaxis.set_tick_params(which = 'major', labelsize = 15, labelrotation = 45) \n",
    "axes.yaxis.set_tick_params(which = 'major', labelsize = 15) \n",
    "\n",
    "plt.show()"
   ]
  },
  {
   "cell_type": "markdown",
   "metadata": {},
   "source": [
    "# Обработка данных"
   ]
  },
  {
   "cell_type": "code",
   "execution_count": null,
   "metadata": {
    "ExecuteTime": {
     "end_time": "2023-06-11T03:23:56.364687Z",
     "start_time": "2023-06-11T03:23:56.349684Z"
    }
   },
   "outputs": [],
   "source": [
    "# Добавление строк в датафреймы\n",
    "# Справа к каждому датафрейму дописывается по 64\n",
    "# элемента, чтобы сымитировать сканирование \n",
    "# трубы по всей окружности фильтром размера 64 на 64\n",
    "# а еще дописывается некоторое количество строк и столбцов\n",
    "# меньшее чем шаг кропа. Чтобы датафрейм можно было поделить\n",
    "# на целое кол-во кропов\n",
    "\n",
    "print('||||||||||| X df preprocessing |||||||||||')\n",
    "#X_dict['df'] = dp.reshape_df_for_future_crops(X_dict['df'], PREP_image_size, PREP_crop_step)\n",
    "#X_dict['df'] = extend_df_for_prediction_1(X_dict['df'], PREP_image_size, PREP_crop_step)\n",
    "X_dict['df'] = extend_df_for_prediction_2(X_dict['df'], PREP_image_size, PREP_crop_step)\n",
    "\n",
    "print('||||||||||| Y df preprocessing |||||||||||')\n",
    "#Y_dict['df'] = dp.reshape_df_for_future_crops(Y_dict['df'], PREP_image_size, PREP_crop_step)\n",
    "#Y_dict['df'] = extend_df_for_prediction_1(Y_dict['df'], PREP_image_size, PREP_crop_step)\n",
    "Y_dict['df'] = extend_df_for_prediction_2(Y_dict['df'], PREP_image_size, PREP_crop_step)"
   ]
  },
  {
   "cell_type": "markdown",
   "metadata": {},
   "source": [
    "### Константы для обработки данных"
   ]
  },
  {
   "cell_type": "code",
   "execution_count": null,
   "metadata": {
    "ExecuteTime": {
     "end_time": "2023-06-11T03:23:56.380706Z",
     "start_time": "2023-06-11T03:23:56.365688Z"
    }
   },
   "outputs": [],
   "source": [
    "# Запишем размеры датафреймов после обработки\n",
    "PREP_df_cols = Y_dict['df'].shape[1]\n",
    "PREP_df_rows = Y_dict['df'].shape[0]"
   ]
  },
  {
   "cell_type": "markdown",
   "metadata": {},
   "source": [
    "### Расширенная развернутая карта дефектов"
   ]
  },
  {
   "cell_type": "code",
   "execution_count": null,
   "metadata": {
    "ExecuteTime": {
     "end_time": "2023-06-11T03:23:56.562793Z",
     "start_time": "2023-06-11T03:23:56.381707Z"
    }
   },
   "outputs": [],
   "source": [
    "# Выведем карту дефектов после первичного расширения\n",
    "fig, axes = plt.subplots()\n",
    "\n",
    "fig.set_figwidth(18)\n",
    "fig.set_figheight(6)\n",
    "\n",
    "axes.pcolormesh(Y_dict['df'])\n",
    "axes.invert_yaxis()\n",
    "axes.set_xlabel('Номер датчика', fontsize=15) \n",
    "axes.set_ylabel('Номер измерения', fontsize=15) \n",
    "axes.set_title(f'Расширенная развернутая карта дефектов', fontsize=15) \n",
    "\n",
    "#  Устанавливаем интервал основных делений: \n",
    "axes.xaxis.set_major_locator(ticker.MultipleLocator(20)) \n",
    "axes.yaxis.set_major_locator(ticker.MultipleLocator(15)) \n",
    " \n",
    "#  Устанавливаем форматирование чисел основных делений: \n",
    "axes.xaxis.set_major_formatter(ticker.FormatStrFormatter('%.d')) \n",
    "axes.yaxis.set_major_formatter(ticker.FormatStrFormatter('%.d')) \n",
    " \n",
    "#  Устанавливаем форматирование делений: \n",
    "axes.xaxis.set_tick_params(which = 'major', labelsize = 15, labelrotation = 45) \n",
    "axes.yaxis.set_tick_params(which = 'major', labelsize = 15) \n",
    "\n",
    "plt.show()"
   ]
  },
  {
   "cell_type": "markdown",
   "metadata": {},
   "source": [
    "# CNN с 2 входами по времени и амплитуде"
   ]
  },
  {
   "cell_type": "markdown",
   "metadata": {},
   "source": [
    "### Функции для дешифровки результатов"
   ]
  },
  {
   "cell_type": "code",
   "execution_count": null,
   "metadata": {
    "ExecuteTime": {
     "end_time": "2023-06-11T03:23:56.578191Z",
     "start_time": "2023-06-11T03:23:56.563794Z"
    }
   },
   "outputs": [],
   "source": [
    "# Преобразовать массив результатов работы модели размера (batch,1)\n",
    "# в матрицу размера PREP_df_rows * PREP_df_cols (карту дефектов, построенную моделью)\n",
    "# Размер выходной матрицы - PREP_df_rows * PREP_df_cols\n",
    "# Так как начальное расширение датафрейма на PREP_image_size по 2 осям\n",
    "# тут учитывается грубо, то размер выходной матрицы будет также\n",
    "# PREP_df_rows * PREP_df_cols, а ячейки по конрутру будут размыты \n",
    "# и не точны, так как по ним фильтр прошел меньше раз чем по ячейкам \n",
    "# посреди матрицы\n",
    "\n",
    "def draw_prediction_map_0_0(model, df, rows_count, cols_count, crop_size, step = -1):\n",
    "\n",
    "    print('||||||||||||||||||')\n",
    "    print('draw_prediction_map_0_0')\n",
    "    print('Crop windows height/width: ', crop_size)\n",
    "    print('Crop windows step across rows and cols: ', step)\n",
    "\n",
    "    if step == -1:\n",
    "        step = crop_size\n",
    "    \n",
    "    new_arr = np.zeros((rows_count, cols_count))\n",
    "    \n",
    "    for i in range(0, result_rows_count - crop_size + 1, step): \n",
    "        \n",
    "        temp_crops = np.stack(\n",
    "            [dp.pandas_crop_to_image_like_numpy(df.iloc[i:i+crop_size,j:j+crop_size])\n",
    "                 for j in range(0, result_cols_count - crop_size + 1, step)], axis=0)\n",
    "        \n",
    "        time_crops = temp_crops[:,:,:,:32]\n",
    "        amp_crops = temp_crops[:,:,:,32:]\n",
    "        \n",
    "        print(f'({i}/{result_rows_count - crop_size + 1})')\n",
    "        \n",
    "        res = model.predict([time_crops, amp_crops])\n",
    "        \n",
    "        for j in range(0,  result_cols_count - crop_size + 1, step):\n",
    "            \n",
    "            if res[j] > 0.5:\n",
    "                new_arr[i:i+crop_size,j:j+crop_size] += res[j]\n",
    "            if res[j] <= 0.5:\n",
    "                new_arr[i:i+crop_size,j:j+crop_size] -= res[j]\n",
    "            \n",
    "            \n",
    "            \n",
    "    print('New numpy shape: ', new_arr.shape)\n",
    "    print('||||||||||||||||||\\n')\n",
    "\n",
    "    return new_arr"
   ]
  },
  {
   "cell_type": "code",
   "execution_count": null,
   "metadata": {
    "ExecuteTime": {
     "end_time": "2023-06-11T03:23:56.593534Z",
     "start_time": "2023-06-11T03:23:56.579191Z"
    }
   },
   "outputs": [],
   "source": [
    "# Преобразовать массив результатов работы модели размера (batch,1)\n",
    "# Так как начальное расширение датафрейма на crop_size по 2 осям\n",
    "\n",
    "def draw_prediction_map_1_0(model, df, rows_count, cols_count, crop_size, step = -1):\n",
    "\n",
    "    print('||||||||||||||||||')\n",
    "    print('draw_prediction_map_1_0')\n",
    "    print('Crop windows height/width: ', crop_size)\n",
    "    print('Crop windows step across rows and cols: ', step)\n",
    "    print()\n",
    "\n",
    "    new_rows = rows_count - crop_size + 1\n",
    "    new_cols = cols_count - crop_size + 1\n",
    "    \n",
    "    new_arr = np.zeros((new_rows,new_cols))\n",
    "    \n",
    "    add_num = 0\n",
    "    \n",
    "    for i in range(0, rows_count - crop_size + 1, step):\n",
    "        \n",
    "        temp_crops = np.stack(\n",
    "            [dp.pandas_crop_to_image_like_numpy(df.iloc[i:i+crop_size,j:j+crop_size])\n",
    "                 for j in range(0, new_cols, step)], axis=0)\n",
    "        \n",
    "        time_crops = temp_crops[:,:,:,:32]\n",
    "        amp_crops = temp_crops[:,:,:,32:]\n",
    "        \n",
    "        print(f'({i}/{new_rows})')\n",
    "        \n",
    "        res = model.predict([time_crops, amp_crops])\n",
    "        \n",
    "        for j in range(0,  cols_count - crop_size + 1, step):\n",
    "        \n",
    "            if res[j] > 0.5:\n",
    "                add_num = 0.1\n",
    "            if res[j] <= 0.5:\n",
    "                add_num = - 0.1\n",
    "\n",
    "            if i <= new_rows - crop_size:\n",
    "                if j <= new_cols - crop_size:\n",
    "                    temp_orig = new_arr[i:i+crop_size,j:j+crop_size] + add_num\n",
    "                    new_arr[i:i+crop_size,j:j+crop_size] = temp_orig  \n",
    "                elif j <= new_cols:\n",
    "                    right_orig = new_arr[i:i+crop_size,j:] + add_num\n",
    "                    left_orig = new_arr[i:i+crop_size,:crop_size - right_orig.shape[1]] + add_num\n",
    "                    new_arr[i:i+crop_size,j:] = right_orig\n",
    "                    new_arr[i:i+crop_size,:crop_size - right_orig.shape[1]] = left_orig\n",
    "\n",
    "            elif i <= new_rows:\n",
    "                if j <= new_cols - crop_size:\n",
    "                    low_orig = new_arr[i:,j:j+crop_size] + add_num\n",
    "                    high_orig = new_arr[:crop_size - low_orig.shape[0],j:j+crop_size] + add_num\n",
    "                    new_arr[i:,j:j+crop_size] = low_orig \n",
    "                    new_arr[:crop_size - low_orig.shape[0],j:j+crop_size] = high_orig \n",
    "                elif j <= new_cols:\n",
    "                    right_low = new_arr[i:,j:] + add_num\n",
    "                    right_high = new_arr[:crop_size - low_orig.shape[0],j:] + add_num\n",
    "                    \n",
    "                    left_low = new_arr[i:,:crop_size - right_high.shape[1]] + add_num\n",
    "                    left_high = new_arr[:crop_size - low_orig.shape[0],:crop_size - right_high.shape[1]] + add_num\n",
    "                    \n",
    "                    new_arr[i:,j:] = right_low\n",
    "                    new_arr[:crop_size - low_orig.shape[0],j:] = right_high\n",
    "                    new_arr[i:,:crop_size - right_high.shape[1]] = left_low\n",
    "                    new_arr[:crop_size - low_orig.shape[0],:crop_size - right_high.shape[1]] = left_high\n",
    "                          \n",
    "            \n",
    "    print('New numpy shape: ', new_arr.shape)\n",
    "    print('||||||||||||||||||\\n')\n",
    "\n",
    "    return new_arr"
   ]
  },
  {
   "cell_type": "code",
   "execution_count": null,
   "metadata": {
    "ExecuteTime": {
     "end_time": "2023-06-11T03:23:56.608606Z",
     "start_time": "2023-06-11T03:23:56.594535Z"
    }
   },
   "outputs": [],
   "source": [
    "# Преобразовать массив результатов работы модели размера (batch,1)\n",
    "# в матрицу размера PREP_df_rows * PREP_df_cols (карту дефектов, построенную моделью)\n",
    "# Размер выходной матрицы - PREP_df_rows * PREP_df_cols\n",
    "# Так как начальное расширение датафрейма на PREP_image_size по 2 осям\n",
    "# тут учитывается грубо, то размер выходной матрицы будет также\n",
    "# PREP_df_rows * PREP_df_cols, а ячейки по конрутру будут размыты \n",
    "# и не точны, так как по ним фильтр прошел меньше раз чем по ячейкам \n",
    "# посреди матрицы\n",
    "\n",
    "# y = x + k\n",
    "def draw_prediction_map_2_0(model, df, orig_rows_count, orig_cols_count,\n",
    "                                    result_rows_count, result_cols_count, \n",
    "                                    crop_size, step = -1):\n",
    "\n",
    "    print('||||||||||||||||||')\n",
    "    print('draw_prediction_map_2_0')\n",
    "    print('Crop windows height/width: ', crop_size)\n",
    "    print('Crop windows step across rows and cols: ', step)\n",
    "\n",
    "    if step == -1:\n",
    "        step = crop_size\n",
    "    \n",
    "    new_arr = np.ones((result_rows_count, result_cols_count))     \n",
    "    \n",
    "    for i in range(0, result_rows_count - crop_size + 1, step): \n",
    "        \n",
    "        temp_crops = np.stack(\n",
    "            [dp.pandas_crop_to_image_like_numpy(df.iloc[i:i+crop_size,j:j+crop_size])\n",
    "                 for j in range(0, result_cols_count - crop_size + 1, step)], axis=0)\n",
    "        \n",
    "        time_crops = temp_crops[:,:,:,:32]\n",
    "        amp_crops = temp_crops[:,:,:,32:]\n",
    "        \n",
    "        print(f'({i}/{result_rows_count - crop_size + 1})')\n",
    "        \n",
    "        res = model.predict([time_crops, amp_crops])\n",
    "        \n",
    "        for j in range(0,  result_cols_count - crop_size + 1, step):\n",
    "            \n",
    "            if res[j] > 0.5:\n",
    "                new_arr[i:i+crop_size,j:j+crop_size] += res[j]\n",
    "            if res[j] <= 0.5:\n",
    "                new_arr[i:i+crop_size,j:j+crop_size] -= res[j]\n",
    "    \n",
    "\n",
    "    left_up_border = crop_size - 1\n",
    "    right_border = result_cols_count - (result_cols_count - orig_cols_count) + 1\n",
    "    bottom_border = result_rows_count - (result_rows_count - orig_rows_count) + 1\n",
    "    \n",
    "    #new_arr = new_arr[left_up_border:,left_up_border:][:orig_rows_count,:orig_cols_count]\n",
    "    \n",
    "    print('New numpy shape: ', new_arr.shape)\n",
    "    print('||||||||||||||||||\\n')\n",
    "    \n",
    "    return new_arr, new_arr[left_up_border:,left_up_border:][:orig_rows_count,:orig_cols_count]"
   ]
  },
  {
   "cell_type": "markdown",
   "metadata": {},
   "source": [
    "### Тестирование модели"
   ]
  },
  {
   "cell_type": "code",
   "execution_count": null,
   "metadata": {
    "ExecuteTime": {
     "end_time": "2023-06-11T03:23:57.694362Z",
     "start_time": "2023-06-11T03:23:56.609607Z"
    }
   },
   "outputs": [],
   "source": [
    "# Загрузка модели\n",
    "loaded_model = keras.models.load_model('Networks//CNN//NetWork_(64x32+64x32)_to(1)_(test_0dot0366)_ver_10.h5')"
   ]
  },
  {
   "cell_type": "code",
   "execution_count": null,
   "metadata": {
    "ExecuteTime": {
     "end_time": "2023-06-11T03:53:18.136038Z",
     "start_time": "2023-06-11T03:23:57.695363Z"
    }
   },
   "outputs": [],
   "source": [
    "# Посчитаем карту дефектов на основании предсказаний модели 2 методами\n",
    "#map_0 = draw_prediction_map_0_0(loaded_model, X_dict['df'], \n",
    "#                                     PREP_df_rows, PREP_df_cols, \n",
    "#                                     PREP_image_size, PREP_crop_step)\n",
    "\n",
    "#map_1 = draw_prediction_map_1_0(loaded_model, X_dict['df'], \n",
    "#                                     PREP_df_rows, PREP_df_cols, \n",
    "#                                     PREP_image_size, PREP_crop_step)\n",
    "\n",
    "map_0, map_2 = draw_prediction_map_2_0(loaded_model, X_dict['df'],\n",
    "                                   ORIG_df_rows, ORIG_df_cols,\n",
    "                                   PREP_df_rows, PREP_df_cols, \n",
    "                                   PREP_image_size, PREP_crop_step)"
   ]
  },
  {
   "cell_type": "markdown",
   "metadata": {},
   "source": [
    "# Построение карт дефектов моделью"
   ]
  },
  {
   "cell_type": "markdown",
   "metadata": {},
   "source": [
    "## Грубое построение карты"
   ]
  },
  {
   "cell_type": "code",
   "execution_count": null,
   "metadata": {
    "ExecuteTime": {
     "end_time": "2023-06-11T03:53:18.487119Z",
     "start_time": "2023-06-11T03:53:18.148040Z"
    }
   },
   "outputs": [],
   "source": [
    "fig, ax = plt.subplots()\n",
    "\n",
    "fig.set_figwidth(18)\n",
    "fig.set_figheight(8)\n",
    "\n",
    "ax.set_xlabel('Номер датчика', fontsize=20)\n",
    "ax.set_ylabel('Номер измерения', fontsize=20)\n",
    "ax.set_title(f\"Предсказанная развернутая карта дефектов\", \n",
    "             fontsize=20, pad=15)\n",
    "\n",
    "ax.patch.set_alpha(0)\n",
    "\n",
    "#  Устанавливаем интервал основных делений:\n",
    "ax.xaxis.set_major_locator(ticker.MultipleLocator(20))\n",
    "ax.yaxis.set_major_locator(ticker.MultipleLocator(15))\n",
    "\n",
    "#  Устанавливаем форматирование чисел основных делений:\n",
    "ax.xaxis.set_major_formatter(ticker.FormatStrFormatter('%.d'))\n",
    "ax.yaxis.set_major_formatter(ticker.FormatStrFormatter('%.d'))\n",
    "\n",
    "#  Устанавливаем форматирование делений:\n",
    "ax.tick_params(axis='both', which='both', labelsize = 15)\n",
    "ax.tick_params(axis='x', labelrotation = 45)\n",
    "\n",
    "ax.pcolormesh(map_0)\n",
    "ax.invert_yaxis()\n",
    "\n",
    "plt.show()"
   ]
  },
  {
   "cell_type": "markdown",
   "metadata": {},
   "source": [
    "## Умное построение карты"
   ]
  },
  {
   "cell_type": "code",
   "execution_count": null,
   "metadata": {
    "ExecuteTime": {
     "end_time": "2023-06-11T03:53:18.662567Z",
     "start_time": "2023-06-11T03:53:18.488118Z"
    }
   },
   "outputs": [],
   "source": [
    "fig, ax = plt.subplots()\n",
    "\n",
    "fig.set_figwidth(18)\n",
    "fig.set_figheight(8)\n",
    "\n",
    "ax.set_xlabel('Номер датчика', fontsize=20)\n",
    "ax.set_ylabel('Номер измерения', fontsize=20)\n",
    "ax.set_title(f\"Предсказанная развернутая карта дефектов\", \n",
    "             fontsize=20, pad=15)\n",
    "\n",
    "ax.patch.set_alpha(0)\n",
    "\n",
    "#  Устанавливаем интервал основных делений:\n",
    "ax.xaxis.set_major_locator(ticker.MultipleLocator(20))\n",
    "ax.yaxis.set_major_locator(ticker.MultipleLocator(15))\n",
    "\n",
    "#  Устанавливаем форматирование чисел основных делений:\n",
    "ax.xaxis.set_major_formatter(ticker.FormatStrFormatter('%.d'))\n",
    "ax.yaxis.set_major_formatter(ticker.FormatStrFormatter('%.d'))\n",
    "\n",
    "#  Устанавливаем форматирование делений:\n",
    "ax.tick_params(axis='both', which='both', labelsize = 15)\n",
    "ax.tick_params(axis='x', labelrotation = 45)\n",
    "\n",
    "ax.pcolormesh(map_2)\n",
    "ax.invert_yaxis()\n",
    "\n",
    "plt.show()"
   ]
  }
 ],
 "metadata": {
  "colab": {
   "provenance": []
  },
  "kernelspec": {
   "display_name": "Python 3 (ipykernel)",
   "language": "python",
   "name": "python3"
  },
  "language_info": {
   "codemirror_mode": {
    "name": "ipython",
    "version": 3
   },
   "file_extension": ".py",
   "mimetype": "text/x-python",
   "name": "python",
   "nbconvert_exporter": "python",
   "pygments_lexer": "ipython3",
   "version": "3.10.0"
  }
 },
 "nbformat": 4,
 "nbformat_minor": 1
}
