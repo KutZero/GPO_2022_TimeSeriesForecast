{
 "cells": [
  {
   "cell_type": "code",
   "execution_count": 1,
   "metadata": {
    "ExecuteTime": {
     "end_time": "2023-04-20T09:31:05.210098Z",
     "start_time": "2023-04-20T09:30:58.751016Z"
    },
    "cell_style": "center",
    "id": "p6xN-IEhhbla"
   },
   "outputs": [],
   "source": [
    "import os\n",
    "import numpy as np\n",
    "import pandas as pd\n",
    "import matplotlib.pyplot as plt\n",
    "import tensorflow as tf\n",
    "\n",
    "from IPython.display import display\n",
    "from matplotlib import ticker\n",
    "from pathlib import Path\n",
    "from tensorflow import keras\n",
    "from tensorflow.keras.datasets import mnist\n",
    "from tensorflow.keras.layers import Reshape, Input, Dense, Flatten, Conv2D, Dropout, Conv2DTranspose\n",
    "from tensorflow.keras.layers import MaxPooling2D, UpSampling2D, concatenate, BatchNormalization"
   ]
  },
  {
   "cell_type": "markdown",
   "metadata": {
    "id": "wLCfK5LxQbD9"
   },
   "source": [
    "### Константы для путей к файлам"
   ]
  },
  {
   "cell_type": "code",
   "execution_count": 2,
   "metadata": {
    "ExecuteTime": {
     "end_time": "2023-04-20T09:31:05.225499Z",
     "start_time": "2023-04-20T09:31:05.210098Z"
    },
    "id": "bZHiwO4ShhEF"
   },
   "outputs": [],
   "source": [
    "# Пути к обработанным данным\n",
    "# Пути к X части выборки с массивами в каждой ячейке\n",
    "path_to_array_like_X_data = ('data/Prepared data/Run1/X_data_array_like.xlsx',\n",
    "                             'data/Prepared data/Run2/X_data_array_like.xlsx')\n",
    "# Пути к Y части выборки\n",
    "path_to_Y_data = ('data/Prepared data/Run1/Y_data(binary_classification).xlsx', \n",
    "                  'data/Prepared data/Run2/Y_data(binary_classification).xlsx') \n"
   ]
  },
  {
   "cell_type": "markdown",
   "metadata": {
    "id": "0dxaXom0QbEB"
   },
   "source": [
    "### Константы для обработки данных"
   ]
  },
  {
   "cell_type": "code",
   "execution_count": 3,
   "metadata": {
    "ExecuteTime": {
     "end_time": "2023-04-20T09:31:05.241485Z",
     "start_time": "2023-04-20T09:31:05.231493Z"
    },
    "id": "J-6_JuU5QbEC"
   },
   "outputs": [],
   "source": [
    "PREP_image_size = 48"
   ]
  },
  {
   "cell_type": "code",
   "execution_count": 4,
   "metadata": {
    "ExecuteTime": {
     "end_time": "2023-04-20T09:31:05.257477Z",
     "start_time": "2023-04-20T09:31:05.250481Z"
    },
    "cell_style": "center",
    "deletable": false,
    "editable": false,
    "id": "oicZsiTGQbEE"
   },
   "outputs": [],
   "source": [
    "# детерминация случайных величин, отвечающих за выбор первоначальных весов и биасов\n",
    "tf.compat.v1.set_random_seed(290)\n",
    "tf.random.set_seed(290)"
   ]
  },
  {
   "cell_type": "code",
   "execution_count": 5,
   "metadata": {
    "ExecuteTime": {
     "end_time": "2023-04-20T09:31:05.273467Z",
     "start_time": "2023-04-20T09:31:05.261477Z"
    },
    "cell_style": "center",
    "deletable": false,
    "editable": false,
    "id": "dCqzRrH4QbEG"
   },
   "outputs": [],
   "source": [
    "def to_list_of_64_values(x):\n",
    "  # делим начальную строку на пары чисел\n",
    "  # пары чисел тут - это просто строки\n",
    "  x = str(x[1:-1]).split(',')\n",
    "  x = np.array(x)\n",
    "\n",
    "  x = x.astype(float)\n",
    "  \n",
    "  return x"
   ]
  },
  {
   "cell_type": "code",
   "execution_count": 6,
   "metadata": {
    "ExecuteTime": {
     "end_time": "2023-04-20T09:31:05.289457Z",
     "start_time": "2023-04-20T09:31:05.278464Z"
    },
    "cell_style": "center",
    "deletable": false,
    "editable": false,
    "id": "HfWyHYJqhlBX"
   },
   "outputs": [],
   "source": [
    "# прочесть файл X_data_array-like.xlsx\n",
    "def get_array_like_X_df(path: str):\n",
    "    df = pd.read_excel(path,index_col=[0])\n",
    "    df = df.apply(lambda x: \n",
    "                  x.apply(to_list_of_64_values, convert_dtype=True))\n",
    "    return df"
   ]
  },
  {
   "cell_type": "code",
   "execution_count": 7,
   "metadata": {
    "ExecuteTime": {
     "end_time": "2023-04-20T09:31:05.305448Z",
     "start_time": "2023-04-20T09:31:05.292456Z"
    },
    "cell_style": "center",
    "deletable": false,
    "editable": false,
    "id": "UH4wq7FOhlI1"
   },
   "outputs": [],
   "source": [
    "# прочесть файл Y_data(binary_classification).xlsx\n",
    "def get_Y_df(path: str):\n",
    "    df = pd.read_excel(path,index_col=[0])\n",
    "    return df"
   ]
  },
  {
   "cell_type": "code",
   "execution_count": 8,
   "metadata": {
    "ExecuteTime": {
     "end_time": "2023-04-20T09:31:05.321438Z",
     "start_time": "2023-04-20T09:31:05.309447Z"
    },
    "deletable": false,
    "editable": false,
    "id": "Q3ZMd4btQbEJ"
   },
   "outputs": [],
   "source": [
    "# кропы массива pandas имеют размер (PREP_image_size, PREP_image_size)\n",
    "# после преобразования в numpy через to_numpy() размер тот-же,\n",
    "# при том, что в каждой ячейке хранится массив из 64 чисел как объект\n",
    "# для работы нужно преобразовать кроп к размеру (PREP_image_size, PREP_image_size, 64)\n",
    "# чтобы каждый элемент массива был не объектом, а вещественным числом\n",
    "def pandas_crop_to_image_like_numpy(df):\n",
    "    x = df.to_numpy()\n",
    "    return np.stack([np.stack([x[i,j] for i in range(x.shape[0])],axis=0) for j in range(x.shape[1])],axis=1)"
   ]
  },
  {
   "cell_type": "code",
   "execution_count": 9,
   "metadata": {
    "ExecuteTime": {
     "end_time": "2023-04-20T09:31:05.353417Z",
     "start_time": "2023-04-20T09:31:05.327434Z"
    },
    "deletable": false,
    "editable": false,
    "id": "p35k94_nQbEJ"
   },
   "outputs": [],
   "source": [
    "# приведение к виду, который принимают на вход слои Conv2D\n",
    "# (batch, channels, rows, cols) если data_format='channels_first'\n",
    "# (batch, rows, cols, channels) если data_format='channels_last'\n",
    "# тут выбран последний формат \n",
    "# а так как \"изображения\" состоят из 64 измерений, то \n",
    "# каналов либо 64, либо по 32\n",
    "def reshape_X_df_to_image_like_numpy(df, crop_size):\n",
    "    #rows_count = df.shape[0] - df.shape[0] % PREP_image_size\n",
    "    #cols_count = df.shape[1] - df.shape[1] % PREP_image_size\n",
    "    \n",
    "    print('||||||||||||||||||')\n",
    "    print('X df reshaping to 4D')\n",
    "    print('Original df size: ', df.shape)\n",
    "    print('Crop windows height/width: ', crop_size)\n",
    "    #print('New df size (если одна из размерностей не делится нацело на размер окна crop): ', (rows_count,cols_count))\n",
    "    \n",
    "    # тестовое. Обработка одного столбца датафрейма\n",
    "    '''temp = np.stack(\n",
    "        [pandas_crop_to_image_like_numpy(\n",
    "            df.iloc[i:i+PREP_image_size,0:PREP_image_size]) \n",
    "             for i in range(0,rows_count,PREP_image_size)]\n",
    "                ,axis=0)'''\n",
    "    \n",
    "    temp = np.concatenate([np.stack(\n",
    "        [pandas_crop_to_image_like_numpy(\n",
    "            df.iloc[i:i+crop_size,j:j+crop_size]) \n",
    "             for i in range(0,df.shape[0],crop_size)]\n",
    "                , axis=0) for j in range(0,df.shape[1],crop_size)]\n",
    "                    , axis=0)\n",
    "    \n",
    "    # поделим x выборку на значения времен и амплитуд\n",
    "    X_time = temp[:,:,:,:32]\n",
    "    X_amp = temp[:,:,:,32:]\n",
    "    \n",
    "    print('New X_time shape: ', X_time.shape)\n",
    "    print('New X_amp shape: ', X_amp.shape)\n",
    "    print('||||||||||||||||||\\n')\n",
    "    \n",
    "    return (X_time,X_amp)"
   ]
  },
  {
   "cell_type": "code",
   "execution_count": 10,
   "metadata": {
    "ExecuteTime": {
     "end_time": "2023-04-20T09:31:05.384398Z",
     "start_time": "2023-04-20T09:31:05.364413Z"
    },
    "deletable": false,
    "editable": false,
    "id": "62jZ5uCAQbEK"
   },
   "outputs": [],
   "source": [
    "# приведение к нужному виду бинарных масок\n",
    "def reshape_Y_df_to_image_like_numpy(df, crop_size):\n",
    "    #rows_count = df.shape[0] - df.shape[0] % PREP_image_size\n",
    "    #cols_count = df.shape[1] - df.shape[1] % PREP_image_size\n",
    "    \n",
    "    print('||||||||||||||||||')\n",
    "    print('Y df reshaping to 3D')\n",
    "    print('Original df size: ', df.shape)\n",
    "    print('Crop windows height/width: ', crop_size)\n",
    "    #print('New df size (если одна из размерностей\\n не делится нацело на размер окна crop): ', (rows_count,cols_count))\n",
    "    \n",
    "    \n",
    "    Y_res = np.concatenate([np.stack(\n",
    "        [df.iloc[i:i+crop_size,j:j+crop_size].to_numpy().astype('float32') \n",
    "             for i in range(0,df.shape[0],crop_size)]\n",
    "                , axis=0) for j in range(0,df.shape[1],crop_size)]\n",
    "                    , axis=0)\n",
    "    \n",
    "    \n",
    "    Y_res = np.expand_dims(Y_res,axis=3)\n",
    "    \n",
    "    print('New numpy shape: ', Y_res.shape)\n",
    "    print('||||||||||||||||||\\n')\n",
    "    \n",
    "    return Y_res"
   ]
  },
  {
   "cell_type": "code",
   "execution_count": 11,
   "metadata": {
    "ExecuteTime": {
     "end_time": "2023-04-20T09:31:05.416132Z",
     "start_time": "2023-04-20T09:31:05.388398Z"
    },
    "deletable": false,
    "editable": false,
    "id": "1UXlvpJqQbEL"
   },
   "outputs": [],
   "source": [
    "# преобразовать массив кропов numpy Y выборки размера (batch,rows,cols) \n",
    "# в матрицу размера (rows,cols)\n",
    "def reshape_3D_Y_numpy_to_2D(arr, rows_count, cols_count, crop_size):\n",
    "    \n",
    "    print('||||||||||||||||||')\n",
    "    print('Y arr reshaping to 2D')\n",
    "    print('Original arr size: ', arr.shape)\n",
    "    print('Crop windows height/width: ', crop_size)\n",
    "    \n",
    "    crops_per_rows_count = int(rows_count/crop_size) # кол-во строк / размер кропа\n",
    "    crops_per_cols_count = int(cols_count/crop_size) # кол-во столбцов / размер кропа\n",
    "    \n",
    "    temp  = np.concatenate([\n",
    "                np.concatenate([arr[i + (j*crops_per_rows_count)] \n",
    "                             for i in range(crops_per_rows_count)],axis=0)\n",
    "                                 for j in range(crops_per_cols_count)],axis=1)\n",
    "    \n",
    "    print('New numpy shape: ', temp.shape)\n",
    "    print('||||||||||||||||||\\n')\n",
    "    \n",
    "    return temp"
   ]
  },
  {
   "cell_type": "code",
   "execution_count": 12,
   "metadata": {
    "ExecuteTime": {
     "end_time": "2023-04-20T09:31:05.447132Z",
     "start_time": "2023-04-20T09:31:05.419135Z"
    },
    "deletable": false,
    "editable": false,
    "id": "DxFOhUIiQbEM"
   },
   "outputs": [],
   "source": [
    "# вернет бинарную 1D маску, где 1 - для кропов с дефектами\n",
    "# 0 - для кропов без дефектов\n",
    "def calculate_crops_with_defects_positions(Y_arr, crop_size):\n",
    "    \n",
    "    print('||||||||||||||||||')\n",
    "    print('Defects nums calculating')\n",
    "    # Найдем на каких картинках есть дефекты\n",
    "    defects_nums = list()\n",
    "    for i in range(Y_arr.shape[0]):\n",
    "        if np.sum(Y_arr[i] > 0) >= 1:\n",
    "            defects_nums.append(True)\n",
    "        else:\n",
    "            defects_nums.append(False)\n",
    "\n",
    "    defects_nums = np.array(defects_nums, dtype='bool')\n",
    "\n",
    "    print(f'Для карт высотой и шириной в {crop_size}',\n",
    "          f'и общим кличеством: {Y_arr.shape[0]}',\n",
    "            f'дефекты присутствуеют на {np.sum(defects_nums)} картах',\n",
    "              sep='\\n')\n",
    "    print('||||||||||||||||||\\n')\n",
    "    \n",
    "    return defects_nums\n"
   ]
  },
  {
   "cell_type": "code",
   "execution_count": 13,
   "metadata": {
    "ExecuteTime": {
     "end_time": "2023-04-20T09:31:05.477113Z",
     "start_time": "2023-04-20T09:31:05.451130Z"
    },
    "deletable": false,
    "editable": false,
    "id": "-1EQLJANQbEM"
   },
   "outputs": [],
   "source": [
    "def preprocess_data(X_time_arr, X_amp_arr, Y_arr, crop_size, X_time_max=0, X_amp_max=0):\n",
    "    # стндартизуем данные\n",
    "    # удалим кропы, в которых нет дефектов\n",
    "    \n",
    "    print('||||||||||||||||||')\n",
    "    print('Data preprocessing')\n",
    "    \n",
    "    print('Orig X_time_arr shape: ', X_time_arr.shape)\n",
    "    print('Orig X_amp_arr shape: ', X_amp_arr.shape)\n",
    "    print('Orig Y_arr shape: ', Y_arr.shape)\n",
    "    \n",
    "    \n",
    "    print('||||||||||||||||||')\n",
    "    print('Data standartization')\n",
    "    \n",
    "    # стандартизуем данные\n",
    "    if ((X_time_max == 0) and (X_amp_max == 0)):\n",
    "        X_time_max = X_time_arr.max()\n",
    "        X_amp_max = X_amp_arr.max()\n",
    "\n",
    "    print(f'X_time_max: {X_time_max}')\n",
    "    print(f'X_amp_max: {X_amp_max}')\n",
    "\n",
    "    X_time_arr = X_time_arr / X_time_max\n",
    "    X_amp_arr = X_amp_arr / X_amp_max\n",
    "    \n",
    "    print(f'X_time_max after standartization: {X_time_arr.max()}')\n",
    "    print(f'X_time_min after standartization: {X_time_arr.min()}')\n",
    "    \n",
    "    print(f'X_amp_max after standartization: {X_amp_arr.max()}')\n",
    "    print(f'X_amp_min after standartization: {X_amp_arr.min()}')\n",
    "    \n",
    "    print('||||||||||||||||||\\n')\n",
    "    \n",
    "    print('||||||||||||||||||')\n",
    "    print('Data with and witout defects splitting')\n",
    "    \n",
    "    # удалим кропы не содержищие дефекты\n",
    "    defects_nums = calculate_crops_with_defects_positions(Y_arr, crop_size)\n",
    "    \n",
    "    X_time_arr_def = X_time_arr[defects_nums]\n",
    "    X_amp_arr_def = X_amp_arr[defects_nums]\n",
    "    Y_arr_def = Y_arr[defects_nums]\n",
    "    \n",
    "    X_time_arr_non_def = X_time_arr[~defects_nums]\n",
    "    X_amp_arr_non_def = X_amp_arr[~defects_nums]\n",
    "    Y_arr_non_def = Y_arr[~defects_nums]\n",
    "    \n",
    "    print('X_time_arr_def shape: ', X_time_arr_def.shape)\n",
    "    print('X_time_arr_non_def shape: ', X_time_arr_non_def.shape)\n",
    "    \n",
    "    print('X_amp_arr_def shape: ', X_amp_arr_def.shape)\n",
    "    print('X_amp_arr_non_def shape: ', X_amp_arr_non_def.shape)\n",
    "    \n",
    "    print('Y_arr_def shape: ', Y_arr_def.shape)\n",
    "    print('Y_arr_non_def shape: ', Y_arr_non_def.shape)\n",
    "    print('||||||||||||||||||\\n')\n",
    "    print('||||||||||||||||||\\n')\n",
    "    \n",
    "    return (X_time_arr_def,X_time_arr_non_def),(X_amp_arr_def,X_amp_arr_non_def),(Y_arr_def,Y_arr_non_def)"
   ]
  },
  {
   "cell_type": "code",
   "execution_count": 14,
   "metadata": {
    "ExecuteTime": {
     "end_time": "2023-04-20T09:31:05.509109Z",
     "start_time": "2023-04-20T09:31:05.481110Z"
    },
    "deletable": false,
    "editable": false,
    "id": "JuI7jpS3QbEO"
   },
   "outputs": [],
   "source": [
    "# датафрейм размера 112 на 400 при размере кропа в 10\n",
    "# преобразует в размер 120 на 400 (чтобы каждая сторона ровно\n",
    "# делилась на размер кропа)\n",
    "# новые строки добавляются за счет копирования старых\n",
    "def reshape_df_for_future_crops(df, crop_size):\n",
    "    \n",
    "    print('||||||||||||||||||')\n",
    "    print('Df reshaping for exact splitting with crop_size')\n",
    "    print('Original df size: ', df.shape)\n",
    "    print('Crop windows height/width: ', crop_size)\n",
    "    \n",
    "    if (df.shape[0] % crop_size != 0):\n",
    "      new_rows = crop_size - (df.shape[0] % crop_size)\n",
    "      df = pd.concat([df,df.iloc[-1:-new_rows-1:-1]],axis=0,ignore_index=True)\n",
    "    \n",
    "    if (df.shape[1] % crop_size != 0):\n",
    "      new_cols = crop_size - (df.shape[1] % crop_size)\n",
    "      df = pd.concat([df,df.iloc[:,-1:-new_cols-1:-1]],axis=1,ignore_index=True)\n",
    "\n",
    "    print('New df shape: ', df.shape)\n",
    "    print('||||||||||||||||||\\n')\n",
    "    \n",
    "    return df"
   ]
  },
  {
   "cell_type": "code",
   "execution_count": 15,
   "metadata": {
    "ExecuteTime": {
     "end_time": "2023-04-20T09:31:05.557087Z",
     "start_time": "2023-04-20T09:31:05.519103Z"
    },
    "id": "xvjUj18MQbEN"
   },
   "outputs": [],
   "source": [
    "# применить аугментации к данным\n",
    "# повернуть каждую картинку на 90 градусов 3 раза как пример\n",
    "# для увеличения кол-ва данных для обучения\n",
    "def augment_data(X_time_arr, X_amp_arr, Y_arr):\n",
    "    print('||||||||||||||||||')\n",
    "    print('Data augmentation')\n",
    "    \n",
    "    print('Orig X_time_arr shape: ', X_time_arr.shape)\n",
    "    print('Orig X_amp_arr shape: ', X_amp_arr.shape)\n",
    "    print('Orig Y_arr shape: ', Y_arr.shape)\n",
    "    \n",
    "    X_time_arr = np.concatenate([X_time_arr,\n",
    "                            np.rot90(X_time_arr,1,[1,2]),\n",
    "                            np.rot90(X_time_arr,2,[1,2]),\n",
    "                            np.rot90(X_time_arr,3,[1,2])],axis=0)\n",
    "\n",
    "    X_amp_arr = np.concatenate([X_amp_arr,\n",
    "                            np.rot90(X_amp_arr,1,[1,2]),\n",
    "                            np.rot90(X_amp_arr,2,[1,2]),\n",
    "                            np.rot90(X_amp_arr,3,[1,2])],axis=0)\n",
    "\n",
    "    Y_arr = np.concatenate([Y_arr,\n",
    "                            np.rot90(Y_arr,1,[1,2]),\n",
    "                            np.rot90(Y_arr,2,[1,2]),\n",
    "                            np.rot90(Y_arr,3,[1,2])],axis=0)\n",
    "    \n",
    "    print('||||||||||||\\nAfter 4 steps of 90 degree rotate')\n",
    "    print('X_time_arr shape: ', X_time_arr.shape)\n",
    "    print('X_amp_arr shape: ', X_amp_arr.shape)\n",
    "    print('Y_arr shape: ', Y_arr.shape)\n",
    "    \n",
    "    X_time_arr = np.concatenate([X_time_arr,np.flip(X_time_arr,2)],axis=0)\n",
    "    X_amp_arr = np.concatenate([X_amp_arr,np.flip(X_amp_arr,2)],axis=0)\n",
    "    Y_arr = np.concatenate([Y_arr,np.flip(Y_arr,2)],axis=0)\n",
    "    \n",
    "    print('||||||||||||\\nAfter full mirroring')\n",
    "    print('X_time_arr shape: ', X_time_arr.shape)\n",
    "    print('X_amp_arr shape: ', X_amp_arr.shape)\n",
    "    print('Y_arr shape: ', Y_arr.shape)\n",
    "    \n",
    "    X_time_arr = np.concatenate([X_time_arr,\n",
    "                                 np.roll(X_time_arr,int(X_time_arr.shape[1]/2),axis=1),\n",
    "                                 np.roll(X_time_arr,int(X_time_arr.shape[2]/2),axis=2)],axis=0)\n",
    "    X_amp_arr = np.concatenate([X_amp_arr,\n",
    "                               np.roll(X_amp_arr,int(X_amp_arr.shape[1]/2),axis=1),\n",
    "                               np.roll(X_amp_arr,int(X_amp_arr.shape[2]/2),axis=2)],axis=0)\n",
    "    Y_arr = np.concatenate([Y_arr,\n",
    "                           np.roll(Y_arr,int(Y_arr.shape[1]/2),axis=1),\n",
    "                           np.roll(Y_arr,int(Y_arr.shape[2]/2),axis=2)],axis=0)\n",
    "    \n",
    "    print('||||||||||||\\nAfter half shifting')\n",
    "    print('X_time_arr shape: ', X_time_arr.shape)\n",
    "    print('X_amp_arr shape: ', X_amp_arr.shape)\n",
    "    print('Y_arr shape: ', Y_arr.shape)\n",
    "    \n",
    "    print('||||||||||||||||||\\n')\n",
    "    return X_time_arr, X_amp_arr, Y_arr"
   ]
  },
  {
   "cell_type": "markdown",
   "metadata": {
    "id": "M3IDwA8GQbEP"
   },
   "source": [
    "# Подготовка данных"
   ]
  },
  {
   "cell_type": "code",
   "execution_count": 16,
   "metadata": {
    "ExecuteTime": {
     "end_time": "2023-04-20T09:31:27.073139Z",
     "start_time": "2023-04-20T09:31:05.560090Z"
    },
    "id": "opRWBSZpQbEP"
   },
   "outputs": [],
   "source": [
    "# загрузка данных из файлов\n",
    "X_dict = dict()\n",
    "Y_dict = dict()\n",
    "\n",
    "for i,x_data_path,y_data_path in zip(range(len(path_to_array_like_X_data)),\n",
    "                                     path_to_array_like_X_data, \n",
    "                                     path_to_Y_data):\n",
    "    \n",
    "    x_temp = get_array_like_X_df(x_data_path)\n",
    "    y_temp = get_Y_df(y_data_path)\n",
    "    \n",
    "    X_dict[f'run{i+1}'] = {'df': x_temp}\n",
    "    Y_dict[f'run{i+1}'] = {'df': y_temp}"
   ]
  },
  {
   "cell_type": "code",
   "execution_count": 17,
   "metadata": {
    "ExecuteTime": {
     "end_time": "2023-04-20T09:31:27.119348Z",
     "start_time": "2023-04-20T09:31:27.073139Z"
    },
    "colab": {
     "base_uri": "https://localhost:8080/"
    },
    "id": "KdhGoLqFQbEQ",
    "outputId": "f48fba51-b02b-4655-da95-fdbe4d63eab2"
   },
   "outputs": [
    {
     "name": "stdout",
     "output_type": "stream",
     "text": [
      "Загружены данные для X выборки из файлов:  dict_keys(['run1', 'run2'])\n",
      "Загружены данные для Y выборки из файлов:  dict_keys(['run1', 'run2'])\n"
     ]
    }
   ],
   "source": [
    "print('Загружены данные для X выборки из файлов: ', X_dict.keys())\n",
    "print('Загружены данные для Y выборки из файлов: ', Y_dict.keys())"
   ]
  },
  {
   "cell_type": "code",
   "execution_count": 18,
   "metadata": {
    "ExecuteTime": {
     "end_time": "2023-04-20T09:31:27.166320Z",
     "start_time": "2023-04-20T09:31:27.124345Z"
    },
    "colab": {
     "base_uri": "https://localhost:8080/"
    },
    "id": "JpYrdVggQbER",
    "outputId": "3a3019d2-f190-46c8-a928-f5b9089ffc64"
   },
   "outputs": [
    {
     "name": "stdout",
     "output_type": "stream",
     "text": [
      "||||||||||||||||||\n",
      "Df reshaping for exact splitting with crop_size\n",
      "Original df size:  (115, 400)\n",
      "Crop windows height/width:  48\n",
      "New df shape:  (144, 432)\n",
      "||||||||||||||||||\n",
      "\n",
      "||||||||||||||||||\n",
      "Df reshaping for exact splitting with crop_size\n",
      "Original df size:  (115, 400)\n",
      "Crop windows height/width:  48\n",
      "New df shape:  (144, 432)\n",
      "||||||||||||||||||\n",
      "\n",
      "||||||||||||||||||\n",
      "Df reshaping for exact splitting with crop_size\n",
      "Original df size:  (119, 400)\n",
      "Crop windows height/width:  48\n",
      "New df shape:  (144, 432)\n",
      "||||||||||||||||||\n",
      "\n",
      "||||||||||||||||||\n",
      "Df reshaping for exact splitting with crop_size\n",
      "Original df size:  (119, 400)\n",
      "Crop windows height/width:  48\n",
      "New df shape:  (144, 432)\n",
      "||||||||||||||||||\n",
      "\n"
     ]
    }
   ],
   "source": [
    "# добавление строк в датафреймы\n",
    "for key in X_dict.keys():\n",
    "    X_dict[key]['df'] = reshape_df_for_future_crops(X_dict[key]['df'], PREP_image_size)\n",
    "    Y_dict[key]['df'] = reshape_df_for_future_crops(Y_dict[key]['df'], PREP_image_size) \n",
    "       "
   ]
  },
  {
   "cell_type": "code",
   "execution_count": 19,
   "metadata": {
    "ExecuteTime": {
     "end_time": "2023-04-20T09:31:27.763463Z",
     "start_time": "2023-04-20T09:31:27.170317Z"
    },
    "colab": {
     "base_uri": "https://localhost:8080/"
    },
    "id": "fJMMLFK0QbES",
    "outputId": "564394aa-ab18-4de9-d21c-7482739bfe19"
   },
   "outputs": [
    {
     "name": "stdout",
     "output_type": "stream",
     "text": [
      "||||||||||||||||||\n",
      "X df reshaping to 4D\n",
      "Original df size:  (144, 432)\n",
      "Crop windows height/width:  48\n",
      "New X_time shape:  (27, 48, 48, 32)\n",
      "New X_amp shape:  (27, 48, 48, 32)\n",
      "||||||||||||||||||\n",
      "\n",
      "||||||||||||||||||\n",
      "Y df reshaping to 3D\n",
      "Original df size:  (144, 432)\n",
      "Crop windows height/width:  48\n",
      "New numpy shape:  (27, 48, 48, 1)\n",
      "||||||||||||||||||\n",
      "\n",
      "||||||||||||||||||\n",
      "X df reshaping to 4D\n",
      "Original df size:  (144, 432)\n",
      "Crop windows height/width:  48\n",
      "New X_time shape:  (27, 48, 48, 32)\n",
      "New X_amp shape:  (27, 48, 48, 32)\n",
      "||||||||||||||||||\n",
      "\n",
      "||||||||||||||||||\n",
      "Y df reshaping to 3D\n",
      "Original df size:  (144, 432)\n",
      "Crop windows height/width:  48\n",
      "New numpy shape:  (27, 48, 48, 1)\n",
      "||||||||||||||||||\n",
      "\n"
     ]
    }
   ],
   "source": [
    "# запишем в словарь numpy array полученные из df\n",
    "for key in X_dict.keys():\n",
    "    x_time_temp, x_amp_temp = reshape_X_df_to_image_like_numpy(X_dict[key]['df'], PREP_image_size)\n",
    "    \n",
    "    X_dict[key]['X_time_all'] = x_time_temp\n",
    "    X_dict[key]['X_amp_all'] = x_amp_temp\n",
    "    \n",
    "    y_temp = reshape_Y_df_to_image_like_numpy(Y_dict[key]['df'], PREP_image_size)\n",
    "    \n",
    "    Y_dict[key]['Y_all'] = y_temp \n",
    "     "
   ]
  },
  {
   "cell_type": "code",
   "execution_count": 20,
   "metadata": {
    "ExecuteTime": {
     "end_time": "2023-04-20T09:31:27.795441Z",
     "start_time": "2023-04-20T09:31:27.768461Z"
    },
    "colab": {
     "base_uri": "https://localhost:8080/"
    },
    "id": "ni5HwQ0cQbET",
    "outputId": "644095e7-4b84-419c-f882-b369bf58203d"
   },
   "outputs": [
    {
     "name": "stdout",
     "output_type": "stream",
     "text": [
      "X данные считаны для файлов:  dict_keys(['run1', 'run2'])\n",
      "Для файла run1 считаны такие данные:  dict_keys(['df', 'X_time_all', 'X_amp_all'])\n",
      "Для файла run2 считаны такие данные:  dict_keys(['df', 'X_time_all', 'X_amp_all'])\n",
      "\n",
      "Y данные считаны для файлов:  dict_keys(['run1', 'run2'])\n",
      "Для файла run1 считаны такие данные:  dict_keys(['df', 'Y_all'])\n",
      "Для файла run2 считаны такие данные:  dict_keys(['df', 'Y_all'])\n"
     ]
    }
   ],
   "source": [
    "print('X данные считаны для файлов: ',X_dict.keys())\n",
    "for key in X_dict.keys():\n",
    "    print('Для файла', key, 'считаны такие данные: ', X_dict[key].keys())\n",
    "    \n",
    "print('\\nY данные считаны для файлов: ',Y_dict.keys())\n",
    "for key in Y_dict.keys():\n",
    "    print('Для файла', key, 'считаны такие данные: ', Y_dict[key].keys())"
   ]
  },
  {
   "cell_type": "code",
   "execution_count": 21,
   "metadata": {
    "ExecuteTime": {
     "end_time": "2023-04-20T09:31:27.971332Z",
     "start_time": "2023-04-20T09:31:27.799439Z"
    },
    "colab": {
     "base_uri": "https://localhost:8080/"
    },
    "id": "r9jbs8dBQbET",
    "outputId": "cec69435-0279-4bc9-f388-0416949a0174"
   },
   "outputs": [
    {
     "name": "stdout",
     "output_type": "stream",
     "text": [
      "||||||||||||||||||\n",
      "Файл:  run1\n",
      "||||||||||||||||||\n",
      "Data preprocessing\n",
      "Orig X_time_arr shape:  (27, 48, 48, 32)\n",
      "Orig X_amp_arr shape:  (27, 48, 48, 32)\n",
      "Orig Y_arr shape:  (27, 48, 48, 1)\n",
      "||||||||||||||||||\n",
      "Data standartization\n",
      "X_time_max: 44.5\n",
      "X_amp_max: 62.992\n",
      "X_time_max after standartization: 1.0\n",
      "X_time_min after standartization: 0.0\n",
      "X_amp_max after standartization: 1.0\n",
      "X_amp_min after standartization: -0.983743967487935\n",
      "||||||||||||||||||\n",
      "\n",
      "||||||||||||||||||\n",
      "Data with and witout defects splitting\n",
      "||||||||||||||||||\n",
      "Defects nums calculating\n",
      "Для карт высотой и шириной в 48\n",
      "и общим кличеством: 27\n",
      "дефекты присутствуеют на 8 картах\n",
      "||||||||||||||||||\n",
      "\n",
      "X_time_arr_def shape:  (8, 48, 48, 32)\n",
      "X_time_arr_non_def shape:  (19, 48, 48, 32)\n",
      "X_amp_arr_def shape:  (8, 48, 48, 32)\n",
      "X_amp_arr_non_def shape:  (19, 48, 48, 32)\n",
      "Y_arr_def shape:  (8, 48, 48, 1)\n",
      "Y_arr_non_def shape:  (19, 48, 48, 1)\n",
      "||||||||||||||||||\n",
      "\n",
      "||||||||||||||||||\n",
      "\n",
      "||||||||||||||||||\n",
      "Файл:  run2\n",
      "||||||||||||||||||\n",
      "Data preprocessing\n",
      "Orig X_time_arr shape:  (27, 48, 48, 32)\n",
      "Orig X_amp_arr shape:  (27, 48, 48, 32)\n",
      "Orig Y_arr shape:  (27, 48, 48, 1)\n",
      "||||||||||||||||||\n",
      "Data standartization\n",
      "X_time_max: 44.4\n",
      "X_amp_max: 62.992\n",
      "X_time_max after standartization: 1.0\n",
      "X_time_min after standartization: 0.0\n",
      "X_amp_max after standartization: 1.0\n",
      "X_amp_min after standartization: -0.9919037338074677\n",
      "||||||||||||||||||\n",
      "\n",
      "||||||||||||||||||\n",
      "Data with and witout defects splitting\n",
      "||||||||||||||||||\n",
      "Defects nums calculating\n",
      "Для карт высотой и шириной в 48\n",
      "и общим кличеством: 27\n",
      "дефекты присутствуеют на 7 картах\n",
      "||||||||||||||||||\n",
      "\n",
      "X_time_arr_def shape:  (7, 48, 48, 32)\n",
      "X_time_arr_non_def shape:  (20, 48, 48, 32)\n",
      "X_amp_arr_def shape:  (7, 48, 48, 32)\n",
      "X_amp_arr_non_def shape:  (20, 48, 48, 32)\n",
      "Y_arr_def shape:  (7, 48, 48, 1)\n",
      "Y_arr_non_def shape:  (20, 48, 48, 1)\n",
      "||||||||||||||||||\n",
      "\n",
      "||||||||||||||||||\n",
      "\n"
     ]
    }
   ],
   "source": [
    "# обработка данных\n",
    "for key in X_dict.keys():\n",
    "    print('||||||||||||||||||')\n",
    "    print('Файл: ', key)\n",
    "    \n",
    "    (X_time_def,X_time_non_def), \\\n",
    "    (X_amp_def,X_amp_non_def), \\\n",
    "    (Y_def,Y_non_def) = preprocess_data(X_dict[key]['X_time_all'], \n",
    "                                        X_dict[key]['X_amp_all'], \n",
    "                                        Y_dict[key]['Y_all'],\n",
    "                                        PREP_image_size)\n",
    "    \n",
    "    X_dict[key]['X_time_def'] = X_time_def\n",
    "    X_dict[key]['X_time_non_def'] = X_time_non_def\n",
    "    \n",
    "    X_dict[key]['X_amp_def'] = X_amp_def\n",
    "    X_dict[key]['X_amp_non_def'] = X_amp_non_def\n",
    "    \n",
    "    Y_dict[key]['Y_def'] = Y_def\n",
    "    Y_dict[key]['Y_non_def'] = Y_non_def"
   ]
  },
  {
   "cell_type": "code",
   "execution_count": 22,
   "metadata": {
    "ExecuteTime": {
     "end_time": "2023-04-20T09:31:28.003315Z",
     "start_time": "2023-04-20T09:31:27.974331Z"
    },
    "colab": {
     "base_uri": "https://localhost:8080/"
    },
    "id": "A0vDah1nQbEU",
    "outputId": "a1fcf167-2c5b-463e-b6fd-ccc979e9f487"
   },
   "outputs": [
    {
     "name": "stdout",
     "output_type": "stream",
     "text": [
      "X данные считаны для файлов:  dict_keys(['run1', 'run2'])\n",
      "Для файла run1 считаны такие данные:  dict_keys(['df', 'X_time_all', 'X_amp_all', 'X_time_def', 'X_time_non_def', 'X_amp_def', 'X_amp_non_def'])\n",
      "Для файла run2 считаны такие данные:  dict_keys(['df', 'X_time_all', 'X_amp_all', 'X_time_def', 'X_time_non_def', 'X_amp_def', 'X_amp_non_def'])\n",
      "\n",
      "Y данные считаны для файлов:  dict_keys(['run1', 'run2'])\n",
      "Для файла run1 считаны такие данные:  dict_keys(['df', 'Y_all', 'Y_def', 'Y_non_def'])\n",
      "Для файла run2 считаны такие данные:  dict_keys(['df', 'Y_all', 'Y_def', 'Y_non_def'])\n"
     ]
    }
   ],
   "source": [
    "print('X данные считаны для файлов: ',X_dict.keys())\n",
    "for key in X_dict.keys():\n",
    "    print('Для файла', key, 'считаны такие данные: ', X_dict[key].keys())\n",
    "    \n",
    "print('\\nY данные считаны для файлов: ',Y_dict.keys())\n",
    "for key in Y_dict.keys():\n",
    "    print('Для файла', key, 'считаны такие данные: ', Y_dict[key].keys())"
   ]
  },
  {
   "cell_type": "code",
   "execution_count": 23,
   "metadata": {
    "ExecuteTime": {
     "end_time": "2023-04-20T09:31:28.686788Z",
     "start_time": "2023-04-20T09:31:28.016305Z"
    },
    "colab": {
     "base_uri": "https://localhost:8080/",
     "height": 418
    },
    "id": "bP1nZqinQbEU",
    "outputId": "c88a28dd-6e0d-4351-aab4-59721fb2d97e"
   },
   "outputs": [
    {
     "name": "stdout",
     "output_type": "stream",
     "text": [
      "||||||||||||||||||\n",
      "Data augmentation\n",
      "Orig X_time_arr shape:  (8, 48, 48, 32)\n",
      "Orig X_amp_arr shape:  (8, 48, 48, 32)\n",
      "Orig Y_arr shape:  (8, 48, 48, 1)\n",
      "||||||||||||\n",
      "After 4 steps of 90 degree rotate\n",
      "X_time_arr shape:  (32, 48, 48, 32)\n",
      "X_amp_arr shape:  (32, 48, 48, 32)\n",
      "Y_arr shape:  (32, 48, 48, 1)\n",
      "||||||||||||\n",
      "After full mirroring\n",
      "X_time_arr shape:  (64, 48, 48, 32)\n",
      "X_amp_arr shape:  (64, 48, 48, 32)\n",
      "Y_arr shape:  (64, 48, 48, 1)\n",
      "||||||||||||\n",
      "After half shifting\n",
      "X_time_arr shape:  (192, 48, 48, 32)\n",
      "X_amp_arr shape:  (192, 48, 48, 32)\n",
      "Y_arr shape:  (192, 48, 48, 1)\n",
      "||||||||||||||||||\n",
      "\n",
      "||||||||||||||||||\n",
      "Data augmentation\n",
      "Orig X_time_arr shape:  (7, 48, 48, 32)\n",
      "Orig X_amp_arr shape:  (7, 48, 48, 32)\n",
      "Orig Y_arr shape:  (7, 48, 48, 1)\n",
      "||||||||||||\n",
      "After 4 steps of 90 degree rotate\n",
      "X_time_arr shape:  (28, 48, 48, 32)\n",
      "X_amp_arr shape:  (28, 48, 48, 32)\n",
      "Y_arr shape:  (28, 48, 48, 1)\n",
      "||||||||||||\n",
      "After full mirroring\n",
      "X_time_arr shape:  (56, 48, 48, 32)\n",
      "X_amp_arr shape:  (56, 48, 48, 32)\n",
      "Y_arr shape:  (56, 48, 48, 1)\n",
      "||||||||||||\n",
      "After half shifting\n",
      "X_time_arr shape:  (168, 48, 48, 32)\n",
      "X_amp_arr shape:  (168, 48, 48, 32)\n",
      "Y_arr shape:  (168, 48, 48, 1)\n",
      "||||||||||||||||||\n",
      "\n"
     ]
    }
   ],
   "source": [
    "# аугментация данных\n",
    "X_time_train_1, X_amp_train_1, Y_train_1 = augment_data(X_dict['run1']['X_time_def'], \n",
    "                                                        X_dict['run1']['X_amp_def'],\n",
    "                                                        Y_dict['run1']['Y_def'])\n",
    "\n",
    "X_time_train_2, X_amp_train_2, Y_train_2 = augment_data(X_dict['run2']['X_time_def'],\n",
    "                                                        X_dict['run2']['X_amp_def'],\n",
    "                                                        Y_dict['run2']['Y_def'])\n",
    "\n",
    "test_data_percent = 0.2\n",
    "val_data_percent = 0.1\n",
    "def_size_1 = X_time_train_1.shape[0]\n",
    "def_size_2 = X_time_train_1.shape[0]\n",
    "non_def_size = X_dict['run1']['X_time_non_def'].shape[0]\n",
    "\n",
    "X_train = np.concatenate([X_time_train_1[int(def_size_1 * (test_data_percent+val_data_percent)):],\n",
    "                          X_time_train_2[int(def_size_2 * (test_data_percent+val_data_percent)):]],axis=0)\n",
    "Y_train = np.concatenate([Y_train_1[int(def_size_1 * (test_data_percent+val_data_percent)):],\n",
    "                          Y_train_2[int(def_size_2 * (test_data_percent+val_data_percent)):]],axis=0)\n",
    "\n",
    "X_val = np.concatenate([X_time_train_1[:int(def_size_1 * (val_data_percent))],\n",
    "                        X_time_train_2[:int(def_size_2 * (val_data_percent))]],axis=0)\n",
    "Y_val = np.concatenate([Y_train_1[:int(def_size_1 * (val_data_percent))],\n",
    "                        Y_train_2[:int(def_size_2 * (val_data_percent))]],axis=0)\n",
    "\n",
    "X_test = np.concatenate([X_time_train_1[int(def_size_1 * (val_data_percent)):int(def_size_1 * (test_data_percent+val_data_percent))],\n",
    "                         X_time_train_2[int(def_size_2 * (val_data_percent)):int(def_size_2 * (test_data_percent+val_data_percent))]],axis=0)\n",
    "Y_test = np.concatenate([Y_train_1[int(def_size_1 * (val_data_percent)):int(def_size_1 * (test_data_percent+val_data_percent))],\n",
    "                         Y_train_2[int(def_size_2 * (val_data_percent)):int(def_size_2 * (test_data_percent+val_data_percent))]],axis=0)\n"
   ]
  },
  {
   "cell_type": "code",
   "execution_count": 24,
   "metadata": {
    "ExecuteTime": {
     "end_time": "2023-04-20T09:31:28.718255Z",
     "start_time": "2023-04-20T09:31:28.692269Z"
    },
    "colab": {
     "base_uri": "https://localhost:8080/"
    },
    "id": "oYqxrgnhQbEV",
    "outputId": "bc9ef031-a0a6-4da1-d38d-bb2c799b20d9"
   },
   "outputs": [
    {
     "name": "stdout",
     "output_type": "stream",
     "text": [
      "X_train.shape:  (246, 48, 48, 32)\n",
      "Y_train.shape (246, 48, 48, 1)\n",
      "\n",
      "\n",
      "X_val.shape:  (38, 48, 48, 32)\n",
      "Y_val.shape (38, 48, 48, 1)\n",
      "\n",
      "\n",
      "X_test.shape (76, 48, 48, 32)\n",
      "Y_test.shape (76, 48, 48, 1)\n"
     ]
    }
   ],
   "source": [
    "print('X_train.shape: ', X_train.shape)\n",
    "print('Y_train.shape',Y_train.shape)\n",
    "print('\\n')\n",
    "\n",
    "print('X_val.shape: ', X_val.shape)\n",
    "print('Y_val.shape',Y_val.shape)\n",
    "print('\\n')\n",
    "\n",
    "print('X_test.shape',X_test.shape)\n",
    "print('Y_test.shape',Y_test.shape)"
   ]
  },
  {
   "cell_type": "markdown",
   "metadata": {},
   "source": [
    "# CNN с 1 входом по времени"
   ]
  },
  {
   "cell_type": "code",
   "execution_count": 29,
   "metadata": {
    "ExecuteTime": {
     "end_time": "2023-04-20T09:35:20.422173Z",
     "start_time": "2023-04-20T09:35:20.402183Z"
    }
   },
   "outputs": [],
   "source": [
    "# всякие константы для последующей работы\n",
    "\n",
    "#///////////////////////////////// для компиляции \n",
    "\n",
    "CMP_learning_rate = 0.0001 #0.04 # шаг сходимости back propogation\n",
    "#CMP_solver = keras.optimizers.Adam(CMP_learning_rate) # оптимизатор\n",
    "#CMP_solver = keras.optimizers.Adagrad(CMP_learning_rate) # оптимизатор\n",
    "CMP_solver = keras.optimizers.SGD(CMP_learning_rate, nesterov=True, momentum=0.2) # оптимизатор\n",
    "#CMP_metrics = ['accuracy']\n",
    "\n",
    "CMP_loss_func = 'binary_crossentropy'#'mean_squared_error'# функция потерь\n",
    "#///////////////////////////////// для колбэков\n",
    "\n",
    "    # для Early_stopping\n",
    "ES_patience = 2 # кол-во эпох без улучшений\n",
    "ES_min_delta = 0.001 # минимальное улучшение параметра за cur_patience\n",
    "ES_monitor_parametr =  'loss' #'loss' # отслеживаемый параметр \n",
    "ES_save_best_weights = True # сохранять ли веса нейронки с лучшими результатами\n",
    "    \n",
    "    # для ReduceLROnPlateau\n",
    "RLPOP_monitor_parametr = 'loss'#'loss' #'val_loss'  # отслеживаемый параметр \n",
    "RLPOP_factor = 0.2 # множитель для расчета нового шага сходимости (new_learning_rate = old_learning_rate*RLPOP_factor)\n",
    "RLPOP_patience = 5 # кол-во эпох без улучшений\n",
    "RLPOP_verbose = 1 # выводить ли прогресс изменения шага сходимости в его процессее\n",
    "RLPOP_mode = 'auto' # выбирает, уменьшать шаг сходимости при росте величины или при её уменьшении\n",
    "RLPOP_min_delta = 0.0001 # порог изменения отслеживаемого значения\n",
    "RLPOP_cooldown = 0 # количество эпох до возобновления работы после изменения шага сходимости\n",
    "RLPOP_min_lr = 0 # минимальное значение шага сходимости\n",
    "\n",
    "    # для CallbackList\n",
    "CBL_add_history = True # вызывать ли колбэк History (если он не был довавлен вручную)\n",
    "CBL_add_progbar = True # вызывать ли колбэк ProgbarLogger (если он не был довавлен вручную)\n",
    "    \n",
    "#///////////////////////////////// для тренировки\n",
    "\n",
    "FIT_batch_size = 4 # размер bach при обучении/тестировании1\n",
    "FIT_shuffle = True # перемешивать ли данные\n",
    "FIT_verbose = True # выводить ли прогресс обучения в его процессее\n",
    "FIT_epochs = 10 # количество эпох обучения\n",
    "FIT_validation_split = 0.20 #0.20 # процент валидационных данных, отсекаемых из тестовой выборки"
   ]
  },
  {
   "cell_type": "code",
   "execution_count": 30,
   "metadata": {
    "ExecuteTime": {
     "end_time": "2023-04-20T09:35:21.732775Z",
     "start_time": "2023-04-20T09:35:20.820673Z"
    }
   },
   "outputs": [
    {
     "name": "stdout",
     "output_type": "stream",
     "text": [
      "Model: \"model\"\n",
      "__________________________________________________________________________________________________\n",
      "Layer (type)                    Output Shape         Param #     Connected to                     \n",
      "==================================================================================================\n",
      "input_2 (InputLayer)            [(None, 48, 48, 32)] 0                                            \n",
      "__________________________________________________________________________________________________\n",
      "conv2d_22 (Conv2D)              (None, 48, 48, 64)   18496       input_2[0][0]                    \n",
      "__________________________________________________________________________________________________\n",
      "conv2d_23 (Conv2D)              (None, 48, 48, 64)   36928       conv2d_22[0][0]                  \n",
      "__________________________________________________________________________________________________\n",
      "conv2d_24 (Conv2D)              (None, 48, 48, 64)   36928       conv2d_23[0][0]                  \n",
      "__________________________________________________________________________________________________\n",
      "max_pooling2d_3 (MaxPooling2D)  (None, 24, 24, 64)   0           conv2d_24[0][0]                  \n",
      "__________________________________________________________________________________________________\n",
      "batch_normalization_5 (BatchNor (None, 24, 24, 64)   256         max_pooling2d_3[0][0]            \n",
      "__________________________________________________________________________________________________\n",
      "conv2d_25 (Conv2D)              (None, 24, 24, 128)  73856       batch_normalization_5[0][0]      \n",
      "__________________________________________________________________________________________________\n",
      "conv2d_26 (Conv2D)              (None, 24, 24, 128)  147584      conv2d_25[0][0]                  \n",
      "__________________________________________________________________________________________________\n",
      "conv2d_27 (Conv2D)              (None, 24, 24, 128)  147584      conv2d_26[0][0]                  \n",
      "__________________________________________________________________________________________________\n",
      "max_pooling2d_4 (MaxPooling2D)  (None, 12, 12, 128)  0           conv2d_27[0][0]                  \n",
      "__________________________________________________________________________________________________\n",
      "batch_normalization_6 (BatchNor (None, 12, 12, 128)  512         max_pooling2d_4[0][0]            \n",
      "__________________________________________________________________________________________________\n",
      "conv2d_28 (Conv2D)              (None, 12, 12, 256)  295168      batch_normalization_6[0][0]      \n",
      "__________________________________________________________________________________________________\n",
      "conv2d_29 (Conv2D)              (None, 12, 12, 256)  590080      conv2d_28[0][0]                  \n",
      "__________________________________________________________________________________________________\n",
      "conv2d_30 (Conv2D)              (None, 12, 12, 256)  590080      conv2d_29[0][0]                  \n",
      "__________________________________________________________________________________________________\n",
      "max_pooling2d_5 (MaxPooling2D)  (None, 6, 6, 256)    0           conv2d_30[0][0]                  \n",
      "__________________________________________________________________________________________________\n",
      "batch_normalization_7 (BatchNor (None, 6, 6, 256)    1024        max_pooling2d_5[0][0]            \n",
      "__________________________________________________________________________________________________\n",
      "conv2d_31 (Conv2D)              (None, 6, 6, 512)    1180160     batch_normalization_7[0][0]      \n",
      "__________________________________________________________________________________________________\n",
      "conv2d_32 (Conv2D)              (None, 6, 6, 512)    2359808     conv2d_31[0][0]                  \n",
      "__________________________________________________________________________________________________\n",
      "conv2d_33 (Conv2D)              (None, 6, 6, 512)    2359808     conv2d_32[0][0]                  \n",
      "__________________________________________________________________________________________________\n",
      "conv2d_transpose_3 (Conv2DTrans (None, 12, 12, 256)  524544      conv2d_33[0][0]                  \n",
      "__________________________________________________________________________________________________\n",
      "conv2d_34 (Conv2D)              (None, 12, 12, 256)  590080      conv2d_transpose_3[0][0]         \n",
      "__________________________________________________________________________________________________\n",
      "concatenate_3 (Concatenate)     (None, 12, 12, 512)  0           conv2d_30[0][0]                  \n",
      "                                                                 conv2d_34[0][0]                  \n",
      "__________________________________________________________________________________________________\n",
      "conv2d_35 (Conv2D)              (None, 12, 12, 256)  1179904     concatenate_3[0][0]              \n",
      "__________________________________________________________________________________________________\n",
      "conv2d_36 (Conv2D)              (None, 12, 12, 256)  590080      conv2d_35[0][0]                  \n",
      "__________________________________________________________________________________________________\n",
      "batch_normalization_8 (BatchNor (None, 12, 12, 256)  1024        conv2d_36[0][0]                  \n",
      "__________________________________________________________________________________________________\n",
      "conv2d_transpose_4 (Conv2DTrans (None, 24, 24, 128)  131200      batch_normalization_8[0][0]      \n",
      "__________________________________________________________________________________________________\n",
      "conv2d_37 (Conv2D)              (None, 24, 24, 128)  147584      conv2d_transpose_4[0][0]         \n",
      "__________________________________________________________________________________________________\n",
      "concatenate_4 (Concatenate)     (None, 24, 24, 256)  0           conv2d_27[0][0]                  \n",
      "                                                                 conv2d_37[0][0]                  \n",
      "__________________________________________________________________________________________________\n",
      "conv2d_38 (Conv2D)              (None, 24, 24, 128)  295040      concatenate_4[0][0]              \n",
      "__________________________________________________________________________________________________\n",
      "conv2d_39 (Conv2D)              (None, 24, 24, 128)  147584      conv2d_38[0][0]                  \n",
      "__________________________________________________________________________________________________\n",
      "batch_normalization_9 (BatchNor (None, 24, 24, 128)  512         conv2d_39[0][0]                  \n",
      "__________________________________________________________________________________________________\n",
      "conv2d_transpose_5 (Conv2DTrans (None, 48, 48, 64)   32832       batch_normalization_9[0][0]      \n",
      "__________________________________________________________________________________________________\n",
      "conv2d_40 (Conv2D)              (None, 48, 48, 64)   36928       conv2d_transpose_5[0][0]         \n",
      "__________________________________________________________________________________________________\n",
      "concatenate_5 (Concatenate)     (None, 48, 48, 128)  0           conv2d_24[0][0]                  \n",
      "                                                                 conv2d_40[0][0]                  \n",
      "__________________________________________________________________________________________________\n",
      "conv2d_41 (Conv2D)              (None, 48, 48, 64)   73792       concatenate_5[0][0]              \n",
      "__________________________________________________________________________________________________\n",
      "conv2d_42 (Conv2D)              (None, 48, 48, 64)   36928       conv2d_41[0][0]                  \n",
      "__________________________________________________________________________________________________\n",
      "conv2d_43 (Conv2D)              (None, 48, 48, 1)    577         conv2d_42[0][0]                  \n",
      "==================================================================================================\n",
      "Total params: 11,626,881\n",
      "Trainable params: 11,625,217\n",
      "Non-trainable params: 1,664\n",
      "__________________________________________________________________________________________________\n",
      "None\n"
     ]
    }
   ],
   "source": [
    "input_time = Input((PREP_image_size,PREP_image_size,32))\n",
    "\n",
    "conv_1_1 = Conv2D(64, (3,3), padding='same', activation='relu')(input_time)\n",
    "conv_1_2 = Conv2D(64, (3,3), padding='same', activation='relu')(conv_1_1)\n",
    "conv_1_3 = Conv2D(64, (3,3), padding='same', activation='relu')(conv_1_2)\n",
    "mpool_1 = MaxPooling2D((2,2), strides=2)(conv_1_3)\n",
    "batch_1 = BatchNormalization()(mpool_1)\n",
    "\n",
    "conv_2_1 = Conv2D(128, (3,3), padding='same', activation='relu')(batch_1)\n",
    "conv_2_2 = Conv2D(128, (3,3), padding='same', activation='relu')(conv_2_1)\n",
    "conv_2_3 = Conv2D(128, (3,3), padding='same', activation='relu')(conv_2_2)\n",
    "mpool_2 = MaxPooling2D((2,2), strides=2)(conv_2_3)\n",
    "batch_2 = BatchNormalization()(mpool_2)\n",
    "\n",
    "conv_3_1 = Conv2D(256, (3,3), padding='same', activation='relu')(batch_2)\n",
    "conv_3_2 = Conv2D(256, (3,3), padding='same', activation='relu')(conv_3_1)\n",
    "conv_3_3 = Conv2D(256, (3,3), padding='same', activation='relu')(conv_3_2)\n",
    "mpool_3 = MaxPooling2D((2,2), strides=2)(conv_3_3)\n",
    "batch_3 = BatchNormalization()(mpool_3)\n",
    "\n",
    "conv_4_1 = Conv2D(512, (3,3), padding='same', activation='relu')(batch_3)\n",
    "conv_4_2 = Conv2D(512, (3,3), padding='same', activation='relu')(conv_4_1)\n",
    "conv_4_3 = Conv2D(512, (3,3), padding='same', activation='relu')(conv_4_2)\n",
    "\n",
    "convT_2 = Conv2DTranspose(256,(2,2),strides=(2,2))(conv_4_3)\n",
    "conv_6_1 = Conv2D(256, (3,3), padding='same', activation='relu')(convT_2)\n",
    "conc_1 = concatenate([conv_3_3,conv_6_1],axis=3)\n",
    "conv_6_2 = Conv2D(256, (3,3), padding='same', activation='relu')(conc_1)\n",
    "conv_6_3 = Conv2D(256, (3,3), padding='same', activation='relu')(conv_6_2)\n",
    "batch_4 = BatchNormalization()(conv_6_3)\n",
    "\n",
    "convT_3 = Conv2DTranspose(128,(2,2),strides=(2,2))(batch_4)\n",
    "conv_7_1 = Conv2D(128, (3,3), padding='same', activation='relu')(convT_3)\n",
    "conc_2 = concatenate([conv_2_3,conv_7_1],axis=3)\n",
    "conv_7_2 = Conv2D(128, (3,3), padding='same', activation='relu')(conc_2)\n",
    "conv_7_3 = Conv2D(128, (3,3), padding='same', activation='relu')(conv_7_2)\n",
    "batch_5 = BatchNormalization()(conv_7_3)\n",
    "\n",
    "convT_4 = Conv2DTranspose(64,(2,2),strides=(2,2))(batch_5)\n",
    "conv_8_1 = Conv2D(64, (3,3), padding='same', activation='relu')(convT_4)\n",
    "conc_3 = concatenate([conv_1_3,conv_8_1],axis=3)\n",
    "conv_8_2 = Conv2D(64, (3,3), padding='same', activation='relu')(conc_3)\n",
    "conv_8_3 = Conv2D(64, (3,3), padding='same', activation='relu')(conv_8_2)\n",
    "#batch_6 = BatchNormalization()(conv_8_3)\n",
    "\n",
    "output = Conv2D(1, (3,3), padding='same', activation='sigmoid')(conv_8_3)\n",
    "\n",
    "\n",
    "model = keras.Model(input_time, output, name='model')\n",
    "\n",
    "model.compile(optimizer = CMP_solver, \n",
    "              loss = CMP_loss_func)\n",
    "\n",
    "print(model.summary())"
   ]
  },
  {
   "cell_type": "code",
   "execution_count": 31,
   "metadata": {
    "ExecuteTime": {
     "end_time": "2023-04-20T09:35:21.763757Z",
     "start_time": "2023-04-20T09:35:21.740772Z"
    }
   },
   "outputs": [],
   "source": [
    "# Создание и настройка колбэков\n",
    "callback_list = [] # массив колбэков до подачи в колбек \"callbacklist\"\n",
    "\n",
    "'''temp = keras.callbacks.EarlyStopping(\n",
    "            monitor = ES_monitor_parametr, \n",
    "            min_delta = ES_min_delta, \n",
    "            patience = ES_patience,\n",
    "            restore_best_weights = ES_save_best_weights\n",
    "            )\n",
    "callback_list.append(temp)\n",
    "\n",
    "temp = keras.callbacks.ReduceLROnPlateau(\n",
    "            monitor = RLPOP_monitor_parametr, \n",
    "            factor = RLPOP_factor, \n",
    "            patience = RLPOP_patience, \n",
    "            verbose = RLPOP_verbose,\n",
    "            mode = RLPOP_mode, \n",
    "            min_delta = RLPOP_min_delta, \n",
    "            cooldown = RLPOP_cooldown, \n",
    "            min_lr = RLPOP_min_lr\n",
    "            )\n",
    "callback_list.append(temp)'''\n",
    "\n",
    "FIT_callback_list = keras.callbacks.CallbackList(\n",
    "            callbacks = callback_list, \n",
    "            add_history = CBL_add_history, \n",
    "            add_progbar = CBL_add_progbar, \n",
    "            model = model\n",
    "            )"
   ]
  },
  {
   "cell_type": "code",
   "execution_count": 32,
   "metadata": {
    "ExecuteTime": {
     "end_time": "2023-04-20T09:53:30.912762Z",
     "start_time": "2023-04-20T09:35:21.810110Z"
    }
   },
   "outputs": [
    {
     "name": "stdout",
     "output_type": "stream",
     "text": [
      "62/62 [==============================] - 105s 2s/step - loss: 0.6273 - val_loss: 0.6211\n",
      "62/62 [==============================] - 105s 2s/step - loss: 0.5846 - val_loss: 0.5907\n",
      "62/62 [==============================] - 107s 2s/step - loss: 0.5410 - val_loss: 0.5556\n",
      "62/62 [==============================] - 108s 2s/step - loss: 0.4965 - val_loss: 0.5158\n",
      "62/62 [==============================] - 108s 2s/step - loss: 0.4517 - val_loss: 0.4717\n",
      "62/62 [==============================] - 107s 2s/step - loss: 0.4074 - val_loss: 0.4251\n",
      "62/62 [==============================] - 105s 2s/step - loss: 0.3657 - val_loss: 0.3804\n",
      "62/62 [==============================] - 107s 2s/step - loss: 0.3286 - val_loss: 0.3412\n",
      "62/62 [==============================] - 106s 2s/step - loss: 0.2973 - val_loss: 0.3073\n",
      "62/62 [==============================] - 111s 2s/step - loss: 0.2721 - val_loss: 0.2783\n"
     ]
    }
   ],
   "source": [
    "history = model.fit(X_train,\n",
    "                    Y_train,\n",
    "                    batch_size = FIT_batch_size, \n",
    "                    epochs = FIT_epochs, \n",
    "                    verbose = FIT_verbose, \n",
    "                    #validation_split = FIT_validation_split,\n",
    "                    validation_data = (X_val,Y_val), \n",
    "                    shuffle = FIT_shuffle,\n",
    "                    callbacks = FIT_callback_list)"
   ]
  },
  {
   "cell_type": "code",
   "execution_count": 33,
   "metadata": {
    "ExecuteTime": {
     "end_time": "2023-04-20T09:53:31.977325Z",
     "start_time": "2023-04-20T09:53:30.919757Z"
    }
   },
   "outputs": [
    {
     "data": {
      "image/png": "[encoded data removed]",
      "text/plain": [
       "<Figure size 720x432 with 1 Axes>"
      ]
     },
     "metadata": {
      "needs_background": "light"
     },
     "output_type": "display_data"
    }
   ],
   "source": [
    "# Вывод графика изменения ошибки\n",
    "\n",
    "fig, ax = plt.subplots()\n",
    "fig.set_figwidth(10)\n",
    "fig.set_figheight(6)\n",
    "\n",
    "plt.plot(history.history['loss'], label='loss',  linewidth=1.5, color='blue')\n",
    "plt.plot(history.history['val_loss'], linestyle = '--', label='val_loss',  linewidth=3, color='red')\n",
    "\n",
    "ax.set_title('График ошибки во время обучения', fontsize=20)\n",
    "ax.set_ylabel('Ошибка', fontsize=15)\n",
    "ax.set_xlabel('Эпохи', fontsize=15)\n",
    "\n",
    "#  Устанавливаем форматирование делений:\n",
    "ax.xaxis.set_tick_params(which = 'major', labelsize = 14)\n",
    "ax.yaxis.set_tick_params(which = 'major', labelsize = 14)\n",
    "\n",
    "ax.minorticks_on()\n",
    "ax.grid(which='major', color = 'k', alpha = 0.6)\n",
    "ax.grid(which='minor', color = 'gray', linestyle = ':')\n",
    "\n",
    "ax.legend(fontsize = 15, facecolor = \"white\", loc = 'upper right')\n",
    "\n",
    "plt.show()"
   ]
  },
  {
   "cell_type": "code",
   "execution_count": null,
   "metadata": {
    "ExecuteTime": {
     "end_time": "2023-04-20T09:35:15.885216Z",
     "start_time": "2023-04-20T09:35:15.885216Z"
    },
    "colab": {
     "base_uri": "https://localhost:8080/"
    },
    "id": "QTC0hhhEQbEY",
    "outputId": "57c7c314-fcaf-4971-c3c0-53320f6f7755"
   },
   "outputs": [],
   "source": [
    "# тест модели\n",
    "model.evaluate(X_test, Y_test, batch_size = FIT_batch_size)"
   ]
  },
  {
   "cell_type": "code",
   "execution_count": null,
   "metadata": {
    "ExecuteTime": {
     "end_time": "2023-04-20T09:35:15.889213Z",
     "start_time": "2023-04-20T09:35:15.889213Z"
    }
   },
   "outputs": [],
   "source": [
    "res = model.predict(X_test)"
   ]
  },
  {
   "cell_type": "code",
   "execution_count": null,
   "metadata": {
    "ExecuteTime": {
     "end_time": "2023-04-20T09:35:15.892210Z",
     "start_time": "2023-04-20T09:35:15.892210Z"
    }
   },
   "outputs": [],
   "source": [
    "i = 1\n",
    "fig, axes = plt.subplots(20)\n",
    "\n",
    "fig.set_figwidth(10)\n",
    "fig.set_figheight(60)\n",
    "\n",
    "for ax,rmap in zip(axes,res):\n",
    "    ax.imshow(rmap)\n",
    "     \n",
    "#plt.subplots_adjust(left=0.1, bottom=0.1, right=0.9, top=0.9, wspace=0.1, hspace=0.8)\n",
    "plt.show()"
   ]
  },
  {
   "cell_type": "code",
   "execution_count": null,
   "metadata": {
    "ExecuteTime": {
     "end_time": "2023-04-20T09:35:15.895209Z",
     "start_time": "2023-04-20T09:35:15.895209Z"
    },
    "colab": {
     "base_uri": "https://localhost:8080/"
    },
    "id": "2IRlkWLoQbEY",
    "outputId": "aaa52e8c-7679-4d7b-e71f-07facca79ddd"
   },
   "outputs": [],
   "source": [
    "res = model.predict(X_dict['run1']['X_time_all'])\n",
    "Y_res_map = reshape_3D_Y_numpy_to_2D(res,Y_dict['run1']['df'].shape[0],Y_dict['run1']['df'].shape[1],PREP_image_size)\n",
    "Y_orig_map = reshape_3D_Y_numpy_to_2D(Y_dict['run1']['Y_all'],Y_dict['run1']['df'].shape[0],Y_dict['run1']['df'].shape[1],PREP_image_size)"
   ]
  },
  {
   "cell_type": "code",
   "execution_count": null,
   "metadata": {
    "ExecuteTime": {
     "end_time": "2023-04-20T09:35:15.898207Z",
     "start_time": "2023-04-20T09:35:15.898207Z"
    },
    "colab": {
     "base_uri": "https://localhost:8080/",
     "height": 869
    },
    "id": "0KIAIrVJQbEZ",
    "outputId": "cc1ff259-7b07-42ec-85aa-354b26a8893c"
   },
   "outputs": [],
   "source": [
    "fig, axes = plt.subplots(2)\n",
    "\n",
    "fig.set_figwidth(20)\n",
    "fig.set_figheight(10)\n",
    "\n",
    "axes[0].imshow(Y_res_map)\n",
    "\n",
    "axes[0].set_xlabel('Номер датчика', fontsize=10) \n",
    "axes[0].set_ylabel('Номер измерения', fontsize=10) \n",
    "axes[0].set_title('Результат модели', fontsize=10) \n",
    "\n",
    "axes[1].imshow(Y_orig_map)\n",
    "\n",
    "axes[1].set_xlabel('Желаемый результат', fontsize=10) \n",
    "axes[1].set_ylabel('Номер измерения', fontsize=10) \n",
    "axes[1].set_title('Карта дефектов', fontsize=10) \n",
    "\n",
    "     \n",
    "#plt.subplots_adjust(left=0.1, bottom=0.1, right=0.9, top=0.9, wspace=0.1, hspace=0.8)\n",
    "plt.show()"
   ]
  },
  {
   "cell_type": "code",
   "execution_count": null,
   "metadata": {
    "ExecuteTime": {
     "end_time": "2023-04-20T09:35:15.902207Z",
     "start_time": "2023-04-20T09:35:15.902207Z"
    },
    "colab": {
     "base_uri": "https://localhost:8080/"
    },
    "id": "ywVin2upkLjs",
    "outputId": "c0324dfb-d475-48dd-ef63-e97c738e3c44"
   },
   "outputs": [],
   "source": [
    "res = model.predict(X_dict['run2']['X_time_all'])\n",
    "Y_res_map = reshape_3D_Y_numpy_to_2D(res,Y_dict['run2']['df'].shape[0],Y_dict['run2']['df'].shape[1],PREP_image_size)\n",
    "Y_orig_map = reshape_3D_Y_numpy_to_2D(Y_dict['run2']['Y_all'],Y_dict['run2']['df'].shape[0],Y_dict['run2']['df'].shape[1],PREP_image_size)"
   ]
  },
  {
   "cell_type": "code",
   "execution_count": null,
   "metadata": {
    "ExecuteTime": {
     "end_time": "2023-04-20T09:35:15.904203Z",
     "start_time": "2023-04-20T09:35:15.904203Z"
    },
    "colab": {
     "base_uri": "https://localhost:8080/",
     "height": 869
    },
    "id": "-pkEiaLqdS9L",
    "outputId": "bd5b8291-cc3b-495b-9642-57edb9c0b62f"
   },
   "outputs": [],
   "source": [
    "fig, axes = plt.subplots(2)\n",
    "\n",
    "fig.set_figwidth(20)\n",
    "fig.set_figheight(10)\n",
    "\n",
    "axes[0].imshow(Y_res_map)\n",
    "\n",
    "axes[0].set_xlabel('Номер датчика', fontsize=10) \n",
    "axes[0].set_ylabel('Номер измерения', fontsize=10) \n",
    "axes[0].set_title('Результат модели', fontsize=10) \n",
    "\n",
    "axes[1].imshow(Y_orig_map)\n",
    "\n",
    "axes[1].set_xlabel('Желаемый результат', fontsize=10) \n",
    "axes[1].set_ylabel('Номер измерения', fontsize=10) \n",
    "axes[1].set_title('Карта дефектов', fontsize=10) \n",
    "\n",
    "     \n",
    "#plt.subplots_adjust(left=0.1, bottom=0.1, right=0.9, top=0.9, wspace=0.1, hspace=0.8)\n",
    "plt.show()"
   ]
  },
  {
   "cell_type": "code",
   "execution_count": null,
   "metadata": {},
   "outputs": [],
   "source": []
  }
 ],
 "metadata": {
  "colab": {
   "provenance": []
  },
  "kernelspec": {
   "display_name": "Python 3 (ipykernel)",
   "language": "python",
   "name": "python3"
  },
  "language_info": {
   "codemirror_mode": {
    "name": "ipython",
    "version": 3
   },
   "file_extension": ".py",
   "mimetype": "text/x-python",
   "name": "python",
   "nbconvert_exporter": "python",
   "pygments_lexer": "ipython3",
   "version": "3.8.12"
  }
 },
 "nbformat": 4,
 "nbformat_minor": 1
}
