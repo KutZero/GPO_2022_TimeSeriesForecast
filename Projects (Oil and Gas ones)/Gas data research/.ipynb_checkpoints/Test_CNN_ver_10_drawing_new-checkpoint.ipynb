{
 "cells": [
  {
   "cell_type": "markdown",
   "metadata": {},
   "source": [
    "# Рисование карты дефектов с помощью модели ver_10"
   ]
  },
  {
   "cell_type": "code",
   "execution_count": 1,
   "metadata": {
    "ExecuteTime": {
     "end_time": "2023-06-11T03:20:45.580475Z",
     "start_time": "2023-06-11T03:20:01.884561Z"
    },
    "cell_style": "center",
    "id": "p6xN-IEhhbla"
   },
   "outputs": [],
   "source": [
    "# Подключенине библиотек\n",
    "import numpy as np\n",
    "import pandas as pd\n",
    "import matplotlib.pyplot as plt\n",
    "import tensorflow as tf\n",
    "\n",
    "import sys\n",
    "sys.path.append('custom_modules')\n",
    "\n",
    "import Data_processing as dp\n",
    "\n",
    "from matplotlib import ticker\n",
    "from IPython.display import display\n",
    "from tensorflow import keras"
   ]
  },
  {
   "cell_type": "markdown",
   "metadata": {
    "id": "wLCfK5LxQbD9"
   },
   "source": [
    "### Константы для путей к файлам"
   ]
  },
  {
   "cell_type": "code",
   "execution_count": 2,
   "metadata": {
    "ExecuteTime": {
     "end_time": "2023-06-11T03:20:45.596479Z",
     "start_time": "2023-06-11T03:20:45.581476Z"
    },
    "id": "bZHiwO4ShhEF"
   },
   "outputs": [],
   "source": [
    "# Пути к обработанным данным\n",
    "# Путь к X части выборки с массивами в каждой ячейке\n",
    "# Run1 - данные обучающей выборки\n",
    "# Run2 - данные тестовой выборки\n",
    "path_to_array_like_X_data = 'data/Prepared data/Run2/X_data_array_like.xlsx'\n",
    "# Путь к Y части выборки\n",
    "path_to_Y_data = 'data/Prepared data/Run2/Y_data(binary_classification).xlsx'\n"
   ]
  },
  {
   "cell_type": "markdown",
   "metadata": {
    "id": "0dxaXom0QbEB"
   },
   "source": [
    "### Константы для обработки данных"
   ]
  },
  {
   "cell_type": "code",
   "execution_count": 3,
   "metadata": {
    "ExecuteTime": {
     "end_time": "2023-06-11T03:20:45.612484Z",
     "start_time": "2023-06-11T03:20:45.597480Z"
    },
    "id": "J-6_JuU5QbEC"
   },
   "outputs": [],
   "source": [
    "# Размер кропа\n",
    "PREP_image_size = 64\n",
    "# Шаг кропа\n",
    "PREP_crop_step = 5"
   ]
  },
  {
   "cell_type": "code",
   "execution_count": 4,
   "metadata": {
    "ExecuteTime": {
     "end_time": "2023-06-11T03:20:45.628487Z",
     "start_time": "2023-06-11T03:20:45.613485Z"
    },
    "cell_style": "center",
    "id": "oicZsiTGQbEE"
   },
   "outputs": [],
   "source": [
    "# Детерминация случайных величин, отвечающих за выбор первоначальных весов и биасов\n",
    "tf.compat.v1.set_random_seed(290)\n",
    "tf.random.set_seed(290)"
   ]
  },
  {
   "cell_type": "markdown",
   "metadata": {},
   "source": [
    "### Функции для обработки"
   ]
  },
  {
   "cell_type": "code",
   "execution_count": 5,
   "metadata": {
    "ExecuteTime": {
     "end_time": "2023-06-11T03:20:45.639201Z",
     "start_time": "2023-06-11T03:20:45.629487Z"
    }
   },
   "outputs": [],
   "source": [
    "def extend_df_for_prediction_1(df, crop_size, crop_step):\n",
    "\n",
    "    print('||||||||||||||||||')\n",
    "    print('Df extending for better prediction')\n",
    "    print('Original df size: ', df.shape)\n",
    "    print('Crop windows height/width: ', crop_size)\n",
    "    print('Crop windows step across rows and cols: ', crop_step)\n",
    "\n",
    "    extend_dims = crop_size - 1\n",
    "    \n",
    "    df = pd.concat([df,df.iloc[:,:extend_dims]],axis=1,ignore_index=True)\n",
    "    df = pd.concat([df,df.iloc[:extend_dims,:]],axis=0,ignore_index=True)\n",
    "        \n",
    "    print('New df shape: ', df.shape)\n",
    "    print('||||||||||||||||||\\n')\n",
    "\n",
    "    dp.reshape_df_for_future_crops(df,crop_size,crop_step)\n",
    "    \n",
    "    return df"
   ]
  },
  {
   "cell_type": "code",
   "execution_count": 6,
   "metadata": {
    "ExecuteTime": {
     "end_time": "2023-06-11T03:20:45.646765Z",
     "start_time": "2023-06-11T03:20:45.639201Z"
    }
   },
   "outputs": [],
   "source": [
    "def extend_df_for_prediction_2(df, crop_size, crop_step):\n",
    "\n",
    "    print('||||||||||||||||||')\n",
    "    print('Df extending for better prediction')\n",
    "    print('Original df size: ', df.shape)\n",
    "    print('Crop windows height/width: ', crop_size)\n",
    "    print('Crop windows step across rows and cols: ', crop_step)\n",
    "        \n",
    "    extend_dims = crop_size - 1\n",
    "\n",
    "    df = pd.concat([df.iloc[:,-1 * extend_dims:],\n",
    "                    df,\n",
    "                    df.iloc[:,:extend_dims]],axis=1,ignore_index=True)\n",
    "    \n",
    "    df = pd.concat([df.iloc[extend_dims-1::-1,:], \n",
    "                    df,\n",
    "                    df.iloc[-1:-extend_dims-1:-1,:]\n",
    "                    ],axis=0,ignore_index=True)\n",
    "        \n",
    "    print('New df shape: ', df.shape)\n",
    "    print('||||||||||||||||||\\n')\n",
    "    \n",
    "    dp.reshape_df_for_future_crops(df,crop_size,crop_step)\n",
    "\n",
    "    return df"
   ]
  },
  {
   "cell_type": "markdown",
   "metadata": {},
   "source": [
    "### 3 подхода к предобработке"
   ]
  },
  {
   "cell_type": "code",
   "execution_count": 7,
   "metadata": {
    "ExecuteTime": {
     "end_time": "2023-06-11T03:20:45.662271Z",
     "start_time": "2023-06-11T03:20:45.647882Z"
    }
   },
   "outputs": [],
   "source": [
    "# Преобразовать массив результатов работы модели размера (batch,1)\n",
    "# в матрицу размера PREP_df_rows * PREP_df_cols (карту дефектов, построенную моделью)\n",
    "# Размер выходной матрицы - PREP_df_rows * PREP_df_cols\n",
    "# Так как начальное расширение датафрейма на PREP_image_size по 2 осям\n",
    "# тут учитывается грубо, то размер выходной матрицы будет также\n",
    "# PREP_df_rows * PREP_df_cols, а ячейки по конрутру будут размыты \n",
    "# и не точны, так как по ним фильтр прошел меньше раз чем по ячейкам \n",
    "# посреди матрицы\n",
    "\n",
    "def test_reshape_2D_Y_numpy_to_2D_0(rows_count, cols_count, crop_size, step = -1):\n",
    "\n",
    "    print('||||||||||||||||||')\n",
    "    print('Y arr reshaping to 2D')\n",
    "    print('Crop windows height/width: ', crop_size)\n",
    "    print('Crop windows step across rows and cols: ', step)\n",
    "\n",
    "    if step == -1:\n",
    "        step = crop_size\n",
    "    \n",
    "    new_arr = np.zeros((rows_count, cols_count))\n",
    "      \n",
    "    for j in range(0,  cols_count - crop_size + 1, step):\n",
    "        for i in range(0, rows_count - crop_size + 1, step):\n",
    "            new_arr[i:i+crop_size,j:j+crop_size] += 1      \n",
    "            \n",
    "    print('New numpy shape: ', new_arr.shape)\n",
    "    print('||||||||||||||||||\\n')\n",
    "\n",
    "    return new_arr"
   ]
  },
  {
   "cell_type": "code",
   "execution_count": 8,
   "metadata": {
    "ExecuteTime": {
     "end_time": "2023-06-11T03:20:45.677780Z",
     "start_time": "2023-06-11T03:20:45.663270Z"
    },
    "hide_input": false
   },
   "outputs": [],
   "source": [
    "# Преобразовать массив результатов работы модели размера (batch,1)\n",
    "# Так как начальное расширение датафрейма на crop_size по 2 осям\n",
    "\n",
    "def test_reshape_2D_Y_numpy_to_2D_1(rows_count, cols_count, crop_size, step = -1):\n",
    "\n",
    "    print('||||||||||||||||||')\n",
    "    print('Y arr reshaping to 2D')\n",
    "    print('Crop windows height/width: ', crop_size)\n",
    "    print('Crop windows step across rows and cols: ', step)\n",
    "    print(f'Expanded map size: ({rows_count},{cols_count})')\n",
    "    print()\n",
    "\n",
    "    new_rows = rows_count - crop_size + 1\n",
    "    new_cols = cols_count - crop_size + 1\n",
    "    \n",
    "    new_arr = np.zeros((new_rows,new_cols))  \n",
    "    \n",
    "    add_num = 1\n",
    "    \n",
    "    for j in range(0,  cols_count - crop_size + 1, step):\n",
    "        for i in range(0, rows_count - crop_size + 1, step):\n",
    "            \n",
    "            if i <= new_rows - crop_size:\n",
    "                if j <= new_cols - crop_size:\n",
    "                    temp_orig = new_arr[i:i+crop_size,j:j+crop_size] + add_num\n",
    "                    new_arr[i:i+crop_size,j:j+crop_size] = temp_orig  \n",
    "                elif j <= new_cols:\n",
    "                    right_orig = new_arr[i:i+crop_size,j:] + add_num\n",
    "                    left_orig = new_arr[i:i+crop_size,:crop_size - right_orig.shape[1]] + add_num\n",
    "                    new_arr[i:i+crop_size,j:] = right_orig\n",
    "                    new_arr[i:i+crop_size,:crop_size - right_orig.shape[1]] = left_orig\n",
    "\n",
    "            elif i <= new_rows:\n",
    "                if j <= new_cols - crop_size:\n",
    "                    low_orig = new_arr[i:,j:j+crop_size] + add_num\n",
    "                    high_orig = new_arr[:crop_size - low_orig.shape[0],j:j+crop_size] + add_num\n",
    "                    new_arr[i:,j:j+crop_size] = low_orig \n",
    "                    new_arr[:crop_size - low_orig.shape[0],j:j+crop_size] = high_orig \n",
    "                elif j <= new_cols:\n",
    "                    right_low = new_arr[i:,j:] + add_num\n",
    "                    right_high = new_arr[:crop_size - low_orig.shape[0],j:] + add_num\n",
    "                    \n",
    "                    left_low = new_arr[i:,:crop_size - right_high.shape[1]] + add_num\n",
    "                    left_high = new_arr[:crop_size - low_orig.shape[0],:crop_size - right_high.shape[1]] + add_num\n",
    "                    \n",
    "                    new_arr[i:,j:] = right_low\n",
    "                    new_arr[:crop_size - low_orig.shape[0],j:] = right_high\n",
    "                    new_arr[i:,:crop_size - right_high.shape[1]] = left_low\n",
    "                    new_arr[:crop_size - low_orig.shape[0],:crop_size - right_high.shape[1]] = left_high\n",
    "                          \n",
    "            \n",
    "    print('New numpy shape: ', new_arr.shape)\n",
    "    print('||||||||||||||||||\\n')\n",
    "\n",
    "    return new_arr"
   ]
  },
  {
   "cell_type": "code",
   "execution_count": 9,
   "metadata": {
    "ExecuteTime": {
     "end_time": "2023-06-11T03:20:45.693787Z",
     "start_time": "2023-06-11T03:20:45.678781Z"
    }
   },
   "outputs": [],
   "source": [
    "# Преобразовать массив результатов работы модели размера (batch,1)\n",
    "# в матрицу размера PREP_df_rows * PREP_df_cols (карту дефектов, построенную моделью)\n",
    "# Размер выходной матрицы - PREP_df_rows * PREP_df_cols\n",
    "# Так как начальное расширение датафрейма на PREP_image_size по 2 осям\n",
    "# тут учитывается грубо, то размер выходной матрицы будет также\n",
    "# PREP_df_rows * PREP_df_cols, а ячейки по конрутру будут размыты \n",
    "# и не точны, так как по ним фильтр прошел меньше раз чем по ячейкам \n",
    "# посреди матрицы\n",
    "\n",
    "def test_reshape_2D_Y_numpy_to_2D_2(orig_rows_count, orig_cols_count,\n",
    "                                    result_rows_count, result_cols_count, \n",
    "                                    crop_size, step = -1):\n",
    "\n",
    "    print('||||||||||||||||||')\n",
    "    print('Y arr reshaping to 2D')\n",
    "    print('Crop windows height/width: ', crop_size)\n",
    "    print('Crop windows step across rows and cols: ', step)\n",
    "\n",
    "    if step == -1:\n",
    "        step = crop_size\n",
    "    \n",
    "    new_arr = np.zeros((result_rows_count, result_cols_count))\n",
    "      \n",
    "    for j in range(0,  result_cols_count - crop_size + 1, step):\n",
    "        for i in range(0, result_rows_count - crop_size + 1, step):\n",
    "            new_arr[i:i+crop_size,j:j+crop_size] += 1      \n",
    "    \n",
    "    print('New numpy shape: ', new_arr.shape)\n",
    "    print('||||||||||||||||||\\n')\n",
    "\n",
    "    left_up_border = crop_size - 1\n",
    "    right_border = result_cols_count - (result_cols_count - orig_cols_count) + 1\n",
    "    bottom_border = result_rows_count - (result_rows_count - orig_rows_count) + 1\n",
    "    \n",
    "    return new_arr[left_up_border:,left_up_border:][:orig_rows_count,:orig_cols_count]"
   ]
  },
  {
   "cell_type": "code",
   "execution_count": 10,
   "metadata": {
    "ExecuteTime": {
     "end_time": "2023-06-11T03:20:45.709790Z",
     "start_time": "2023-06-11T03:20:45.694787Z"
    }
   },
   "outputs": [
    {
     "name": "stdout",
     "output_type": "stream",
     "text": [
      "||||||||||||||||||||||||||||||||||||df_0||||||||||||||||||||||||||||||\n",
      "df.shape:  (115, 400)\n",
      "||||||||||||||||||||||||||||||||||||df_1||||||||||||||||||||||||||||||\n",
      "||||||||||||||||||\n",
      "Df extending for better prediction\n",
      "Original df size:  (115, 400)\n",
      "Crop windows height/width:  64\n",
      "Crop windows step across rows and cols:  5\n",
      "New df shape:  (178, 463)\n",
      "||||||||||||||||||\n",
      "\n",
      "||||||||||||||||||\n",
      "Df reshaping for exact splitting with crop_size\n",
      "Original df size:  (178, 463)\n",
      "Crop windows height/width:  64\n",
      "Crop windows step across rows and cols:  5\n",
      "New df shape:  (179, 464)\n",
      "||||||||||||||||||\n",
      "\n",
      "||||||||||||||||||||||||||||||||||||df_2||||||||||||||||||||||||||||||\n",
      "||||||||||||||||||\n",
      "Df extending for better prediction\n",
      "Original df size:  (115, 400)\n",
      "Crop windows height/width:  64\n",
      "Crop windows step across rows and cols:  5\n",
      "New df shape:  (241, 526)\n",
      "||||||||||||||||||\n",
      "\n",
      "||||||||||||||||||\n",
      "Df reshaping for exact splitting with crop_size\n",
      "Original df size:  (241, 526)\n",
      "Crop windows height/width:  64\n",
      "Crop windows step across rows and cols:  5\n",
      "New df shape:  (244, 529)\n",
      "||||||||||||||||||\n",
      "\n"
     ]
    }
   ],
   "source": [
    "test_rows = 115\n",
    "test_cols = 400\n",
    "test_crop_size = 64\n",
    "test_step = PREP_crop_step\n",
    "print('||||||||||||||||||||||||||||||||||||df_0||||||||||||||||||||||||||||||')\n",
    "df_0 = pd.DataFrame(np.zeros((test_rows, test_cols)))\n",
    "print(f'df.shape: ', df_0.shape)\n",
    "print('||||||||||||||||||||||||||||||||||||df_1||||||||||||||||||||||||||||||')\n",
    "df_1 = extend_df_for_prediction_1(df_0, test_crop_size, test_step)\n",
    "print('||||||||||||||||||||||||||||||||||||df_2||||||||||||||||||||||||||||||')\n",
    "df_2 = extend_df_for_prediction_2(df_0, test_crop_size, test_step)\n",
    "\n",
    "#display(df_0)\n",
    "#display(df_1)\n",
    "#display(df_2)"
   ]
  },
  {
   "cell_type": "code",
   "execution_count": 11,
   "metadata": {
    "ExecuteTime": {
     "end_time": "2023-06-11T03:20:45.773805Z",
     "start_time": "2023-06-11T03:20:45.710791Z"
    }
   },
   "outputs": [
    {
     "name": "stdout",
     "output_type": "stream",
     "text": [
      "||||||||||||||||||\n",
      "Y arr reshaping to 2D\n",
      "Crop windows height/width:  64\n",
      "Crop windows step across rows and cols:  5\n",
      "New numpy shape:  (115, 400)\n",
      "||||||||||||||||||\n",
      "\n",
      "||||||||||||||||||\n",
      "Y arr reshaping to 2D\n",
      "Crop windows height/width:  64\n",
      "Crop windows step across rows and cols:  5\n",
      "Expanded map size: (178,463)\n",
      "\n",
      "New numpy shape:  (115, 400)\n",
      "||||||||||||||||||\n",
      "\n",
      "||||||||||||||||||\n",
      "Y arr reshaping to 2D\n",
      "Crop windows height/width:  64\n",
      "Crop windows step across rows and cols:  5\n",
      "New numpy shape:  (241, 526)\n",
      "||||||||||||||||||\n",
      "\n"
     ]
    }
   ],
   "source": [
    "test_res_0 = test_reshape_2D_Y_numpy_to_2D_0(df_0.shape[0], df_0.shape[1], \n",
    "                                        test_crop_size, test_step)\n",
    "test_res_1 = test_reshape_2D_Y_numpy_to_2D_1(df_1.shape[0], df_1.shape[1], \n",
    "                                        test_crop_size, test_step)\n",
    "test_res_2 = test_reshape_2D_Y_numpy_to_2D_2(test_rows, test_cols, \n",
    "                                        df_2.shape[0], df_2.shape[1], \n",
    "                                        test_crop_size, test_step)"
   ]
  },
  {
   "cell_type": "code",
   "execution_count": 12,
   "metadata": {
    "ExecuteTime": {
     "end_time": "2023-06-11T03:20:46.218337Z",
     "start_time": "2023-06-11T03:20:45.774805Z"
    }
   },
   "outputs": [
    {
     "data": {
      "image/png": "[encoded data removed]",
      "text/plain": [
       "<Figure size 1152x1080 with 3 Axes>"
      ]
     },
     "metadata": {
      "needs_background": "light"
     },
     "output_type": "display_data"
    }
   ],
   "source": [
    "# Построить карту дефектов для считанного файла\n",
    "# до всяких обработок\n",
    "fig, axes = plt.subplots(3)\n",
    "\n",
    "fig.set_figwidth(16)\n",
    "fig.set_figheight(15)\n",
    "\n",
    "axes[0].pcolormesh(test_res_0)\n",
    "axes[0].invert_yaxis()\n",
    "\n",
    "axes[0].set_xlabel('Номер датчика', fontsize=15) \n",
    "axes[0].set_ylabel('Номер измерения', fontsize=15) \n",
    "axes[0].set_title(f'Распределение частот анализа каждой точки для оригинального набора данных', fontsize=15) \n",
    "\n",
    "#  Устанавливаем интервал основных делений: \n",
    "axes[0].xaxis.set_major_locator(ticker.MultipleLocator(20)) \n",
    "axes[0].yaxis.set_major_locator(ticker.MultipleLocator(15)) \n",
    " \n",
    "#  Устанавливаем форматирование чисел основных делений: \n",
    "axes[0].xaxis.set_major_formatter(ticker.FormatStrFormatter('%.d')) \n",
    "axes[0].yaxis.set_major_formatter(ticker.FormatStrFormatter('%.d')) \n",
    " \n",
    "#  Устанавливаем форматирование делений: \n",
    "axes[0].xaxis.set_tick_params(which = 'major', labelsize = 15, labelrotation = 45) \n",
    "axes[0].yaxis.set_tick_params(which = 'major', labelsize = 15) \n",
    "\n",
    "##############################################################################################\n",
    "\n",
    "axes[1].pcolormesh(test_res_1)\n",
    "axes[1].invert_yaxis()\n",
    "\n",
    "axes[1].set_xlabel('Номер датчика', fontsize=15) \n",
    "axes[1].set_ylabel('Номер измерения', fontsize=15) \n",
    "axes[1].set_title(f'Распределение частот анализа каждой точки для расширенного набора данных', fontsize=15) \n",
    "\n",
    "#  Устанавливаем интервал основных делений: \n",
    "axes[1].xaxis.set_major_locator(ticker.MultipleLocator(20)) \n",
    "axes[1].yaxis.set_major_locator(ticker.MultipleLocator(15)) \n",
    " \n",
    "#  Устанавливаем форматирование чисел основных делений: \n",
    "axes[1].xaxis.set_major_formatter(ticker.FormatStrFormatter('%.d')) \n",
    "axes[1].yaxis.set_major_formatter(ticker.FormatStrFormatter('%.d')) \n",
    " \n",
    "#  Устанавливаем форматирование делений: \n",
    "axes[1].xaxis.set_tick_params(which = 'major', labelsize = 15, labelrotation = 45) \n",
    "axes[1].yaxis.set_tick_params(which = 'major', labelsize = 15) \n",
    "\n",
    "##############################################################################################\n",
    "\n",
    "axes[2].pcolormesh(test_res_2)\n",
    "axes[2].invert_yaxis()\n",
    "\n",
    "axes[2].set_xlabel('Номер датчика', fontsize=15) \n",
    "axes[2].set_ylabel('Номер измерения', fontsize=15) \n",
    "axes[2].set_title(f'Распределение частот анализа каждой точки для расширенного набора данных', fontsize=15) \n",
    "\n",
    "#  Устанавливаем интервал основных делений: \n",
    "axes[2].xaxis.set_major_locator(ticker.MultipleLocator(20)) \n",
    "axes[2].yaxis.set_major_locator(ticker.MultipleLocator(15)) \n",
    " \n",
    "#  Устанавливаем форматирование чисел основных делений: \n",
    "axes[2].xaxis.set_major_formatter(ticker.FormatStrFormatter('%.d')) \n",
    "axes[2].yaxis.set_major_formatter(ticker.FormatStrFormatter('%.d')) \n",
    " \n",
    "#  Устанавливаем форматирование делений: \n",
    "axes[2].xaxis.set_tick_params(which = 'major', labelsize = 15, labelrotation = 45) \n",
    "axes[2].yaxis.set_tick_params(which = 'major', labelsize = 15) \n",
    "\n",
    "plt.subplots_adjust(left=0, bottom=0, right=1, top=1, wspace=0.1, hspace=0.3)\n",
    "\n",
    "plt.show()"
   ]
  },
  {
   "cell_type": "markdown",
   "metadata": {
    "id": "M3IDwA8GQbEP"
   },
   "source": [
    "# Загрузка данных"
   ]
  },
  {
   "cell_type": "code",
   "execution_count": 13,
   "metadata": {
    "ExecuteTime": {
     "end_time": "2023-06-11T03:20:49.585855Z",
     "start_time": "2023-06-11T03:20:46.219337Z"
    },
    "id": "opRWBSZpQbEP"
   },
   "outputs": [],
   "source": [
    "# загрузка данных из файлов\n",
    "X_dict = dict()\n",
    "Y_dict = dict()\n",
    "\n",
    "X_dict['df'] =  dp.get_array_like_X_df(path_to_array_like_X_data)#.iloc[:,200:]\n",
    "Y_dict['df'] =  dp.get_Y_df(path_to_Y_data)#.iloc[:,:200]\n",
    "\n",
    "# По желанию сдвиг по оси у\n",
    "#shift = 100\n",
    "\n",
    "#X_dict['df'] = pd.concat([X_dict['df'].iloc[:,shift:],X_dict['df'].iloc[:,:shift]],axis=1,ignore_index=True)\n",
    "#Y_dict['df'] = pd.concat([Y_dict['df'].iloc[:,shift:],Y_dict['df'].iloc[:,:shift]],axis=1,ignore_index=True)"
   ]
  },
  {
   "cell_type": "code",
   "execution_count": 14,
   "metadata": {
    "ExecuteTime": {
     "end_time": "2023-06-11T03:20:49.601962Z",
     "start_time": "2023-06-11T03:20:49.587856Z"
    }
   },
   "outputs": [],
   "source": [
    "# Запишем размеры датафреймов до обработки\n",
    "ORIG_df_cols = Y_dict['df'].shape[1]\n",
    "ORIG_df_rows = Y_dict['df'].shape[0]"
   ]
  },
  {
   "cell_type": "markdown",
   "metadata": {},
   "source": [
    "### Оригинальная развернутая карта дефектов"
   ]
  },
  {
   "cell_type": "code",
   "execution_count": 15,
   "metadata": {
    "ExecuteTime": {
     "end_time": "2023-06-11T03:20:49.728325Z",
     "start_time": "2023-06-11T03:20:49.602962Z"
    }
   },
   "outputs": [
    {
     "data": {
      "image/png": "[encoded data removed]",
      "text/plain": [
       "<Figure size 1296x432 with 1 Axes>"
      ]
     },
     "metadata": {
      "needs_background": "light"
     },
     "output_type": "display_data"
    }
   ],
   "source": [
    "# Построить карту дефектов для считанного файла\n",
    "# до всяких обработок\n",
    "fig, axes = plt.subplots()\n",
    "\n",
    "fig.set_figwidth(18)\n",
    "fig.set_figheight(6)\n",
    "\n",
    "axes.pcolormesh(Y_dict['df'])\n",
    "axes.invert_yaxis()\n",
    "\n",
    "axes.set_xlabel('Номер датчика', fontsize=15) \n",
    "axes.set_ylabel('Номер измерения', fontsize=15) \n",
    "axes.set_title(f'Развернутая карта дефектов', fontsize=15) \n",
    "\n",
    "#  Устанавливаем интервал основных делений: \n",
    "axes.xaxis.set_major_locator(ticker.MultipleLocator(20)) \n",
    "axes.yaxis.set_major_locator(ticker.MultipleLocator(15)) \n",
    " \n",
    "#  Устанавливаем форматирование чисел основных делений: \n",
    "axes.xaxis.set_major_formatter(ticker.FormatStrFormatter('%.d')) \n",
    "axes.yaxis.set_major_formatter(ticker.FormatStrFormatter('%.d')) \n",
    " \n",
    "#  Устанавливаем форматирование делений: \n",
    "axes.xaxis.set_tick_params(which = 'major', labelsize = 15, labelrotation = 45) \n",
    "axes.yaxis.set_tick_params(which = 'major', labelsize = 15) \n",
    "\n",
    "plt.show()"
   ]
  },
  {
   "cell_type": "markdown",
   "metadata": {},
   "source": [
    "# Обработка данных"
   ]
  },
  {
   "cell_type": "code",
   "execution_count": 16,
   "metadata": {
    "ExecuteTime": {
     "end_time": "2023-06-11T03:20:49.744332Z",
     "start_time": "2023-06-11T03:20:49.729326Z"
    }
   },
   "outputs": [
    {
     "name": "stdout",
     "output_type": "stream",
     "text": [
      "||||||||||| X df preprocessing |||||||||||\n",
      "||||||||||||||||||\n",
      "Df extending for better prediction\n",
      "Original df size:  (119, 400)\n",
      "Crop windows height/width:  64\n",
      "Crop windows step across rows and cols:  5\n",
      "New df shape:  (245, 526)\n",
      "||||||||||||||||||\n",
      "\n",
      "||||||||||||||||||\n",
      "Df reshaping for exact splitting with crop_size\n",
      "Original df size:  (245, 526)\n",
      "Crop windows height/width:  64\n",
      "Crop windows step across rows and cols:  5\n",
      "New df shape:  (249, 529)\n",
      "||||||||||||||||||\n",
      "\n",
      "||||||||||| Y df preprocessing |||||||||||\n",
      "||||||||||||||||||\n",
      "Df extending for better prediction\n",
      "Original df size:  (119, 400)\n",
      "Crop windows height/width:  64\n",
      "Crop windows step across rows and cols:  5\n",
      "New df shape:  (245, 526)\n",
      "||||||||||||||||||\n",
      "\n",
      "||||||||||||||||||\n",
      "Df reshaping for exact splitting with crop_size\n",
      "Original df size:  (245, 526)\n",
      "Crop windows height/width:  64\n",
      "Crop windows step across rows and cols:  5\n",
      "New df shape:  (249, 529)\n",
      "||||||||||||||||||\n",
      "\n"
     ]
    }
   ],
   "source": [
    "# Добавление строк в датафреймы\n",
    "# Справа к каждому датафрейму дописывается по 64\n",
    "# элемента, чтобы сымитировать сканирование \n",
    "# трубы по всей окружности фильтром размера 64 на 64\n",
    "# а еще дописывается некоторое количество строк и столбцов\n",
    "# меньшее чем шаг кропа. Чтобы датафрейм можно было поделить\n",
    "# на целое кол-во кропов\n",
    "\n",
    "print('||||||||||| X df preprocessing |||||||||||')\n",
    "#X_dict['df'] = dp.reshape_df_for_future_crops(X_dict['df'], PREP_image_size, PREP_crop_step)\n",
    "X_dict['df'] = extend_df_for_prediction_2(X_dict['df'], PREP_image_size, PREP_crop_step)\n",
    "\n",
    "print('||||||||||| Y df preprocessing |||||||||||')\n",
    "#Y_dict['df'] = dp.reshape_df_for_future_crops(Y_dict['df'], PREP_image_size, PREP_crop_step)\n",
    "Y_dict['df'] = extend_df_for_prediction_2(Y_dict['df'], PREP_image_size, PREP_crop_step)"
   ]
  },
  {
   "cell_type": "markdown",
   "metadata": {},
   "source": [
    "### Константы для обработки данных"
   ]
  },
  {
   "cell_type": "code",
   "execution_count": 17,
   "metadata": {
    "ExecuteTime": {
     "end_time": "2023-06-11T03:20:49.759733Z",
     "start_time": "2023-06-11T03:20:49.745333Z"
    }
   },
   "outputs": [],
   "source": [
    "# Запишем размеры датафреймов после обработки\n",
    "PREP_df_cols = Y_dict['df'].shape[1]\n",
    "PREP_df_rows = Y_dict['df'].shape[0]"
   ]
  },
  {
   "cell_type": "markdown",
   "metadata": {},
   "source": [
    "### Расширенная развернутая карта дефектов"
   ]
  },
  {
   "cell_type": "code",
   "execution_count": 18,
   "metadata": {
    "ExecuteTime": {
     "end_time": "2023-06-11T03:20:49.933772Z",
     "start_time": "2023-06-11T03:20:49.760733Z"
    }
   },
   "outputs": [
    {
     "data": {
      "image/png": "[encoded data removed]",
      "text/plain": [
       "<Figure size 1296x432 with 1 Axes>"
      ]
     },
     "metadata": {
      "needs_background": "light"
     },
     "output_type": "display_data"
    }
   ],
   "source": [
    "# Выведем карту дефектов после первичного расширения\n",
    "fig, axes = plt.subplots()\n",
    "\n",
    "fig.set_figwidth(18)\n",
    "fig.set_figheight(6)\n",
    "\n",
    "axes.pcolormesh(Y_dict['df'])\n",
    "axes.invert_yaxis()\n",
    "axes.set_xlabel('Номер датчика', fontsize=15) \n",
    "axes.set_ylabel('Номер измерения', fontsize=15) \n",
    "axes.set_title(f'Расширенная развернутая карта дефектов', fontsize=15) \n",
    "\n",
    "#  Устанавливаем интервал основных делений: \n",
    "axes.xaxis.set_major_locator(ticker.MultipleLocator(20)) \n",
    "axes.yaxis.set_major_locator(ticker.MultipleLocator(15)) \n",
    " \n",
    "#  Устанавливаем форматирование чисел основных делений: \n",
    "axes.xaxis.set_major_formatter(ticker.FormatStrFormatter('%.d')) \n",
    "axes.yaxis.set_major_formatter(ticker.FormatStrFormatter('%.d')) \n",
    " \n",
    "#  Устанавливаем форматирование делений: \n",
    "axes.xaxis.set_tick_params(which = 'major', labelsize = 15, labelrotation = 45) \n",
    "axes.yaxis.set_tick_params(which = 'major', labelsize = 15) \n",
    "\n",
    "plt.show()"
   ]
  },
  {
   "cell_type": "code",
   "execution_count": 19,
   "metadata": {
    "ExecuteTime": {
     "end_time": "2023-06-11T03:21:18.924685Z",
     "start_time": "2023-06-11T03:20:49.934771Z"
    },
    "colab": {
     "base_uri": "https://localhost:8080/"
    },
    "id": "fJMMLFK0QbES",
    "outputId": "564394aa-ab18-4de9-d21c-7482739bfe19"
   },
   "outputs": [
    {
     "name": "stdout",
     "output_type": "stream",
     "text": [
      "||||||||||| X df preprocessing |||||||||||\n",
      "||||||||||||||||||\n",
      "X df reshaping to 4D\n",
      "Original df size:  (245, 526)\n",
      "Crop windows height/width:  64\n",
      "Crop windows step across rows and cols:  5\n",
      "New X_time shape:  (3441, 64, 64, 32)\n",
      "New X_amp shape:  (3441, 64, 64, 32)\n",
      "||||||||||||||||||\n",
      "\n",
      "\n"
     ]
    }
   ],
   "source": [
    "# Запишем в словарь numpy array нарезанные из считанных датафреймов\n",
    "\n",
    "print('||||||||||| X df preprocessing |||||||||||')\n",
    "x_time_temp, \\\n",
    "x_amp_temp = dp.reshape_X_df_to_image_like_numpy(X_dict['df'], \n",
    "                                                    PREP_image_size, \n",
    "                                                    PREP_crop_step)\n",
    "X_dict['X_time_all'] = x_time_temp.astype('float32')\n",
    "X_dict['X_amp_all'] = x_amp_temp.astype('float32')\n",
    "\n",
    "X_dict.pop('df',0)\n",
    "print()"
   ]
  },
  {
   "cell_type": "code",
   "execution_count": 20,
   "metadata": {
    "ExecuteTime": {
     "end_time": "2023-06-11T03:21:18.972696Z",
     "start_time": "2023-06-11T03:21:18.938688Z"
    }
   },
   "outputs": [
    {
     "name": "stdout",
     "output_type": "stream",
     "text": [
      "|||||||||||||| X dataset ||||||||||||||||\n",
      "X_time_all.shape:  (3441, 64, 64, 32)\n",
      "X_amp_all.shape:  (3441, 64, 64, 32)\n",
      "\n",
      "|||||||||||||| Y dataset ||||||||||||||||\n",
      "df.shape:  (245, 526)\n"
     ]
    }
   ],
   "source": [
    "# что есть на данный момент\n",
    "\n",
    "print('|||||||||||||| X dataset ||||||||||||||||')\n",
    "for key in X_dict.keys():\n",
    "    print(f\"{key}.shape: \", X_dict[key].shape)\n",
    "\n",
    "print('\\n|||||||||||||| Y dataset ||||||||||||||||')\n",
    "for key in Y_dict.keys():\n",
    "    print(f\"{key}.shape: \", Y_dict[key].shape)"
   ]
  },
  {
   "cell_type": "code",
   "execution_count": 21,
   "metadata": {
    "ExecuteTime": {
     "end_time": "2023-06-11T03:21:23.869759Z",
     "start_time": "2023-06-11T03:21:18.975697Z"
    }
   },
   "outputs": [
    {
     "name": "stdout",
     "output_type": "stream",
     "text": [
      "|||||||||||||| X dataset ||||||||||||||||\n",
      "|||||||||||||| dataset part: X_time_all||||||||||||||||\n",
      "||||||||||||||||||\n",
      "Data normalizing\n",
      "arr_max before normalization: 44.400001525878906\n",
      "arr_max after normalization: 1.0\n",
      "arr_min after normalization: 0.0\n",
      "||||||||||||||||||\n",
      "|||||||||||||| dataset part: X_amp_all||||||||||||||||\n",
      "||||||||||||||||||\n",
      "Data normalizing\n",
      "arr_max before normalization: 62.992000579833984\n",
      "arr_max after normalization: 1.0\n",
      "arr_min after normalization: -0.9919037222862244\n",
      "||||||||||||||||||\n"
     ]
    }
   ],
   "source": [
    "# нормализация данных\n",
    "\n",
    "print('|||||||||||||| X dataset ||||||||||||||||')\n",
    "for key in X_dict.keys():\n",
    "    print(f\"|||||||||||||| dataset part: {key}||||||||||||||||\")\n",
    "    X_dict[key] = dp.normalize_data(X_dict[key])"
   ]
  },
  {
   "cell_type": "code",
   "execution_count": 22,
   "metadata": {
    "ExecuteTime": {
     "end_time": "2023-06-11T03:21:23.932773Z",
     "start_time": "2023-06-11T03:21:23.895766Z"
    }
   },
   "outputs": [
    {
     "name": "stdout",
     "output_type": "stream",
     "text": [
      "\n"
     ]
    }
   ],
   "source": [
    "# объединение данных в тестовую выборку\n",
    "\n",
    "X_time_test = X_dict['X_time_all']                              \n",
    "X_dict.pop('X_time_all',0)\n",
    "\n",
    "\n",
    "X_amp_test = X_dict['X_amp_all']\n",
    "X_dict.pop('X_amp_all',0)\n",
    "\n",
    "print()"
   ]
  },
  {
   "cell_type": "code",
   "execution_count": 23,
   "metadata": {
    "ExecuteTime": {
     "end_time": "2023-06-11T03:21:23.948777Z",
     "start_time": "2023-06-11T03:21:23.935774Z"
    }
   },
   "outputs": [],
   "source": [
    "# очистка памяти от лишнего   \n",
    "\n",
    "X_dict.clear()\n",
    "Y_dict.clear()"
   ]
  },
  {
   "cell_type": "code",
   "execution_count": 24,
   "metadata": {
    "ExecuteTime": {
     "end_time": "2023-06-11T03:21:23.964781Z",
     "start_time": "2023-06-11T03:21:23.952778Z"
    }
   },
   "outputs": [
    {
     "name": "stdout",
     "output_type": "stream",
     "text": [
      "X_time_test.shape:  (3441, 64, 64, 32)\n",
      "X_amp_test.shape:  (3441, 64, 64, 32)\n",
      "\n",
      "\n"
     ]
    }
   ],
   "source": [
    "# сколько получилось тестовых данных\n",
    "print('X_time_test.shape: ', X_time_test.shape)\n",
    "print('X_amp_test.shape: ', X_amp_test.shape)\n",
    "print('\\n')"
   ]
  },
  {
   "cell_type": "markdown",
   "metadata": {},
   "source": [
    "# CNN с 2 входами по времени и амплитуде"
   ]
  },
  {
   "cell_type": "markdown",
   "metadata": {},
   "source": [
    "### Функции для дешифровки результатов"
   ]
  },
  {
   "cell_type": "code",
   "execution_count": 25,
   "metadata": {
    "ExecuteTime": {
     "end_time": "2023-06-11T03:21:23.996788Z",
     "start_time": "2023-06-11T03:21:23.967781Z"
    }
   },
   "outputs": [],
   "source": [
    "# Преобразовать массив результатов работы модели размера (batch,1)\n",
    "# в матрицу размера PREP_df_rows * PREP_df_cols (карту дефектов, построенную моделью)\n",
    "# Размер выходной матрицы - PREP_df_rows * PREP_df_cols\n",
    "# Так как начальное расширение датафрейма на PREP_image_size по 2 осям\n",
    "# тут учитывается грубо, то размер выходной матрицы будет также\n",
    "# PREP_df_rows * PREP_df_cols, а ячейки по конрутру будут размыты \n",
    "# и не точны, так как по ним фильтр прошел меньше раз чем по ячейкам \n",
    "# посреди матрицы\n",
    "\n",
    "def reshape_2D_Y_numpy_to_2D_0_0(arr, rows_count, cols_count, crop_size, step = -1):\n",
    "\n",
    "    print('||||||||||||||||||')\n",
    "    print('Y arr reshaping to 2D')\n",
    "    print('Original arr size: ', arr.shape)\n",
    "    print('Crop windows height/width: ', crop_size)\n",
    "    print('Crop windows step across rows and cols: ', step)\n",
    "\n",
    "    if step == -1:\n",
    "        step = crop_size\n",
    "    \n",
    "    new_arr = np.zeros((rows_count, cols_count))\n",
    "    \n",
    "    arr = arr[:,0]\n",
    "    myit = iter(arr)    \n",
    "    \n",
    "    for j in range(0,  cols_count - crop_size + 1, step):\n",
    "        for i in range(0, rows_count - crop_size + 1, step):\n",
    "            temp_add = next(myit)\n",
    "            temp_orig = new_arr[i:i+crop_size,j:j+crop_size]\n",
    "            \n",
    "            if temp_add > 0.5:\n",
    "                temp_orig = temp_orig + temp_add\n",
    "            if temp_add <= 0.5:\n",
    "                temp_orig = temp_orig - temp_add\n",
    "            \n",
    "            new_arr[i:i+crop_size,j:j+crop_size] = temp_orig       \n",
    "            \n",
    "    print('New numpy shape: ', new_arr.shape)\n",
    "    print('||||||||||||||||||\\n')\n",
    "\n",
    "    return new_arr"
   ]
  },
  {
   "cell_type": "code",
   "execution_count": 26,
   "metadata": {
    "ExecuteTime": {
     "end_time": "2023-06-11T03:21:24.012319Z",
     "start_time": "2023-06-11T03:21:23.998788Z"
    }
   },
   "outputs": [],
   "source": [
    "# Преобразовать массив результатов работы модели размера (batch,1)\n",
    "# в матрицу размера PREP_df_rows * PREP_df_cols (карту дефектов, построенную моделью)\n",
    "# Размер выходной матрицы - PREP_df_rows * PREP_df_cols\n",
    "# Так как начальное расширение датафрейма на PREP_image_size по 2 осям\n",
    "# тут учитывается грубо, то размер выходной матрицы будет также\n",
    "# PREP_df_rows * PREP_df_cols, а ячейки по конрутру будут размыты \n",
    "# и не точны, так как по ним фильтр прошел меньше раз чем по ячейкам \n",
    "# посреди матрицы\n",
    "\n",
    "def reshape_2D_Y_numpy_to_2D_0_1(arr, rows_count, cols_count, crop_size, step = -1):\n",
    "\n",
    "    print('||||||||||||||||||')\n",
    "    print('Y arr reshaping to 2D')\n",
    "    print('Original arr size: ', arr.shape)\n",
    "    print('Crop windows height/width: ', crop_size)\n",
    "    print('Crop windows step across rows and cols: ', step)\n",
    "\n",
    "    if step == -1:\n",
    "        step = crop_size\n",
    "    \n",
    "    new_arr = np.ones((rows_count, cols_count))\n",
    "    \n",
    "    arr = arr[:,0]\n",
    "    myit = iter(arr)    \n",
    "    \n",
    "    for j in range(0,  cols_count - crop_size + 1, step):\n",
    "        for i in range(0, rows_count - crop_size + 1, step):\n",
    "            temp_add = next(myit)\n",
    "            temp_orig = new_arr[i:i+crop_size,j:j+crop_size]\n",
    "            \n",
    "            if temp_add > 0.5:\n",
    "                temp_orig = temp_orig * 1.1\n",
    "            if temp_add <= 0.5:\n",
    "                temp_orig = temp_orig / 1.1\n",
    "            \n",
    "            new_arr[i:i+crop_size,j:j+crop_size] = temp_orig       \n",
    "            \n",
    "    print('New numpy shape: ', new_arr.shape)\n",
    "    print('||||||||||||||||||\\n')\n",
    "\n",
    "    return new_arr"
   ]
  },
  {
   "cell_type": "code",
   "execution_count": 27,
   "metadata": {
    "ExecuteTime": {
     "end_time": "2023-06-11T03:21:24.027799Z",
     "start_time": "2023-06-11T03:21:24.014796Z"
    }
   },
   "outputs": [],
   "source": [
    "# Преобразовать массив результатов работы модели размера (batch,1)\n",
    "# в матрицу размера PREP_df_rows * PREP_df_cols (карту дефектов, построенную моделью)\n",
    "# Размер выходной матрицы - PREP_df_rows * PREP_df_cols\n",
    "# Так как начальное расширение датафрейма на PREP_image_size по 2 осям\n",
    "# тут учитывается грубо, то размер выходной матрицы будет также\n",
    "# PREP_df_rows * PREP_df_cols, а ячейки по конрутру будут размыты \n",
    "# и не точны, так как по ним фильтр прошел меньше раз чем по ячейкам \n",
    "# посреди матрицы\n",
    "\n",
    "def reshape_2D_Y_numpy_to_2D_0_2(arr, rows_count, cols_count, crop_size, step = -1):\n",
    "\n",
    "    print('||||||||||||||||||')\n",
    "    print('Y arr reshaping to 2D')\n",
    "    print('Original arr size: ', arr.shape)\n",
    "    print('Crop windows height/width: ', crop_size)\n",
    "    print('Crop windows step across rows and cols: ', step)\n",
    "\n",
    "    if step == -1:\n",
    "        step = crop_size\n",
    "    \n",
    "    new_arr = np.ones((rows_count, cols_count))\n",
    "    \n",
    "    arr = arr[:,0]\n",
    "    myit = iter(arr)    \n",
    "    \n",
    "    for j in range(0,  cols_count - crop_size + 1, step):\n",
    "        for i in range(0, rows_count - crop_size + 1, step):\n",
    "            temp_add = next(myit)\n",
    "            temp_orig = new_arr[i:i+crop_size,j:j+crop_size]\n",
    "            \n",
    "            if temp_add > 0.5:\n",
    "                temp_orig = temp_orig ** (1.1)\n",
    "            if temp_add <= 0.5:\n",
    "                temp_orig = temp_orig / 2\n",
    "            \n",
    "            new_arr[i:i+crop_size,j:j+crop_size] = temp_orig       \n",
    "            \n",
    "    print('New numpy shape: ', new_arr.shape)\n",
    "    print('||||||||||||||||||\\n')\n",
    "\n",
    "    return new_arr"
   ]
  },
  {
   "cell_type": "code",
   "execution_count": 28,
   "metadata": {
    "ExecuteTime": {
     "end_time": "2023-06-11T03:21:24.058806Z",
     "start_time": "2023-06-11T03:21:24.031800Z"
    }
   },
   "outputs": [],
   "source": [
    "# Преобразовать массив результатов работы модели размера (batch,1)\n",
    "# Так как начальное расширение датафрейма на crop_size по 2 осям\n",
    "\n",
    "def reshape_2D_Y_numpy_to_2D_1_0(arr, rows_count, cols_count, crop_size, step = -1):\n",
    "\n",
    "    print('||||||||||||||||||')\n",
    "    print('Y arr reshaping to 2D')\n",
    "    print('Crops arr size: ', arr.shape)\n",
    "    print('Crop windows height/width: ', crop_size)\n",
    "    print('Crop windows step across rows and cols: ', step)\n",
    "    print(f'Expanded map size: ({rows_count},{cols_count})')\n",
    "    print()\n",
    "\n",
    "    new_rows = rows_count - crop_size + 1\n",
    "    new_cols = cols_count - crop_size + 1\n",
    "    \n",
    "    new_arr = np.zeros((new_rows,new_cols))\n",
    "    \n",
    "    arr = arr[:,0]\n",
    "    myit = iter(arr)    \n",
    "    \n",
    "    for j in range(0,  cols_count - crop_size + 1, step):\n",
    "        for i in range(0, rows_count - crop_size + 1, step):\n",
    "            temp_add_num = next(myit)\n",
    "            if temp_add_num > 0.5:\n",
    "                add_num = 0.1\n",
    "            if temp_add_num <= 0.5:\n",
    "                add_num = - 0.1\n",
    "\n",
    "            if i <= new_rows - crop_size:\n",
    "                if j <= new_cols - crop_size:\n",
    "                    temp_orig = new_arr[i:i+crop_size,j:j+crop_size] + add_num\n",
    "                    new_arr[i:i+crop_size,j:j+crop_size] = temp_orig  \n",
    "                elif j <= new_cols:\n",
    "                    right_orig = new_arr[i:i+crop_size,j:] + add_num\n",
    "                    left_orig = new_arr[i:i+crop_size,:crop_size - right_orig.shape[1]] + add_num\n",
    "                    new_arr[i:i+crop_size,j:] = right_orig\n",
    "                    new_arr[i:i+crop_size,:crop_size - right_orig.shape[1]] = left_orig\n",
    "\n",
    "            elif i <= new_rows:\n",
    "                if j <= new_cols - crop_size:\n",
    "                    low_orig = new_arr[i:,j:j+crop_size] + add_num\n",
    "                    high_orig = new_arr[:crop_size - low_orig.shape[0],j:j+crop_size] + add_num\n",
    "                    new_arr[i:,j:j+crop_size] = low_orig \n",
    "                    new_arr[:crop_size - low_orig.shape[0],j:j+crop_size] = high_orig \n",
    "                elif j <= new_cols:\n",
    "                    right_low = new_arr[i:,j:] + add_num\n",
    "                    right_high = new_arr[:crop_size - low_orig.shape[0],j:] + add_num\n",
    "                    \n",
    "                    left_low = new_arr[i:,:crop_size - right_high.shape[1]] + add_num\n",
    "                    left_high = new_arr[:crop_size - low_orig.shape[0],:crop_size - right_high.shape[1]] + add_num\n",
    "                    \n",
    "                    new_arr[i:,j:] = right_low\n",
    "                    new_arr[:crop_size - low_orig.shape[0],j:] = right_high\n",
    "                    new_arr[i:,:crop_size - right_high.shape[1]] = left_low\n",
    "                    new_arr[:crop_size - low_orig.shape[0],:crop_size - right_high.shape[1]] = left_high\n",
    "                          \n",
    "            \n",
    "    print('New numpy shape: ', new_arr.shape)\n",
    "    print('||||||||||||||||||\\n')\n",
    "\n",
    "    return new_arr"
   ]
  },
  {
   "cell_type": "code",
   "execution_count": 29,
   "metadata": {
    "ExecuteTime": {
     "end_time": "2023-06-11T03:21:24.074312Z",
     "start_time": "2023-06-11T03:21:24.061309Z"
    }
   },
   "outputs": [],
   "source": [
    "# Преобразовать массив результатов работы модели размера (batch,1)\n",
    "# в матрицу размера PREP_df_rows * PREP_df_cols (карту дефектов, построенную моделью)\n",
    "# Размер выходной матрицы - PREP_df_rows * PREP_df_cols\n",
    "# Так как начальное расширение датафрейма на PREP_image_size по 2 осям\n",
    "# тут учитывается грубо, то размер выходной матрицы будет также\n",
    "# PREP_df_rows * PREP_df_cols, а ячейки по конрутру будут размыты \n",
    "# и не точны, так как по ним фильтр прошел меньше раз чем по ячейкам \n",
    "# посреди матрицы\n",
    "\n",
    "# y = x + k\n",
    "def reshape_2D_Y_numpy_to_2D_2_0(arr, orig_rows_count, orig_cols_count,\n",
    "                                    result_rows_count, result_cols_count, \n",
    "                                    crop_size, step = -1):\n",
    "\n",
    "    print('||||||||||||||||||')\n",
    "    print('Y arr reshaping to 2D')\n",
    "    print('Crop windows height/width: ', crop_size)\n",
    "    print('Crop windows step across rows and cols: ', step)\n",
    "\n",
    "    if step == -1:\n",
    "        step = crop_size\n",
    "    \n",
    "    new_arr = np.zeros((result_rows_count, result_cols_count))\n",
    "      \n",
    "    arr = arr[:,0]\n",
    "    myit = iter(arr)    \n",
    "        \n",
    "    for j in range(0,  result_cols_count - crop_size + 1, step):\n",
    "        for i in range(0, result_rows_count - crop_size + 1, step):\n",
    "            temp_add = next(myit)\n",
    "            temp_orig = new_arr[i:i+crop_size,j:j+crop_size]\n",
    "            \n",
    "            if temp_add > 0.5:\n",
    "                temp_orig = temp_orig + temp_add\n",
    "            if temp_add <= 0.5:\n",
    "                temp_orig = temp_orig - temp_add\n",
    "            \n",
    "            new_arr[i:i+crop_size,j:j+crop_size] = temp_orig       \n",
    "    \n",
    "\n",
    "    left_up_border = crop_size - 1\n",
    "    right_border = result_cols_count - (result_cols_count - orig_cols_count) + 1\n",
    "    bottom_border = result_rows_count - (result_rows_count - orig_rows_count) + 1\n",
    "    \n",
    "    new_arr = new_arr[left_up_border:,left_up_border:][:orig_rows_count,:orig_cols_count]\n",
    "    \n",
    "    print('New numpy shape: ', new_arr.shape)\n",
    "    print('||||||||||||||||||\\n')\n",
    "    \n",
    "    return new_arr"
   ]
  },
  {
   "cell_type": "code",
   "execution_count": 30,
   "metadata": {
    "ExecuteTime": {
     "end_time": "2023-06-11T03:21:24.089315Z",
     "start_time": "2023-06-11T03:21:24.076312Z"
    }
   },
   "outputs": [],
   "source": [
    "# Преобразовать массив результатов работы модели размера (batch,1)\n",
    "# в матрицу размера PREP_df_rows * PREP_df_cols (карту дефектов, построенную моделью)\n",
    "# Размер выходной матрицы - PREP_df_rows * PREP_df_cols\n",
    "# Так как начальное расширение датафрейма на PREP_image_size по 2 осям\n",
    "# тут учитывается грубо, то размер выходной матрицы будет также\n",
    "# PREP_df_rows * PREP_df_cols, а ячейки по конрутру будут размыты \n",
    "# и не точны, так как по ним фильтр прошел меньше раз чем по ячейкам \n",
    "# посреди матрицы\n",
    "\n",
    "# y = kx\n",
    "def reshape_2D_Y_numpy_to_2D_2_1(arr, orig_rows_count, orig_cols_count,\n",
    "                                    result_rows_count, result_cols_count, \n",
    "                                    crop_size, step = -1):\n",
    "\n",
    "    print('||||||||||||||||||')\n",
    "    print('Y arr reshaping to 2D')\n",
    "    print('Crop windows height/width: ', crop_size)\n",
    "    print('Crop windows step across rows and cols: ', step)\n",
    "\n",
    "    if step == -1:\n",
    "        step = crop_size\n",
    "    \n",
    "    new_arr = np.ones((result_rows_count, result_cols_count)).astype('float32')\n",
    "      \n",
    "    arr = arr[:,0]\n",
    "    myit = iter(arr)    \n",
    "        \n",
    "    for j in range(0,  result_cols_count - crop_size + 1, step):\n",
    "        for i in range(0, result_rows_count - crop_size + 1, step):\n",
    "            temp_add = next(myit)\n",
    "            temp_orig = new_arr[i:i+crop_size,j:j+crop_size]\n",
    "            \n",
    "            if temp_add > 0.5:\n",
    "                temp_orig = temp_orig * 1.1\n",
    "            if temp_add <= 0.5:\n",
    "                temp_orig = temp_orig / 1.1\n",
    "            \n",
    "            new_arr[i:i+crop_size,j:j+crop_size] = temp_orig       \n",
    "    \n",
    "\n",
    "    left_up_border = crop_size - 1\n",
    "    right_border = result_cols_count - (result_cols_count - orig_cols_count) + 1\n",
    "    bottom_border = result_rows_count - (result_rows_count - orig_rows_count) + 1\n",
    "    \n",
    "    new_arr = new_arr[left_up_border:,left_up_border:][:orig_rows_count,:orig_cols_count]\n",
    "    \n",
    "    print('New numpy shape: ', new_arr.shape)\n",
    "    print('||||||||||||||||||\\n')\n",
    "    \n",
    "    return new_arr"
   ]
  },
  {
   "cell_type": "code",
   "execution_count": 31,
   "metadata": {
    "ExecuteTime": {
     "end_time": "2023-06-11T03:21:24.104319Z",
     "start_time": "2023-06-11T03:21:24.090316Z"
    }
   },
   "outputs": [],
   "source": [
    "# Преобразовать массив результатов работы модели размера (batch,1)\n",
    "# в матрицу размера PREP_df_rows * PREP_df_cols (карту дефектов, построенную моделью)\n",
    "# Размер выходной матрицы - PREP_df_rows * PREP_df_cols\n",
    "# Так как начальное расширение датафрейма на PREP_image_size по 2 осям\n",
    "# тут учитывается грубо, то размер выходной матрицы будет также\n",
    "# PREP_df_rows * PREP_df_cols, а ячейки по конрутру будут размыты \n",
    "# и не точны, так как по ним фильтр прошел меньше раз чем по ячейкам \n",
    "# посреди матрицы\n",
    "\n",
    "# y = kx\n",
    "def reshape_2D_Y_numpy_to_2D_2_2(arr, orig_rows_count, orig_cols_count,\n",
    "                                    result_rows_count, result_cols_count, \n",
    "                                    crop_size, step = -1):\n",
    "\n",
    "    print('||||||||||||||||||')\n",
    "    print('Y arr reshaping to 2D')\n",
    "    print('Crop windows height/width: ', crop_size)\n",
    "    print('Crop windows step across rows and cols: ', step)\n",
    "\n",
    "    if step == -1:\n",
    "        step = crop_size\n",
    "    \n",
    "    new_arr = np.ones((result_rows_count, result_cols_count)).astype('float32')\n",
    "      \n",
    "    arr = arr[:,0]\n",
    "    myit = iter(arr)    \n",
    "        \n",
    "    for j in range(0,  result_cols_count - crop_size + 1, step):\n",
    "        for i in range(0, result_rows_count - crop_size + 1, step):\n",
    "            temp_add = next(myit)\n",
    "            temp_orig = new_arr[i:i+crop_size,j:j+crop_size]\n",
    "            \n",
    "            if temp_add > 0.5:\n",
    "                temp_orig = temp_orig ** (1.1)\n",
    "            if temp_add <= 0.5:\n",
    "                temp_orig = temp_orig / 2\n",
    "            \n",
    "            new_arr[i:i+crop_size,j:j+crop_size] = temp_orig       \n",
    "    \n",
    "\n",
    "    left_up_border = crop_size - 1\n",
    "    right_border = result_cols_count - (result_cols_count - orig_cols_count) + 1\n",
    "    bottom_border = result_rows_count - (result_rows_count - orig_rows_count) + 1\n",
    "    \n",
    "    new_arr = new_arr[left_up_border:,left_up_border:][:orig_rows_count,:orig_cols_count]\n",
    "    \n",
    "    print('New numpy shape: ', new_arr.shape)\n",
    "    print('||||||||||||||||||\\n')\n",
    "    \n",
    "    return new_arr"
   ]
  },
  {
   "cell_type": "markdown",
   "metadata": {},
   "source": [
    "### Тестирование модели"
   ]
  },
  {
   "cell_type": "code",
   "execution_count": 32,
   "metadata": {
    "ExecuteTime": {
     "end_time": "2023-06-11T03:21:25.933745Z",
     "start_time": "2023-06-11T03:21:24.105319Z"
    }
   },
   "outputs": [],
   "source": [
    "# Загрузка модели\n",
    "model = keras.models.load_model('Networks//CNN//NetWork_(64x32+64x32)_to(1)_(test_0dot0366)_ver_10.h5')"
   ]
  },
  {
   "cell_type": "code",
   "execution_count": 33,
   "metadata": {
    "ExecuteTime": {
     "end_time": "2023-06-11T03:22:26.140977Z",
     "start_time": "2023-06-11T03:21:25.934745Z"
    }
   },
   "outputs": [
    {
     "name": "stdout",
     "output_type": "stream",
     "text": [
      "108/108 [==============================] - 60s 551ms/step\n",
      "(3441, 1)\n"
     ]
    }
   ],
   "source": [
    "# Предсказание модели\n",
    "res = model.predict([X_time_test, X_amp_test])\n",
    "print(res.shape)"
   ]
  },
  {
   "cell_type": "code",
   "execution_count": 34,
   "metadata": {
    "ExecuteTime": {
     "end_time": "2023-06-11T03:22:26.283511Z",
     "start_time": "2023-06-11T03:22:26.143977Z"
    }
   },
   "outputs": [
    {
     "name": "stdout",
     "output_type": "stream",
     "text": [
      "||||||||||||||||||\n",
      "Y arr reshaping to 2D\n",
      "Original arr size:  (3441, 1)\n",
      "Crop windows height/width:  64\n",
      "Crop windows step across rows and cols:  5\n",
      "New numpy shape:  (245, 526)\n",
      "||||||||||||||||||\n",
      "\n",
      "||||||||||||||||||\n",
      "Y arr reshaping to 2D\n",
      "Crop windows height/width:  64\n",
      "Crop windows step across rows and cols:  5\n",
      "New numpy shape:  (119, 400)\n",
      "||||||||||||||||||\n",
      "\n"
     ]
    }
   ],
   "source": [
    "# Посчитаем карту дефектов на основании предсказаний модели 2 методами\n",
    "map_0 = reshape_2D_Y_numpy_to_2D_0_0(res, \n",
    "                                     PREP_df_rows, PREP_df_cols, \n",
    "                                     PREP_image_size, PREP_crop_step)\n",
    "\n",
    "'''map_1 = reshape_2D_Y_numpy_to_2D_1_0(res, \n",
    "                                     PREP_df_rows, PREP_df_cols, \n",
    "                                     PREP_image_size, PREP_crop_step)'''\n",
    "\n",
    "map_2 = reshape_2D_Y_numpy_to_2D_2_0(res,\n",
    "                                   ORIG_df_rows, ORIG_df_cols,\n",
    "                                   PREP_df_rows, PREP_df_cols, \n",
    "                                   PREP_image_size, PREP_crop_step)"
   ]
  },
  {
   "cell_type": "markdown",
   "metadata": {},
   "source": [
    "# Построение карт дефектов моделью"
   ]
  },
  {
   "cell_type": "markdown",
   "metadata": {},
   "source": [
    "## Грубое построение карты"
   ]
  },
  {
   "cell_type": "code",
   "execution_count": 35,
   "metadata": {
    "ExecuteTime": {
     "end_time": "2023-06-11T03:22:26.502466Z",
     "start_time": "2023-06-11T03:22:26.284511Z"
    }
   },
   "outputs": [
    {
     "data": {
      "image/png": "[encoded data removed]",
      "text/plain": [
       "<Figure size 1296x432 with 1 Axes>"
      ]
     },
     "metadata": {
      "needs_background": "light"
     },
     "output_type": "display_data"
    }
   ],
   "source": [
    "fig, axes = plt.subplots()\n",
    "\n",
    "fig.set_figwidth(18)\n",
    "fig.set_figheight(6)\n",
    "\n",
    "axes.pcolormesh(map_0)\n",
    "axes.invert_yaxis()\n",
    "axes.set_xlabel('Номер датчика', fontsize=15) \n",
    "axes.set_ylabel('Номер измерения', fontsize=15) \n",
    "axes.set_title(f'Предсказанная развернутая карта дефектов', fontsize=15) \n",
    "\n",
    "#  Устанавливаем интервал основных делений: \n",
    "axes.xaxis.set_major_locator(ticker.MultipleLocator(20)) \n",
    "axes.yaxis.set_major_locator(ticker.MultipleLocator(15)) \n",
    " \n",
    "#  Устанавливаем форматирование чисел основных делений: \n",
    "axes.xaxis.set_major_formatter(ticker.FormatStrFormatter('%.d')) \n",
    "axes.yaxis.set_major_formatter(ticker.FormatStrFormatter('%.d')) \n",
    " \n",
    "#  Устанавливаем форматирование делений: \n",
    "axes.xaxis.set_tick_params(which = 'major', labelsize = 15, labelrotation = 45) \n",
    "axes.yaxis.set_tick_params(which = 'major', labelsize = 15) \n",
    "\n",
    "plt.subplots_adjust(left=0.1, bottom=0.1, right=0.9, top=0.9, wspace=0.1, hspace=0.2)\n",
    "plt.show()"
   ]
  },
  {
   "cell_type": "markdown",
   "metadata": {},
   "source": [
    "## Умное построение карты"
   ]
  },
  {
   "cell_type": "code",
   "execution_count": 36,
   "metadata": {
    "ExecuteTime": {
     "end_time": "2023-06-11T03:22:26.634552Z",
     "start_time": "2023-06-11T03:22:26.503466Z"
    }
   },
   "outputs": [
    {
     "data": {
      "image/png": "[encoded data removed]",
      "text/plain": [
       "<Figure size 1296x432 with 1 Axes>"
      ]
     },
     "metadata": {
      "needs_background": "light"
     },
     "output_type": "display_data"
    }
   ],
   "source": [
    "fig, axes = plt.subplots()\n",
    "\n",
    "fig.set_figwidth(18)\n",
    "fig.set_figheight(6)\n",
    "\n",
    "axes.pcolormesh(map_2)\n",
    "axes.invert_yaxis()\n",
    "axes.set_xlabel('Номер датчика', fontsize=15) \n",
    "axes.set_ylabel('Номер измерения', fontsize=15) \n",
    "axes.set_title(f'Предсказанная развернутая карта дефектов', fontsize=15) \n",
    "\n",
    "#  Устанавливаем интервал основных делений: \n",
    "axes.xaxis.set_major_locator(ticker.MultipleLocator(20)) \n",
    "axes.yaxis.set_major_locator(ticker.MultipleLocator(15)) \n",
    " \n",
    "#  Устанавливаем форматирование чисел основных делений: \n",
    "axes.xaxis.set_major_formatter(ticker.FormatStrFormatter('%.d')) \n",
    "axes.yaxis.set_major_formatter(ticker.FormatStrFormatter('%.d')) \n",
    " \n",
    "#  Устанавливаем форматирование делений: \n",
    "axes.xaxis.set_tick_params(which = 'major', labelsize = 15, labelrotation = 45) \n",
    "axes.yaxis.set_tick_params(which = 'major', labelsize = 15) \n",
    "\n",
    "plt.subplots_adjust(left=0.1, bottom=0.1, right=0.9, top=0.9, wspace=0.1, hspace=0.2)\n",
    "plt.show()"
   ]
  },
  {
   "cell_type": "code",
   "execution_count": null,
   "metadata": {},
   "outputs": [],
   "source": []
  }
 ],
 "metadata": {
  "colab": {
   "provenance": []
  },
  "kernelspec": {
   "display_name": "Python 3 (ipykernel)",
   "language": "python",
   "name": "python3"
  },
  "language_info": {
   "codemirror_mode": {
    "name": "ipython",
    "version": 3
   },
   "file_extension": ".py",
   "mimetype": "text/x-python",
   "name": "python",
   "nbconvert_exporter": "python",
   "pygments_lexer": "ipython3",
   "version": "3.10.0"
  }
 },
 "nbformat": 4,
 "nbformat_minor": 1
}
