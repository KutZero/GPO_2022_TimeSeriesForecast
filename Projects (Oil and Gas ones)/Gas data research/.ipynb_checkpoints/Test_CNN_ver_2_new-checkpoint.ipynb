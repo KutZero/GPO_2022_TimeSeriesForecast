{
 "cells": [
  {
   "cell_type": "code",
   "execution_count": 1,
   "metadata": {
    "ExecuteTime": {
     "end_time": "2023-06-06T17:08:03.014601Z",
     "start_time": "2023-06-06T17:08:00.091888Z"
    },
    "cell_style": "center",
    "id": "p6xN-IEhhbla"
   },
   "outputs": [],
   "source": [
    "# подключение библиотек\n",
    "\n",
    "import os\n",
    "import numpy as np\n",
    "import pandas as pd\n",
    "import matplotlib.pyplot as plt\n",
    "import tensorflow as tf\n",
    "\n",
    "import sys\n",
    "sys.path.append('custom_modules')\n",
    "\n",
    "import Data_processing as dp\n",
    "\n",
    "from IPython.display import display\n",
    "from matplotlib import ticker\n",
    "from pathlib import Path\n",
    "from tensorflow import keras"
   ]
  },
  {
   "cell_type": "markdown",
   "metadata": {
    "id": "wLCfK5LxQbD9"
   },
   "source": [
    "### Константы для путей к файлам"
   ]
  },
  {
   "cell_type": "code",
   "execution_count": 2,
   "metadata": {
    "ExecuteTime": {
     "end_time": "2023-06-06T17:08:03.030236Z",
     "start_time": "2023-06-06T17:08:03.015610Z"
    },
    "id": "bZHiwO4ShhEF"
   },
   "outputs": [],
   "source": [
    "# Пути к обработанным данным\n",
    "# Пути к X части выборки с массивами в каждой ячейке\n",
    "path_to_array_like_X_data = 'data/Prepared data/Run2/X_data_array_like.xlsx'\n",
    "# Пути к Y части выборки\n",
    "path_to_Y_data = 'data/Prepared data/Run2/Y_data(binary_classification).xlsx'\n"
   ]
  },
  {
   "cell_type": "markdown",
   "metadata": {
    "id": "0dxaXom0QbEB"
   },
   "source": [
    "### Константы для обработки данных"
   ]
  },
  {
   "cell_type": "code",
   "execution_count": 3,
   "metadata": {
    "ExecuteTime": {
     "end_time": "2023-06-06T17:08:03.045423Z",
     "start_time": "2023-06-06T17:08:03.031237Z"
    },
    "id": "J-6_JuU5QbEC"
   },
   "outputs": [],
   "source": [
    "# размер кропа\n",
    "PREP_image_size = 10\n",
    "# шаг кропа\n",
    "PREP_crop_step = 5"
   ]
  },
  {
   "cell_type": "code",
   "execution_count": 4,
   "metadata": {
    "ExecuteTime": {
     "end_time": "2023-06-06T17:08:03.060646Z",
     "start_time": "2023-06-06T17:08:03.046424Z"
    },
    "cell_style": "center",
    "id": "oicZsiTGQbEE"
   },
   "outputs": [],
   "source": [
    "# детерминация случайных величин, отвечающих за выбор первоначальных весов и биасов\n",
    "tf.compat.v1.set_random_seed(290)\n",
    "tf.random.set_seed(290)"
   ]
  },
  {
   "cell_type": "markdown",
   "metadata": {
    "id": "M3IDwA8GQbEP"
   },
   "source": [
    "# Подготовка данных"
   ]
  },
  {
   "cell_type": "code",
   "execution_count": 5,
   "metadata": {
    "ExecuteTime": {
     "end_time": "2023-06-06T17:08:03.076106Z",
     "start_time": "2023-06-06T17:08:03.061647Z"
    }
   },
   "outputs": [],
   "source": [
    "# расширить датафрейм, добавив справа 63 первых столбца\n",
    "# и снизу 63 первых строки\n",
    "def extend_df_for_prediction(df, crop_size, crop_step):\n",
    "\n",
    "    print('||||||||||||||||||')\n",
    "    print('Df extending for better prediction')\n",
    "    print('Original df size: ', df.shape)\n",
    "    print('Crop windows height/width: ', crop_size)\n",
    "    print('Crop windows step across rows and cols: ', crop_step)\n",
    "\n",
    "    extend_dims = crop_size - 1\n",
    "    \n",
    "    df = pd.concat([df,df.iloc[:,:extend_dims]],axis=1,ignore_index=True)\n",
    "    df = pd.concat([df,df.iloc[:extend_dims,:]],axis=0,ignore_index=True)\n",
    "        \n",
    "    print('New df shape: ', df.shape)\n",
    "    print('||||||||||||||||||\\n')\n",
    "\n",
    "    dp.reshape_df_for_future_crops(df,crop_size,crop_step)\n",
    "    \n",
    "    return df"
   ]
  },
  {
   "cell_type": "code",
   "execution_count": 6,
   "metadata": {
    "ExecuteTime": {
     "end_time": "2023-06-06T17:08:06.108046Z",
     "start_time": "2023-06-06T17:08:03.077106Z"
    },
    "id": "opRWBSZpQbEP"
   },
   "outputs": [],
   "source": [
    "# загрузка данных из файлов\n",
    "X_dict = dict()\n",
    "Y_dict = dict()\n",
    "\n",
    "X_dict['df'] =  dp.get_array_like_X_df(path_to_array_like_X_data)\n",
    "Y_dict['df'] =  dp.get_Y_df(path_to_Y_data)\n",
    "\n",
    "#X_dict['df'] = pd.concat([X_dict['df'].iloc[:,200:],X_dict['df'].iloc[:,:200]],axis=1,ignore_index=True)\n",
    "#Y_dict['df'] = pd.concat([Y_dict['df'].iloc[:,200:],Y_dict['df'].iloc[:,:200]],axis=1,ignore_index=True)"
   ]
  },
  {
   "cell_type": "markdown",
   "metadata": {},
   "source": [
    "### Оригинальная развернутая карта дефектов"
   ]
  },
  {
   "cell_type": "code",
   "execution_count": 7,
   "metadata": {
    "ExecuteTime": {
     "end_time": "2023-06-06T17:08:06.251121Z",
     "start_time": "2023-06-06T17:08:06.109047Z"
    }
   },
   "outputs": [
    {
     "data": {
      "image/png": "[encoded data removed]",
      "text/plain": [
       "<Figure size 1296x432 with 1 Axes>"
      ]
     },
     "metadata": {
      "needs_background": "light"
     },
     "output_type": "display_data"
    }
   ],
   "source": [
    "fig, axes = plt.subplots()\n",
    "\n",
    "fig.set_figwidth(18)\n",
    "fig.set_figheight(6)\n",
    "\n",
    "axes.pcolormesh(Y_dict['df'])\n",
    "axes.invert_yaxis()\n",
    "\n",
    "axes.set_xlabel('Номер датчика', fontsize=15) \n",
    "axes.set_ylabel('Номер измерения', fontsize=15) \n",
    "axes.set_title(f'Карта дефектов', fontsize=15) \n",
    "\n",
    "#  Устанавливаем интервал основных делений: \n",
    "axes.xaxis.set_major_locator(ticker.MultipleLocator(20)) \n",
    "axes.yaxis.set_major_locator(ticker.MultipleLocator(15)) \n",
    " \n",
    "#  Устанавливаем форматирование чисел основных делений: \n",
    "axes.xaxis.set_major_formatter(ticker.FormatStrFormatter('%.d')) \n",
    "axes.yaxis.set_major_formatter(ticker.FormatStrFormatter('%.d')) \n",
    " \n",
    "#  Устанавливаем форматирование делений: \n",
    "axes.xaxis.set_tick_params(which = 'major', labelsize = 15, labelrotation = 45) \n",
    "axes.yaxis.set_tick_params(which = 'major', labelsize = 15) \n",
    "     \n",
    "plt.subplots_adjust(left=0.1, bottom=0.1, right=0.9, top=0.9, wspace=0.1, hspace=0.2)\n",
    "plt.show()"
   ]
  },
  {
   "cell_type": "code",
   "execution_count": 8,
   "metadata": {
    "ExecuteTime": {
     "end_time": "2023-06-06T17:08:06.267127Z",
     "start_time": "2023-06-06T17:08:06.252121Z"
    },
    "colab": {
     "base_uri": "https://localhost:8080/"
    },
    "id": "JpYrdVggQbER",
    "outputId": "3a3019d2-f190-46c8-a928-f5b9089ffc64"
   },
   "outputs": [
    {
     "name": "stdout",
     "output_type": "stream",
     "text": [
      "||||||||||| X df preprocessing |||||||||||\n",
      "||||||||||||||||||\n",
      "Df extending for better prediction\n",
      "Original df size:  (119, 400)\n",
      "Crop windows height/width:  10\n",
      "Crop windows step across rows and cols:  5\n",
      "New df shape:  (128, 409)\n",
      "||||||||||||||||||\n",
      "\n",
      "||||||||||||||||||\n",
      "Df reshaping for exact splitting with crop_size\n",
      "Original df size:  (128, 409)\n",
      "Crop windows height/width:  10\n",
      "Crop windows step across rows and cols:  5\n",
      "New df shape:  (130, 410)\n",
      "||||||||||||||||||\n",
      "\n",
      "||||||||||| Y df preprocessing |||||||||||\n",
      "||||||||||||||||||\n",
      "Df extending for better prediction\n",
      "Original df size:  (119, 400)\n",
      "Crop windows height/width:  10\n",
      "Crop windows step across rows and cols:  5\n",
      "New df shape:  (128, 409)\n",
      "||||||||||||||||||\n",
      "\n",
      "||||||||||||||||||\n",
      "Df reshaping for exact splitting with crop_size\n",
      "Original df size:  (128, 409)\n",
      "Crop windows height/width:  10\n",
      "Crop windows step across rows and cols:  5\n",
      "New df shape:  (130, 410)\n",
      "||||||||||||||||||\n",
      "\n"
     ]
    }
   ],
   "source": [
    "# Добавление строк в датафреймы\n",
    "# Справа к каждому датафрейму дописывается по 63\n",
    "# элемента, чтобы сымитировать сканирование \n",
    "# трубы по всей окружности фильтром размера 64 на 64\n",
    "# а еще дописывается некоторое количество строк и столбцов\n",
    "# меньшее чем шаг кропа. Чтобы датафрейм можно было поделить\n",
    "# на целое кол-во кропов\n",
    "\n",
    "print('||||||||||| X df preprocessing |||||||||||')\n",
    "#X_dict['df'] = dp.reshape_df_for_future_crops(X_dict['df'], PREP_image_size, PREP_crop_step)\n",
    "X_dict['df'] = extend_df_for_prediction(X_dict['df'], PREP_image_size, PREP_crop_step)\n",
    "\n",
    "print('||||||||||| Y df preprocessing |||||||||||')\n",
    "#Y_dict['df'] = dp.reshape_df_for_future_crops(Y_dict['df'], PREP_image_size, PREP_crop_step)\n",
    "Y_dict['df'] = extend_df_for_prediction(Y_dict['df'], PREP_image_size, PREP_crop_step)"
   ]
  },
  {
   "cell_type": "markdown",
   "metadata": {},
   "source": [
    "### Расширенная развернутая карта дефектов"
   ]
  },
  {
   "cell_type": "code",
   "execution_count": 9,
   "metadata": {
    "ExecuteTime": {
     "end_time": "2023-06-06T17:08:06.395158Z",
     "start_time": "2023-06-06T17:08:06.268127Z"
    }
   },
   "outputs": [
    {
     "data": {
      "image/png": "[encoded data removed]",
      "text/plain": [
       "<Figure size 1296x432 with 1 Axes>"
      ]
     },
     "metadata": {
      "needs_background": "light"
     },
     "output_type": "display_data"
    }
   ],
   "source": [
    "fig, axes = plt.subplots()\n",
    "\n",
    "fig.set_figwidth(18)\n",
    "fig.set_figheight(6)\n",
    "\n",
    "axes.pcolormesh(Y_dict['df'])\n",
    "axes.invert_yaxis()\n",
    "\n",
    "axes.set_xlabel('Номер датчика', fontsize=15) \n",
    "axes.set_ylabel('Номер измерения', fontsize=15) \n",
    "axes.set_title(f'Карта дефектов', fontsize=15) \n",
    "\n",
    "#  Устанавливаем интервал основных делений: \n",
    "axes.xaxis.set_major_locator(ticker.MultipleLocator(20)) \n",
    "axes.yaxis.set_major_locator(ticker.MultipleLocator(15)) \n",
    " \n",
    "#  Устанавливаем форматирование чисел основных делений: \n",
    "axes.xaxis.set_major_formatter(ticker.FormatStrFormatter('%.d')) \n",
    "axes.yaxis.set_major_formatter(ticker.FormatStrFormatter('%.d')) \n",
    " \n",
    "#  Устанавливаем форматирование делений: \n",
    "axes.xaxis.set_tick_params(which = 'major', labelsize = 15, labelrotation = 45) \n",
    "axes.yaxis.set_tick_params(which = 'major', labelsize = 15) \n",
    "\n",
    "plt.subplots_adjust(left=0.1, bottom=0.1, right=0.9, top=0.9, wspace=0.1, hspace=0.2)\n",
    "plt.show()"
   ]
  },
  {
   "cell_type": "code",
   "execution_count": 10,
   "metadata": {
    "ExecuteTime": {
     "end_time": "2023-06-06T17:08:06.934984Z",
     "start_time": "2023-06-06T17:08:06.396159Z"
    },
    "colab": {
     "base_uri": "https://localhost:8080/"
    },
    "id": "fJMMLFK0QbES",
    "outputId": "564394aa-ab18-4de9-d21c-7482739bfe19"
   },
   "outputs": [
    {
     "name": "stdout",
     "output_type": "stream",
     "text": [
      "||||||||||| X df preprocessing |||||||||||\n",
      "||||||||||||||||||\n",
      "X df reshaping to 4D\n",
      "Original df size:  (128, 409)\n",
      "Crop windows height/width:  10\n",
      "Crop windows step across rows and cols:  5\n",
      "New X_time shape:  (1920, 10, 10, 32)\n",
      "New X_amp shape:  (1920, 10, 10, 32)\n",
      "||||||||||||||||||\n",
      "\n",
      "||||||||||| Y df preprocessing |||||||||||\n",
      "||||||||||||||||||\n",
      "Y df reshaping to 3D\n",
      "Original df size:  (128, 409)\n",
      "Crop windows height/width:  10\n",
      "Crop windows step across rows and cols:  5\n",
      "New numpy shape:  (1920, 10, 10, 1)\n",
      "||||||||||||||||||\n",
      "\n",
      "\n",
      "\n"
     ]
    }
   ],
   "source": [
    "# запишем в словарь numpy array полученные из df\n",
    "\n",
    "print('||||||||||| X df preprocessing |||||||||||')\n",
    "x_time_temp, \\\n",
    "x_amp_temp = dp.reshape_X_df_to_image_like_numpy(X_dict['df'], \n",
    "                                                    PREP_image_size, \n",
    "                                                    PREP_crop_step)\n",
    "X_dict['X_time_all'] = x_time_temp.astype('float32')\n",
    "X_dict['X_amp_all'] = x_amp_temp.astype('float32')\n",
    "\n",
    "X_dict.pop('df',0)\n",
    "\n",
    "print('||||||||||| Y df preprocessing |||||||||||')\n",
    "y_temp = dp.reshape_Y_df_to_image_like_numpy(Y_dict['df'], \n",
    "                                             PREP_image_size, \n",
    "                                             PREP_crop_step)\n",
    "Y_dict['Y_mask_all'] = y_temp.astype('int8')\n",
    "\n",
    "Y_dict.pop('df',0)\n",
    "\n",
    "print('\\n')"
   ]
  },
  {
   "cell_type": "code",
   "execution_count": 11,
   "metadata": {
    "ExecuteTime": {
     "end_time": "2023-06-06T17:08:06.951095Z",
     "start_time": "2023-06-06T17:08:06.935985Z"
    },
    "colab": {
     "base_uri": "https://localhost:8080/"
    },
    "id": "ni5HwQ0cQbET",
    "outputId": "644095e7-4b84-419c-f882-b369bf58203d"
   },
   "outputs": [
    {
     "name": "stdout",
     "output_type": "stream",
     "text": [
      "|||||||||||||| X dataset ||||||||||||||||\n",
      "X_time_all.shape:  (1920, 10, 10, 32)\n",
      "X_amp_all.shape:  (1920, 10, 10, 32)\n",
      "\n",
      "|||||||||||||| Y dataset ||||||||||||||||\n",
      "Y_mask_all.shape:  (1920, 10, 10, 1)\n"
     ]
    }
   ],
   "source": [
    "# что есть на данный момент\n",
    "\n",
    "print('|||||||||||||| X dataset ||||||||||||||||')\n",
    "for key in X_dict.keys():\n",
    "    print(f\"{key}.shape: \", X_dict[key].shape)\n",
    "\n",
    "print('\\n|||||||||||||| Y dataset ||||||||||||||||')\n",
    "for key in Y_dict.keys():\n",
    "    print(f\"{key}.shape: \", Y_dict[key].shape)"
   ]
  },
  {
   "cell_type": "code",
   "execution_count": 12,
   "metadata": {
    "ExecuteTime": {
     "end_time": "2023-06-06T17:08:06.982232Z",
     "start_time": "2023-06-06T17:08:06.952095Z"
    }
   },
   "outputs": [
    {
     "name": "stdout",
     "output_type": "stream",
     "text": [
      "|||||||||||||| X dataset ||||||||||||||||\n",
      "|||||||||||||| dataset part: X_time_all||||||||||||||||\n",
      "||||||||||||||||||\n",
      "Data normalizing\n",
      "arr_max before normalization: 44.400001525878906\n",
      "arr_max after normalization: 1.0\n",
      "arr_min after normalization: 0.0\n",
      "||||||||||||||||||\n",
      "|||||||||||||| dataset part: X_amp_all||||||||||||||||\n",
      "||||||||||||||||||\n",
      "Data normalizing\n",
      "arr_max before normalization: 62.992000579833984\n",
      "arr_max after normalization: 1.0\n",
      "arr_min after normalization: -0.9919037222862244\n",
      "||||||||||||||||||\n"
     ]
    }
   ],
   "source": [
    "# нормализация данных\n",
    "\n",
    "print('|||||||||||||| X dataset ||||||||||||||||')\n",
    "for key in X_dict.keys():\n",
    "    print(f\"|||||||||||||| dataset part: {key}||||||||||||||||\")\n",
    "    X_dict[key] = dp.normalize_data(X_dict[key])"
   ]
  },
  {
   "cell_type": "code",
   "execution_count": null,
   "metadata": {
    "ExecuteTime": {
     "end_time": "2023-06-06T15:22:59.179359Z",
     "start_time": "2023-06-06T15:22:20.402622Z"
    },
    "deletable": false,
    "editable": false,
    "run_control": {
     "frozen": true
    }
   },
   "outputs": [],
   "source": [
    "# аугментация данных\n",
    "\n",
    "print('|||||||||||||| X dataset ||||||||||||||||')\n",
    "for key in X_dict.keys():\n",
    "    print(f\"|||||||||||||| dataset part: {key}||||||||||||||||\")\n",
    "    X_dict[key] = dp.augment_data(X_dict[key]) \n",
    "\n",
    "print('|||||||||||||| Y dataset ||||||||||||||||')\n",
    "print(f\"|||||||||||||| dataset part: Y_mask_all||||||||||||||||\")    \n",
    "Y_dict['Y_mask_all'] = dp.augment_data(Y_dict['Y_mask_all'])"
   ]
  },
  {
   "cell_type": "code",
   "execution_count": 13,
   "metadata": {
    "ExecuteTime": {
     "end_time": "2023-06-06T17:08:06.997374Z",
     "start_time": "2023-06-06T17:08:06.983233Z"
    }
   },
   "outputs": [
    {
     "name": "stdout",
     "output_type": "stream",
     "text": [
      "|||||||||||||| X dataset ||||||||||||||||\n",
      "X_time_all.shape:  (1920, 10, 10, 32)\n",
      "X_amp_all.shape:  (1920, 10, 10, 32)\n",
      "\n",
      "|||||||||||||| Y dataset ||||||||||||||||\n",
      "Y_mask_all.shape:  (1920, 10, 10, 1)\n"
     ]
    }
   ],
   "source": [
    "# что есть на данный момент\n",
    "\n",
    "print('|||||||||||||| X dataset ||||||||||||||||')\n",
    "for key in X_dict.keys():\n",
    "    print(f\"{key}.shape: \", X_dict[key].shape)\n",
    "\n",
    "print('\\n|||||||||||||| Y dataset ||||||||||||||||')\n",
    "for key in Y_dict.keys():\n",
    "    print(f\"{key}.shape: \", Y_dict[key].shape)"
   ]
  },
  {
   "cell_type": "code",
   "execution_count": 14,
   "metadata": {
    "ExecuteTime": {
     "end_time": "2023-06-06T17:08:07.012260Z",
     "start_time": "2023-06-06T17:08:06.999375Z"
    }
   },
   "outputs": [
    {
     "name": "stdout",
     "output_type": "stream",
     "text": [
      "\n"
     ]
    }
   ],
   "source": [
    "# объединение данных в тестовую выборку\n",
    "\n",
    "X_time_test = X_dict['X_time_all']                              \n",
    "X_dict.pop('X_time_all',0)\n",
    "\n",
    "\n",
    "X_amp_test = X_dict['X_amp_all']\n",
    "X_dict.pop('X_amp_all',0)\n",
    "\n",
    "\n",
    "Y_mask_test = Y_dict['Y_mask_all']\n",
    "Y_dict.pop('Y_mask_all',0)\n",
    "\n",
    "print()"
   ]
  },
  {
   "cell_type": "code",
   "execution_count": 15,
   "metadata": {
    "ExecuteTime": {
     "end_time": "2023-06-06T17:08:07.027387Z",
     "start_time": "2023-06-06T17:08:07.013263Z"
    }
   },
   "outputs": [],
   "source": [
    "# очистка памяти от лишнего   \n",
    "\n",
    "X_dict.clear()\n",
    "Y_dict.clear()"
   ]
  },
  {
   "cell_type": "code",
   "execution_count": 16,
   "metadata": {
    "ExecuteTime": {
     "end_time": "2023-06-06T17:08:07.043392Z",
     "start_time": "2023-06-06T17:08:07.028388Z"
    }
   },
   "outputs": [
    {
     "name": "stdout",
     "output_type": "stream",
     "text": [
      "X_time_test.shape:  (1920, 10, 10, 32)\n",
      "X_amp_test.shape:  (1920, 10, 10, 32)\n",
      "Y_mask_test.shape (1920, 10, 10, 1)\n",
      "\n",
      "\n"
     ]
    }
   ],
   "source": [
    "# сколько получилось тестовых данных\n",
    "print('X_time_test.shape: ', X_time_test.shape)\n",
    "print('X_amp_test.shape: ', X_amp_test.shape)\n",
    "print('Y_mask_test.shape', Y_mask_test.shape)\n",
    "print('\\n')"
   ]
  },
  {
   "cell_type": "markdown",
   "metadata": {},
   "source": [
    "# CNN с 2 входами по времени и амплитуде"
   ]
  },
  {
   "cell_type": "code",
   "execution_count": 17,
   "metadata": {
    "ExecuteTime": {
     "end_time": "2023-06-06T17:08:07.311654Z",
     "start_time": "2023-06-06T17:08:07.044392Z"
    }
   },
   "outputs": [],
   "source": [
    "# загрузка модели\n",
    "model = keras.models.load_model('Networks//CNN//NetWork_(10x32+10x32)_to(10x1)_(test_0dot1622)_ver_2.h5')"
   ]
  },
  {
   "cell_type": "code",
   "execution_count": 18,
   "metadata": {
    "ExecuteTime": {
     "end_time": "2023-06-06T17:08:10.763364Z",
     "start_time": "2023-06-06T17:08:07.312655Z"
    }
   },
   "outputs": [
    {
     "name": "stdout",
     "output_type": "stream",
     "text": [
      "480/480 [==============================] - 3s 7ms/step - loss: 0.1622\n"
     ]
    },
    {
     "data": {
      "text/plain": [
       "0.1622379720211029"
      ]
     },
     "execution_count": 18,
     "metadata": {},
     "output_type": "execute_result"
    }
   ],
   "source": [
    "# тест модели\n",
    "model.evaluate([X_time_test,X_amp_test], Y_mask_test, batch_size = 4)"
   ]
  }
 ],
 "metadata": {
  "colab": {
   "provenance": []
  },
  "kernelspec": {
   "display_name": "Python 3 (ipykernel)",
   "language": "python",
   "name": "python3"
  },
  "language_info": {
   "codemirror_mode": {
    "name": "ipython",
    "version": 3
   },
   "file_extension": ".py",
   "mimetype": "text/x-python",
   "name": "python",
   "nbconvert_exporter": "python",
   "pygments_lexer": "ipython3",
   "version": "3.10.0"
  }
 },
 "nbformat": 4,
 "nbformat_minor": 1
}
