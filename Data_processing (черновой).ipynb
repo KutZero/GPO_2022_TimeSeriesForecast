{
 "cells": [
  {
   "cell_type": "markdown",
   "id": "1765c37a",
   "metadata": {},
   "source": [
    "# Анализ и обработка данных одного куста"
   ]
  },
  {
   "cell_type": "markdown",
   "id": "d487aa3f",
   "metadata": {},
   "source": [
    "## Импорт библиотек"
   ]
  },
  {
   "cell_type": "code",
   "execution_count": 1,
   "id": "9e8ccd1b",
   "metadata": {},
   "outputs": [],
   "source": [
    "import numpy as np\n",
    "import pandas as pd\n",
    "import matplotlib.pyplot as plt\n",
    "import os\n",
    "\n",
    "from IPython.display import display\n",
    "from pandas.plotting import autocorrelation_plot\n",
    "\n",
    "import sys\n",
    "sys.path.append('custom_modules')\n",
    "\n",
    "import Data_processing as dp\n",
    "import Data_visualization as dv"
   ]
  },
  {
   "cell_type": "markdown",
   "id": "6c3d21b1",
   "metadata": {},
   "source": [
    "## Константы "
   ]
  },
  {
   "cell_type": "code",
   "execution_count": 2,
   "id": "9c14a8de",
   "metadata": {},
   "outputs": [],
   "source": [
    "# путь к файлу Excel\n",
    "#path_to_data = 'Data\\Данные СТМ Восточный Купол (от 29.01.17)\\Куст 201\\Скважина 2011.xlsx'\n",
    "#path_to_data = 'Data\\Данные СТМ Восточный Купол (от 29.01.17)\\Куст 202\\Скважина 2022.xlsx'\n",
    "path_to_data = 'Data\\Данные СТМ Восточный Купол (от 29.01.17)\\Куст 202\\Скважина 2022.xlsx'"
   ]
  },
  {
   "cell_type": "markdown",
   "id": "5891710d",
   "metadata": {},
   "source": [
    "## Описание кастомных модулей"
   ]
  },
  {
   "cell_type": "code",
   "execution_count": 3,
   "id": "a9cd8abe",
   "metadata": {},
   "outputs": [],
   "source": [
    "#dp.module_description()"
   ]
  },
  {
   "cell_type": "code",
   "execution_count": 4,
   "id": "bbc6ea77",
   "metadata": {},
   "outputs": [],
   "source": [
    "#dv.module_description()"
   ]
  },
  {
   "cell_type": "markdown",
   "id": "0e263be4",
   "metadata": {},
   "source": [
    "## Исследование данных до обработки"
   ]
  },
  {
   "cell_type": "code",
   "execution_count": 5,
   "id": "81922b19",
   "metadata": {},
   "outputs": [],
   "source": [
    "# чтение данных и приведение столбцов к нужным типам данных\n",
    "df = dp.get_df(path_to_data)"
   ]
  },
  {
   "cell_type": "markdown",
   "id": "66dfcf2c",
   "metadata": {},
   "source": [
    "## Обработка данных"
   ]
  },
  {
   "cell_type": "markdown",
   "id": "5f64d296",
   "metadata": {},
   "source": [
    "## Исследование данных после обработки"
   ]
  }
 ],
 "metadata": {
  "kernelspec": {
   "display_name": "Python 3 (ipykernel)",
   "language": "python",
   "name": "python3"
  },
  "language_info": {
   "codemirror_mode": {
    "name": "ipython",
    "version": 3
   },
   "file_extension": ".py",
   "mimetype": "text/x-python",
   "name": "python",
   "nbconvert_exporter": "python",
   "pygments_lexer": "ipython3",
   "version": "3.8.12"
  }
 },
 "nbformat": 4,
 "nbformat_minor": 5
}
